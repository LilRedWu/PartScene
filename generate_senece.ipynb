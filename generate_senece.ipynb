{
 "cells": [
  {
   "cell_type": "code",
   "execution_count": null,
   "metadata": {},
   "outputs": [],
   "source": [
    "#查看零件数据集\n",
    "#搞懂格式 -》获取part label\n",
    "#放到场景里面"
   ]
  },
  {
   "cell_type": "code",
   "execution_count": null,
   "metadata": {},
   "outputs": [],
   "source": [
    "import trimesh\n",
    "import numpy as np\n",
    "from shapely.geometry import LineString\n",
    "import os\n",
    "import random\n",
    "%pylab inline\n",
    "%config InlineBackend.figure_format = 'svg'"
   ]
  },
  {
   "cell_type": "code",
   "execution_count": null,
   "metadata": {},
   "outputs": [],
   "source": [
    "def generate_pth_cls(category,id):\n",
    "    mesh_base_dir = '/home/lidosan/Datasets/PartNet/{}/models'.format(category)\n",
    "    return os.path.join(mesh_base_dir,id+'.obj')\n"
   ]
  },
  {
   "cell_type": "code",
   "execution_count": null,
   "metadata": {},
   "outputs": [],
   "source": [
    "import trimesh\n",
    "import numpy as np\n",
    "import random\n",
    "\n",
    "# Assuming generate_pth_cls is defined and works as expected\n",
    "def generate_pth_cls(category,id):\n",
    "    mesh_base_dir = '/home/lidosan/Datasets/PartNet/{}/models'.format(category)\n",
    "    # mesh_base_dir = 'scene1/{}_id'.format(category)\n",
    "    return os.path.join(mesh_base_dir,id+'.obj')\n",
    "\n",
    "# Assuming generate_pth_cls is defined and works as expected\n",
    "def generate_pth_scene(category,id):\n",
    "    scene = 'scene1'\n",
    "    # mesh_base_dir = '/home/lidosan/Datasets/PartNet/{}/models'.format(category)\n",
    "    obj_dir = f\"{scene}/{category}_{id}.obj\"\n",
    "    return obj_dir\n",
    "\n",
    "# Function to scale the mesh to fit within the given range\n",
    "def scale_mesh(mesh, min_val, max_val):\n",
    "    scale_factor = (max_val - min_val) / max(mesh.extents)\n",
    "    mesh.apply_scale(scale_factor)\n",
    "    return mesh\n",
    "\n",
    "# Function to align the mesh on the ground (z=0)\n",
    "def align_mesh_to_ground(mesh):\n",
    "    min_z = mesh.bounds[0][2]\n",
    "    mesh.apply_translation([0, 0, -min_z])\n",
    "    return mesh\n",
    "\n",
    "def rotate_mesh_x_90(mesh):\n",
    "    rotation_matrix = trimesh.transformations.rotation_matrix(np.radians(90), [1, 0, 0])\n",
    "    mesh.apply_transform(rotation_matrix)\n",
    "    return mesh\n",
    "\n",
    "# Function to rotate the mesh around the z-axis\n",
    "def rotate_mesh_z(mesh, angle_degrees):\n",
    "    rotation_matrix = trimesh.transformations.rotation_matrix(np.radians(angle_degrees), [0, 0, 1])\n",
    "    mesh.apply_transform(rotation_matrix)\n",
    "    return mesh\n",
    "\n",
    "# Generate paths for each object\n",
    "bed_path = generate_pth_scene('Bed', '10033')\n",
    "chair_path = generate_pth_scene('Chair', '43634')\n",
    "table_path = generate_pth_scene('Table', '27996')\n",
    "trashcan_path = generate_pth_scene('TrashCan', '12100')\n",
    "lamp_path = generate_pth_scene('Lamp','15052')\n",
    "laptop_path = generate_pth_scene('Laptop','10222')\n",
    "\n",
    "\n",
    "# List of OBJ file paths to combine and their respective scales\n",
    "obj_files = [\n",
    "    (bed_path, (-3, 3)),\n",
    "    (chair_path, (-1.5,1.5)),\n",
    "    (table_path, (-2, 2)),\n",
    "    (trashcan_path, (-0.5, 0.5)),\n",
    "    (lamp_path, (-1, 1)),\n",
    "    (laptop_path, (-0.5, 0.5)),\n",
    "]\n",
    "\n",
    "# Initialize an empty list to hold the transformed meshes\n",
    "meshes = []\n",
    "\n",
    "# Load, scale, and align each OBJ file\n",
    "for obj_file, scale_range in obj_files:\n",
    "    mesh = trimesh.load(obj_file)\n",
    "    rotate_mesh = rotate_mesh_x_90(mesh)\n",
    "    scaled_mesh = scale_mesh(rotate_mesh, scale_range[0], scale_range[1])\n",
    "    aligned_mesh = align_mesh_to_ground(scaled_mesh)\n",
    "    meshes.append(aligned_mesh)\n",
    "\n",
    "# Randomly arrange the meshes on the x and y axes\n",
    "room_size_x = 10  # Define the size of the room in x direction\n",
    "room_size_y = 10  # Define the size of the room in y direction\n",
    "\n",
    "\n",
    "# Combine all meshes into a single mesh\n",
    "\n",
    "# Export the combined mesh to a new OBJ file\n",
    "# output_file = 'combined_mesh.obj'\n",
    "# combined_mesh.export(output_file)\n",
    "\n",
    "# print(f'Combined mesh saved to {output_file}')\n"
   ]
  },
  {
   "cell_type": "markdown",
   "metadata": {},
   "source": [
    "# Random Layout"
   ]
  },
  {
   "cell_type": "code",
   "execution_count": null,
   "metadata": {},
   "outputs": [],
   "source": [
    "# Randomly arrange the meshes on the x and y axes without overlapping\n",
    "room_size_x = 10  # Define the size of the room in x direction\n",
    "room_size_y = 10  # Define the size of the room in y direction\n",
    "placed_meshes = []\n",
    "positions= []\n",
    "for mesh in meshes:\n",
    "    collision = True\n",
    "    while collision:\n",
    "        position = [random.uniform(-room_size_x / 2, room_size_x / 2),\n",
    "                    random.uniform(-room_size_y / 2, room_size_y / 2),\n",
    "                    0]\n",
    "        mesh.apply_translation(position)\n",
    "        collision = False\n",
    "        for placed_mesh in placed_meshes:\n",
    "            if mesh.bounds[1][0] > placed_mesh.bounds[0][0] and mesh.bounds[0][0] < placed_mesh.bounds[1][0] and \\\n",
    "               mesh.bounds[1][1] > placed_mesh.bounds[0][1] and mesh.bounds[0][1] < placed_mesh.bounds[1][1]:\n",
    "                collision = True\n",
    "                mesh.apply_translation([-position[0], -position[1], 0])  # Move back to original position\n",
    "                break\n",
    "\n",
    "    placed_meshes.append(mesh)\n",
    "combined_mesh = trimesh.util.concatenate(meshes)\n"
   ]
  },
  {
   "cell_type": "code",
   "execution_count": null,
   "metadata": {},
   "outputs": [],
   "source": [
    "\n",
    "# Randomly arrange the meshes on the x and y axes without overlapping\n",
    "room_size_x = 10  # Define the size of the room in x direction\n",
    "room_size_y = 10  # Define the size of the room in y direction\n",
    "placed_meshes = []\n",
    "positions= []\n",
    "for mesh in meshes:\n",
    "    collision = True\n",
    "    while collision:\n",
    "        position = [random.uniform(-room_size_x / 2, room_size_x / 2),\n",
    "                    random.uniform(-room_size_y / 2, room_size_y / 2),\n",
    "                    0]\n",
    "        mesh.apply_translation(position)\n",
    "        collision = False\n",
    "        for placed_mesh in placed_meshes:\n",
    "            if mesh.bounds[1][0] > placed_mesh.bounds[0][0] and mesh.bounds[0][0] < placed_mesh.bounds[1][0] and \\\n",
    "               mesh.bounds[1][1] > placed_mesh.bounds[0][1] and mesh.bounds[0][1] < placed_mesh.bounds[1][1]:\n",
    "                collision = True\n",
    "                mesh.apply_translation([-position[0], -position[1], 0])  # Move back to original position\n",
    "                break\n",
    "\n",
    "    placed_meshes.append(mesh)\n",
    "combined_mesh = trimesh.util.concatenate(meshes)\n"
   ]
  },
  {
   "cell_type": "markdown",
   "metadata": {},
   "source": [
    "# Custom layout"
   ]
  },
  {
   "cell_type": "code",
   "execution_count": null,
   "metadata": {},
   "outputs": [],
   "source": [
    "# Function to rotate the mesh around its center\n",
    "def rotate_mesh_around_center(mesh, angle_degrees, axis='z'):\n",
    "    # Calculate the center of the mesh\n",
    "    center = mesh.centroid\n",
    "    # Create a translation matrix to move the mesh to the origin\n",
    "    translation_to_origin = trimesh.transformations.translation_matrix(-center)\n",
    "    # Create a rotation matrix\n",
    "    if axis == 'z':\n",
    "        rotation_matrix = trimesh.transformations.rotation_matrix(np.radians(angle_degrees), [0, 0, 1])\n",
    "    elif axis == 'y':\n",
    "        rotation_matrix = trimesh.transformations.rotation_matrix(np.radians(angle_degrees), [0, 1, 0])\n",
    "    elif axis == 'x':\n",
    "        rotation_matrix = trimesh.transformations.rotation_matrix(np.radians(angle_degrees), [1, 0, 0])\n",
    "    else:\n",
    "        raise ValueError(\"Invalid axis. Choose from 'x', 'y', or 'z'.\")\n",
    "    # Create a translation matrix to move the mesh back to its original position\n",
    "    translation_back = trimesh.transformations.translation_matrix(center)\n",
    "    # Combine the transformations\n",
    "    transform_matrix = translation_back @ rotation_matrix @ translation_to_origin\n",
    "    # Apply the transformation\n",
    "    mesh.apply_transform(transform_matrix)\n",
    "    return mesh"
   ]
  },
  {
   "cell_type": "code",
   "execution_count": null,
   "metadata": {},
   "outputs": [],
   "source": [
    "# # Load, scale, rotate, and align each OBJ file\n",
    "# meshes = []\n",
    "# for obj_file, scale_range in obj_files:\n",
    "#     mesh = trimesh.load(obj_file)\n",
    "#     scaled_mesh = scale_mesh(mesh, scale_range[0], scale_range[1])\n",
    "#     rotated_mesh = rotate_mesh_x_90(scaled_mesh)\n",
    "#     aligned_mesh = align_mesh_to_ground(rotated_mesh)\n",
    "#     meshes.append(aligned_mesh)\n",
    "\n",
    "# Extract individual meshes for easier manipulation\n",
    "bed_mesh, chair_mesh, table_mesh, trashcan_mesh,laptop_mesh,lamp_mesh = meshes\n",
    "\n",
    "# Define positions based on the described layout\n",
    "table_position = [0, 0, 0]\n",
    "chair_position = [-0.5, -1.5, 0]  # Chair close to table, head to table\n",
    "trashcan_position = [1, -1, 0]  # Trash bin close to table\n",
    "bed_position = [4, 0, 0]  # Bed on the right side of the table, chair, and trashcan\n",
    "\n",
    "# Calculate the height of the table to place objects on top of it\n",
    "table_height = table_mesh.bounds[1][2]\n",
    "\n",
    "# Position for laptop and lamp on the table\n",
    "laptop_position = [0.5, 0, table_height]\n",
    "lamp_position = [-1, 0, table_height]\n",
    "\n",
    "\n",
    "\n",
    "# Apply translations to place each mesh in the correct position\n",
    "table_mesh.apply_translation(table_position)\n",
    "chair_mesh.apply_translation(chair_position)\n",
    "chair_mesh = rotate_mesh_around_center(chair_mesh,180)\n",
    "trashcan_mesh.apply_translation(trashcan_position)\n",
    "bed_mesh.apply_translation(bed_position)\n",
    "laptop_mesh.apply_translation(laptop_position)\n",
    "lamp_mesh.apply_translation(lamp_position)\n",
    "\n",
    " \n",
    "# Combine all meshes into a single mesh\n",
    "combined_mesh = trimesh.util.concatenate([table_mesh, chair_mesh, trashcan_mesh, bed_mesh,laptop_mesh,lamp_mesh])\n"
   ]
  },
  {
   "cell_type": "code",
   "execution_count": null,
   "metadata": {},
   "outputs": [],
   "source": [
    "import matplotlib.pyplot as plt\n",
    "from mpl_toolkits.mplot3d import Axes3D\n",
    "fig = plt.figure()\n",
    "ax = fig.add_subplot(111, projection='3d')\n",
    "ax.plot_trisurf(combined_mesh.vertices[:, 0], combined_mesh.vertices[:,1], triangles=combined_mesh.faces, Z=combined_mesh.vertices[:,2]) \n",
    "\n",
    "plt.show()"
   ]
  },
  {
   "cell_type": "code",
   "execution_count": null,
   "metadata": {},
   "outputs": [],
   "source": [
    "combined_mesh.vertices[: ]"
   ]
  },
  {
   "cell_type": "code",
   "execution_count": null,
   "metadata": {},
   "outputs": [],
   "source": [
    "# # Randomly arrange the meshes on the x and y axes without overlapping\n",
    "# room_size_x = 10  # Define the size of the room in x direction\n",
    "# room_size_y = 10  # Define the size of the room in y direction\n",
    "# placed_meshes = []\n",
    "# positions= []\n",
    "# for mesh in meshes:\n",
    "#     collision = True\n",
    "#     while collision:\n",
    "#         position = [random.uniform(-room_size_x / 2, room_size_x / 2),\n",
    "#                     random.uniform(-room_size_y / 2, room_size_y / 2),\n",
    "#                     0]\n",
    "#         mesh.apply_translation(position)\n",
    "#         collision = False\n",
    "#         for placed_mesh in placed_meshes:\n",
    "#             if mesh.bounds[1][0] > placed_mesh.bounds[0][0] and mesh.bounds[0][0] < placed_mesh.bounds[1][0] and \\\n",
    "#                mesh.bounds[1][1] > placed_mesh.bounds[0][1] and mesh.bounds[0][1] < placed_mesh.bounds[1][1]:\n",
    "#                 collision = True\n",
    "#                 mesh.apply_translation([-position[0], -position[1], 0])  # Move back to original position\n",
    "#                 break\n",
    "\n",
    "#     placed_meshes.append(mesh)\n",
    "# combined_mesh = trimesh.util.concatenate(meshes)\n"
   ]
  },
  {
   "cell_type": "code",
   "execution_count": null,
   "metadata": {},
   "outputs": [],
   "source": [
    "combined_mesh.show()\n",
    "# combined_mesh.export('scene1/scene1.obj')\n"
   ]
  },
  {
   "cell_type": "code",
   "execution_count": null,
   "metadata": {},
   "outputs": [],
   "source": [
    "combined_mesh"
   ]
  },
  {
   "cell_type": "markdown",
   "metadata": {},
   "source": [
    "Pyviz3d"
   ]
  },
  {
   "cell_type": "markdown",
   "metadata": {},
   "source": []
  },
  {
   "cell_type": "code",
   "execution_count": null,
   "metadata": {},
   "outputs": [],
   "source": [
    "# Visualization with pyviz3d\n",
    "v = viz.Visualizer(position=[5, 5, 1])\n",
    "\n",
    "# Add each mesh to the visualizer\n",
    "# v.add_mesh('Bed', path=bed_path, translation=np.array(bed_position))\n",
    "v.add_mesh('Chair', path=chair_path, translation=np.array(chair_position), rotation=viz.euler_to_quaternion(np.pi/2, 0, np.pi),scale=np.array([1.5,1.5,1.5]))\n",
    "v.add_mesh('Table', path=table_path, translation=np.array(table_position),rotation=viz.euler_to_quaternion(0, 0, np.pi),scale=np.array([2,2,2]))\n",
    "v.add_mesh('Trashcan', path=trashcan_path, translation=np.array(trashcan_position),rotation=viz.euler_to_quaternion(0, 0, np.pi),scale=np.array([0.5,0.5,0.5]))\n",
    "v.add_mesh('Laptop', path=laptop_path, translation=np.array(laptop_position),rotation=viz.euler_to_quaternion(0, 0, np.pi),scale=np.array([0.5,0.5,0.5]))\n",
    "v.add_mesh('Lamp', path=lamp_path, translation=np.array(lamp_position),rotation=viz.euler_to_quaternion(0, 0, np.pi),scale=np.array([0.5,0.5,0.5]))\n",
    "\n",
    "# Optionally save the visualization\n",
    "# blender_args = {'output_prefix': './', 'executable_path': '/Applications/Blender.app/Contents/MacOS/Blender'}\n",
    "# v.save('example_scene', blender_args=blender_args)\n",
    "\n",
    "# Display the visualization\n",
    "v.save('exmaple_scene1')"
   ]
  },
  {
   "cell_type": "code",
   "execution_count": null,
   "metadata": {},
   "outputs": [],
   "source": [
    "# Visualization with pyviz3d\n",
    "v = viz.Visualizer(position=[5, 5, 1])\n",
    "\n",
    "# Add each mesh to the visualizer\n",
    "# v.add_mesh('Bed', path=bed_path, translation=np.array(bed_position))\n",
    "v.add_mesh('Chair', path=chair_path, translation=np.array(chair_position), rotation=viz.euler_to_quaternion(np.pi/2, 0, np.pi),scale=np.array([1.5,1.5,1.5]))\n",
    "v.add_mesh('Table', path=table_path, translation=np.array(table_position),rotation=viz.euler_to_quaternion(0, 0, np.pi),scale=np.array([2,2,2]))\n",
    "v.add_mesh('Trashcan', path=trashcan_path, translation=np.array(trashcan_position),rotation=viz.euler_to_quaternion(0, 0, np.pi),scale=np.array([0.5,0.5,0.5]))\n",
    "v.add_mesh('Laptop', path=laptop_path, translation=np.array(laptop_position),rotation=viz.euler_to_quaternion(0, 0, np.pi),scale=np.array([0.5,0.5,0.5]))\n",
    "v.add_mesh('Lamp', path=lamp_path, translation=np.array(lamp_position),rotation=viz.euler_to_quaternion(0, 0, np.pi),scale=np.array([0.5,0.5,0.5]))\n",
    "\n",
    "# Optionally save the visualization\n",
    "# blender_args = {'output_prefix': './', 'executable_path': '/Applications/Blender.app/Contents/MacOS/Blender'}\n",
    "# v.save('example_scene', blender_args=blender_args)\n",
    "\n",
    "# Display the visualization\n",
    "v.save('exmaple_scene1')"
   ]
  }
 ],
 "metadata": {
  "kernelspec": {
   "display_name": "openins3d",
   "language": "python",
   "name": "python3"
  },
  "language_info": {
   "codemirror_mode": {
    "name": "ipython",
    "version": 3
   },
   "file_extension": ".py",
   "mimetype": "text/x-python",
   "name": "python",
   "nbconvert_exporter": "python",
   "pygments_lexer": "ipython3",
   "version": "3.9.19"
  }
 },
 "nbformat": 4,
 "nbformat_minor": 2
}
