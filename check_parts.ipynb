{
 "cells": [
  {
   "cell_type": "code",
   "execution_count": 5,
   "metadata": {},
   "outputs": [],
   "source": [
    "\n",
    "import trimesh\n",
    "import os\n",
    "import open3d as o3d\n",
    "from PIL import Image\n",
    "import numpy as np \n",
    "import  trimesh\n",
    "import copy\n",
    "from utils.utils import *\n",
    "from utils.trans import *"
   ]
  },
  {
   "cell_type": "code",
   "execution_count": 8,
   "metadata": {},
   "outputs": [],
   "source": []
  },
  {
   "cell_type": "code",
   "execution_count": 13,
   "metadata": {},
   "outputs": [],
   "source": [
    "trans_path = 'scene_2b_colored/mesh_trans'\n",
    "rotation_matrix = create_rotation_matrix('x',-90)\n",
    "scene = trimesh.Scene()\n",
    "pcd_list = []\n",
    "color_list = []\n",
    "faces_list = []\n",
    "def color_the_mesh(mesh,im,uvs):\n",
    "    # mesh = trimesh.load_mesh('40717.obj')\n",
    "    # im = Image.open(\"chair_mesh_40717/red_plastic.png\")\n",
    "    material = trimesh.visual.texture.SimpleMaterial(image=im)\n",
    "    color_visuals = trimesh.visual.TextureVisuals(uv=uvs, image=im, material=material)\n",
    "    mesh=trimesh.Trimesh(vertices=mesh.vertices, faces=mesh.faces, visual=color_visuals, validate=True, process=True)\n",
    "    return mesh\n",
    "\n",
    "start_face_idx = 0 \n",
    "for file_name in os.listdir(trans_path):\n",
    "    if not 'obj' in file_name:\n",
    "        continue\n",
    "    img_path = file_name.split('_')[0] + '_'+ file_name.split('_')[2][:-4] +'.png'\n",
    "    img = Image.open(os.path.join('meshy_texture',img_path))\n",
    "    mesh = trimesh.load(os.path.join(trans_path,file_name))\n",
    "    uvs = mesh.visual.uv\n",
    "    # Trans late back to Y up-vector system\n",
    "    \n",
    "    c_mesh_p.apply_transform(rotation_matrix)\n",
    "    c_mesh = color_the_mesh(mesh,img,uvs) \n",
    "    c_mesh_p = copy.deepcopy(c_mesh)    # copy a mesh for point cloud \n",
    "    c_mesh_p.visual = c_mesh_p.visual.to_color()\n",
    "    verts = np.asarray(c_mesh_p.vertices)\n",
    "    colors = np.asarray(c_mesh_p.visual.vertex_colors)\n",
    "    faces = np.asarray(c_mesh_p.faces + start_face_idx)\n",
    "    colors = colors[:, :3] / 255.0\n",
    "    pcd_list.append(verts)\n",
    "    color_list.append(colors)\n",
    "    scene.add_geometry(c_mesh)\n",
    "    faces_list.append(faces)\n",
    "    start_face_idx += verts.shape[0]"
   ]
  },
  {
   "cell_type": "markdown",
   "metadata": {},
   "source": [
    "## Show point cloud"
   ]
  },
  {
   "cell_type": "code",
   "execution_count": 15,
   "metadata": {},
   "outputs": [
    {
     "data": {
      "text/plain": [
       "SceneViewer(width=1800, height=1350)"
      ]
     },
     "execution_count": 15,
     "metadata": {},
     "output_type": "execute_result"
    }
   ],
   "source": [
    "# vsiaulize the texture secne\n",
    "scene.show(viewer='gl')"
   ]
  },
  {
   "cell_type": "code",
   "execution_count": 10,
   "metadata": {},
   "outputs": [],
   "source": [
    "pcds = np.vstack(pcd_list)\n",
    "pcds_colors = np.vstack(color_list)\n",
    "pcds_faces = np.vstack(faces_list)\n",
    "pcd = o3d.geometry.PointCloud()"
   ]
  },
  {
   "cell_type": "code",
   "execution_count": 11,
   "metadata": {},
   "outputs": [],
   "source": [
    "# Visualize the point cloud\n",
    "\n",
    "pcd.points = o3d.utility.Vector3dVector(pcds)\n",
    "pcd.colors = o3d.utility.Vector3dVector(pcds_colors)\n",
    "\n",
    "o3d.visualization.draw_geometries([pcd], window_name=\"Point Cloud with Segmentation Labels\", width=800, height=600)"
   ]
  },
  {
   "cell_type": "code",
   "execution_count": 12,
   "metadata": {},
   "outputs": [],
   "source": [
    "\n",
    "# Visualize the mesh\n",
    "\n",
    "final_mesh = o3d.geometry.TriangleMesh()\n",
    "final_mesh.vertices = o3d.utility.Vector3dVector(pcds)\n",
    "final_mesh.vertex_colors = o3d.utility.Vector3dVector(pcds_colors)\n",
    "final_mesh.triangles = o3d.utility.Vector3iVector(pcds_faces)\n",
    "o3d.visualization.draw_geometries([final_mesh], window_name=\"Point Cloud with Segmentation Labels\", width=800, height=600)\n",
    "\n",
    "# o3d.io.write_triangle_mesh(\"colored_scene/combined_mesh.ply\", final_mesh)\n"
   ]
  },
  {
   "cell_type": "markdown",
   "metadata": {},
   "source": [
    "## Show Textured Mesh"
   ]
  },
  {
   "cell_type": "code",
   "execution_count": null,
   "metadata": {},
   "outputs": [],
   "source": []
  },
  {
   "cell_type": "code",
   "execution_count": null,
   "metadata": {},
   "outputs": [],
   "source": []
  }
 ],
 "metadata": {
  "kernelspec": {
   "display_name": "openins3d",
   "language": "python",
   "name": "python3"
  },
  "language_info": {
   "codemirror_mode": {
    "name": "ipython",
    "version": 3
   },
   "file_extension": ".py",
   "mimetype": "text/x-python",
   "name": "python",
   "nbconvert_exporter": "python",
   "pygments_lexer": "ipython3",
   "version": "3.9.19"
  }
 },
 "nbformat": 4,
 "nbformat_minor": 2
}
