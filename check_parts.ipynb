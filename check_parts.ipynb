{
 "cells": [
  {
   "cell_type": "code",
   "execution_count": 1,
   "metadata": {},
   "outputs": [
    {
     "name": "stdout",
     "output_type": "stream",
     "text": [
      "Jupyter environment detected. Enabling Open3D WebVisualizer.\n",
      "[Open3D INFO] WebRTC GUI backend enabled.\n",
      "[Open3D INFO] WebRTCWindowSystem: HTTP handshake server disabled.\n"
     ]
    }
   ],
   "source": [
    "import h5py\n",
    "import trimesh\n",
    "import os\n",
    "import open3d as o3d"
   ]
  },
  {
   "cell_type": "code",
   "execution_count": 2,
   "metadata": {},
   "outputs": [],
   "source": [
    "def load_hdf5(file_path):\n",
    "    with h5py.File(file_path, 'r') as f:\n",
    "        data = {key: f[key][()] for key in f.keys()}\n",
    "    return data\n"
   ]
  },
  {
   "cell_type": "code",
   "execution_count": null,
   "metadata": {},
   "outputs": [],
   "source": [
    "# 合成一个物体\n",
    "# 使用现成的chair ——>打上part label\n",
    "\n",
    "def generate_pth_cls(id,part_id):\n",
    "    mesh_base_dir = '/home/lidosan/Datasets/datasets--ShapeNet--PartNet-archive/blobs/data_v0/{}/objs/new-{}.obj'.format(id,part_id)\n",
    "    return mesh_base_dir"
   ]
  },
  {
   "cell_type": "code",
   "execution_count": null,
   "metadata": {},
   "outputs": [],
   "source": [
    "import os\n",
    "import json\n",
    "import trimesh\n",
    "import numpy as np\n",
    "\n",
    "# Load JSON file\n",
    "def load_json(file_path):\n",
    "    with open(file_path, 'r') as file:\n",
    "        data = json.load(file)\n",
    "    return data\n",
    "\n",
    "# Print hierarchical structure\n",
    "def print_structure(data, level=0):\n",
    "    indent = '  ' * level\n",
    "    if isinstance(data, dict):\n",
    "        if 'text' in data:\n",
    "            print(f\"{indent}{data['text']} (id: {data.get('id', 'N/A')}, name: {data.get('name', 'N/A')})\")\n",
    "        if 'objs' in data:\n",
    "            print(f\"{indent}  Mesh Files: {data['objs']}\")\n",
    "        if 'children' in data:\n",
    "            for child in data['children']:\n",
    "                print_structure(child, level + 1)\n",
    "    elif isinstance(data, list):\n",
    "        for item in data:\n",
    "            print_structure(item, level)\n",
    "\n",
    "# Extract part labels and their corresponding mesh files\n",
    "# Extract part labels and their corresponding mesh files\n",
    "def extract_parts(data, parent_label=''):\n",
    "    parts = []\n",
    "    if isinstance(data, dict):\n",
    "        if 'text' in data:\n",
    "            label = parent_label + ' -> ' + data['text'] if parent_label else data['text']\n",
    "            if 'objs' in data:\n",
    "                parts.append((label, data['objs']))\n",
    "            if 'children' in data:\n",
    "                for child in data['children']:\n",
    "                    parts.extend(extract_parts(child, label))\n",
    "    elif isinstance(data, list):\n",
    "        for item in data:\n",
    "            parts.extend(extract_parts(item, parent_label))\n",
    "    return parts\n",
    "\n",
    "# Generate a color palette for labels\n",
    "def generate_color_palette(num_colors):\n",
    "    return np.random.rand(num_colors, 3)\n",
    "\n",
    "\n",
    "# Load and color meshes\n",
    "def load_and_color_meshes_instance(obj_id, parts):\n",
    "    obj_base_dir = f'/home/lidosan/Datasets/datasets--ShapeNet--PartNet-archive/blobs/data_v0/{obj_id}/objs'\n",
    "    combined_mesh = trimesh.Scene()\n",
    "\n",
    "    # Flatten the list of parts to get all unique object IDs\n",
    "    all_object_ids = [obj for _, objs in parts for obj in objs]\n",
    "    color_palette = generate_color_palette(len(all_object_ids))\n",
    "    object_id_to_color = {obj_id: (color_palette[i] * 255).astype(np.uint8) for i, obj_id in enumerate(all_object_ids)}\n",
    "\n",
    "    for label, objs in parts:\n",
    "        for obj in objs:\n",
    "            color = object_id_to_color[obj]\n",
    "            mesh_path = os.path.join(obj_base_dir, f\"{obj}.obj\")\n",
    "            if os.path.exists(mesh_path):\n",
    "                mesh = trimesh.load(mesh_path)\n",
    "                # Assign a color to the mesh\n",
    "                mesh.visual.vertex_colors = np.tile(color, (len(mesh.vertices), 1))\n",
    "                # Add mesh to the scene\n",
    "                combined_mesh.add_geometry(mesh)\n",
    "            else:\n",
    "                print(f\"Mesh file {mesh_path} not found!\")\n",
    "\n",
    "    return combined_mesh\n",
    "\n",
    "\n",
    "\n",
    "# Load and color meshes by label\n",
    "def load_and_color_meshes_semantics(obj_id, parts):\n",
    "    obj_base_dir = f'/home/lidosan/Datasets/datasets--ShapeNet--PartNet-archive/blobs/data_v0/{obj_id}/objs'\n",
    "    combined_mesh = trimesh.Scene()\n",
    "\n",
    "    unique_labels = list(set(label for label, _ in parts))\n",
    "    color_palette = generate_color_palette(len(unique_labels))\n",
    "    label_to_color = {label: color_palette[i] for i, label in enumerate(unique_labels)}\n",
    "\n",
    "    print(label_to_color)\n",
    "    for label, objs in parts:\n",
    "        color = label_to_color[label]\n",
    "        for obj in objs:\n",
    "            mesh_path = os.path.join(obj_base_dir, f\"{obj}.obj\")\n",
    "            if os.path.exists(mesh_path):\n",
    "                mesh = trimesh.load(mesh_path)\n",
    "                # Assign the color to the mesh\n",
    "                mesh.visual.vertex_colors = np.tile(color, (mesh.vertices.shape[0], 1))\n",
    "                # Add mesh to the scene\n",
    "                combined_mesh.add_geometry(mesh)\n",
    "            else:\n",
    "                print(f\"Mesh file {mesh_path} not found!\")\n",
    "\n",
    "    return combined_mesh\n",
    "\n",
    "\n",
    "\n",
    "obj_id = '15052'\n",
    "\n",
    "obj_base_dir = '/home/lidosan/Datasets/datasets--ShapeNet--PartNet-archive/blobs/data_v0/{}'.format(obj_id)\n",
    "\n",
    "json_file_path = 'chair_structure.json'\n",
    "chair_structure = load_json(os.path.join(obj_base_dir,'result.json'))\n",
    "\n",
    "print(\"Hierarchical Structure of Chair and Its Parts:\")\n",
    "print_structure(chair_structure)\n",
    "\n",
    "# Extract parts with labels and object files\n",
    "parts = extract_parts(chair_structure)\n",
    "print(\"Extracted Parts and Corresponding Mesh Files:\")\n",
    "for label, objs in parts:\n",
    "    print(f\"{label}: {objs}\")\n",
    "\n",
    "# Example object ID\n",
    "\n",
    "# Load, color, and visualize the combined mesh\n",
    "combined_mesh = load_and_color_meshes_semantics(obj_id, parts)\n",
    "if combined_mesh:\n",
    "    print(\"Combined mesh with colored parts successfully created.\")\n",
    "    combined_mesh.show()\n",
    "else:\n",
    "    print(\"No meshes were loaded.\")\n"
   ]
  },
  {
   "cell_type": "code",
   "execution_count": null,
   "metadata": {},
   "outputs": [],
   "source": []
  },
  {
   "cell_type": "code",
   "execution_count": null,
   "metadata": {},
   "outputs": [],
   "source": [
    "combined_mesh.show()\n",
    "combined_mesh.export('scene1/lamp_{}.obj'.format(obj_id))\n"
   ]
  },
  {
   "cell_type": "code",
   "execution_count": null,
   "metadata": {},
   "outputs": [],
   "source": [
    "table_list = os.listdir('/home/lidosan/Datasets/PartNet/Table/models')"
   ]
  },
  {
   "cell_type": "code",
   "execution_count": null,
   "metadata": {},
   "outputs": [],
   "source": [
    "id = '15052.obj'\n",
    "category = 'Lamp'\n",
    "path = '/home/lidosan/Datasets/PartNet/{}/models/{}'.format(category,id)"
   ]
  },
  {
   "cell_type": "code",
   "execution_count": null,
   "metadata": {},
   "outputs": [],
   "source": []
  },
  {
   "cell_type": "code",
   "execution_count": null,
   "metadata": {},
   "outputs": [],
   "source": [
    "trimesh.load(path).show()"
   ]
  },
  {
   "cell_type": "code",
   "execution_count": null,
   "metadata": {},
   "outputs": [],
   "source": []
  },
  {
   "cell_type": "code",
   "execution_count": null,
   "metadata": {},
   "outputs": [],
   "source": []
  }
 ],
 "metadata": {
  "kernelspec": {
   "display_name": "openins3d",
   "language": "python",
   "name": "python3"
  },
  "language_info": {
   "codemirror_mode": {
    "name": "ipython",
    "version": 3
   },
   "file_extension": ".py",
   "mimetype": "text/x-python",
   "name": "python",
   "nbconvert_exporter": "python",
   "pygments_lexer": "ipython3",
   "version": "3.9.19"
  }
 },
 "nbformat": 4,
 "nbformat_minor": 2
}
