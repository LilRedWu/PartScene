{
 "cells": [
  {
   "cell_type": "code",
   "execution_count": 14,
   "metadata": {},
   "outputs": [
    {
     "name": "stdout",
     "output_type": "stream",
     "text": [
      "\n",
      "************************************************************************\n",
      "1) Start local server:\n",
      "    cd /home/lidosan/Workplace-why/PartSecne/example_meshes; python -m http.server 6008\n",
      "2) Open in browser:\n",
      "    http://localhost:6008\n",
      "************************************************************************\n"
     ]
    }
   ],
   "source": [
    "import pyviz3d.visualizer as viz\n",
    "import numpy as np\n",
    "import open3d as o3d\n",
    "\n",
    "\n",
    "def generate_pth_scene(category, id):\n",
    "    scene = 'scene1'\n",
    "    obj_dir = f\"{scene}/{category}_{id}.obj\"\n",
    "    return obj_dir\n",
    "\n",
    "\n",
    "\n",
    "def main():\n",
    "    v = viz.Visualizer(position=[5, 5, 1])\n",
    "\n",
    "\n",
    "    \n",
    "\n",
    "\n",
    "    v.add_mesh('Lamp',\n",
    "        path='scene1/Lamp_15052.obj',\n",
    "        rotation=viz.euler_to_quaternion(np.pi / 2.0, -np.pi / 15.0, 0.0),\n",
    "        scale=np.array([0.5, 0,5, 0.5]),\n",
    "        translation=np.array([0.0, 0.0, 1]),\n",
    "        )\n",
    "\n",
    "    v.add_mesh('Bed',\n",
    "        path='scene1/Bed_10033.obj',\n",
    "        rotation=viz.euler_to_quaternion(np.pi / 2.0, -np.pi / 15.0, 0.0),\n",
    "        scale=np.array([3, 3, 3]),\n",
    "        translation=np.array([0.0, 0.0, 3]),\n",
    "        )\n",
    "    \n",
    "    # v.add_mesh('Room', path='PyViz3D/examples/data/office_chairs.ply')\n",
    "\n",
    "    v.add_labels('Labels',\n",
    "                 ['text_x', 'texty_y', 'text_z'],\n",
    "                 [np.array([1.0, 0.0, 0.0]), np.array([0.0, 1.0, 0.0]), np.array([0.0, 0.0, 1.0])],\n",
    "                 [np.array([255.0, 0.0, 0.0]), np.array([0.0, 255.0, 0.0]), np.array([0.0, 0.0, 255.0])],\n",
    "                 visible=False)\n",
    "    \n",
    "\n",
    "    for i in range(3):\n",
    "        ii = i / 3.0\n",
    "        pos_x = np.cos(ii) * 2.0\n",
    "        pos_y = np.sin(ii) * 2.0\n",
    "        v.add_mesh('Chairs;'+str(i),\n",
    "                   path='PyViz3D/examples/data/chair_model.obj',\n",
    "                   color=np.array([255, i * 30, 0]),\n",
    "                   translation=np.array([pos_x, pos_y, -1.0]),\n",
    "                   rotation=viz.euler_to_quaternion(np.pi / 2.0, 0.0, np.pi / 4.0 * i))\n",
    "\n",
    "    # blender_args = {'output_prefix': './',\n",
    "    #                 'executable_path': '/Applications/Blender.app/Contents/MacOS/Blender'}\n",
    "    v.save('example_meshes')\n",
    "\n",
    "if __name__ == '__main__':\n",
    "    main()\n"
   ]
  },
  {
   "cell_type": "code",
   "execution_count": null,
   "metadata": {},
   "outputs": [],
   "source": []
  }
 ],
 "metadata": {
  "kernelspec": {
   "display_name": "openins3d",
   "language": "python",
   "name": "python3"
  },
  "language_info": {
   "codemirror_mode": {
    "name": "ipython",
    "version": 3
   },
   "file_extension": ".py",
   "mimetype": "text/x-python",
   "name": "python",
   "nbconvert_exporter": "python",
   "pygments_lexer": "ipython3",
   "version": "3.9.19"
  }
 },
 "nbformat": 4,
 "nbformat_minor": 2
}
