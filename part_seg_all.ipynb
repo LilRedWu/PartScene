{
 "cells": [
  {
   "cell_type": "code",
   "execution_count": null,
   "metadata": {},
   "outputs": [],
   "source": []
  },
  {
   "cell_type": "markdown",
   "metadata": {},
   "source": [
    "# 3D mask proposal"
   ]
  },
  {
   "cell_type": "code",
   "execution_count": 1,
   "metadata": {},
   "outputs": [
    {
     "name": "stdout",
     "output_type": "stream",
     "text": [
      "Jupyter environment detected. Enabling Open3D WebVisualizer.\n",
      "[Open3D INFO] WebRTC GUI backend enabled.\n",
      "[Open3D INFO] WebRTCWindowSystem: HTTP handshake server disabled.\n",
      "Model built successfully\n"
     ]
    },
    {
     "name": "stderr",
     "output_type": "stream",
     "text": [
      "  0%|          | 0/300 [00:00<?, ?it/s]"
     ]
    },
    {
     "name": "stdout",
     "output_type": "stream",
     "text": [
      "0055\n"
     ]
    },
    {
     "name": "stderr",
     "output_type": "stream",
     "text": [
      "100%|██████████| 1024/1024 [00:03<00:00, 257.35it/s]\n"
     ]
    },
    {
     "name": "stdout",
     "output_type": "stream",
     "text": [
      "Saved instance information and point cloud data to /home/wan/Workplace-why/Part-SAM/part_scene_saved/0055/0/ins_info\n"
     ]
    },
    {
     "name": "stderr",
     "output_type": "stream",
     "text": [
      "100%|██████████| 1024/1024 [00:03<00:00, 264.64it/s]\n"
     ]
    },
    {
     "name": "stdout",
     "output_type": "stream",
     "text": [
      "Saved instance information and point cloud data to /home/wan/Workplace-why/Part-SAM/part_scene_saved/0055/1/ins_info\n"
     ]
    },
    {
     "name": "stderr",
     "output_type": "stream",
     "text": [
      "100%|██████████| 1024/1024 [00:03<00:00, 265.39it/s]\n",
      "  0%|          | 1/300 [00:23<1:55:23, 23.16s/it]"
     ]
    },
    {
     "name": "stdout",
     "output_type": "stream",
     "text": [
      "Saved instance information and point cloud data to /home/wan/Workplace-why/Part-SAM/part_scene_saved/0055/2/ins_info\n",
      "0197\n"
     ]
    },
    {
     "name": "stderr",
     "output_type": "stream",
     "text": [
      "100%|██████████| 1024/1024 [00:03<00:00, 264.99it/s]\n"
     ]
    },
    {
     "name": "stdout",
     "output_type": "stream",
     "text": [
      "Saved instance information and point cloud data to /home/wan/Workplace-why/Part-SAM/part_scene_saved/0197/0/ins_info\n"
     ]
    },
    {
     "name": "stderr",
     "output_type": "stream",
     "text": [
      "100%|██████████| 1024/1024 [00:03<00:00, 265.77it/s]\n"
     ]
    },
    {
     "name": "stdout",
     "output_type": "stream",
     "text": [
      "Saved instance information and point cloud data to /home/wan/Workplace-why/Part-SAM/part_scene_saved/0197/1/ins_info\n"
     ]
    },
    {
     "name": "stderr",
     "output_type": "stream",
     "text": [
      "100%|██████████| 1024/1024 [00:03<00:00, 264.77it/s]\n",
      "  1%|          | 2/300 [00:56<2:24:58, 29.19s/it]"
     ]
    },
    {
     "name": "stdout",
     "output_type": "stream",
     "text": [
      "Saved instance information and point cloud data to /home/wan/Workplace-why/Part-SAM/part_scene_saved/0197/2/ins_info\n",
      "0187\n"
     ]
    },
    {
     "name": "stderr",
     "output_type": "stream",
     "text": [
      "100%|██████████| 1024/1024 [00:03<00:00, 263.84it/s]\n"
     ]
    },
    {
     "name": "stdout",
     "output_type": "stream",
     "text": [
      "Saved instance information and point cloud data to /home/wan/Workplace-why/Part-SAM/part_scene_saved/0187/0/ins_info\n"
     ]
    },
    {
     "name": "stderr",
     "output_type": "stream",
     "text": [
      "100%|██████████| 1024/1024 [00:03<00:00, 264.39it/s]\n"
     ]
    },
    {
     "name": "stdout",
     "output_type": "stream",
     "text": [
      "Saved instance information and point cloud data to /home/wan/Workplace-why/Part-SAM/part_scene_saved/0187/1/ins_info\n"
     ]
    },
    {
     "name": "stderr",
     "output_type": "stream",
     "text": [
      "100%|██████████| 1024/1024 [00:03<00:00, 265.20it/s]\n",
      "  1%|          | 3/300 [01:18<2:07:21, 25.73s/it]"
     ]
    },
    {
     "name": "stdout",
     "output_type": "stream",
     "text": [
      "Saved instance information and point cloud data to /home/wan/Workplace-why/Part-SAM/part_scene_saved/0187/2/ins_info\n",
      "0247\n"
     ]
    },
    {
     "name": "stderr",
     "output_type": "stream",
     "text": [
      "100%|██████████| 1024/1024 [00:03<00:00, 265.35it/s]\n"
     ]
    },
    {
     "name": "stdout",
     "output_type": "stream",
     "text": [
      "Saved instance information and point cloud data to /home/wan/Workplace-why/Part-SAM/part_scene_saved/0247/0/ins_info\n"
     ]
    },
    {
     "name": "stderr",
     "output_type": "stream",
     "text": [
      "100%|██████████| 1024/1024 [00:04<00:00, 255.63it/s]\n"
     ]
    },
    {
     "name": "stdout",
     "output_type": "stream",
     "text": [
      "Saved instance information and point cloud data to /home/wan/Workplace-why/Part-SAM/part_scene_saved/0247/1/ins_info\n"
     ]
    },
    {
     "name": "stderr",
     "output_type": "stream",
     "text": [
      "100%|██████████| 1024/1024 [00:03<00:00, 262.98it/s]\n",
      "  1%|▏         | 4/300 [01:43<2:05:26, 25.43s/it]"
     ]
    },
    {
     "name": "stdout",
     "output_type": "stream",
     "text": [
      "Saved instance information and point cloud data to /home/wan/Workplace-why/Part-SAM/part_scene_saved/0247/2/ins_info\n",
      "0036\n"
     ]
    },
    {
     "name": "stderr",
     "output_type": "stream",
     "text": [
      "100%|██████████| 1024/1024 [00:03<00:00, 264.34it/s]\n"
     ]
    },
    {
     "name": "stdout",
     "output_type": "stream",
     "text": [
      "Saved instance information and point cloud data to /home/wan/Workplace-why/Part-SAM/part_scene_saved/0036/0/ins_info\n"
     ]
    },
    {
     "name": "stderr",
     "output_type": "stream",
     "text": [
      "100%|██████████| 1024/1024 [00:03<00:00, 263.91it/s]\n"
     ]
    },
    {
     "name": "stdout",
     "output_type": "stream",
     "text": [
      "Saved instance information and point cloud data to /home/wan/Workplace-why/Part-SAM/part_scene_saved/0036/1/ins_info\n"
     ]
    },
    {
     "name": "stderr",
     "output_type": "stream",
     "text": [
      "100%|██████████| 1024/1024 [00:03<00:00, 264.20it/s]\n",
      "  2%|▏         | 5/300 [02:03<1:55:59, 23.59s/it]"
     ]
    },
    {
     "name": "stdout",
     "output_type": "stream",
     "text": [
      "Saved instance information and point cloud data to /home/wan/Workplace-why/Part-SAM/part_scene_saved/0036/2/ins_info\n",
      "0296\n"
     ]
    },
    {
     "name": "stderr",
     "output_type": "stream",
     "text": [
      "100%|██████████| 1024/1024 [00:03<00:00, 263.02it/s]\n"
     ]
    },
    {
     "name": "stdout",
     "output_type": "stream",
     "text": [
      "Saved instance information and point cloud data to /home/wan/Workplace-why/Part-SAM/part_scene_saved/0296/0/ins_info\n"
     ]
    },
    {
     "name": "stderr",
     "output_type": "stream",
     "text": [
      "100%|██████████| 1024/1024 [00:03<00:00, 262.66it/s]\n"
     ]
    },
    {
     "name": "stdout",
     "output_type": "stream",
     "text": [
      "Saved instance information and point cloud data to /home/wan/Workplace-why/Part-SAM/part_scene_saved/0296/1/ins_info\n"
     ]
    },
    {
     "name": "stderr",
     "output_type": "stream",
     "text": [
      "100%|██████████| 1024/1024 [00:03<00:00, 262.69it/s]\n",
      "  2%|▏         | 6/300 [02:25<1:52:44, 23.01s/it]"
     ]
    },
    {
     "name": "stdout",
     "output_type": "stream",
     "text": [
      "Saved instance information and point cloud data to /home/wan/Workplace-why/Part-SAM/part_scene_saved/0296/2/ins_info\n",
      "0292\n"
     ]
    },
    {
     "name": "stderr",
     "output_type": "stream",
     "text": [
      "100%|██████████| 1024/1024 [00:03<00:00, 261.37it/s]\n"
     ]
    },
    {
     "name": "stdout",
     "output_type": "stream",
     "text": [
      "Saved instance information and point cloud data to /home/wan/Workplace-why/Part-SAM/part_scene_saved/0292/0/ins_info\n"
     ]
    },
    {
     "name": "stderr",
     "output_type": "stream",
     "text": [
      "100%|██████████| 1024/1024 [00:03<00:00, 263.10it/s]\n"
     ]
    },
    {
     "name": "stdout",
     "output_type": "stream",
     "text": [
      "Saved instance information and point cloud data to /home/wan/Workplace-why/Part-SAM/part_scene_saved/0292/1/ins_info\n"
     ]
    },
    {
     "name": "stderr",
     "output_type": "stream",
     "text": [
      "100%|██████████| 1024/1024 [00:03<00:00, 262.83it/s]\n",
      "  2%|▏         | 7/300 [02:46<1:49:35, 22.44s/it]"
     ]
    },
    {
     "name": "stdout",
     "output_type": "stream",
     "text": [
      "Saved instance information and point cloud data to /home/wan/Workplace-why/Part-SAM/part_scene_saved/0292/2/ins_info\n",
      "0181\n"
     ]
    },
    {
     "name": "stderr",
     "output_type": "stream",
     "text": [
      "100%|██████████| 1024/1024 [00:03<00:00, 260.87it/s]\n"
     ]
    },
    {
     "name": "stdout",
     "output_type": "stream",
     "text": [
      "Saved instance information and point cloud data to /home/wan/Workplace-why/Part-SAM/part_scene_saved/0181/0/ins_info\n"
     ]
    },
    {
     "name": "stderr",
     "output_type": "stream",
     "text": [
      "100%|██████████| 1024/1024 [00:03<00:00, 263.08it/s]\n"
     ]
    },
    {
     "name": "stdout",
     "output_type": "stream",
     "text": [
      "Saved instance information and point cloud data to /home/wan/Workplace-why/Part-SAM/part_scene_saved/0181/1/ins_info\n"
     ]
    },
    {
     "name": "stderr",
     "output_type": "stream",
     "text": [
      "100%|██████████| 1024/1024 [00:03<00:00, 262.61it/s]\n",
      "  3%|▎         | 8/300 [03:11<1:52:23, 23.09s/it]"
     ]
    },
    {
     "name": "stdout",
     "output_type": "stream",
     "text": [
      "Saved instance information and point cloud data to /home/wan/Workplace-why/Part-SAM/part_scene_saved/0181/2/ins_info\n",
      "0224\n"
     ]
    },
    {
     "name": "stderr",
     "output_type": "stream",
     "text": [
      "100%|██████████| 1024/1024 [00:03<00:00, 261.46it/s]\n"
     ]
    },
    {
     "name": "stdout",
     "output_type": "stream",
     "text": [
      "Saved instance information and point cloud data to /home/wan/Workplace-why/Part-SAM/part_scene_saved/0224/0/ins_info\n"
     ]
    },
    {
     "name": "stderr",
     "output_type": "stream",
     "text": [
      "100%|██████████| 1024/1024 [00:03<00:00, 262.45it/s]\n"
     ]
    },
    {
     "name": "stdout",
     "output_type": "stream",
     "text": [
      "Saved instance information and point cloud data to /home/wan/Workplace-why/Part-SAM/part_scene_saved/0224/1/ins_info\n"
     ]
    },
    {
     "name": "stderr",
     "output_type": "stream",
     "text": [
      "100%|██████████| 1024/1024 [00:03<00:00, 262.71it/s]\n",
      "  3%|▎         | 9/300 [03:32<1:50:04, 22.70s/it]"
     ]
    },
    {
     "name": "stdout",
     "output_type": "stream",
     "text": [
      "Saved instance information and point cloud data to /home/wan/Workplace-why/Part-SAM/part_scene_saved/0224/2/ins_info\n",
      "0157\n"
     ]
    },
    {
     "name": "stderr",
     "output_type": "stream",
     "text": [
      "100%|██████████| 1024/1024 [00:03<00:00, 263.01it/s]\n"
     ]
    },
    {
     "name": "stdout",
     "output_type": "stream",
     "text": [
      "Saved instance information and point cloud data to /home/wan/Workplace-why/Part-SAM/part_scene_saved/0157/0/ins_info\n"
     ]
    },
    {
     "name": "stderr",
     "output_type": "stream",
     "text": [
      "100%|██████████| 1024/1024 [00:03<00:00, 260.89it/s]\n"
     ]
    },
    {
     "name": "stdout",
     "output_type": "stream",
     "text": [
      "Saved instance information and point cloud data to /home/wan/Workplace-why/Part-SAM/part_scene_saved/0157/1/ins_info\n"
     ]
    },
    {
     "name": "stderr",
     "output_type": "stream",
     "text": [
      "100%|██████████| 1024/1024 [00:03<00:00, 262.49it/s]\n",
      "  3%|▎         | 10/300 [03:55<1:50:05, 22.78s/it]"
     ]
    },
    {
     "name": "stdout",
     "output_type": "stream",
     "text": [
      "Saved instance information and point cloud data to /home/wan/Workplace-why/Part-SAM/part_scene_saved/0157/2/ins_info\n",
      "0294\n"
     ]
    },
    {
     "name": "stderr",
     "output_type": "stream",
     "text": [
      "100%|██████████| 1024/1024 [00:03<00:00, 262.63it/s]\n"
     ]
    },
    {
     "name": "stdout",
     "output_type": "stream",
     "text": [
      "Saved instance information and point cloud data to /home/wan/Workplace-why/Part-SAM/part_scene_saved/0294/0/ins_info\n"
     ]
    },
    {
     "name": "stderr",
     "output_type": "stream",
     "text": [
      "100%|██████████| 1024/1024 [00:03<00:00, 263.35it/s]\n"
     ]
    },
    {
     "name": "stdout",
     "output_type": "stream",
     "text": [
      "Saved instance information and point cloud data to /home/wan/Workplace-why/Part-SAM/part_scene_saved/0294/1/ins_info\n"
     ]
    },
    {
     "name": "stderr",
     "output_type": "stream",
     "text": [
      "100%|██████████| 1024/1024 [00:03<00:00, 261.05it/s]\n",
      "  4%|▎         | 11/300 [04:21<1:53:19, 23.53s/it]"
     ]
    },
    {
     "name": "stdout",
     "output_type": "stream",
     "text": [
      "Saved instance information and point cloud data to /home/wan/Workplace-why/Part-SAM/part_scene_saved/0294/2/ins_info\n",
      "0223\n"
     ]
    },
    {
     "name": "stderr",
     "output_type": "stream",
     "text": [
      "100%|██████████| 1024/1024 [00:03<00:00, 257.71it/s]\n"
     ]
    },
    {
     "name": "stdout",
     "output_type": "stream",
     "text": [
      "Saved instance information and point cloud data to /home/wan/Workplace-why/Part-SAM/part_scene_saved/0223/0/ins_info\n"
     ]
    },
    {
     "name": "stderr",
     "output_type": "stream",
     "text": [
      "100%|██████████| 1024/1024 [00:03<00:00, 263.02it/s]\n"
     ]
    },
    {
     "name": "stdout",
     "output_type": "stream",
     "text": [
      "Saved instance information and point cloud data to /home/wan/Workplace-why/Part-SAM/part_scene_saved/0223/1/ins_info\n"
     ]
    },
    {
     "name": "stderr",
     "output_type": "stream",
     "text": [
      "100%|██████████| 1024/1024 [00:03<00:00, 263.59it/s]\n",
      "  4%|▍         | 12/300 [04:42<1:50:03, 22.93s/it]"
     ]
    },
    {
     "name": "stdout",
     "output_type": "stream",
     "text": [
      "Saved instance information and point cloud data to /home/wan/Workplace-why/Part-SAM/part_scene_saved/0223/2/ins_info\n",
      "0268\n"
     ]
    },
    {
     "name": "stderr",
     "output_type": "stream",
     "text": [
      "100%|██████████| 1024/1024 [00:03<00:00, 262.18it/s]\n"
     ]
    },
    {
     "name": "stdout",
     "output_type": "stream",
     "text": [
      "Saved instance information and point cloud data to /home/wan/Workplace-why/Part-SAM/part_scene_saved/0268/0/ins_info\n"
     ]
    },
    {
     "name": "stderr",
     "output_type": "stream",
     "text": [
      "100%|██████████| 1024/1024 [00:03<00:00, 262.22it/s]\n"
     ]
    },
    {
     "name": "stdout",
     "output_type": "stream",
     "text": [
      "Saved instance information and point cloud data to /home/wan/Workplace-why/Part-SAM/part_scene_saved/0268/1/ins_info\n"
     ]
    },
    {
     "name": "stderr",
     "output_type": "stream",
     "text": [
      "100%|██████████| 1024/1024 [00:03<00:00, 258.29it/s]\n",
      "  4%|▍         | 13/300 [05:08<1:53:53, 23.81s/it]"
     ]
    },
    {
     "name": "stdout",
     "output_type": "stream",
     "text": [
      "Saved instance information and point cloud data to /home/wan/Workplace-why/Part-SAM/part_scene_saved/0268/2/ins_info\n",
      "0210\n"
     ]
    },
    {
     "name": "stderr",
     "output_type": "stream",
     "text": [
      "100%|██████████| 1024/1024 [00:03<00:00, 258.29it/s]\n"
     ]
    },
    {
     "name": "stdout",
     "output_type": "stream",
     "text": [
      "Saved instance information and point cloud data to /home/wan/Workplace-why/Part-SAM/part_scene_saved/0210/0/ins_info\n"
     ]
    },
    {
     "name": "stderr",
     "output_type": "stream",
     "text": [
      "100%|██████████| 1024/1024 [00:03<00:00, 263.25it/s]\n"
     ]
    },
    {
     "name": "stdout",
     "output_type": "stream",
     "text": [
      "Saved instance information and point cloud data to /home/wan/Workplace-why/Part-SAM/part_scene_saved/0210/1/ins_info\n"
     ]
    },
    {
     "name": "stderr",
     "output_type": "stream",
     "text": [
      "100%|██████████| 1024/1024 [00:03<00:00, 261.56it/s]\n",
      "  5%|▍         | 14/300 [05:30<1:50:11, 23.12s/it]"
     ]
    },
    {
     "name": "stdout",
     "output_type": "stream",
     "text": [
      "Saved instance information and point cloud data to /home/wan/Workplace-why/Part-SAM/part_scene_saved/0210/2/ins_info\n",
      "0171\n"
     ]
    },
    {
     "name": "stderr",
     "output_type": "stream",
     "text": [
      "100%|██████████| 1024/1024 [00:03<00:00, 263.49it/s]\n"
     ]
    },
    {
     "name": "stdout",
     "output_type": "stream",
     "text": [
      "Saved instance information and point cloud data to /home/wan/Workplace-why/Part-SAM/part_scene_saved/0171/0/ins_info\n"
     ]
    },
    {
     "name": "stderr",
     "output_type": "stream",
     "text": [
      "100%|██████████| 1024/1024 [00:03<00:00, 262.87it/s]\n"
     ]
    },
    {
     "name": "stdout",
     "output_type": "stream",
     "text": [
      "Saved instance information and point cloud data to /home/wan/Workplace-why/Part-SAM/part_scene_saved/0171/1/ins_info\n"
     ]
    },
    {
     "name": "stderr",
     "output_type": "stream",
     "text": [
      "100%|██████████| 1024/1024 [00:03<00:00, 260.93it/s]\n",
      "  5%|▌         | 15/300 [05:50<1:45:45, 22.27s/it]"
     ]
    },
    {
     "name": "stdout",
     "output_type": "stream",
     "text": [
      "Saved instance information and point cloud data to /home/wan/Workplace-why/Part-SAM/part_scene_saved/0171/2/ins_info\n",
      "0010\n"
     ]
    },
    {
     "name": "stderr",
     "output_type": "stream",
     "text": [
      "100%|██████████| 1024/1024 [00:03<00:00, 264.19it/s]\n"
     ]
    },
    {
     "name": "stdout",
     "output_type": "stream",
     "text": [
      "Saved instance information and point cloud data to /home/wan/Workplace-why/Part-SAM/part_scene_saved/0010/0/ins_info\n"
     ]
    },
    {
     "name": "stderr",
     "output_type": "stream",
     "text": [
      "100%|██████████| 1024/1024 [00:03<00:00, 263.26it/s]\n"
     ]
    },
    {
     "name": "stdout",
     "output_type": "stream",
     "text": [
      "Saved instance information and point cloud data to /home/wan/Workplace-why/Part-SAM/part_scene_saved/0010/1/ins_info\n"
     ]
    },
    {
     "name": "stderr",
     "output_type": "stream",
     "text": [
      "100%|██████████| 1024/1024 [00:03<00:00, 262.76it/s]\n",
      "  5%|▌         | 16/300 [06:14<1:48:26, 22.91s/it]"
     ]
    },
    {
     "name": "stdout",
     "output_type": "stream",
     "text": [
      "Saved instance information and point cloud data to /home/wan/Workplace-why/Part-SAM/part_scene_saved/0010/2/ins_info\n",
      "0005\n"
     ]
    },
    {
     "name": "stderr",
     "output_type": "stream",
     "text": [
      "100%|██████████| 1024/1024 [00:03<00:00, 261.38it/s]\n"
     ]
    },
    {
     "name": "stdout",
     "output_type": "stream",
     "text": [
      "Saved instance information and point cloud data to /home/wan/Workplace-why/Part-SAM/part_scene_saved/0005/0/ins_info\n"
     ]
    },
    {
     "name": "stderr",
     "output_type": "stream",
     "text": [
      "100%|██████████| 1024/1024 [00:03<00:00, 262.02it/s]\n"
     ]
    },
    {
     "name": "stdout",
     "output_type": "stream",
     "text": [
      "Saved instance information and point cloud data to /home/wan/Workplace-why/Part-SAM/part_scene_saved/0005/1/ins_info\n"
     ]
    },
    {
     "name": "stderr",
     "output_type": "stream",
     "text": [
      "100%|██████████| 1024/1024 [00:03<00:00, 261.86it/s]\n",
      "  6%|▌         | 17/300 [06:34<1:43:00, 21.84s/it]"
     ]
    },
    {
     "name": "stdout",
     "output_type": "stream",
     "text": [
      "Saved instance information and point cloud data to /home/wan/Workplace-why/Part-SAM/part_scene_saved/0005/2/ins_info\n",
      "0291\n"
     ]
    },
    {
     "name": "stderr",
     "output_type": "stream",
     "text": [
      "100%|██████████| 1024/1024 [00:03<00:00, 264.43it/s]\n"
     ]
    },
    {
     "name": "stdout",
     "output_type": "stream",
     "text": [
      "Saved instance information and point cloud data to /home/wan/Workplace-why/Part-SAM/part_scene_saved/0291/0/ins_info\n"
     ]
    },
    {
     "name": "stderr",
     "output_type": "stream",
     "text": [
      "100%|██████████| 1024/1024 [00:03<00:00, 263.88it/s]\n"
     ]
    },
    {
     "name": "stdout",
     "output_type": "stream",
     "text": [
      "Saved instance information and point cloud data to /home/wan/Workplace-why/Part-SAM/part_scene_saved/0291/1/ins_info\n"
     ]
    },
    {
     "name": "stderr",
     "output_type": "stream",
     "text": [
      "100%|██████████| 1024/1024 [00:03<00:00, 262.84it/s]\n",
      "  6%|▌         | 18/300 [06:55<1:41:48, 21.66s/it]"
     ]
    },
    {
     "name": "stdout",
     "output_type": "stream",
     "text": [
      "Saved instance information and point cloud data to /home/wan/Workplace-why/Part-SAM/part_scene_saved/0291/2/ins_info\n",
      "0066\n"
     ]
    },
    {
     "name": "stderr",
     "output_type": "stream",
     "text": [
      "100%|██████████| 1024/1024 [00:03<00:00, 259.13it/s]\n"
     ]
    },
    {
     "name": "stdout",
     "output_type": "stream",
     "text": [
      "Saved instance information and point cloud data to /home/wan/Workplace-why/Part-SAM/part_scene_saved/0066/0/ins_info\n"
     ]
    },
    {
     "name": "stderr",
     "output_type": "stream",
     "text": [
      "100%|██████████| 1024/1024 [00:03<00:00, 261.82it/s]\n"
     ]
    },
    {
     "name": "stdout",
     "output_type": "stream",
     "text": [
      "Saved instance information and point cloud data to /home/wan/Workplace-why/Part-SAM/part_scene_saved/0066/1/ins_info\n"
     ]
    },
    {
     "name": "stderr",
     "output_type": "stream",
     "text": [
      "100%|██████████| 1024/1024 [00:03<00:00, 259.60it/s]\n",
      "  6%|▋         | 19/300 [07:17<1:42:05, 21.80s/it]"
     ]
    },
    {
     "name": "stdout",
     "output_type": "stream",
     "text": [
      "Saved instance information and point cloud data to /home/wan/Workplace-why/Part-SAM/part_scene_saved/0066/2/ins_info\n",
      "0297\n"
     ]
    },
    {
     "name": "stderr",
     "output_type": "stream",
     "text": [
      "100%|██████████| 1024/1024 [00:03<00:00, 260.85it/s]\n"
     ]
    },
    {
     "name": "stdout",
     "output_type": "stream",
     "text": [
      "Saved instance information and point cloud data to /home/wan/Workplace-why/Part-SAM/part_scene_saved/0297/0/ins_info\n"
     ]
    },
    {
     "name": "stderr",
     "output_type": "stream",
     "text": [
      "100%|██████████| 1024/1024 [00:03<00:00, 261.74it/s]\n"
     ]
    },
    {
     "name": "stdout",
     "output_type": "stream",
     "text": [
      "Saved instance information and point cloud data to /home/wan/Workplace-why/Part-SAM/part_scene_saved/0297/1/ins_info\n"
     ]
    },
    {
     "name": "stderr",
     "output_type": "stream",
     "text": [
      "100%|██████████| 1024/1024 [00:03<00:00, 263.18it/s]\n",
      "  7%|▋         | 20/300 [07:43<1:47:30, 23.04s/it]"
     ]
    },
    {
     "name": "stdout",
     "output_type": "stream",
     "text": [
      "Saved instance information and point cloud data to /home/wan/Workplace-why/Part-SAM/part_scene_saved/0297/2/ins_info\n",
      "0076\n"
     ]
    },
    {
     "name": "stderr",
     "output_type": "stream",
     "text": [
      "100%|██████████| 1024/1024 [00:03<00:00, 260.07it/s]\n"
     ]
    },
    {
     "name": "stdout",
     "output_type": "stream",
     "text": [
      "Saved instance information and point cloud data to /home/wan/Workplace-why/Part-SAM/part_scene_saved/0076/0/ins_info\n"
     ]
    },
    {
     "name": "stderr",
     "output_type": "stream",
     "text": [
      "100%|██████████| 1024/1024 [00:03<00:00, 263.53it/s]\n"
     ]
    },
    {
     "name": "stdout",
     "output_type": "stream",
     "text": [
      "Saved instance information and point cloud data to /home/wan/Workplace-why/Part-SAM/part_scene_saved/0076/1/ins_info\n"
     ]
    },
    {
     "name": "stderr",
     "output_type": "stream",
     "text": [
      "100%|██████████| 1024/1024 [00:03<00:00, 263.21it/s]\n",
      "  7%|▋         | 21/300 [08:03<1:43:31, 22.26s/it]"
     ]
    },
    {
     "name": "stdout",
     "output_type": "stream",
     "text": [
      "Saved instance information and point cloud data to /home/wan/Workplace-why/Part-SAM/part_scene_saved/0076/2/ins_info\n",
      "0059\n"
     ]
    },
    {
     "name": "stderr",
     "output_type": "stream",
     "text": [
      "100%|██████████| 1024/1024 [00:03<00:00, 256.91it/s]\n"
     ]
    },
    {
     "name": "stdout",
     "output_type": "stream",
     "text": [
      "Saved instance information and point cloud data to /home/wan/Workplace-why/Part-SAM/part_scene_saved/0059/0/ins_info\n"
     ]
    },
    {
     "name": "stderr",
     "output_type": "stream",
     "text": [
      "100%|██████████| 1024/1024 [00:03<00:00, 261.85it/s]\n"
     ]
    },
    {
     "name": "stdout",
     "output_type": "stream",
     "text": [
      "Saved instance information and point cloud data to /home/wan/Workplace-why/Part-SAM/part_scene_saved/0059/1/ins_info\n"
     ]
    },
    {
     "name": "stderr",
     "output_type": "stream",
     "text": [
      "100%|██████████| 1024/1024 [00:03<00:00, 262.40it/s]\n",
      "  7%|▋         | 22/300 [08:27<1:45:04, 22.68s/it]"
     ]
    },
    {
     "name": "stdout",
     "output_type": "stream",
     "text": [
      "Saved instance information and point cloud data to /home/wan/Workplace-why/Part-SAM/part_scene_saved/0059/2/ins_info\n",
      "0192\n"
     ]
    },
    {
     "name": "stderr",
     "output_type": "stream",
     "text": [
      "100%|██████████| 1024/1024 [00:04<00:00, 254.02it/s]\n"
     ]
    },
    {
     "name": "stdout",
     "output_type": "stream",
     "text": [
      "Saved instance information and point cloud data to /home/wan/Workplace-why/Part-SAM/part_scene_saved/0192/0/ins_info\n"
     ]
    },
    {
     "name": "stderr",
     "output_type": "stream",
     "text": [
      "100%|██████████| 1024/1024 [00:03<00:00, 262.10it/s]\n"
     ]
    },
    {
     "name": "stdout",
     "output_type": "stream",
     "text": [
      "Saved instance information and point cloud data to /home/wan/Workplace-why/Part-SAM/part_scene_saved/0192/1/ins_info\n"
     ]
    },
    {
     "name": "stderr",
     "output_type": "stream",
     "text": [
      "100%|██████████| 1024/1024 [00:03<00:00, 261.09it/s]\n",
      "  8%|▊         | 23/300 [08:49<1:43:54, 22.51s/it]"
     ]
    },
    {
     "name": "stdout",
     "output_type": "stream",
     "text": [
      "Saved instance information and point cloud data to /home/wan/Workplace-why/Part-SAM/part_scene_saved/0192/2/ins_info\n",
      "0186\n"
     ]
    },
    {
     "name": "stderr",
     "output_type": "stream",
     "text": [
      "100%|██████████| 1024/1024 [00:03<00:00, 261.49it/s]\n"
     ]
    },
    {
     "name": "stdout",
     "output_type": "stream",
     "text": [
      "Saved instance information and point cloud data to /home/wan/Workplace-why/Part-SAM/part_scene_saved/0186/0/ins_info\n"
     ]
    },
    {
     "name": "stderr",
     "output_type": "stream",
     "text": [
      "100%|██████████| 1024/1024 [00:03<00:00, 261.88it/s]\n"
     ]
    },
    {
     "name": "stdout",
     "output_type": "stream",
     "text": [
      "Saved instance information and point cloud data to /home/wan/Workplace-why/Part-SAM/part_scene_saved/0186/1/ins_info\n"
     ]
    },
    {
     "name": "stderr",
     "output_type": "stream",
     "text": [
      "100%|██████████| 1024/1024 [00:03<00:00, 261.31it/s]\n",
      "  8%|▊         | 24/300 [09:10<1:41:05, 21.98s/it]"
     ]
    },
    {
     "name": "stdout",
     "output_type": "stream",
     "text": [
      "Saved instance information and point cloud data to /home/wan/Workplace-why/Part-SAM/part_scene_saved/0186/2/ins_info\n",
      "0168\n"
     ]
    },
    {
     "name": "stderr",
     "output_type": "stream",
     "text": [
      "100%|██████████| 1024/1024 [00:03<00:00, 258.74it/s]\n"
     ]
    },
    {
     "name": "stdout",
     "output_type": "stream",
     "text": [
      "Saved instance information and point cloud data to /home/wan/Workplace-why/Part-SAM/part_scene_saved/0168/0/ins_info\n"
     ]
    },
    {
     "name": "stderr",
     "output_type": "stream",
     "text": [
      "100%|██████████| 1024/1024 [00:04<00:00, 252.92it/s]\n"
     ]
    },
    {
     "name": "stdout",
     "output_type": "stream",
     "text": [
      "Saved instance information and point cloud data to /home/wan/Workplace-why/Part-SAM/part_scene_saved/0168/1/ins_info\n"
     ]
    },
    {
     "name": "stderr",
     "output_type": "stream",
     "text": [
      "100%|██████████| 1024/1024 [00:03<00:00, 261.46it/s]\n",
      "  8%|▊         | 25/300 [09:34<1:43:14, 22.53s/it]"
     ]
    },
    {
     "name": "stdout",
     "output_type": "stream",
     "text": [
      "Saved instance information and point cloud data to /home/wan/Workplace-why/Part-SAM/part_scene_saved/0168/2/ins_info\n",
      "0215\n"
     ]
    },
    {
     "name": "stderr",
     "output_type": "stream",
     "text": [
      "100%|██████████| 1024/1024 [00:03<00:00, 262.63it/s]\n"
     ]
    },
    {
     "name": "stdout",
     "output_type": "stream",
     "text": [
      "Saved instance information and point cloud data to /home/wan/Workplace-why/Part-SAM/part_scene_saved/0215/0/ins_info\n"
     ]
    },
    {
     "name": "stderr",
     "output_type": "stream",
     "text": [
      "100%|██████████| 1024/1024 [00:03<00:00, 261.81it/s]\n"
     ]
    },
    {
     "name": "stdout",
     "output_type": "stream",
     "text": [
      "Saved instance information and point cloud data to /home/wan/Workplace-why/Part-SAM/part_scene_saved/0215/1/ins_info\n"
     ]
    },
    {
     "name": "stderr",
     "output_type": "stream",
     "text": [
      "100%|██████████| 1024/1024 [00:03<00:00, 262.92it/s]\n",
      "  9%|▊         | 26/300 [09:56<1:42:32, 22.45s/it]"
     ]
    },
    {
     "name": "stdout",
     "output_type": "stream",
     "text": [
      "Saved instance information and point cloud data to /home/wan/Workplace-why/Part-SAM/part_scene_saved/0215/2/ins_info\n",
      "0255\n"
     ]
    },
    {
     "name": "stderr",
     "output_type": "stream",
     "text": [
      "100%|██████████| 1024/1024 [00:03<00:00, 263.99it/s]\n"
     ]
    },
    {
     "name": "stdout",
     "output_type": "stream",
     "text": [
      "Saved instance information and point cloud data to /home/wan/Workplace-why/Part-SAM/part_scene_saved/0255/0/ins_info\n"
     ]
    },
    {
     "name": "stderr",
     "output_type": "stream",
     "text": [
      "100%|██████████| 1024/1024 [00:03<00:00, 264.00it/s]\n"
     ]
    },
    {
     "name": "stdout",
     "output_type": "stream",
     "text": [
      "Saved instance information and point cloud data to /home/wan/Workplace-why/Part-SAM/part_scene_saved/0255/1/ins_info\n"
     ]
    },
    {
     "name": "stderr",
     "output_type": "stream",
     "text": [
      "100%|██████████| 1024/1024 [00:03<00:00, 261.06it/s]\n",
      "  9%|▉         | 27/300 [10:17<1:39:39, 21.90s/it]"
     ]
    },
    {
     "name": "stdout",
     "output_type": "stream",
     "text": [
      "Saved instance information and point cloud data to /home/wan/Workplace-why/Part-SAM/part_scene_saved/0255/2/ins_info\n",
      "0245\n"
     ]
    },
    {
     "name": "stderr",
     "output_type": "stream",
     "text": [
      "100%|██████████| 1024/1024 [00:03<00:00, 262.09it/s]\n"
     ]
    },
    {
     "name": "stdout",
     "output_type": "stream",
     "text": [
      "Saved instance information and point cloud data to /home/wan/Workplace-why/Part-SAM/part_scene_saved/0245/0/ins_info\n"
     ]
    },
    {
     "name": "stderr",
     "output_type": "stream",
     "text": [
      "100%|██████████| 1024/1024 [00:03<00:00, 262.23it/s]\n"
     ]
    },
    {
     "name": "stdout",
     "output_type": "stream",
     "text": [
      "Saved instance information and point cloud data to /home/wan/Workplace-why/Part-SAM/part_scene_saved/0245/1/ins_info\n"
     ]
    },
    {
     "name": "stderr",
     "output_type": "stream",
     "text": [
      "100%|██████████| 1024/1024 [00:03<00:00, 262.16it/s]\n",
      "  9%|▉         | 28/300 [10:39<1:39:36, 21.97s/it]"
     ]
    },
    {
     "name": "stdout",
     "output_type": "stream",
     "text": [
      "Saved instance information and point cloud data to /home/wan/Workplace-why/Part-SAM/part_scene_saved/0245/2/ins_info\n",
      "0206\n"
     ]
    },
    {
     "name": "stderr",
     "output_type": "stream",
     "text": [
      "100%|██████████| 1024/1024 [00:03<00:00, 263.77it/s]\n"
     ]
    },
    {
     "name": "stdout",
     "output_type": "stream",
     "text": [
      "Saved instance information and point cloud data to /home/wan/Workplace-why/Part-SAM/part_scene_saved/0206/0/ins_info\n"
     ]
    },
    {
     "name": "stderr",
     "output_type": "stream",
     "text": [
      "100%|██████████| 1024/1024 [00:03<00:00, 262.76it/s]\n"
     ]
    },
    {
     "name": "stdout",
     "output_type": "stream",
     "text": [
      "Saved instance information and point cloud data to /home/wan/Workplace-why/Part-SAM/part_scene_saved/0206/1/ins_info\n"
     ]
    },
    {
     "name": "stderr",
     "output_type": "stream",
     "text": [
      "100%|██████████| 1024/1024 [00:03<00:00, 263.26it/s]\n",
      " 10%|▉         | 29/300 [11:02<1:40:40, 22.29s/it]"
     ]
    },
    {
     "name": "stdout",
     "output_type": "stream",
     "text": [
      "Saved instance information and point cloud data to /home/wan/Workplace-why/Part-SAM/part_scene_saved/0206/2/ins_info\n",
      "0284\n"
     ]
    },
    {
     "name": "stderr",
     "output_type": "stream",
     "text": [
      "100%|██████████| 1024/1024 [00:03<00:00, 263.08it/s]\n"
     ]
    },
    {
     "name": "stdout",
     "output_type": "stream",
     "text": [
      "Saved instance information and point cloud data to /home/wan/Workplace-why/Part-SAM/part_scene_saved/0284/0/ins_info\n"
     ]
    },
    {
     "name": "stderr",
     "output_type": "stream",
     "text": [
      "100%|██████████| 1024/1024 [00:03<00:00, 262.15it/s]\n"
     ]
    },
    {
     "name": "stdout",
     "output_type": "stream",
     "text": [
      "Saved instance information and point cloud data to /home/wan/Workplace-why/Part-SAM/part_scene_saved/0284/1/ins_info\n"
     ]
    },
    {
     "name": "stderr",
     "output_type": "stream",
     "text": [
      "100%|██████████| 1024/1024 [00:03<00:00, 261.42it/s]\n",
      " 10%|█         | 30/300 [11:23<1:38:52, 21.97s/it]"
     ]
    },
    {
     "name": "stdout",
     "output_type": "stream",
     "text": [
      "Saved instance information and point cloud data to /home/wan/Workplace-why/Part-SAM/part_scene_saved/0284/2/ins_info\n",
      "0065\n"
     ]
    },
    {
     "name": "stderr",
     "output_type": "stream",
     "text": [
      "100%|██████████| 1024/1024 [00:03<00:00, 262.22it/s]\n"
     ]
    },
    {
     "name": "stdout",
     "output_type": "stream",
     "text": [
      "Saved instance information and point cloud data to /home/wan/Workplace-why/Part-SAM/part_scene_saved/0065/0/ins_info\n"
     ]
    },
    {
     "name": "stderr",
     "output_type": "stream",
     "text": [
      "100%|██████████| 1024/1024 [00:03<00:00, 261.47it/s]\n"
     ]
    },
    {
     "name": "stdout",
     "output_type": "stream",
     "text": [
      "Saved instance information and point cloud data to /home/wan/Workplace-why/Part-SAM/part_scene_saved/0065/1/ins_info\n"
     ]
    },
    {
     "name": "stderr",
     "output_type": "stream",
     "text": [
      "100%|██████████| 1024/1024 [00:03<00:00, 263.32it/s]\n",
      " 10%|█         | 31/300 [11:48<1:42:16, 22.81s/it]"
     ]
    },
    {
     "name": "stdout",
     "output_type": "stream",
     "text": [
      "Saved instance information and point cloud data to /home/wan/Workplace-why/Part-SAM/part_scene_saved/0065/2/ins_info\n",
      "0204\n"
     ]
    },
    {
     "name": "stderr",
     "output_type": "stream",
     "text": [
      "100%|██████████| 1024/1024 [00:03<00:00, 260.45it/s]\n"
     ]
    },
    {
     "name": "stdout",
     "output_type": "stream",
     "text": [
      "Saved instance information and point cloud data to /home/wan/Workplace-why/Part-SAM/part_scene_saved/0204/0/ins_info\n"
     ]
    },
    {
     "name": "stderr",
     "output_type": "stream",
     "text": [
      "100%|██████████| 1024/1024 [00:03<00:00, 262.78it/s]\n"
     ]
    },
    {
     "name": "stdout",
     "output_type": "stream",
     "text": [
      "Saved instance information and point cloud data to /home/wan/Workplace-why/Part-SAM/part_scene_saved/0204/1/ins_info\n"
     ]
    },
    {
     "name": "stderr",
     "output_type": "stream",
     "text": [
      "100%|██████████| 1024/1024 [00:03<00:00, 262.24it/s]\n",
      " 11%|█         | 32/300 [12:08<1:38:55, 22.15s/it]"
     ]
    },
    {
     "name": "stdout",
     "output_type": "stream",
     "text": [
      "Saved instance information and point cloud data to /home/wan/Workplace-why/Part-SAM/part_scene_saved/0204/2/ins_info\n",
      "0019\n"
     ]
    },
    {
     "name": "stderr",
     "output_type": "stream",
     "text": [
      "100%|██████████| 1024/1024 [00:03<00:00, 261.59it/s]\n"
     ]
    },
    {
     "name": "stdout",
     "output_type": "stream",
     "text": [
      "Saved instance information and point cloud data to /home/wan/Workplace-why/Part-SAM/part_scene_saved/0019/0/ins_info\n"
     ]
    },
    {
     "name": "stderr",
     "output_type": "stream",
     "text": [
      "100%|██████████| 1024/1024 [00:03<00:00, 262.87it/s]\n"
     ]
    },
    {
     "name": "stdout",
     "output_type": "stream",
     "text": [
      "Saved instance information and point cloud data to /home/wan/Workplace-why/Part-SAM/part_scene_saved/0019/1/ins_info\n"
     ]
    },
    {
     "name": "stderr",
     "output_type": "stream",
     "text": [
      "100%|██████████| 1024/1024 [00:03<00:00, 261.92it/s]\n",
      " 11%|█         | 33/300 [12:29<1:37:05, 21.82s/it]"
     ]
    },
    {
     "name": "stdout",
     "output_type": "stream",
     "text": [
      "Saved instance information and point cloud data to /home/wan/Workplace-why/Part-SAM/part_scene_saved/0019/2/ins_info\n",
      "0071\n"
     ]
    },
    {
     "name": "stderr",
     "output_type": "stream",
     "text": [
      "100%|██████████| 1024/1024 [00:03<00:00, 262.29it/s]\n"
     ]
    },
    {
     "name": "stdout",
     "output_type": "stream",
     "text": [
      "Saved instance information and point cloud data to /home/wan/Workplace-why/Part-SAM/part_scene_saved/0071/0/ins_info\n"
     ]
    },
    {
     "name": "stderr",
     "output_type": "stream",
     "text": [
      "100%|██████████| 1024/1024 [00:03<00:00, 262.49it/s]\n"
     ]
    },
    {
     "name": "stdout",
     "output_type": "stream",
     "text": [
      "Saved instance information and point cloud data to /home/wan/Workplace-why/Part-SAM/part_scene_saved/0071/1/ins_info\n"
     ]
    },
    {
     "name": "stderr",
     "output_type": "stream",
     "text": [
      "100%|██████████| 1024/1024 [00:03<00:00, 263.04it/s]\n",
      " 11%|█▏        | 34/300 [12:50<1:34:42, 21.36s/it]"
     ]
    },
    {
     "name": "stdout",
     "output_type": "stream",
     "text": [
      "Saved instance information and point cloud data to /home/wan/Workplace-why/Part-SAM/part_scene_saved/0071/2/ins_info\n",
      "0048\n"
     ]
    },
    {
     "name": "stderr",
     "output_type": "stream",
     "text": [
      "100%|██████████| 1024/1024 [00:03<00:00, 259.46it/s]\n"
     ]
    },
    {
     "name": "stdout",
     "output_type": "stream",
     "text": [
      "Saved instance information and point cloud data to /home/wan/Workplace-why/Part-SAM/part_scene_saved/0048/0/ins_info\n"
     ]
    },
    {
     "name": "stderr",
     "output_type": "stream",
     "text": [
      "100%|██████████| 1024/1024 [00:03<00:00, 260.46it/s]\n"
     ]
    },
    {
     "name": "stdout",
     "output_type": "stream",
     "text": [
      "Saved instance information and point cloud data to /home/wan/Workplace-why/Part-SAM/part_scene_saved/0048/1/ins_info\n"
     ]
    },
    {
     "name": "stderr",
     "output_type": "stream",
     "text": [
      "100%|██████████| 1024/1024 [00:03<00:00, 262.64it/s]\n",
      " 12%|█▏        | 35/300 [13:11<1:33:41, 21.21s/it]"
     ]
    },
    {
     "name": "stdout",
     "output_type": "stream",
     "text": [
      "Saved instance information and point cloud data to /home/wan/Workplace-why/Part-SAM/part_scene_saved/0048/2/ins_info\n",
      "0250\n"
     ]
    },
    {
     "name": "stderr",
     "output_type": "stream",
     "text": [
      "100%|██████████| 1024/1024 [00:03<00:00, 261.59it/s]\n"
     ]
    },
    {
     "name": "stdout",
     "output_type": "stream",
     "text": [
      "Saved instance information and point cloud data to /home/wan/Workplace-why/Part-SAM/part_scene_saved/0250/0/ins_info\n"
     ]
    },
    {
     "name": "stderr",
     "output_type": "stream",
     "text": [
      "100%|██████████| 1024/1024 [00:03<00:00, 263.30it/s]\n"
     ]
    },
    {
     "name": "stdout",
     "output_type": "stream",
     "text": [
      "Saved instance information and point cloud data to /home/wan/Workplace-why/Part-SAM/part_scene_saved/0250/1/ins_info\n"
     ]
    },
    {
     "name": "stderr",
     "output_type": "stream",
     "text": [
      "100%|██████████| 1024/1024 [00:03<00:00, 262.19it/s]\n",
      " 12%|█▏        | 36/300 [13:32<1:33:05, 21.16s/it]"
     ]
    },
    {
     "name": "stdout",
     "output_type": "stream",
     "text": [
      "Saved instance information and point cloud data to /home/wan/Workplace-why/Part-SAM/part_scene_saved/0250/2/ins_info\n",
      "0111\n"
     ]
    },
    {
     "name": "stderr",
     "output_type": "stream",
     "text": [
      "100%|██████████| 1024/1024 [00:03<00:00, 260.71it/s]\n"
     ]
    },
    {
     "name": "stdout",
     "output_type": "stream",
     "text": [
      "Saved instance information and point cloud data to /home/wan/Workplace-why/Part-SAM/part_scene_saved/0111/0/ins_info\n"
     ]
    },
    {
     "name": "stderr",
     "output_type": "stream",
     "text": [
      "100%|██████████| 1024/1024 [00:03<00:00, 263.23it/s]\n"
     ]
    },
    {
     "name": "stdout",
     "output_type": "stream",
     "text": [
      "Saved instance information and point cloud data to /home/wan/Workplace-why/Part-SAM/part_scene_saved/0111/1/ins_info\n"
     ]
    },
    {
     "name": "stderr",
     "output_type": "stream",
     "text": [
      "100%|██████████| 1024/1024 [00:03<00:00, 262.92it/s]\n",
      " 12%|█▏        | 37/300 [13:52<1:32:19, 21.06s/it]"
     ]
    },
    {
     "name": "stdout",
     "output_type": "stream",
     "text": [
      "Saved instance information and point cloud data to /home/wan/Workplace-why/Part-SAM/part_scene_saved/0111/2/ins_info\n",
      "0242\n"
     ]
    },
    {
     "name": "stderr",
     "output_type": "stream",
     "text": [
      "100%|██████████| 1024/1024 [00:03<00:00, 262.80it/s]\n"
     ]
    },
    {
     "name": "stdout",
     "output_type": "stream",
     "text": [
      "Saved instance information and point cloud data to /home/wan/Workplace-why/Part-SAM/part_scene_saved/0242/0/ins_info\n"
     ]
    },
    {
     "name": "stderr",
     "output_type": "stream",
     "text": [
      "100%|██████████| 1024/1024 [00:03<00:00, 262.85it/s]\n"
     ]
    },
    {
     "name": "stdout",
     "output_type": "stream",
     "text": [
      "Saved instance information and point cloud data to /home/wan/Workplace-why/Part-SAM/part_scene_saved/0242/1/ins_info\n"
     ]
    },
    {
     "name": "stderr",
     "output_type": "stream",
     "text": [
      "100%|██████████| 1024/1024 [00:03<00:00, 263.61it/s]\n",
      " 13%|█▎        | 38/300 [14:13<1:31:37, 20.98s/it]"
     ]
    },
    {
     "name": "stdout",
     "output_type": "stream",
     "text": [
      "Saved instance information and point cloud data to /home/wan/Workplace-why/Part-SAM/part_scene_saved/0242/2/ins_info\n",
      "0044\n"
     ]
    },
    {
     "name": "stderr",
     "output_type": "stream",
     "text": [
      "100%|██████████| 1024/1024 [00:03<00:00, 262.37it/s]\n"
     ]
    },
    {
     "name": "stdout",
     "output_type": "stream",
     "text": [
      "Saved instance information and point cloud data to /home/wan/Workplace-why/Part-SAM/part_scene_saved/0044/0/ins_info\n"
     ]
    },
    {
     "name": "stderr",
     "output_type": "stream",
     "text": [
      "100%|██████████| 1024/1024 [00:03<00:00, 262.08it/s]\n"
     ]
    },
    {
     "name": "stdout",
     "output_type": "stream",
     "text": [
      "Saved instance information and point cloud data to /home/wan/Workplace-why/Part-SAM/part_scene_saved/0044/1/ins_info\n"
     ]
    },
    {
     "name": "stderr",
     "output_type": "stream",
     "text": [
      "100%|██████████| 1024/1024 [00:03<00:00, 262.44it/s]\n",
      " 13%|█▎        | 39/300 [14:34<1:30:28, 20.80s/it]"
     ]
    },
    {
     "name": "stdout",
     "output_type": "stream",
     "text": [
      "Saved instance information and point cloud data to /home/wan/Workplace-why/Part-SAM/part_scene_saved/0044/2/ins_info\n",
      "0193\n"
     ]
    },
    {
     "name": "stderr",
     "output_type": "stream",
     "text": [
      "100%|██████████| 1024/1024 [00:03<00:00, 262.89it/s]\n"
     ]
    },
    {
     "name": "stdout",
     "output_type": "stream",
     "text": [
      "Saved instance information and point cloud data to /home/wan/Workplace-why/Part-SAM/part_scene_saved/0193/0/ins_info\n"
     ]
    },
    {
     "name": "stderr",
     "output_type": "stream",
     "text": [
      "100%|██████████| 1024/1024 [00:03<00:00, 262.34it/s]\n"
     ]
    },
    {
     "name": "stdout",
     "output_type": "stream",
     "text": [
      "Saved instance information and point cloud data to /home/wan/Workplace-why/Part-SAM/part_scene_saved/0193/1/ins_info\n"
     ]
    },
    {
     "name": "stderr",
     "output_type": "stream",
     "text": [
      "100%|██████████| 1024/1024 [00:03<00:00, 262.71it/s]\n",
      " 13%|█▎        | 40/300 [14:55<1:31:21, 21.08s/it]"
     ]
    },
    {
     "name": "stdout",
     "output_type": "stream",
     "text": [
      "Saved instance information and point cloud data to /home/wan/Workplace-why/Part-SAM/part_scene_saved/0193/2/ins_info\n",
      "0182\n"
     ]
    },
    {
     "name": "stderr",
     "output_type": "stream",
     "text": [
      "100%|██████████| 1024/1024 [00:03<00:00, 262.51it/s]\n"
     ]
    },
    {
     "name": "stdout",
     "output_type": "stream",
     "text": [
      "Saved instance information and point cloud data to /home/wan/Workplace-why/Part-SAM/part_scene_saved/0182/0/ins_info\n"
     ]
    },
    {
     "name": "stderr",
     "output_type": "stream",
     "text": [
      "100%|██████████| 1024/1024 [00:03<00:00, 256.74it/s]\n"
     ]
    },
    {
     "name": "stdout",
     "output_type": "stream",
     "text": [
      "Saved instance information and point cloud data to /home/wan/Workplace-why/Part-SAM/part_scene_saved/0182/1/ins_info\n"
     ]
    },
    {
     "name": "stderr",
     "output_type": "stream",
     "text": [
      "100%|██████████| 1024/1024 [00:04<00:00, 254.51it/s]\n",
      " 14%|█▎        | 41/300 [15:17<1:31:46, 21.26s/it]"
     ]
    },
    {
     "name": "stdout",
     "output_type": "stream",
     "text": [
      "Saved instance information and point cloud data to /home/wan/Workplace-why/Part-SAM/part_scene_saved/0182/2/ins_info\n",
      "0078\n"
     ]
    },
    {
     "name": "stderr",
     "output_type": "stream",
     "text": [
      "100%|██████████| 1024/1024 [00:03<00:00, 263.16it/s]\n"
     ]
    },
    {
     "name": "stdout",
     "output_type": "stream",
     "text": [
      "Saved instance information and point cloud data to /home/wan/Workplace-why/Part-SAM/part_scene_saved/0078/0/ins_info\n"
     ]
    },
    {
     "name": "stderr",
     "output_type": "stream",
     "text": [
      "100%|██████████| 1024/1024 [00:03<00:00, 260.69it/s]\n"
     ]
    },
    {
     "name": "stdout",
     "output_type": "stream",
     "text": [
      "Saved instance information and point cloud data to /home/wan/Workplace-why/Part-SAM/part_scene_saved/0078/1/ins_info\n"
     ]
    },
    {
     "name": "stderr",
     "output_type": "stream",
     "text": [
      "100%|██████████| 1024/1024 [00:03<00:00, 261.13it/s]\n",
      " 14%|█▍        | 42/300 [15:46<1:42:01, 23.73s/it]"
     ]
    },
    {
     "name": "stdout",
     "output_type": "stream",
     "text": [
      "Saved instance information and point cloud data to /home/wan/Workplace-why/Part-SAM/part_scene_saved/0078/2/ins_info\n",
      "0056\n"
     ]
    },
    {
     "name": "stderr",
     "output_type": "stream",
     "text": [
      "100%|██████████| 1024/1024 [00:03<00:00, 260.52it/s]\n"
     ]
    },
    {
     "name": "stdout",
     "output_type": "stream",
     "text": [
      "Saved instance information and point cloud data to /home/wan/Workplace-why/Part-SAM/part_scene_saved/0056/0/ins_info\n"
     ]
    },
    {
     "name": "stderr",
     "output_type": "stream",
     "text": [
      "100%|██████████| 1024/1024 [00:03<00:00, 261.87it/s]\n"
     ]
    },
    {
     "name": "stdout",
     "output_type": "stream",
     "text": [
      "Saved instance information and point cloud data to /home/wan/Workplace-why/Part-SAM/part_scene_saved/0056/1/ins_info\n"
     ]
    },
    {
     "name": "stderr",
     "output_type": "stream",
     "text": [
      "100%|██████████| 1024/1024 [00:03<00:00, 262.80it/s]\n",
      " 14%|█▍        | 43/300 [16:12<1:43:20, 24.13s/it]"
     ]
    },
    {
     "name": "stdout",
     "output_type": "stream",
     "text": [
      "Saved instance information and point cloud data to /home/wan/Workplace-why/Part-SAM/part_scene_saved/0056/2/ins_info\n",
      "0239\n"
     ]
    },
    {
     "name": "stderr",
     "output_type": "stream",
     "text": [
      "100%|██████████| 1024/1024 [00:03<00:00, 262.47it/s]\n"
     ]
    },
    {
     "name": "stdout",
     "output_type": "stream",
     "text": [
      "Saved instance information and point cloud data to /home/wan/Workplace-why/Part-SAM/part_scene_saved/0239/0/ins_info\n"
     ]
    },
    {
     "name": "stderr",
     "output_type": "stream",
     "text": [
      "100%|██████████| 1024/1024 [00:03<00:00, 261.39it/s]\n"
     ]
    },
    {
     "name": "stdout",
     "output_type": "stream",
     "text": [
      "Saved instance information and point cloud data to /home/wan/Workplace-why/Part-SAM/part_scene_saved/0239/1/ins_info\n"
     ]
    },
    {
     "name": "stderr",
     "output_type": "stream",
     "text": [
      "100%|██████████| 1024/1024 [00:03<00:00, 262.45it/s]\n",
      " 15%|█▍        | 44/300 [16:32<1:38:32, 23.10s/it]"
     ]
    },
    {
     "name": "stdout",
     "output_type": "stream",
     "text": [
      "Saved instance information and point cloud data to /home/wan/Workplace-why/Part-SAM/part_scene_saved/0239/2/ins_info\n",
      "0094\n"
     ]
    },
    {
     "name": "stderr",
     "output_type": "stream",
     "text": [
      "100%|██████████| 1024/1024 [00:03<00:00, 258.86it/s]\n"
     ]
    },
    {
     "name": "stdout",
     "output_type": "stream",
     "text": [
      "Saved instance information and point cloud data to /home/wan/Workplace-why/Part-SAM/part_scene_saved/0094/0/ins_info\n"
     ]
    },
    {
     "name": "stderr",
     "output_type": "stream",
     "text": [
      "100%|██████████| 1024/1024 [00:03<00:00, 259.49it/s]\n"
     ]
    },
    {
     "name": "stdout",
     "output_type": "stream",
     "text": [
      "Saved instance information and point cloud data to /home/wan/Workplace-why/Part-SAM/part_scene_saved/0094/1/ins_info\n"
     ]
    },
    {
     "name": "stderr",
     "output_type": "stream",
     "text": [
      "100%|██████████| 1024/1024 [00:03<00:00, 259.17it/s]\n",
      " 15%|█▌        | 45/300 [16:57<1:39:58, 23.52s/it]"
     ]
    },
    {
     "name": "stdout",
     "output_type": "stream",
     "text": [
      "Saved instance information and point cloud data to /home/wan/Workplace-why/Part-SAM/part_scene_saved/0094/2/ins_info\n",
      "0295\n"
     ]
    },
    {
     "name": "stderr",
     "output_type": "stream",
     "text": [
      "100%|██████████| 1024/1024 [00:03<00:00, 262.62it/s]\n"
     ]
    },
    {
     "name": "stdout",
     "output_type": "stream",
     "text": [
      "Saved instance information and point cloud data to /home/wan/Workplace-why/Part-SAM/part_scene_saved/0295/0/ins_info\n"
     ]
    },
    {
     "name": "stderr",
     "output_type": "stream",
     "text": [
      "100%|██████████| 1024/1024 [00:03<00:00, 263.57it/s]\n"
     ]
    },
    {
     "name": "stdout",
     "output_type": "stream",
     "text": [
      "Saved instance information and point cloud data to /home/wan/Workplace-why/Part-SAM/part_scene_saved/0295/1/ins_info\n"
     ]
    },
    {
     "name": "stderr",
     "output_type": "stream",
     "text": [
      "100%|██████████| 1024/1024 [00:03<00:00, 259.46it/s]\n",
      " 15%|█▌        | 46/300 [17:26<1:46:21, 25.12s/it]"
     ]
    },
    {
     "name": "stdout",
     "output_type": "stream",
     "text": [
      "Saved instance information and point cloud data to /home/wan/Workplace-why/Part-SAM/part_scene_saved/0295/2/ins_info\n",
      "0042\n"
     ]
    },
    {
     "name": "stderr",
     "output_type": "stream",
     "text": [
      "100%|██████████| 1024/1024 [00:03<00:00, 262.65it/s]\n"
     ]
    },
    {
     "name": "stdout",
     "output_type": "stream",
     "text": [
      "Saved instance information and point cloud data to /home/wan/Workplace-why/Part-SAM/part_scene_saved/0042/0/ins_info\n"
     ]
    },
    {
     "name": "stderr",
     "output_type": "stream",
     "text": [
      "100%|██████████| 1024/1024 [00:03<00:00, 262.44it/s]\n"
     ]
    },
    {
     "name": "stdout",
     "output_type": "stream",
     "text": [
      "Saved instance information and point cloud data to /home/wan/Workplace-why/Part-SAM/part_scene_saved/0042/1/ins_info\n"
     ]
    },
    {
     "name": "stderr",
     "output_type": "stream",
     "text": [
      "100%|██████████| 1024/1024 [00:03<00:00, 260.99it/s]\n",
      " 16%|█▌        | 47/300 [17:52<1:47:07, 25.40s/it]"
     ]
    },
    {
     "name": "stdout",
     "output_type": "stream",
     "text": [
      "Saved instance information and point cloud data to /home/wan/Workplace-why/Part-SAM/part_scene_saved/0042/2/ins_info\n",
      "0184\n"
     ]
    },
    {
     "name": "stderr",
     "output_type": "stream",
     "text": [
      "100%|██████████| 1024/1024 [00:03<00:00, 261.68it/s]\n"
     ]
    },
    {
     "name": "stdout",
     "output_type": "stream",
     "text": [
      "Saved instance information and point cloud data to /home/wan/Workplace-why/Part-SAM/part_scene_saved/0184/0/ins_info\n"
     ]
    },
    {
     "name": "stderr",
     "output_type": "stream",
     "text": [
      "100%|██████████| 1024/1024 [00:03<00:00, 262.02it/s]\n"
     ]
    },
    {
     "name": "stdout",
     "output_type": "stream",
     "text": [
      "Saved instance information and point cloud data to /home/wan/Workplace-why/Part-SAM/part_scene_saved/0184/1/ins_info\n"
     ]
    },
    {
     "name": "stderr",
     "output_type": "stream",
     "text": [
      "100%|██████████| 1024/1024 [00:03<00:00, 261.76it/s]\n",
      " 16%|█▌        | 48/300 [18:17<1:46:16, 25.30s/it]"
     ]
    },
    {
     "name": "stdout",
     "output_type": "stream",
     "text": [
      "Saved instance information and point cloud data to /home/wan/Workplace-why/Part-SAM/part_scene_saved/0184/2/ins_info\n",
      "0229\n"
     ]
    },
    {
     "name": "stderr",
     "output_type": "stream",
     "text": [
      "100%|██████████| 1024/1024 [00:03<00:00, 260.36it/s]\n"
     ]
    },
    {
     "name": "stdout",
     "output_type": "stream",
     "text": [
      "Saved instance information and point cloud data to /home/wan/Workplace-why/Part-SAM/part_scene_saved/0229/0/ins_info\n"
     ]
    },
    {
     "name": "stderr",
     "output_type": "stream",
     "text": [
      "100%|██████████| 1024/1024 [00:03<00:00, 260.86it/s]\n"
     ]
    },
    {
     "name": "stdout",
     "output_type": "stream",
     "text": [
      "Saved instance information and point cloud data to /home/wan/Workplace-why/Part-SAM/part_scene_saved/0229/1/ins_info\n"
     ]
    },
    {
     "name": "stderr",
     "output_type": "stream",
     "text": [
      "100%|██████████| 1024/1024 [00:03<00:00, 261.51it/s]\n",
      " 16%|█▋        | 49/300 [18:38<1:40:48, 24.10s/it]"
     ]
    },
    {
     "name": "stdout",
     "output_type": "stream",
     "text": [
      "Saved instance information and point cloud data to /home/wan/Workplace-why/Part-SAM/part_scene_saved/0229/2/ins_info\n",
      "0238\n"
     ]
    },
    {
     "name": "stderr",
     "output_type": "stream",
     "text": [
      "100%|██████████| 1024/1024 [00:03<00:00, 262.11it/s]\n"
     ]
    },
    {
     "name": "stdout",
     "output_type": "stream",
     "text": [
      "Saved instance information and point cloud data to /home/wan/Workplace-why/Part-SAM/part_scene_saved/0238/0/ins_info\n"
     ]
    },
    {
     "name": "stderr",
     "output_type": "stream",
     "text": [
      "100%|██████████| 1024/1024 [00:03<00:00, 261.02it/s]\n"
     ]
    },
    {
     "name": "stdout",
     "output_type": "stream",
     "text": [
      "Saved instance information and point cloud data to /home/wan/Workplace-why/Part-SAM/part_scene_saved/0238/1/ins_info\n"
     ]
    },
    {
     "name": "stderr",
     "output_type": "stream",
     "text": [
      "100%|██████████| 1024/1024 [00:03<00:00, 260.20it/s]\n",
      " 17%|█▋        | 50/300 [19:05<1:43:37, 24.87s/it]"
     ]
    },
    {
     "name": "stdout",
     "output_type": "stream",
     "text": [
      "Saved instance information and point cloud data to /home/wan/Workplace-why/Part-SAM/part_scene_saved/0238/2/ins_info\n",
      "0063\n"
     ]
    },
    {
     "name": "stderr",
     "output_type": "stream",
     "text": [
      "100%|██████████| 1024/1024 [00:03<00:00, 261.59it/s]\n"
     ]
    },
    {
     "name": "stdout",
     "output_type": "stream",
     "text": [
      "Saved instance information and point cloud data to /home/wan/Workplace-why/Part-SAM/part_scene_saved/0063/0/ins_info\n"
     ]
    },
    {
     "name": "stderr",
     "output_type": "stream",
     "text": [
      "100%|██████████| 1024/1024 [00:03<00:00, 261.72it/s]\n"
     ]
    },
    {
     "name": "stdout",
     "output_type": "stream",
     "text": [
      "Saved instance information and point cloud data to /home/wan/Workplace-why/Part-SAM/part_scene_saved/0063/1/ins_info\n"
     ]
    },
    {
     "name": "stderr",
     "output_type": "stream",
     "text": [
      "100%|██████████| 1024/1024 [00:03<00:00, 260.14it/s]\n",
      " 17%|█▋        | 51/300 [19:26<1:39:06, 23.88s/it]"
     ]
    },
    {
     "name": "stdout",
     "output_type": "stream",
     "text": [
      "Saved instance information and point cloud data to /home/wan/Workplace-why/Part-SAM/part_scene_saved/0063/2/ins_info\n",
      "0051\n"
     ]
    },
    {
     "name": "stderr",
     "output_type": "stream",
     "text": [
      "100%|██████████| 1024/1024 [00:03<00:00, 260.34it/s]\n"
     ]
    },
    {
     "name": "stdout",
     "output_type": "stream",
     "text": [
      "Saved instance information and point cloud data to /home/wan/Workplace-why/Part-SAM/part_scene_saved/0051/0/ins_info\n"
     ]
    },
    {
     "name": "stderr",
     "output_type": "stream",
     "text": [
      "100%|██████████| 1024/1024 [00:03<00:00, 263.59it/s]\n"
     ]
    },
    {
     "name": "stdout",
     "output_type": "stream",
     "text": [
      "Saved instance information and point cloud data to /home/wan/Workplace-why/Part-SAM/part_scene_saved/0051/1/ins_info\n"
     ]
    },
    {
     "name": "stderr",
     "output_type": "stream",
     "text": [
      "100%|██████████| 1024/1024 [00:03<00:00, 263.65it/s]\n",
      " 17%|█▋        | 52/300 [19:47<1:35:04, 23.00s/it]"
     ]
    },
    {
     "name": "stdout",
     "output_type": "stream",
     "text": [
      "Saved instance information and point cloud data to /home/wan/Workplace-why/Part-SAM/part_scene_saved/0051/2/ins_info\n",
      "0228\n"
     ]
    },
    {
     "name": "stderr",
     "output_type": "stream",
     "text": [
      "100%|██████████| 1024/1024 [00:03<00:00, 262.78it/s]\n"
     ]
    },
    {
     "name": "stdout",
     "output_type": "stream",
     "text": [
      "Saved instance information and point cloud data to /home/wan/Workplace-why/Part-SAM/part_scene_saved/0228/0/ins_info\n"
     ]
    },
    {
     "name": "stderr",
     "output_type": "stream",
     "text": [
      "100%|██████████| 1024/1024 [00:03<00:00, 262.37it/s]\n"
     ]
    },
    {
     "name": "stdout",
     "output_type": "stream",
     "text": [
      "Saved instance information and point cloud data to /home/wan/Workplace-why/Part-SAM/part_scene_saved/0228/1/ins_info\n"
     ]
    },
    {
     "name": "stderr",
     "output_type": "stream",
     "text": [
      "100%|██████████| 1024/1024 [00:03<00:00, 263.26it/s]\n",
      " 18%|█▊        | 53/300 [20:08<1:32:08, 22.38s/it]"
     ]
    },
    {
     "name": "stdout",
     "output_type": "stream",
     "text": [
      "Saved instance information and point cloud data to /home/wan/Workplace-why/Part-SAM/part_scene_saved/0228/2/ins_info\n",
      "0275\n"
     ]
    },
    {
     "name": "stderr",
     "output_type": "stream",
     "text": [
      "100%|██████████| 1024/1024 [00:03<00:00, 262.80it/s]\n"
     ]
    },
    {
     "name": "stdout",
     "output_type": "stream",
     "text": [
      "Saved instance information and point cloud data to /home/wan/Workplace-why/Part-SAM/part_scene_saved/0275/0/ins_info\n"
     ]
    },
    {
     "name": "stderr",
     "output_type": "stream",
     "text": [
      "100%|██████████| 1024/1024 [00:03<00:00, 262.83it/s]\n"
     ]
    },
    {
     "name": "stdout",
     "output_type": "stream",
     "text": [
      "Saved instance information and point cloud data to /home/wan/Workplace-why/Part-SAM/part_scene_saved/0275/1/ins_info\n"
     ]
    },
    {
     "name": "stderr",
     "output_type": "stream",
     "text": [
      "100%|██████████| 1024/1024 [00:03<00:00, 261.94it/s]\n",
      " 18%|█▊        | 54/300 [20:32<1:34:05, 22.95s/it]"
     ]
    },
    {
     "name": "stdout",
     "output_type": "stream",
     "text": [
      "Saved instance information and point cloud data to /home/wan/Workplace-why/Part-SAM/part_scene_saved/0275/2/ins_info\n",
      "0041\n"
     ]
    },
    {
     "name": "stderr",
     "output_type": "stream",
     "text": [
      "100%|██████████| 1024/1024 [00:03<00:00, 262.78it/s]\n"
     ]
    },
    {
     "name": "stdout",
     "output_type": "stream",
     "text": [
      "Saved instance information and point cloud data to /home/wan/Workplace-why/Part-SAM/part_scene_saved/0041/0/ins_info\n"
     ]
    },
    {
     "name": "stderr",
     "output_type": "stream",
     "text": [
      "100%|██████████| 1024/1024 [00:03<00:00, 261.56it/s]\n"
     ]
    },
    {
     "name": "stdout",
     "output_type": "stream",
     "text": [
      "Saved instance information and point cloud data to /home/wan/Workplace-why/Part-SAM/part_scene_saved/0041/1/ins_info\n"
     ]
    },
    {
     "name": "stderr",
     "output_type": "stream",
     "text": [
      "100%|██████████| 1024/1024 [00:03<00:00, 261.27it/s]\n",
      " 18%|█▊        | 55/300 [20:55<1:33:05, 22.80s/it]"
     ]
    },
    {
     "name": "stdout",
     "output_type": "stream",
     "text": [
      "Saved instance information and point cloud data to /home/wan/Workplace-why/Part-SAM/part_scene_saved/0041/2/ins_info\n",
      "0022\n"
     ]
    },
    {
     "name": "stderr",
     "output_type": "stream",
     "text": [
      "100%|██████████| 1024/1024 [00:03<00:00, 260.31it/s]\n"
     ]
    },
    {
     "name": "stdout",
     "output_type": "stream",
     "text": [
      "Saved instance information and point cloud data to /home/wan/Workplace-why/Part-SAM/part_scene_saved/0022/0/ins_info\n"
     ]
    },
    {
     "name": "stderr",
     "output_type": "stream",
     "text": [
      "100%|██████████| 1024/1024 [00:03<00:00, 261.43it/s]\n"
     ]
    },
    {
     "name": "stdout",
     "output_type": "stream",
     "text": [
      "Saved instance information and point cloud data to /home/wan/Workplace-why/Part-SAM/part_scene_saved/0022/1/ins_info\n"
     ]
    },
    {
     "name": "stderr",
     "output_type": "stream",
     "text": [
      "100%|██████████| 1024/1024 [00:03<00:00, 261.18it/s]\n",
      " 19%|█▊        | 56/300 [21:19<1:34:08, 23.15s/it]"
     ]
    },
    {
     "name": "stdout",
     "output_type": "stream",
     "text": [
      "Saved instance information and point cloud data to /home/wan/Workplace-why/Part-SAM/part_scene_saved/0022/2/ins_info\n",
      "0199\n"
     ]
    },
    {
     "name": "stderr",
     "output_type": "stream",
     "text": [
      "100%|██████████| 1024/1024 [00:03<00:00, 261.28it/s]\n"
     ]
    },
    {
     "name": "stdout",
     "output_type": "stream",
     "text": [
      "Saved instance information and point cloud data to /home/wan/Workplace-why/Part-SAM/part_scene_saved/0199/0/ins_info\n"
     ]
    },
    {
     "name": "stderr",
     "output_type": "stream",
     "text": [
      "100%|██████████| 1024/1024 [00:03<00:00, 261.07it/s]\n"
     ]
    },
    {
     "name": "stdout",
     "output_type": "stream",
     "text": [
      "Saved instance information and point cloud data to /home/wan/Workplace-why/Part-SAM/part_scene_saved/0199/1/ins_info\n"
     ]
    },
    {
     "name": "stderr",
     "output_type": "stream",
     "text": [
      "100%|██████████| 1024/1024 [00:03<00:00, 263.01it/s]\n",
      " 19%|█▉        | 57/300 [21:43<1:35:29, 23.58s/it]"
     ]
    },
    {
     "name": "stdout",
     "output_type": "stream",
     "text": [
      "Saved instance information and point cloud data to /home/wan/Workplace-why/Part-SAM/part_scene_saved/0199/2/ins_info\n",
      "0271\n"
     ]
    },
    {
     "name": "stderr",
     "output_type": "stream",
     "text": [
      "100%|██████████| 1024/1024 [00:03<00:00, 261.28it/s]\n"
     ]
    },
    {
     "name": "stdout",
     "output_type": "stream",
     "text": [
      "Saved instance information and point cloud data to /home/wan/Workplace-why/Part-SAM/part_scene_saved/0271/0/ins_info\n"
     ]
    },
    {
     "name": "stderr",
     "output_type": "stream",
     "text": [
      "100%|██████████| 1024/1024 [00:03<00:00, 260.03it/s]\n"
     ]
    },
    {
     "name": "stdout",
     "output_type": "stream",
     "text": [
      "Saved instance information and point cloud data to /home/wan/Workplace-why/Part-SAM/part_scene_saved/0271/1/ins_info\n"
     ]
    },
    {
     "name": "stderr",
     "output_type": "stream",
     "text": [
      "100%|██████████| 1024/1024 [00:03<00:00, 261.20it/s]\n",
      " 19%|█▉        | 58/300 [22:05<1:32:57, 23.05s/it]"
     ]
    },
    {
     "name": "stdout",
     "output_type": "stream",
     "text": [
      "Saved instance information and point cloud data to /home/wan/Workplace-why/Part-SAM/part_scene_saved/0271/2/ins_info\n",
      "0152\n"
     ]
    },
    {
     "name": "stderr",
     "output_type": "stream",
     "text": [
      "100%|██████████| 1024/1024 [00:03<00:00, 262.75it/s]\n"
     ]
    },
    {
     "name": "stdout",
     "output_type": "stream",
     "text": [
      "Saved instance information and point cloud data to /home/wan/Workplace-why/Part-SAM/part_scene_saved/0152/0/ins_info\n"
     ]
    },
    {
     "name": "stderr",
     "output_type": "stream",
     "text": [
      "100%|██████████| 1024/1024 [00:03<00:00, 261.18it/s]\n"
     ]
    },
    {
     "name": "stdout",
     "output_type": "stream",
     "text": [
      "Saved instance information and point cloud data to /home/wan/Workplace-why/Part-SAM/part_scene_saved/0152/1/ins_info\n"
     ]
    },
    {
     "name": "stderr",
     "output_type": "stream",
     "text": [
      "100%|██████████| 1024/1024 [00:03<00:00, 259.89it/s]\n",
      " 20%|█▉        | 59/300 [22:27<1:30:36, 22.56s/it]"
     ]
    },
    {
     "name": "stdout",
     "output_type": "stream",
     "text": [
      "Saved instance information and point cloud data to /home/wan/Workplace-why/Part-SAM/part_scene_saved/0152/2/ins_info\n",
      "0113\n"
     ]
    },
    {
     "name": "stderr",
     "output_type": "stream",
     "text": [
      "100%|██████████| 1024/1024 [00:03<00:00, 259.64it/s]\n"
     ]
    },
    {
     "name": "stdout",
     "output_type": "stream",
     "text": [
      "Saved instance information and point cloud data to /home/wan/Workplace-why/Part-SAM/part_scene_saved/0113/0/ins_info\n"
     ]
    },
    {
     "name": "stderr",
     "output_type": "stream",
     "text": [
      "100%|██████████| 1024/1024 [00:03<00:00, 261.20it/s]\n"
     ]
    },
    {
     "name": "stdout",
     "output_type": "stream",
     "text": [
      "Saved instance information and point cloud data to /home/wan/Workplace-why/Part-SAM/part_scene_saved/0113/1/ins_info\n"
     ]
    },
    {
     "name": "stderr",
     "output_type": "stream",
     "text": [
      "100%|██████████| 1024/1024 [00:03<00:00, 261.55it/s]\n",
      " 20%|██        | 60/300 [22:53<1:34:23, 23.60s/it]"
     ]
    },
    {
     "name": "stdout",
     "output_type": "stream",
     "text": [
      "Saved instance information and point cloud data to /home/wan/Workplace-why/Part-SAM/part_scene_saved/0113/2/ins_info\n",
      "0014\n"
     ]
    },
    {
     "name": "stderr",
     "output_type": "stream",
     "text": [
      "100%|██████████| 1024/1024 [00:04<00:00, 253.28it/s]\n"
     ]
    },
    {
     "name": "stdout",
     "output_type": "stream",
     "text": [
      "Saved instance information and point cloud data to /home/wan/Workplace-why/Part-SAM/part_scene_saved/0014/0/ins_info\n"
     ]
    },
    {
     "name": "stderr",
     "output_type": "stream",
     "text": [
      "100%|██████████| 1024/1024 [00:03<00:00, 261.71it/s]\n"
     ]
    },
    {
     "name": "stdout",
     "output_type": "stream",
     "text": [
      "Saved instance information and point cloud data to /home/wan/Workplace-why/Part-SAM/part_scene_saved/0014/1/ins_info\n"
     ]
    },
    {
     "name": "stderr",
     "output_type": "stream",
     "text": [
      "100%|██████████| 1024/1024 [00:03<00:00, 257.36it/s]\n",
      " 20%|██        | 61/300 [23:13<1:30:24, 22.69s/it]"
     ]
    },
    {
     "name": "stdout",
     "output_type": "stream",
     "text": [
      "Saved instance information and point cloud data to /home/wan/Workplace-why/Part-SAM/part_scene_saved/0014/2/ins_info\n",
      "0054\n"
     ]
    },
    {
     "name": "stderr",
     "output_type": "stream",
     "text": [
      "100%|██████████| 1024/1024 [00:03<00:00, 260.96it/s]\n"
     ]
    },
    {
     "name": "stdout",
     "output_type": "stream",
     "text": [
      "Saved instance information and point cloud data to /home/wan/Workplace-why/Part-SAM/part_scene_saved/0054/0/ins_info\n"
     ]
    },
    {
     "name": "stderr",
     "output_type": "stream",
     "text": [
      "100%|██████████| 1024/1024 [00:03<00:00, 261.56it/s]\n"
     ]
    },
    {
     "name": "stdout",
     "output_type": "stream",
     "text": [
      "Saved instance information and point cloud data to /home/wan/Workplace-why/Part-SAM/part_scene_saved/0054/1/ins_info\n"
     ]
    },
    {
     "name": "stderr",
     "output_type": "stream",
     "text": [
      "100%|██████████| 1024/1024 [00:03<00:00, 262.02it/s]\n",
      " 21%|██        | 62/300 [23:34<1:27:51, 22.15s/it]"
     ]
    },
    {
     "name": "stdout",
     "output_type": "stream",
     "text": [
      "Saved instance information and point cloud data to /home/wan/Workplace-why/Part-SAM/part_scene_saved/0054/2/ins_info\n",
      "0052\n"
     ]
    },
    {
     "name": "stderr",
     "output_type": "stream",
     "text": [
      "100%|██████████| 1024/1024 [00:03<00:00, 261.27it/s]\n"
     ]
    },
    {
     "name": "stdout",
     "output_type": "stream",
     "text": [
      "Saved instance information and point cloud data to /home/wan/Workplace-why/Part-SAM/part_scene_saved/0052/0/ins_info\n"
     ]
    },
    {
     "name": "stderr",
     "output_type": "stream",
     "text": [
      "100%|██████████| 1024/1024 [00:03<00:00, 260.41it/s]\n"
     ]
    },
    {
     "name": "stdout",
     "output_type": "stream",
     "text": [
      "Saved instance information and point cloud data to /home/wan/Workplace-why/Part-SAM/part_scene_saved/0052/1/ins_info\n"
     ]
    },
    {
     "name": "stderr",
     "output_type": "stream",
     "text": [
      "100%|██████████| 1024/1024 [00:03<00:00, 261.12it/s]\n",
      " 21%|██        | 63/300 [23:55<1:25:42, 21.70s/it]"
     ]
    },
    {
     "name": "stdout",
     "output_type": "stream",
     "text": [
      "Saved instance information and point cloud data to /home/wan/Workplace-why/Part-SAM/part_scene_saved/0052/2/ins_info\n",
      "0064\n"
     ]
    },
    {
     "name": "stderr",
     "output_type": "stream",
     "text": [
      "100%|██████████| 1024/1024 [00:03<00:00, 261.76it/s]\n"
     ]
    },
    {
     "name": "stdout",
     "output_type": "stream",
     "text": [
      "Saved instance information and point cloud data to /home/wan/Workplace-why/Part-SAM/part_scene_saved/0064/0/ins_info\n"
     ]
    },
    {
     "name": "stderr",
     "output_type": "stream",
     "text": [
      "100%|██████████| 1024/1024 [00:03<00:00, 262.05it/s]\n"
     ]
    },
    {
     "name": "stdout",
     "output_type": "stream",
     "text": [
      "Saved instance information and point cloud data to /home/wan/Workplace-why/Part-SAM/part_scene_saved/0064/1/ins_info\n"
     ]
    },
    {
     "name": "stderr",
     "output_type": "stream",
     "text": [
      "100%|██████████| 1024/1024 [00:03<00:00, 261.52it/s]\n",
      " 21%|██▏       | 64/300 [24:21<1:30:20, 22.97s/it]"
     ]
    },
    {
     "name": "stdout",
     "output_type": "stream",
     "text": [
      "Saved instance information and point cloud data to /home/wan/Workplace-why/Part-SAM/part_scene_saved/0064/2/ins_info\n",
      "0053\n"
     ]
    },
    {
     "name": "stderr",
     "output_type": "stream",
     "text": [
      "100%|██████████| 1024/1024 [00:03<00:00, 261.56it/s]\n"
     ]
    },
    {
     "name": "stdout",
     "output_type": "stream",
     "text": [
      "Saved instance information and point cloud data to /home/wan/Workplace-why/Part-SAM/part_scene_saved/0053/0/ins_info\n"
     ]
    },
    {
     "name": "stderr",
     "output_type": "stream",
     "text": [
      "100%|██████████| 1024/1024 [00:03<00:00, 259.61it/s]\n"
     ]
    },
    {
     "name": "stdout",
     "output_type": "stream",
     "text": [
      "Saved instance information and point cloud data to /home/wan/Workplace-why/Part-SAM/part_scene_saved/0053/1/ins_info\n"
     ]
    },
    {
     "name": "stderr",
     "output_type": "stream",
     "text": [
      "100%|██████████| 1024/1024 [00:03<00:00, 261.53it/s]\n",
      " 22%|██▏       | 65/300 [24:42<1:27:28, 22.33s/it]"
     ]
    },
    {
     "name": "stdout",
     "output_type": "stream",
     "text": [
      "Saved instance information and point cloud data to /home/wan/Workplace-why/Part-SAM/part_scene_saved/0053/2/ins_info\n",
      "0082\n"
     ]
    },
    {
     "name": "stderr",
     "output_type": "stream",
     "text": [
      "100%|██████████| 1024/1024 [00:03<00:00, 259.80it/s]\n"
     ]
    },
    {
     "name": "stdout",
     "output_type": "stream",
     "text": [
      "Saved instance information and point cloud data to /home/wan/Workplace-why/Part-SAM/part_scene_saved/0082/0/ins_info\n"
     ]
    },
    {
     "name": "stderr",
     "output_type": "stream",
     "text": [
      "100%|██████████| 1024/1024 [00:03<00:00, 260.78it/s]\n"
     ]
    },
    {
     "name": "stdout",
     "output_type": "stream",
     "text": [
      "Saved instance information and point cloud data to /home/wan/Workplace-why/Part-SAM/part_scene_saved/0082/1/ins_info\n"
     ]
    },
    {
     "name": "stderr",
     "output_type": "stream",
     "text": [
      "100%|██████████| 1024/1024 [00:03<00:00, 261.36it/s]\n",
      " 22%|██▏       | 66/300 [25:04<1:27:41, 22.48s/it]"
     ]
    },
    {
     "name": "stdout",
     "output_type": "stream",
     "text": [
      "Saved instance information and point cloud data to /home/wan/Workplace-why/Part-SAM/part_scene_saved/0082/2/ins_info\n",
      "0240\n"
     ]
    },
    {
     "name": "stderr",
     "output_type": "stream",
     "text": [
      "100%|██████████| 1024/1024 [00:03<00:00, 261.52it/s]\n"
     ]
    },
    {
     "name": "stdout",
     "output_type": "stream",
     "text": [
      "Saved instance information and point cloud data to /home/wan/Workplace-why/Part-SAM/part_scene_saved/0240/0/ins_info\n"
     ]
    },
    {
     "name": "stderr",
     "output_type": "stream",
     "text": [
      "100%|██████████| 1024/1024 [00:03<00:00, 261.11it/s]\n"
     ]
    },
    {
     "name": "stdout",
     "output_type": "stream",
     "text": [
      "Saved instance information and point cloud data to /home/wan/Workplace-why/Part-SAM/part_scene_saved/0240/1/ins_info\n"
     ]
    },
    {
     "name": "stderr",
     "output_type": "stream",
     "text": [
      "100%|██████████| 1024/1024 [00:03<00:00, 260.86it/s]\n",
      " 22%|██▏       | 67/300 [25:25<1:25:14, 21.95s/it]"
     ]
    },
    {
     "name": "stdout",
     "output_type": "stream",
     "text": [
      "Saved instance information and point cloud data to /home/wan/Workplace-why/Part-SAM/part_scene_saved/0240/2/ins_info\n",
      "0176\n"
     ]
    },
    {
     "name": "stderr",
     "output_type": "stream",
     "text": [
      "100%|██████████| 1024/1024 [00:03<00:00, 260.30it/s]\n"
     ]
    },
    {
     "name": "stdout",
     "output_type": "stream",
     "text": [
      "Saved instance information and point cloud data to /home/wan/Workplace-why/Part-SAM/part_scene_saved/0176/0/ins_info\n"
     ]
    },
    {
     "name": "stderr",
     "output_type": "stream",
     "text": [
      "100%|██████████| 1024/1024 [00:03<00:00, 261.10it/s]\n"
     ]
    },
    {
     "name": "stdout",
     "output_type": "stream",
     "text": [
      "Saved instance information and point cloud data to /home/wan/Workplace-why/Part-SAM/part_scene_saved/0176/1/ins_info\n"
     ]
    },
    {
     "name": "stderr",
     "output_type": "stream",
     "text": [
      "100%|██████████| 1024/1024 [00:03<00:00, 261.93it/s]\n",
      " 23%|██▎       | 68/300 [25:50<1:28:04, 22.78s/it]"
     ]
    },
    {
     "name": "stdout",
     "output_type": "stream",
     "text": [
      "Saved instance information and point cloud data to /home/wan/Workplace-why/Part-SAM/part_scene_saved/0176/2/ins_info\n",
      "0097\n"
     ]
    },
    {
     "name": "stderr",
     "output_type": "stream",
     "text": [
      "100%|██████████| 1024/1024 [00:03<00:00, 260.10it/s]\n"
     ]
    },
    {
     "name": "stdout",
     "output_type": "stream",
     "text": [
      "Saved instance information and point cloud data to /home/wan/Workplace-why/Part-SAM/part_scene_saved/0097/0/ins_info\n"
     ]
    },
    {
     "name": "stderr",
     "output_type": "stream",
     "text": [
      "100%|██████████| 1024/1024 [00:03<00:00, 260.53it/s]\n"
     ]
    },
    {
     "name": "stdout",
     "output_type": "stream",
     "text": [
      "Saved instance information and point cloud data to /home/wan/Workplace-why/Part-SAM/part_scene_saved/0097/1/ins_info\n"
     ]
    },
    {
     "name": "stderr",
     "output_type": "stream",
     "text": [
      "100%|██████████| 1024/1024 [00:03<00:00, 261.68it/s]\n",
      " 23%|██▎       | 69/300 [26:11<1:26:14, 22.40s/it]"
     ]
    },
    {
     "name": "stdout",
     "output_type": "stream",
     "text": [
      "Saved instance information and point cloud data to /home/wan/Workplace-why/Part-SAM/part_scene_saved/0097/2/ins_info\n",
      "0069\n"
     ]
    },
    {
     "name": "stderr",
     "output_type": "stream",
     "text": [
      "100%|██████████| 1024/1024 [00:03<00:00, 261.77it/s]\n"
     ]
    },
    {
     "name": "stdout",
     "output_type": "stream",
     "text": [
      "Saved instance information and point cloud data to /home/wan/Workplace-why/Part-SAM/part_scene_saved/0069/0/ins_info\n"
     ]
    },
    {
     "name": "stderr",
     "output_type": "stream",
     "text": [
      "100%|██████████| 1024/1024 [00:03<00:00, 260.02it/s]\n"
     ]
    },
    {
     "name": "stdout",
     "output_type": "stream",
     "text": [
      "Saved instance information and point cloud data to /home/wan/Workplace-why/Part-SAM/part_scene_saved/0069/1/ins_info\n"
     ]
    },
    {
     "name": "stderr",
     "output_type": "stream",
     "text": [
      "100%|██████████| 1024/1024 [00:03<00:00, 261.82it/s]\n",
      " 23%|██▎       | 70/300 [26:35<1:27:16, 22.77s/it]"
     ]
    },
    {
     "name": "stdout",
     "output_type": "stream",
     "text": [
      "Saved instance information and point cloud data to /home/wan/Workplace-why/Part-SAM/part_scene_saved/0069/2/ins_info\n",
      "0191\n"
     ]
    },
    {
     "name": "stderr",
     "output_type": "stream",
     "text": [
      "100%|██████████| 1024/1024 [00:03<00:00, 260.74it/s]\n"
     ]
    },
    {
     "name": "stdout",
     "output_type": "stream",
     "text": [
      "Saved instance information and point cloud data to /home/wan/Workplace-why/Part-SAM/part_scene_saved/0191/0/ins_info\n"
     ]
    },
    {
     "name": "stderr",
     "output_type": "stream",
     "text": [
      "100%|██████████| 1024/1024 [00:03<00:00, 261.54it/s]\n"
     ]
    },
    {
     "name": "stdout",
     "output_type": "stream",
     "text": [
      "Saved instance information and point cloud data to /home/wan/Workplace-why/Part-SAM/part_scene_saved/0191/1/ins_info\n"
     ]
    },
    {
     "name": "stderr",
     "output_type": "stream",
     "text": [
      "100%|██████████| 1024/1024 [00:03<00:00, 258.70it/s]\n",
      " 24%|██▎       | 71/300 [27:04<1:33:43, 24.56s/it]"
     ]
    },
    {
     "name": "stdout",
     "output_type": "stream",
     "text": [
      "Saved instance information and point cloud data to /home/wan/Workplace-why/Part-SAM/part_scene_saved/0191/2/ins_info\n",
      "0159\n"
     ]
    },
    {
     "name": "stderr",
     "output_type": "stream",
     "text": [
      "100%|██████████| 1024/1024 [00:03<00:00, 259.94it/s]\n"
     ]
    },
    {
     "name": "stdout",
     "output_type": "stream",
     "text": [
      "Saved instance information and point cloud data to /home/wan/Workplace-why/Part-SAM/part_scene_saved/0159/0/ins_info\n"
     ]
    },
    {
     "name": "stderr",
     "output_type": "stream",
     "text": [
      "100%|██████████| 1024/1024 [00:03<00:00, 259.88it/s]\n"
     ]
    },
    {
     "name": "stdout",
     "output_type": "stream",
     "text": [
      "Saved instance information and point cloud data to /home/wan/Workplace-why/Part-SAM/part_scene_saved/0159/1/ins_info\n"
     ]
    },
    {
     "name": "stderr",
     "output_type": "stream",
     "text": [
      "100%|██████████| 1024/1024 [00:03<00:00, 260.54it/s]\n",
      " 24%|██▍       | 72/300 [27:25<1:29:22, 23.52s/it]"
     ]
    },
    {
     "name": "stdout",
     "output_type": "stream",
     "text": [
      "Saved instance information and point cloud data to /home/wan/Workplace-why/Part-SAM/part_scene_saved/0159/2/ins_info\n",
      "0232\n"
     ]
    },
    {
     "name": "stderr",
     "output_type": "stream",
     "text": [
      "100%|██████████| 1024/1024 [00:03<00:00, 259.26it/s]\n"
     ]
    },
    {
     "name": "stdout",
     "output_type": "stream",
     "text": [
      "Saved instance information and point cloud data to /home/wan/Workplace-why/Part-SAM/part_scene_saved/0232/0/ins_info\n"
     ]
    },
    {
     "name": "stderr",
     "output_type": "stream",
     "text": [
      "100%|██████████| 1024/1024 [00:03<00:00, 262.19it/s]\n"
     ]
    },
    {
     "name": "stdout",
     "output_type": "stream",
     "text": [
      "Saved instance information and point cloud data to /home/wan/Workplace-why/Part-SAM/part_scene_saved/0232/1/ins_info\n"
     ]
    },
    {
     "name": "stderr",
     "output_type": "stream",
     "text": [
      "100%|██████████| 1024/1024 [00:03<00:00, 261.35it/s]\n",
      " 24%|██▍       | 73/300 [27:51<1:31:53, 24.29s/it]"
     ]
    },
    {
     "name": "stdout",
     "output_type": "stream",
     "text": [
      "Saved instance information and point cloud data to /home/wan/Workplace-why/Part-SAM/part_scene_saved/0232/2/ins_info\n",
      "0150\n"
     ]
    },
    {
     "name": "stderr",
     "output_type": "stream",
     "text": [
      "100%|██████████| 1024/1024 [00:03<00:00, 261.39it/s]\n"
     ]
    },
    {
     "name": "stdout",
     "output_type": "stream",
     "text": [
      "Saved instance information and point cloud data to /home/wan/Workplace-why/Part-SAM/part_scene_saved/0150/0/ins_info\n"
     ]
    },
    {
     "name": "stderr",
     "output_type": "stream",
     "text": [
      "100%|██████████| 1024/1024 [00:03<00:00, 259.73it/s]\n"
     ]
    },
    {
     "name": "stdout",
     "output_type": "stream",
     "text": [
      "Saved instance information and point cloud data to /home/wan/Workplace-why/Part-SAM/part_scene_saved/0150/1/ins_info\n"
     ]
    },
    {
     "name": "stderr",
     "output_type": "stream",
     "text": [
      "100%|██████████| 1024/1024 [00:03<00:00, 260.60it/s]\n",
      " 25%|██▍       | 74/300 [28:12<1:28:26, 23.48s/it]"
     ]
    },
    {
     "name": "stdout",
     "output_type": "stream",
     "text": [
      "Saved instance information and point cloud data to /home/wan/Workplace-why/Part-SAM/part_scene_saved/0150/2/ins_info\n",
      "0104\n"
     ]
    },
    {
     "name": "stderr",
     "output_type": "stream",
     "text": [
      "100%|██████████| 1024/1024 [00:03<00:00, 259.40it/s]\n"
     ]
    },
    {
     "name": "stdout",
     "output_type": "stream",
     "text": [
      "Saved instance information and point cloud data to /home/wan/Workplace-why/Part-SAM/part_scene_saved/0104/0/ins_info\n"
     ]
    },
    {
     "name": "stderr",
     "output_type": "stream",
     "text": [
      "100%|██████████| 1024/1024 [00:03<00:00, 260.39it/s]\n"
     ]
    },
    {
     "name": "stdout",
     "output_type": "stream",
     "text": [
      "Saved instance information and point cloud data to /home/wan/Workplace-why/Part-SAM/part_scene_saved/0104/1/ins_info\n"
     ]
    },
    {
     "name": "stderr",
     "output_type": "stream",
     "text": [
      "100%|██████████| 1024/1024 [00:03<00:00, 262.29it/s]\n",
      " 25%|██▌       | 75/300 [28:42<1:34:28, 25.19s/it]"
     ]
    },
    {
     "name": "stdout",
     "output_type": "stream",
     "text": [
      "Saved instance information and point cloud data to /home/wan/Workplace-why/Part-SAM/part_scene_saved/0104/2/ins_info\n",
      "0083\n"
     ]
    },
    {
     "name": "stderr",
     "output_type": "stream",
     "text": [
      "100%|██████████| 1024/1024 [00:03<00:00, 262.77it/s]\n"
     ]
    },
    {
     "name": "stdout",
     "output_type": "stream",
     "text": [
      "Saved instance information and point cloud data to /home/wan/Workplace-why/Part-SAM/part_scene_saved/0083/0/ins_info\n"
     ]
    },
    {
     "name": "stderr",
     "output_type": "stream",
     "text": [
      "100%|██████████| 1024/1024 [00:03<00:00, 263.55it/s]\n"
     ]
    },
    {
     "name": "stdout",
     "output_type": "stream",
     "text": [
      "Saved instance information and point cloud data to /home/wan/Workplace-why/Part-SAM/part_scene_saved/0083/1/ins_info\n"
     ]
    },
    {
     "name": "stderr",
     "output_type": "stream",
     "text": [
      "100%|██████████| 1024/1024 [00:03<00:00, 260.67it/s]\n",
      " 25%|██▌       | 76/300 [29:02<1:28:33, 23.72s/it]"
     ]
    },
    {
     "name": "stdout",
     "output_type": "stream",
     "text": [
      "Saved instance information and point cloud data to /home/wan/Workplace-why/Part-SAM/part_scene_saved/0083/2/ins_info\n",
      "0246\n"
     ]
    },
    {
     "name": "stderr",
     "output_type": "stream",
     "text": [
      "100%|██████████| 1024/1024 [00:03<00:00, 259.66it/s]\n"
     ]
    },
    {
     "name": "stdout",
     "output_type": "stream",
     "text": [
      "Saved instance information and point cloud data to /home/wan/Workplace-why/Part-SAM/part_scene_saved/0246/0/ins_info\n"
     ]
    },
    {
     "name": "stderr",
     "output_type": "stream",
     "text": [
      "100%|██████████| 1024/1024 [00:03<00:00, 262.73it/s]\n"
     ]
    },
    {
     "name": "stdout",
     "output_type": "stream",
     "text": [
      "Saved instance information and point cloud data to /home/wan/Workplace-why/Part-SAM/part_scene_saved/0246/1/ins_info\n"
     ]
    },
    {
     "name": "stderr",
     "output_type": "stream",
     "text": [
      "100%|██████████| 1024/1024 [00:03<00:00, 257.14it/s]\n",
      " 26%|██▌       | 77/300 [29:23<1:25:14, 22.94s/it]"
     ]
    },
    {
     "name": "stdout",
     "output_type": "stream",
     "text": [
      "Saved instance information and point cloud data to /home/wan/Workplace-why/Part-SAM/part_scene_saved/0246/2/ins_info\n",
      "0025\n"
     ]
    },
    {
     "name": "stderr",
     "output_type": "stream",
     "text": [
      "100%|██████████| 1024/1024 [00:03<00:00, 258.33it/s]\n"
     ]
    },
    {
     "name": "stdout",
     "output_type": "stream",
     "text": [
      "Saved instance information and point cloud data to /home/wan/Workplace-why/Part-SAM/part_scene_saved/0025/0/ins_info\n"
     ]
    },
    {
     "name": "stderr",
     "output_type": "stream",
     "text": [
      "100%|██████████| 1024/1024 [00:04<00:00, 252.70it/s]\n"
     ]
    },
    {
     "name": "stdout",
     "output_type": "stream",
     "text": [
      "Saved instance information and point cloud data to /home/wan/Workplace-why/Part-SAM/part_scene_saved/0025/1/ins_info\n"
     ]
    },
    {
     "name": "stderr",
     "output_type": "stream",
     "text": [
      "100%|██████████| 1024/1024 [00:04<00:00, 254.85it/s]\n",
      " 26%|██▌       | 78/300 [29:48<1:27:18, 23.60s/it]"
     ]
    },
    {
     "name": "stdout",
     "output_type": "stream",
     "text": [
      "Saved instance information and point cloud data to /home/wan/Workplace-why/Part-SAM/part_scene_saved/0025/2/ins_info\n",
      "0230\n"
     ]
    },
    {
     "name": "stderr",
     "output_type": "stream",
     "text": [
      "100%|██████████| 1024/1024 [00:03<00:00, 257.28it/s]\n"
     ]
    },
    {
     "name": "stdout",
     "output_type": "stream",
     "text": [
      "Saved instance information and point cloud data to /home/wan/Workplace-why/Part-SAM/part_scene_saved/0230/0/ins_info\n"
     ]
    },
    {
     "name": "stderr",
     "output_type": "stream",
     "text": [
      "100%|██████████| 1024/1024 [00:03<00:00, 259.99it/s]\n"
     ]
    },
    {
     "name": "stdout",
     "output_type": "stream",
     "text": [
      "Saved instance information and point cloud data to /home/wan/Workplace-why/Part-SAM/part_scene_saved/0230/1/ins_info\n"
     ]
    },
    {
     "name": "stderr",
     "output_type": "stream",
     "text": [
      "100%|██████████| 1024/1024 [00:04<00:00, 251.33it/s]\n",
      " 26%|██▋       | 79/300 [30:20<1:35:37, 25.96s/it]"
     ]
    },
    {
     "name": "stdout",
     "output_type": "stream",
     "text": [
      "Saved instance information and point cloud data to /home/wan/Workplace-why/Part-SAM/part_scene_saved/0230/2/ins_info\n",
      "0248\n"
     ]
    },
    {
     "name": "stderr",
     "output_type": "stream",
     "text": [
      "100%|██████████| 1024/1024 [00:03<00:00, 260.05it/s]\n"
     ]
    },
    {
     "name": "stdout",
     "output_type": "stream",
     "text": [
      "Saved instance information and point cloud data to /home/wan/Workplace-why/Part-SAM/part_scene_saved/0248/0/ins_info\n"
     ]
    },
    {
     "name": "stderr",
     "output_type": "stream",
     "text": [
      "100%|██████████| 1024/1024 [00:03<00:00, 258.48it/s]\n"
     ]
    },
    {
     "name": "stdout",
     "output_type": "stream",
     "text": [
      "Saved instance information and point cloud data to /home/wan/Workplace-why/Part-SAM/part_scene_saved/0248/1/ins_info\n"
     ]
    },
    {
     "name": "stderr",
     "output_type": "stream",
     "text": [
      "100%|██████████| 1024/1024 [00:03<00:00, 258.85it/s]\n",
      " 27%|██▋       | 80/300 [30:41<1:30:39, 24.72s/it]"
     ]
    },
    {
     "name": "stdout",
     "output_type": "stream",
     "text": [
      "Saved instance information and point cloud data to /home/wan/Workplace-why/Part-SAM/part_scene_saved/0248/2/ins_info\n",
      "0024\n"
     ]
    },
    {
     "name": "stderr",
     "output_type": "stream",
     "text": [
      "100%|██████████| 1024/1024 [00:03<00:00, 260.66it/s]\n"
     ]
    },
    {
     "name": "stdout",
     "output_type": "stream",
     "text": [
      "Saved instance information and point cloud data to /home/wan/Workplace-why/Part-SAM/part_scene_saved/0024/0/ins_info\n"
     ]
    },
    {
     "name": "stderr",
     "output_type": "stream",
     "text": [
      "100%|██████████| 1024/1024 [00:03<00:00, 261.39it/s]\n"
     ]
    },
    {
     "name": "stdout",
     "output_type": "stream",
     "text": [
      "Saved instance information and point cloud data to /home/wan/Workplace-why/Part-SAM/part_scene_saved/0024/1/ins_info\n"
     ]
    },
    {
     "name": "stderr",
     "output_type": "stream",
     "text": [
      "100%|██████████| 1024/1024 [00:03<00:00, 262.74it/s]\n",
      " 27%|██▋       | 81/300 [31:04<1:28:15, 24.18s/it]"
     ]
    },
    {
     "name": "stdout",
     "output_type": "stream",
     "text": [
      "Saved instance information and point cloud data to /home/wan/Workplace-why/Part-SAM/part_scene_saved/0024/2/ins_info\n",
      "0143\n"
     ]
    },
    {
     "name": "stderr",
     "output_type": "stream",
     "text": [
      "100%|██████████| 1024/1024 [00:03<00:00, 259.37it/s]\n"
     ]
    },
    {
     "name": "stdout",
     "output_type": "stream",
     "text": [
      "Saved instance information and point cloud data to /home/wan/Workplace-why/Part-SAM/part_scene_saved/0143/0/ins_info\n"
     ]
    },
    {
     "name": "stderr",
     "output_type": "stream",
     "text": [
      "100%|██████████| 1024/1024 [00:03<00:00, 258.28it/s]\n"
     ]
    },
    {
     "name": "stdout",
     "output_type": "stream",
     "text": [
      "Saved instance information and point cloud data to /home/wan/Workplace-why/Part-SAM/part_scene_saved/0143/1/ins_info\n"
     ]
    },
    {
     "name": "stderr",
     "output_type": "stream",
     "text": [
      "100%|██████████| 1024/1024 [00:03<00:00, 259.19it/s]\n",
      " 27%|██▋       | 82/300 [31:25<1:24:26, 23.24s/it]"
     ]
    },
    {
     "name": "stdout",
     "output_type": "stream",
     "text": [
      "Saved instance information and point cloud data to /home/wan/Workplace-why/Part-SAM/part_scene_saved/0143/2/ins_info\n",
      "0149\n"
     ]
    },
    {
     "name": "stderr",
     "output_type": "stream",
     "text": [
      "100%|██████████| 1024/1024 [00:03<00:00, 258.39it/s]\n"
     ]
    },
    {
     "name": "stdout",
     "output_type": "stream",
     "text": [
      "Saved instance information and point cloud data to /home/wan/Workplace-why/Part-SAM/part_scene_saved/0149/0/ins_info\n"
     ]
    },
    {
     "name": "stderr",
     "output_type": "stream",
     "text": [
      "100%|██████████| 1024/1024 [00:03<00:00, 259.82it/s]\n"
     ]
    },
    {
     "name": "stdout",
     "output_type": "stream",
     "text": [
      "Saved instance information and point cloud data to /home/wan/Workplace-why/Part-SAM/part_scene_saved/0149/1/ins_info\n"
     ]
    },
    {
     "name": "stderr",
     "output_type": "stream",
     "text": [
      "100%|██████████| 1024/1024 [00:03<00:00, 258.70it/s]\n",
      " 28%|██▊       | 83/300 [31:47<1:22:18, 22.76s/it]"
     ]
    },
    {
     "name": "stdout",
     "output_type": "stream",
     "text": [
      "Saved instance information and point cloud data to /home/wan/Workplace-why/Part-SAM/part_scene_saved/0149/2/ins_info\n",
      "0231\n"
     ]
    },
    {
     "name": "stderr",
     "output_type": "stream",
     "text": [
      "100%|██████████| 1024/1024 [00:03<00:00, 258.88it/s]\n"
     ]
    },
    {
     "name": "stdout",
     "output_type": "stream",
     "text": [
      "Saved instance information and point cloud data to /home/wan/Workplace-why/Part-SAM/part_scene_saved/0231/0/ins_info\n"
     ]
    },
    {
     "name": "stderr",
     "output_type": "stream",
     "text": [
      "100%|██████████| 1024/1024 [00:03<00:00, 259.86it/s]\n"
     ]
    },
    {
     "name": "stdout",
     "output_type": "stream",
     "text": [
      "Saved instance information and point cloud data to /home/wan/Workplace-why/Part-SAM/part_scene_saved/0231/1/ins_info\n"
     ]
    },
    {
     "name": "stderr",
     "output_type": "stream",
     "text": [
      "100%|██████████| 1024/1024 [00:03<00:00, 260.09it/s]\n",
      " 28%|██▊       | 84/300 [32:09<1:20:32, 22.37s/it]"
     ]
    },
    {
     "name": "stdout",
     "output_type": "stream",
     "text": [
      "Saved instance information and point cloud data to /home/wan/Workplace-why/Part-SAM/part_scene_saved/0231/2/ins_info\n",
      "0220\n"
     ]
    },
    {
     "name": "stderr",
     "output_type": "stream",
     "text": [
      "100%|██████████| 1024/1024 [00:03<00:00, 262.06it/s]\n"
     ]
    },
    {
     "name": "stdout",
     "output_type": "stream",
     "text": [
      "Saved instance information and point cloud data to /home/wan/Workplace-why/Part-SAM/part_scene_saved/0220/0/ins_info\n"
     ]
    },
    {
     "name": "stderr",
     "output_type": "stream",
     "text": [
      "100%|██████████| 1024/1024 [00:03<00:00, 260.00it/s]\n"
     ]
    },
    {
     "name": "stdout",
     "output_type": "stream",
     "text": [
      "Saved instance information and point cloud data to /home/wan/Workplace-why/Part-SAM/part_scene_saved/0220/1/ins_info\n"
     ]
    },
    {
     "name": "stderr",
     "output_type": "stream",
     "text": [
      "100%|██████████| 1024/1024 [00:03<00:00, 261.18it/s]\n",
      " 28%|██▊       | 85/300 [32:29<1:18:27, 21.89s/it]"
     ]
    },
    {
     "name": "stdout",
     "output_type": "stream",
     "text": [
      "Saved instance information and point cloud data to /home/wan/Workplace-why/Part-SAM/part_scene_saved/0220/2/ins_info\n",
      "0103\n"
     ]
    },
    {
     "name": "stderr",
     "output_type": "stream",
     "text": [
      "100%|██████████| 1024/1024 [00:03<00:00, 260.40it/s]\n"
     ]
    },
    {
     "name": "stdout",
     "output_type": "stream",
     "text": [
      "Saved instance information and point cloud data to /home/wan/Workplace-why/Part-SAM/part_scene_saved/0103/0/ins_info\n"
     ]
    },
    {
     "name": "stderr",
     "output_type": "stream",
     "text": [
      "100%|██████████| 1024/1024 [00:03<00:00, 258.59it/s]\n"
     ]
    },
    {
     "name": "stdout",
     "output_type": "stream",
     "text": [
      "Saved instance information and point cloud data to /home/wan/Workplace-why/Part-SAM/part_scene_saved/0103/1/ins_info\n"
     ]
    },
    {
     "name": "stderr",
     "output_type": "stream",
     "text": [
      "100%|██████████| 1024/1024 [00:03<00:00, 259.17it/s]\n",
      " 29%|██▊       | 86/300 [32:54<1:21:20, 22.81s/it]"
     ]
    },
    {
     "name": "stdout",
     "output_type": "stream",
     "text": [
      "Saved instance information and point cloud data to /home/wan/Workplace-why/Part-SAM/part_scene_saved/0103/2/ins_info\n",
      "0233\n"
     ]
    },
    {
     "name": "stderr",
     "output_type": "stream",
     "text": [
      "100%|██████████| 1024/1024 [00:03<00:00, 259.17it/s]\n"
     ]
    },
    {
     "name": "stdout",
     "output_type": "stream",
     "text": [
      "Saved instance information and point cloud data to /home/wan/Workplace-why/Part-SAM/part_scene_saved/0233/0/ins_info\n"
     ]
    },
    {
     "name": "stderr",
     "output_type": "stream",
     "text": [
      "100%|██████████| 1024/1024 [00:03<00:00, 260.64it/s]\n"
     ]
    },
    {
     "name": "stdout",
     "output_type": "stream",
     "text": [
      "Saved instance information and point cloud data to /home/wan/Workplace-why/Part-SAM/part_scene_saved/0233/1/ins_info\n"
     ]
    },
    {
     "name": "stderr",
     "output_type": "stream",
     "text": [
      "100%|██████████| 1024/1024 [00:03<00:00, 259.71it/s]\n",
      " 29%|██▉       | 87/300 [33:15<1:18:51, 22.21s/it]"
     ]
    },
    {
     "name": "stdout",
     "output_type": "stream",
     "text": [
      "Saved instance information and point cloud data to /home/wan/Workplace-why/Part-SAM/part_scene_saved/0233/2/ins_info\n",
      "0283\n"
     ]
    },
    {
     "name": "stderr",
     "output_type": "stream",
     "text": [
      "100%|██████████| 1024/1024 [00:03<00:00, 257.80it/s]\n"
     ]
    },
    {
     "name": "stdout",
     "output_type": "stream",
     "text": [
      "Saved instance information and point cloud data to /home/wan/Workplace-why/Part-SAM/part_scene_saved/0283/0/ins_info\n"
     ]
    },
    {
     "name": "stderr",
     "output_type": "stream",
     "text": [
      "100%|██████████| 1024/1024 [00:04<00:00, 255.15it/s]\n"
     ]
    },
    {
     "name": "stdout",
     "output_type": "stream",
     "text": [
      "Saved instance information and point cloud data to /home/wan/Workplace-why/Part-SAM/part_scene_saved/0283/1/ins_info\n"
     ]
    },
    {
     "name": "stderr",
     "output_type": "stream",
     "text": [
      "100%|██████████| 1024/1024 [00:03<00:00, 258.97it/s]\n",
      " 29%|██▉       | 88/300 [33:37<1:18:12, 22.13s/it]"
     ]
    },
    {
     "name": "stdout",
     "output_type": "stream",
     "text": [
      "Saved instance information and point cloud data to /home/wan/Workplace-why/Part-SAM/part_scene_saved/0283/2/ins_info\n",
      "0267\n"
     ]
    },
    {
     "name": "stderr",
     "output_type": "stream",
     "text": [
      "100%|██████████| 1024/1024 [00:03<00:00, 259.33it/s]\n"
     ]
    },
    {
     "name": "stdout",
     "output_type": "stream",
     "text": [
      "Saved instance information and point cloud data to /home/wan/Workplace-why/Part-SAM/part_scene_saved/0267/0/ins_info\n"
     ]
    },
    {
     "name": "stderr",
     "output_type": "stream",
     "text": [
      "100%|██████████| 1024/1024 [00:03<00:00, 259.85it/s]\n"
     ]
    },
    {
     "name": "stdout",
     "output_type": "stream",
     "text": [
      "Saved instance information and point cloud data to /home/wan/Workplace-why/Part-SAM/part_scene_saved/0267/1/ins_info\n"
     ]
    },
    {
     "name": "stderr",
     "output_type": "stream",
     "text": [
      "100%|██████████| 1024/1024 [00:03<00:00, 259.06it/s]\n",
      " 30%|██▉       | 89/300 [34:00<1:18:25, 22.30s/it]"
     ]
    },
    {
     "name": "stdout",
     "output_type": "stream",
     "text": [
      "Saved instance information and point cloud data to /home/wan/Workplace-why/Part-SAM/part_scene_saved/0267/2/ins_info\n",
      "0288\n"
     ]
    },
    {
     "name": "stderr",
     "output_type": "stream",
     "text": [
      "100%|██████████| 1024/1024 [00:03<00:00, 259.60it/s]\n"
     ]
    },
    {
     "name": "stdout",
     "output_type": "stream",
     "text": [
      "Saved instance information and point cloud data to /home/wan/Workplace-why/Part-SAM/part_scene_saved/0288/0/ins_info\n"
     ]
    },
    {
     "name": "stderr",
     "output_type": "stream",
     "text": [
      "100%|██████████| 1024/1024 [00:03<00:00, 263.09it/s]\n"
     ]
    },
    {
     "name": "stdout",
     "output_type": "stream",
     "text": [
      "Saved instance information and point cloud data to /home/wan/Workplace-why/Part-SAM/part_scene_saved/0288/1/ins_info\n"
     ]
    },
    {
     "name": "stderr",
     "output_type": "stream",
     "text": [
      "100%|██████████| 1024/1024 [00:03<00:00, 262.32it/s]\n",
      " 30%|███       | 90/300 [34:26<1:22:19, 23.52s/it]"
     ]
    },
    {
     "name": "stdout",
     "output_type": "stream",
     "text": [
      "Saved instance information and point cloud data to /home/wan/Workplace-why/Part-SAM/part_scene_saved/0288/2/ins_info\n",
      "0045\n"
     ]
    },
    {
     "name": "stderr",
     "output_type": "stream",
     "text": [
      "100%|██████████| 1024/1024 [00:03<00:00, 258.96it/s]\n"
     ]
    },
    {
     "name": "stdout",
     "output_type": "stream",
     "text": [
      "Saved instance information and point cloud data to /home/wan/Workplace-why/Part-SAM/part_scene_saved/0045/0/ins_info\n"
     ]
    },
    {
     "name": "stderr",
     "output_type": "stream",
     "text": [
      "100%|██████████| 1024/1024 [00:03<00:00, 262.14it/s]\n"
     ]
    },
    {
     "name": "stdout",
     "output_type": "stream",
     "text": [
      "Saved instance information and point cloud data to /home/wan/Workplace-why/Part-SAM/part_scene_saved/0045/1/ins_info\n"
     ]
    },
    {
     "name": "stderr",
     "output_type": "stream",
     "text": [
      "100%|██████████| 1024/1024 [00:03<00:00, 262.33it/s]\n",
      " 30%|███       | 91/300 [34:48<1:20:01, 22.97s/it]"
     ]
    },
    {
     "name": "stdout",
     "output_type": "stream",
     "text": [
      "Saved instance information and point cloud data to /home/wan/Workplace-why/Part-SAM/part_scene_saved/0045/2/ins_info\n",
      "0100\n"
     ]
    },
    {
     "name": "stderr",
     "output_type": "stream",
     "text": [
      "100%|██████████| 1024/1024 [00:03<00:00, 261.75it/s]\n"
     ]
    },
    {
     "name": "stdout",
     "output_type": "stream",
     "text": [
      "Saved instance information and point cloud data to /home/wan/Workplace-why/Part-SAM/part_scene_saved/0100/0/ins_info\n"
     ]
    },
    {
     "name": "stderr",
     "output_type": "stream",
     "text": [
      "100%|██████████| 1024/1024 [00:03<00:00, 259.90it/s]\n"
     ]
    },
    {
     "name": "stdout",
     "output_type": "stream",
     "text": [
      "Saved instance information and point cloud data to /home/wan/Workplace-why/Part-SAM/part_scene_saved/0100/1/ins_info\n"
     ]
    },
    {
     "name": "stderr",
     "output_type": "stream",
     "text": [
      "100%|██████████| 1024/1024 [00:03<00:00, 260.90it/s]\n",
      " 31%|███       | 92/300 [35:14<1:22:45, 23.87s/it]"
     ]
    },
    {
     "name": "stdout",
     "output_type": "stream",
     "text": [
      "Saved instance information and point cloud data to /home/wan/Workplace-why/Part-SAM/part_scene_saved/0100/2/ins_info\n",
      "0004\n"
     ]
    },
    {
     "name": "stderr",
     "output_type": "stream",
     "text": [
      "100%|██████████| 1024/1024 [00:03<00:00, 260.53it/s]\n"
     ]
    },
    {
     "name": "stdout",
     "output_type": "stream",
     "text": [
      "Saved instance information and point cloud data to /home/wan/Workplace-why/Part-SAM/part_scene_saved/0004/0/ins_info\n"
     ]
    },
    {
     "name": "stderr",
     "output_type": "stream",
     "text": [
      "100%|██████████| 1024/1024 [00:03<00:00, 260.01it/s]\n"
     ]
    },
    {
     "name": "stdout",
     "output_type": "stream",
     "text": [
      "Saved instance information and point cloud data to /home/wan/Workplace-why/Part-SAM/part_scene_saved/0004/1/ins_info\n"
     ]
    },
    {
     "name": "stderr",
     "output_type": "stream",
     "text": [
      "100%|██████████| 1024/1024 [00:03<00:00, 258.91it/s]\n",
      " 31%|███       | 93/300 [35:34<1:18:45, 22.83s/it]"
     ]
    },
    {
     "name": "stdout",
     "output_type": "stream",
     "text": [
      "Saved instance information and point cloud data to /home/wan/Workplace-why/Part-SAM/part_scene_saved/0004/2/ins_info\n",
      "0135\n"
     ]
    },
    {
     "name": "stderr",
     "output_type": "stream",
     "text": [
      "100%|██████████| 1024/1024 [00:03<00:00, 260.42it/s]\n"
     ]
    },
    {
     "name": "stdout",
     "output_type": "stream",
     "text": [
      "Saved instance information and point cloud data to /home/wan/Workplace-why/Part-SAM/part_scene_saved/0135/0/ins_info\n"
     ]
    },
    {
     "name": "stderr",
     "output_type": "stream",
     "text": [
      "100%|██████████| 1024/1024 [00:03<00:00, 258.91it/s]\n"
     ]
    },
    {
     "name": "stdout",
     "output_type": "stream",
     "text": [
      "Saved instance information and point cloud data to /home/wan/Workplace-why/Part-SAM/part_scene_saved/0135/1/ins_info\n"
     ]
    },
    {
     "name": "stderr",
     "output_type": "stream",
     "text": [
      "100%|██████████| 1024/1024 [00:03<00:00, 260.35it/s]\n",
      " 31%|███▏      | 94/300 [36:01<1:22:15, 23.96s/it]"
     ]
    },
    {
     "name": "stdout",
     "output_type": "stream",
     "text": [
      "Saved instance information and point cloud data to /home/wan/Workplace-why/Part-SAM/part_scene_saved/0135/2/ins_info\n",
      "0209\n"
     ]
    },
    {
     "name": "stderr",
     "output_type": "stream",
     "text": [
      "100%|██████████| 1024/1024 [00:03<00:00, 259.46it/s]\n"
     ]
    },
    {
     "name": "stdout",
     "output_type": "stream",
     "text": [
      "Saved instance information and point cloud data to /home/wan/Workplace-why/Part-SAM/part_scene_saved/0209/0/ins_info\n"
     ]
    },
    {
     "name": "stderr",
     "output_type": "stream",
     "text": [
      "100%|██████████| 1024/1024 [00:03<00:00, 258.72it/s]\n"
     ]
    },
    {
     "name": "stdout",
     "output_type": "stream",
     "text": [
      "Saved instance information and point cloud data to /home/wan/Workplace-why/Part-SAM/part_scene_saved/0209/1/ins_info\n"
     ]
    },
    {
     "name": "stderr",
     "output_type": "stream",
     "text": [
      "100%|██████████| 1024/1024 [00:03<00:00, 260.27it/s]\n",
      " 32%|███▏      | 95/300 [36:27<1:23:51, 24.54s/it]"
     ]
    },
    {
     "name": "stdout",
     "output_type": "stream",
     "text": [
      "Saved instance information and point cloud data to /home/wan/Workplace-why/Part-SAM/part_scene_saved/0209/2/ins_info\n",
      "0081\n"
     ]
    },
    {
     "name": "stderr",
     "output_type": "stream",
     "text": [
      "100%|██████████| 1024/1024 [00:03<00:00, 260.15it/s]\n"
     ]
    },
    {
     "name": "stdout",
     "output_type": "stream",
     "text": [
      "Saved instance information and point cloud data to /home/wan/Workplace-why/Part-SAM/part_scene_saved/0081/0/ins_info\n"
     ]
    },
    {
     "name": "stderr",
     "output_type": "stream",
     "text": [
      "100%|██████████| 1024/1024 [00:03<00:00, 261.30it/s]\n"
     ]
    },
    {
     "name": "stdout",
     "output_type": "stream",
     "text": [
      "Saved instance information and point cloud data to /home/wan/Workplace-why/Part-SAM/part_scene_saved/0081/1/ins_info\n"
     ]
    },
    {
     "name": "stderr",
     "output_type": "stream",
     "text": [
      "100%|██████████| 1024/1024 [00:03<00:00, 261.44it/s]\n",
      " 32%|███▏      | 96/300 [36:48<1:19:44, 23.45s/it]"
     ]
    },
    {
     "name": "stdout",
     "output_type": "stream",
     "text": [
      "Saved instance information and point cloud data to /home/wan/Workplace-why/Part-SAM/part_scene_saved/0081/2/ins_info\n",
      "0251\n"
     ]
    },
    {
     "name": "stderr",
     "output_type": "stream",
     "text": [
      "100%|██████████| 1024/1024 [00:03<00:00, 260.82it/s]\n"
     ]
    },
    {
     "name": "stdout",
     "output_type": "stream",
     "text": [
      "Saved instance information and point cloud data to /home/wan/Workplace-why/Part-SAM/part_scene_saved/0251/0/ins_info\n"
     ]
    },
    {
     "name": "stderr",
     "output_type": "stream",
     "text": [
      "100%|██████████| 1024/1024 [00:03<00:00, 260.55it/s]\n"
     ]
    },
    {
     "name": "stdout",
     "output_type": "stream",
     "text": [
      "Saved instance information and point cloud data to /home/wan/Workplace-why/Part-SAM/part_scene_saved/0251/1/ins_info\n"
     ]
    },
    {
     "name": "stderr",
     "output_type": "stream",
     "text": [
      "100%|██████████| 1024/1024 [00:03<00:00, 261.15it/s]\n",
      " 32%|███▏      | 97/300 [37:16<1:24:40, 25.03s/it]"
     ]
    },
    {
     "name": "stdout",
     "output_type": "stream",
     "text": [
      "Saved instance information and point cloud data to /home/wan/Workplace-why/Part-SAM/part_scene_saved/0251/2/ins_info\n",
      "0273\n"
     ]
    },
    {
     "name": "stderr",
     "output_type": "stream",
     "text": [
      "100%|██████████| 1024/1024 [00:03<00:00, 261.04it/s]\n"
     ]
    },
    {
     "name": "stdout",
     "output_type": "stream",
     "text": [
      "Saved instance information and point cloud data to /home/wan/Workplace-why/Part-SAM/part_scene_saved/0273/0/ins_info\n"
     ]
    },
    {
     "name": "stderr",
     "output_type": "stream",
     "text": [
      "100%|██████████| 1024/1024 [00:03<00:00, 261.90it/s]\n"
     ]
    },
    {
     "name": "stdout",
     "output_type": "stream",
     "text": [
      "Saved instance information and point cloud data to /home/wan/Workplace-why/Part-SAM/part_scene_saved/0273/1/ins_info\n"
     ]
    },
    {
     "name": "stderr",
     "output_type": "stream",
     "text": [
      "100%|██████████| 1024/1024 [00:03<00:00, 261.29it/s]\n",
      " 33%|███▎      | 98/300 [37:41<1:24:15, 25.03s/it]"
     ]
    },
    {
     "name": "stdout",
     "output_type": "stream",
     "text": [
      "Saved instance information and point cloud data to /home/wan/Workplace-why/Part-SAM/part_scene_saved/0273/2/ins_info\n",
      "0098\n"
     ]
    },
    {
     "name": "stderr",
     "output_type": "stream",
     "text": [
      "100%|██████████| 1024/1024 [00:04<00:00, 251.90it/s]\n"
     ]
    },
    {
     "name": "stdout",
     "output_type": "stream",
     "text": [
      "Saved instance information and point cloud data to /home/wan/Workplace-why/Part-SAM/part_scene_saved/0098/0/ins_info\n"
     ]
    },
    {
     "name": "stderr",
     "output_type": "stream",
     "text": [
      "100%|██████████| 1024/1024 [00:03<00:00, 261.04it/s]\n"
     ]
    },
    {
     "name": "stdout",
     "output_type": "stream",
     "text": [
      "Saved instance information and point cloud data to /home/wan/Workplace-why/Part-SAM/part_scene_saved/0098/1/ins_info\n"
     ]
    },
    {
     "name": "stderr",
     "output_type": "stream",
     "text": [
      "100%|██████████| 1024/1024 [00:03<00:00, 262.31it/s]\n",
      " 33%|███▎      | 99/300 [38:03<1:20:41, 24.09s/it]"
     ]
    },
    {
     "name": "stdout",
     "output_type": "stream",
     "text": [
      "Saved instance information and point cloud data to /home/wan/Workplace-why/Part-SAM/part_scene_saved/0098/2/ins_info\n",
      "0194\n"
     ]
    },
    {
     "name": "stderr",
     "output_type": "stream",
     "text": [
      "100%|██████████| 1024/1024 [00:03<00:00, 263.02it/s]\n"
     ]
    },
    {
     "name": "stdout",
     "output_type": "stream",
     "text": [
      "Saved instance information and point cloud data to /home/wan/Workplace-why/Part-SAM/part_scene_saved/0194/0/ins_info\n"
     ]
    },
    {
     "name": "stderr",
     "output_type": "stream",
     "text": [
      "100%|██████████| 1024/1024 [00:03<00:00, 261.95it/s]\n"
     ]
    },
    {
     "name": "stdout",
     "output_type": "stream",
     "text": [
      "Saved instance information and point cloud data to /home/wan/Workplace-why/Part-SAM/part_scene_saved/0194/1/ins_info\n"
     ]
    },
    {
     "name": "stderr",
     "output_type": "stream",
     "text": [
      "100%|██████████| 1024/1024 [00:03<00:00, 260.06it/s]\n",
      " 33%|███▎      | 100/300 [38:24<1:16:54, 23.07s/it]"
     ]
    },
    {
     "name": "stdout",
     "output_type": "stream",
     "text": [
      "Saved instance information and point cloud data to /home/wan/Workplace-why/Part-SAM/part_scene_saved/0194/2/ins_info\n",
      "0256\n"
     ]
    },
    {
     "name": "stderr",
     "output_type": "stream",
     "text": [
      "100%|██████████| 1024/1024 [00:03<00:00, 259.33it/s]\n"
     ]
    },
    {
     "name": "stdout",
     "output_type": "stream",
     "text": [
      "Saved instance information and point cloud data to /home/wan/Workplace-why/Part-SAM/part_scene_saved/0256/0/ins_info\n"
     ]
    },
    {
     "name": "stderr",
     "output_type": "stream",
     "text": [
      "100%|██████████| 1024/1024 [00:03<00:00, 259.30it/s]\n"
     ]
    },
    {
     "name": "stdout",
     "output_type": "stream",
     "text": [
      "Saved instance information and point cloud data to /home/wan/Workplace-why/Part-SAM/part_scene_saved/0256/1/ins_info\n"
     ]
    },
    {
     "name": "stderr",
     "output_type": "stream",
     "text": [
      "100%|██████████| 1024/1024 [00:03<00:00, 261.75it/s]\n",
      " 34%|███▎      | 101/300 [38:44<1:14:04, 22.33s/it]"
     ]
    },
    {
     "name": "stdout",
     "output_type": "stream",
     "text": [
      "Saved instance information and point cloud data to /home/wan/Workplace-why/Part-SAM/part_scene_saved/0256/2/ins_info\n",
      "0074\n"
     ]
    },
    {
     "name": "stderr",
     "output_type": "stream",
     "text": [
      "100%|██████████| 1024/1024 [00:03<00:00, 260.36it/s]\n"
     ]
    },
    {
     "name": "stdout",
     "output_type": "stream",
     "text": [
      "Saved instance information and point cloud data to /home/wan/Workplace-why/Part-SAM/part_scene_saved/0074/0/ins_info\n"
     ]
    },
    {
     "name": "stderr",
     "output_type": "stream",
     "text": [
      "100%|██████████| 1024/1024 [00:03<00:00, 260.48it/s]\n"
     ]
    },
    {
     "name": "stdout",
     "output_type": "stream",
     "text": [
      "Saved instance information and point cloud data to /home/wan/Workplace-why/Part-SAM/part_scene_saved/0074/1/ins_info\n"
     ]
    },
    {
     "name": "stderr",
     "output_type": "stream",
     "text": [
      "100%|██████████| 1024/1024 [00:03<00:00, 258.01it/s]\n",
      " 34%|███▍      | 102/300 [39:05<1:11:52, 21.78s/it]"
     ]
    },
    {
     "name": "stdout",
     "output_type": "stream",
     "text": [
      "Saved instance information and point cloud data to /home/wan/Workplace-why/Part-SAM/part_scene_saved/0074/2/ins_info\n",
      "0105\n"
     ]
    },
    {
     "name": "stderr",
     "output_type": "stream",
     "text": [
      "100%|██████████| 1024/1024 [00:03<00:00, 259.82it/s]\n"
     ]
    },
    {
     "name": "stdout",
     "output_type": "stream",
     "text": [
      "Saved instance information and point cloud data to /home/wan/Workplace-why/Part-SAM/part_scene_saved/0105/0/ins_info\n"
     ]
    },
    {
     "name": "stderr",
     "output_type": "stream",
     "text": [
      "100%|██████████| 1024/1024 [00:03<00:00, 257.92it/s]\n"
     ]
    },
    {
     "name": "stdout",
     "output_type": "stream",
     "text": [
      "Saved instance information and point cloud data to /home/wan/Workplace-why/Part-SAM/part_scene_saved/0105/1/ins_info\n"
     ]
    },
    {
     "name": "stderr",
     "output_type": "stream",
     "text": [
      "100%|██████████| 1024/1024 [00:03<00:00, 258.35it/s]\n",
      " 34%|███▍      | 103/300 [39:27<1:11:31, 21.78s/it]"
     ]
    },
    {
     "name": "stdout",
     "output_type": "stream",
     "text": [
      "Saved instance information and point cloud data to /home/wan/Workplace-why/Part-SAM/part_scene_saved/0105/2/ins_info\n",
      "0144\n"
     ]
    },
    {
     "name": "stderr",
     "output_type": "stream",
     "text": [
      "100%|██████████| 1024/1024 [00:03<00:00, 257.79it/s]\n"
     ]
    },
    {
     "name": "stdout",
     "output_type": "stream",
     "text": [
      "Saved instance information and point cloud data to /home/wan/Workplace-why/Part-SAM/part_scene_saved/0144/0/ins_info\n"
     ]
    },
    {
     "name": "stderr",
     "output_type": "stream",
     "text": [
      "100%|██████████| 1024/1024 [00:03<00:00, 260.60it/s]\n"
     ]
    },
    {
     "name": "stdout",
     "output_type": "stream",
     "text": [
      "Saved instance information and point cloud data to /home/wan/Workplace-why/Part-SAM/part_scene_saved/0144/1/ins_info\n"
     ]
    },
    {
     "name": "stderr",
     "output_type": "stream",
     "text": [
      "100%|██████████| 1024/1024 [00:03<00:00, 260.40it/s]\n",
      " 35%|███▍      | 104/300 [39:51<1:13:04, 22.37s/it]"
     ]
    },
    {
     "name": "stdout",
     "output_type": "stream",
     "text": [
      "Saved instance information and point cloud data to /home/wan/Workplace-why/Part-SAM/part_scene_saved/0144/2/ins_info\n",
      "0153\n"
     ]
    },
    {
     "name": "stderr",
     "output_type": "stream",
     "text": [
      "100%|██████████| 1024/1024 [00:03<00:00, 260.90it/s]\n"
     ]
    },
    {
     "name": "stdout",
     "output_type": "stream",
     "text": [
      "Saved instance information and point cloud data to /home/wan/Workplace-why/Part-SAM/part_scene_saved/0153/0/ins_info\n"
     ]
    },
    {
     "name": "stderr",
     "output_type": "stream",
     "text": [
      "100%|██████████| 1024/1024 [00:03<00:00, 261.01it/s]\n"
     ]
    },
    {
     "name": "stdout",
     "output_type": "stream",
     "text": [
      "Saved instance information and point cloud data to /home/wan/Workplace-why/Part-SAM/part_scene_saved/0153/1/ins_info\n"
     ]
    },
    {
     "name": "stderr",
     "output_type": "stream",
     "text": [
      "100%|██████████| 1024/1024 [00:03<00:00, 259.82it/s]\n",
      " 35%|███▌      | 105/300 [40:12<1:11:52, 22.12s/it]"
     ]
    },
    {
     "name": "stdout",
     "output_type": "stream",
     "text": [
      "Saved instance information and point cloud data to /home/wan/Workplace-why/Part-SAM/part_scene_saved/0153/2/ins_info\n",
      "0075\n"
     ]
    },
    {
     "name": "stderr",
     "output_type": "stream",
     "text": [
      "100%|██████████| 1024/1024 [00:03<00:00, 260.94it/s]\n"
     ]
    },
    {
     "name": "stdout",
     "output_type": "stream",
     "text": [
      "Saved instance information and point cloud data to /home/wan/Workplace-why/Part-SAM/part_scene_saved/0075/0/ins_info\n"
     ]
    },
    {
     "name": "stderr",
     "output_type": "stream",
     "text": [
      "100%|██████████| 1024/1024 [00:03<00:00, 260.66it/s]\n"
     ]
    },
    {
     "name": "stdout",
     "output_type": "stream",
     "text": [
      "Saved instance information and point cloud data to /home/wan/Workplace-why/Part-SAM/part_scene_saved/0075/1/ins_info\n"
     ]
    },
    {
     "name": "stderr",
     "output_type": "stream",
     "text": [
      "100%|██████████| 1024/1024 [00:03<00:00, 261.41it/s]\n",
      " 35%|███▌      | 106/300 [40:33<1:10:45, 21.88s/it]"
     ]
    },
    {
     "name": "stdout",
     "output_type": "stream",
     "text": [
      "Saved instance information and point cloud data to /home/wan/Workplace-why/Part-SAM/part_scene_saved/0075/2/ins_info\n",
      "0260\n"
     ]
    },
    {
     "name": "stderr",
     "output_type": "stream",
     "text": [
      "100%|██████████| 1024/1024 [00:03<00:00, 259.75it/s]\n"
     ]
    },
    {
     "name": "stdout",
     "output_type": "stream",
     "text": [
      "Saved instance information and point cloud data to /home/wan/Workplace-why/Part-SAM/part_scene_saved/0260/0/ins_info\n"
     ]
    },
    {
     "name": "stderr",
     "output_type": "stream",
     "text": [
      "100%|██████████| 1024/1024 [00:03<00:00, 260.54it/s]\n"
     ]
    },
    {
     "name": "stdout",
     "output_type": "stream",
     "text": [
      "Saved instance information and point cloud data to /home/wan/Workplace-why/Part-SAM/part_scene_saved/0260/1/ins_info\n"
     ]
    },
    {
     "name": "stderr",
     "output_type": "stream",
     "text": [
      "100%|██████████| 1024/1024 [00:03<00:00, 261.23it/s]\n",
      " 36%|███▌      | 107/300 [40:55<1:10:27, 21.90s/it]"
     ]
    },
    {
     "name": "stdout",
     "output_type": "stream",
     "text": [
      "Saved instance information and point cloud data to /home/wan/Workplace-why/Part-SAM/part_scene_saved/0260/2/ins_info\n",
      "0033\n"
     ]
    },
    {
     "name": "stderr",
     "output_type": "stream",
     "text": [
      "100%|██████████| 1024/1024 [00:03<00:00, 261.44it/s]\n"
     ]
    },
    {
     "name": "stdout",
     "output_type": "stream",
     "text": [
      "Saved instance information and point cloud data to /home/wan/Workplace-why/Part-SAM/part_scene_saved/0033/0/ins_info\n"
     ]
    },
    {
     "name": "stderr",
     "output_type": "stream",
     "text": [
      "100%|██████████| 1024/1024 [00:03<00:00, 262.04it/s]\n"
     ]
    },
    {
     "name": "stdout",
     "output_type": "stream",
     "text": [
      "Saved instance information and point cloud data to /home/wan/Workplace-why/Part-SAM/part_scene_saved/0033/1/ins_info\n"
     ]
    },
    {
     "name": "stderr",
     "output_type": "stream",
     "text": [
      "100%|██████████| 1024/1024 [00:03<00:00, 261.56it/s]\n",
      " 36%|███▌      | 108/300 [41:16<1:09:15, 21.64s/it]"
     ]
    },
    {
     "name": "stdout",
     "output_type": "stream",
     "text": [
      "Saved instance information and point cloud data to /home/wan/Workplace-why/Part-SAM/part_scene_saved/0033/2/ins_info\n",
      "0161\n"
     ]
    },
    {
     "name": "stderr",
     "output_type": "stream",
     "text": [
      "100%|██████████| 1024/1024 [00:03<00:00, 261.82it/s]\n"
     ]
    },
    {
     "name": "stdout",
     "output_type": "stream",
     "text": [
      "Saved instance information and point cloud data to /home/wan/Workplace-why/Part-SAM/part_scene_saved/0161/0/ins_info\n"
     ]
    },
    {
     "name": "stderr",
     "output_type": "stream",
     "text": [
      "100%|██████████| 1024/1024 [00:03<00:00, 257.97it/s]\n"
     ]
    },
    {
     "name": "stdout",
     "output_type": "stream",
     "text": [
      "Saved instance information and point cloud data to /home/wan/Workplace-why/Part-SAM/part_scene_saved/0161/1/ins_info\n"
     ]
    },
    {
     "name": "stderr",
     "output_type": "stream",
     "text": [
      "100%|██████████| 1024/1024 [00:03<00:00, 260.51it/s]\n",
      " 36%|███▋      | 109/300 [41:37<1:08:02, 21.37s/it]"
     ]
    },
    {
     "name": "stdout",
     "output_type": "stream",
     "text": [
      "Saved instance information and point cloud data to /home/wan/Workplace-why/Part-SAM/part_scene_saved/0161/2/ins_info\n",
      "0236\n"
     ]
    },
    {
     "name": "stderr",
     "output_type": "stream",
     "text": [
      "100%|██████████| 1024/1024 [00:03<00:00, 261.72it/s]\n"
     ]
    },
    {
     "name": "stdout",
     "output_type": "stream",
     "text": [
      "Saved instance information and point cloud data to /home/wan/Workplace-why/Part-SAM/part_scene_saved/0236/0/ins_info\n"
     ]
    },
    {
     "name": "stderr",
     "output_type": "stream",
     "text": [
      "100%|██████████| 1024/1024 [00:03<00:00, 262.53it/s]\n"
     ]
    },
    {
     "name": "stdout",
     "output_type": "stream",
     "text": [
      "Saved instance information and point cloud data to /home/wan/Workplace-why/Part-SAM/part_scene_saved/0236/1/ins_info\n"
     ]
    },
    {
     "name": "stderr",
     "output_type": "stream",
     "text": [
      "100%|██████████| 1024/1024 [00:03<00:00, 260.81it/s]\n",
      " 37%|███▋      | 110/300 [42:03<1:12:00, 22.74s/it]"
     ]
    },
    {
     "name": "stdout",
     "output_type": "stream",
     "text": [
      "Saved instance information and point cloud data to /home/wan/Workplace-why/Part-SAM/part_scene_saved/0236/2/ins_info\n",
      "0287\n"
     ]
    },
    {
     "name": "stderr",
     "output_type": "stream",
     "text": [
      "100%|██████████| 1024/1024 [00:03<00:00, 262.17it/s]\n"
     ]
    },
    {
     "name": "stdout",
     "output_type": "stream",
     "text": [
      "Saved instance information and point cloud data to /home/wan/Workplace-why/Part-SAM/part_scene_saved/0287/0/ins_info\n"
     ]
    },
    {
     "name": "stderr",
     "output_type": "stream",
     "text": [
      "100%|██████████| 1024/1024 [00:03<00:00, 262.14it/s]\n"
     ]
    },
    {
     "name": "stdout",
     "output_type": "stream",
     "text": [
      "Saved instance information and point cloud data to /home/wan/Workplace-why/Part-SAM/part_scene_saved/0287/1/ins_info\n"
     ]
    },
    {
     "name": "stderr",
     "output_type": "stream",
     "text": [
      "100%|██████████| 1024/1024 [00:03<00:00, 262.44it/s]\n",
      " 37%|███▋      | 111/300 [42:27<1:12:46, 23.10s/it]"
     ]
    },
    {
     "name": "stdout",
     "output_type": "stream",
     "text": [
      "Saved instance information and point cloud data to /home/wan/Workplace-why/Part-SAM/part_scene_saved/0287/2/ins_info\n",
      "0026\n"
     ]
    },
    {
     "name": "stderr",
     "output_type": "stream",
     "text": [
      "100%|██████████| 1024/1024 [00:03<00:00, 260.31it/s]\n"
     ]
    },
    {
     "name": "stdout",
     "output_type": "stream",
     "text": [
      "Saved instance information and point cloud data to /home/wan/Workplace-why/Part-SAM/part_scene_saved/0026/0/ins_info\n"
     ]
    },
    {
     "name": "stderr",
     "output_type": "stream",
     "text": [
      "100%|██████████| 1024/1024 [00:03<00:00, 263.52it/s]\n"
     ]
    },
    {
     "name": "stdout",
     "output_type": "stream",
     "text": [
      "Saved instance information and point cloud data to /home/wan/Workplace-why/Part-SAM/part_scene_saved/0026/1/ins_info\n"
     ]
    },
    {
     "name": "stderr",
     "output_type": "stream",
     "text": [
      "100%|██████████| 1024/1024 [00:03<00:00, 262.00it/s]\n",
      " 37%|███▋      | 112/300 [42:48<1:10:24, 22.47s/it]"
     ]
    },
    {
     "name": "stdout",
     "output_type": "stream",
     "text": [
      "Saved instance information and point cloud data to /home/wan/Workplace-why/Part-SAM/part_scene_saved/0026/2/ins_info\n",
      "0203\n"
     ]
    },
    {
     "name": "stderr",
     "output_type": "stream",
     "text": [
      "100%|██████████| 1024/1024 [00:03<00:00, 263.57it/s]\n"
     ]
    },
    {
     "name": "stdout",
     "output_type": "stream",
     "text": [
      "Saved instance information and point cloud data to /home/wan/Workplace-why/Part-SAM/part_scene_saved/0203/0/ins_info\n"
     ]
    },
    {
     "name": "stderr",
     "output_type": "stream",
     "text": [
      "100%|██████████| 1024/1024 [00:03<00:00, 261.78it/s]\n"
     ]
    },
    {
     "name": "stdout",
     "output_type": "stream",
     "text": [
      "Saved instance information and point cloud data to /home/wan/Workplace-why/Part-SAM/part_scene_saved/0203/1/ins_info\n"
     ]
    },
    {
     "name": "stderr",
     "output_type": "stream",
     "text": [
      "100%|██████████| 1024/1024 [00:03<00:00, 261.72it/s]\n",
      " 38%|███▊      | 113/300 [43:08<1:08:05, 21.84s/it]"
     ]
    },
    {
     "name": "stdout",
     "output_type": "stream",
     "text": [
      "Saved instance information and point cloud data to /home/wan/Workplace-why/Part-SAM/part_scene_saved/0203/2/ins_info\n",
      "0034\n"
     ]
    },
    {
     "name": "stderr",
     "output_type": "stream",
     "text": [
      "100%|██████████| 1024/1024 [00:03<00:00, 261.82it/s]\n"
     ]
    },
    {
     "name": "stdout",
     "output_type": "stream",
     "text": [
      "Saved instance information and point cloud data to /home/wan/Workplace-why/Part-SAM/part_scene_saved/0034/0/ins_info\n"
     ]
    },
    {
     "name": "stderr",
     "output_type": "stream",
     "text": [
      "100%|██████████| 1024/1024 [00:03<00:00, 262.55it/s]\n"
     ]
    },
    {
     "name": "stdout",
     "output_type": "stream",
     "text": [
      "Saved instance information and point cloud data to /home/wan/Workplace-why/Part-SAM/part_scene_saved/0034/1/ins_info\n"
     ]
    },
    {
     "name": "stderr",
     "output_type": "stream",
     "text": [
      "100%|██████████| 1024/1024 [00:03<00:00, 260.85it/s]\n",
      " 38%|███▊      | 114/300 [43:39<1:16:15, 24.60s/it]"
     ]
    },
    {
     "name": "stdout",
     "output_type": "stream",
     "text": [
      "Saved instance information and point cloud data to /home/wan/Workplace-why/Part-SAM/part_scene_saved/0034/2/ins_info\n",
      "0158\n"
     ]
    },
    {
     "name": "stderr",
     "output_type": "stream",
     "text": [
      "100%|██████████| 1024/1024 [00:03<00:00, 261.53it/s]\n"
     ]
    },
    {
     "name": "stdout",
     "output_type": "stream",
     "text": [
      "Saved instance information and point cloud data to /home/wan/Workplace-why/Part-SAM/part_scene_saved/0158/0/ins_info\n"
     ]
    },
    {
     "name": "stderr",
     "output_type": "stream",
     "text": [
      "100%|██████████| 1024/1024 [00:03<00:00, 262.23it/s]\n"
     ]
    },
    {
     "name": "stdout",
     "output_type": "stream",
     "text": [
      "Saved instance information and point cloud data to /home/wan/Workplace-why/Part-SAM/part_scene_saved/0158/1/ins_info\n"
     ]
    },
    {
     "name": "stderr",
     "output_type": "stream",
     "text": [
      "100%|██████████| 1024/1024 [00:03<00:00, 261.88it/s]\n",
      " 38%|███▊      | 115/300 [44:04<1:15:23, 24.45s/it]"
     ]
    },
    {
     "name": "stdout",
     "output_type": "stream",
     "text": [
      "Saved instance information and point cloud data to /home/wan/Workplace-why/Part-SAM/part_scene_saved/0158/2/ins_info\n",
      "0013\n"
     ]
    },
    {
     "name": "stderr",
     "output_type": "stream",
     "text": [
      "100%|██████████| 1024/1024 [00:03<00:00, 260.69it/s]\n"
     ]
    },
    {
     "name": "stdout",
     "output_type": "stream",
     "text": [
      "Saved instance information and point cloud data to /home/wan/Workplace-why/Part-SAM/part_scene_saved/0013/0/ins_info\n"
     ]
    },
    {
     "name": "stderr",
     "output_type": "stream",
     "text": [
      "100%|██████████| 1024/1024 [00:03<00:00, 262.02it/s]\n"
     ]
    },
    {
     "name": "stdout",
     "output_type": "stream",
     "text": [
      "Saved instance information and point cloud data to /home/wan/Workplace-why/Part-SAM/part_scene_saved/0013/1/ins_info\n"
     ]
    },
    {
     "name": "stderr",
     "output_type": "stream",
     "text": [
      "100%|██████████| 1024/1024 [00:03<00:00, 262.57it/s]\n",
      " 39%|███▊      | 116/300 [44:24<1:11:25, 23.29s/it]"
     ]
    },
    {
     "name": "stdout",
     "output_type": "stream",
     "text": [
      "Saved instance information and point cloud data to /home/wan/Workplace-why/Part-SAM/part_scene_saved/0013/2/ins_info\n",
      "0058\n"
     ]
    },
    {
     "name": "stderr",
     "output_type": "stream",
     "text": [
      "100%|██████████| 1024/1024 [00:03<00:00, 262.63it/s]\n"
     ]
    },
    {
     "name": "stdout",
     "output_type": "stream",
     "text": [
      "Saved instance information and point cloud data to /home/wan/Workplace-why/Part-SAM/part_scene_saved/0058/0/ins_info\n"
     ]
    },
    {
     "name": "stderr",
     "output_type": "stream",
     "text": [
      "100%|██████████| 1024/1024 [00:03<00:00, 262.95it/s]\n"
     ]
    },
    {
     "name": "stdout",
     "output_type": "stream",
     "text": [
      "Saved instance information and point cloud data to /home/wan/Workplace-why/Part-SAM/part_scene_saved/0058/1/ins_info\n"
     ]
    },
    {
     "name": "stderr",
     "output_type": "stream",
     "text": [
      "100%|██████████| 1024/1024 [00:04<00:00, 253.45it/s]\n",
      " 39%|███▉      | 117/300 [44:45<1:08:26, 22.44s/it]"
     ]
    },
    {
     "name": "stdout",
     "output_type": "stream",
     "text": [
      "Saved instance information and point cloud data to /home/wan/Workplace-why/Part-SAM/part_scene_saved/0058/2/ins_info\n",
      "0132\n"
     ]
    },
    {
     "name": "stderr",
     "output_type": "stream",
     "text": [
      "100%|██████████| 1024/1024 [00:03<00:00, 263.32it/s]\n"
     ]
    },
    {
     "name": "stdout",
     "output_type": "stream",
     "text": [
      "Saved instance information and point cloud data to /home/wan/Workplace-why/Part-SAM/part_scene_saved/0132/0/ins_info\n"
     ]
    },
    {
     "name": "stderr",
     "output_type": "stream",
     "text": [
      "100%|██████████| 1024/1024 [00:03<00:00, 263.24it/s]\n"
     ]
    },
    {
     "name": "stdout",
     "output_type": "stream",
     "text": [
      "Saved instance information and point cloud data to /home/wan/Workplace-why/Part-SAM/part_scene_saved/0132/1/ins_info\n"
     ]
    },
    {
     "name": "stderr",
     "output_type": "stream",
     "text": [
      "100%|██████████| 1024/1024 [00:03<00:00, 262.49it/s]\n",
      " 39%|███▉      | 118/300 [45:05<1:06:28, 21.92s/it]"
     ]
    },
    {
     "name": "stdout",
     "output_type": "stream",
     "text": [
      "Saved instance information and point cloud data to /home/wan/Workplace-why/Part-SAM/part_scene_saved/0132/2/ins_info\n",
      "0120\n"
     ]
    },
    {
     "name": "stderr",
     "output_type": "stream",
     "text": [
      "100%|██████████| 1024/1024 [00:03<00:00, 262.32it/s]\n"
     ]
    },
    {
     "name": "stdout",
     "output_type": "stream",
     "text": [
      "Saved instance information and point cloud data to /home/wan/Workplace-why/Part-SAM/part_scene_saved/0120/0/ins_info\n"
     ]
    },
    {
     "name": "stderr",
     "output_type": "stream",
     "text": [
      "100%|██████████| 1024/1024 [00:03<00:00, 262.32it/s]\n"
     ]
    },
    {
     "name": "stdout",
     "output_type": "stream",
     "text": [
      "Saved instance information and point cloud data to /home/wan/Workplace-why/Part-SAM/part_scene_saved/0120/1/ins_info\n"
     ]
    },
    {
     "name": "stderr",
     "output_type": "stream",
     "text": [
      "100%|██████████| 1024/1024 [00:03<00:00, 261.86it/s]\n",
      " 40%|███▉      | 119/300 [45:27<1:05:47, 21.81s/it]"
     ]
    },
    {
     "name": "stdout",
     "output_type": "stream",
     "text": [
      "Saved instance information and point cloud data to /home/wan/Workplace-why/Part-SAM/part_scene_saved/0120/2/ins_info\n",
      "0166\n"
     ]
    },
    {
     "name": "stderr",
     "output_type": "stream",
     "text": [
      "100%|██████████| 1024/1024 [00:03<00:00, 262.10it/s]\n"
     ]
    },
    {
     "name": "stdout",
     "output_type": "stream",
     "text": [
      "Saved instance information and point cloud data to /home/wan/Workplace-why/Part-SAM/part_scene_saved/0166/0/ins_info\n"
     ]
    },
    {
     "name": "stderr",
     "output_type": "stream",
     "text": [
      "100%|██████████| 1024/1024 [00:03<00:00, 261.12it/s]\n"
     ]
    },
    {
     "name": "stdout",
     "output_type": "stream",
     "text": [
      "Saved instance information and point cloud data to /home/wan/Workplace-why/Part-SAM/part_scene_saved/0166/1/ins_info\n"
     ]
    },
    {
     "name": "stderr",
     "output_type": "stream",
     "text": [
      "100%|██████████| 1024/1024 [00:03<00:00, 260.28it/s]\n",
      " 40%|████      | 120/300 [45:47<1:03:48, 21.27s/it]"
     ]
    },
    {
     "name": "stdout",
     "output_type": "stream",
     "text": [
      "Saved instance information and point cloud data to /home/wan/Workplace-why/Part-SAM/part_scene_saved/0166/2/ins_info\n",
      "0259\n"
     ]
    },
    {
     "name": "stderr",
     "output_type": "stream",
     "text": [
      "100%|██████████| 1024/1024 [00:03<00:00, 259.90it/s]\n"
     ]
    },
    {
     "name": "stdout",
     "output_type": "stream",
     "text": [
      "Saved instance information and point cloud data to /home/wan/Workplace-why/Part-SAM/part_scene_saved/0259/0/ins_info\n"
     ]
    },
    {
     "name": "stderr",
     "output_type": "stream",
     "text": [
      "100%|██████████| 1024/1024 [00:03<00:00, 258.22it/s]\n"
     ]
    },
    {
     "name": "stdout",
     "output_type": "stream",
     "text": [
      "Saved instance information and point cloud data to /home/wan/Workplace-why/Part-SAM/part_scene_saved/0259/1/ins_info\n"
     ]
    },
    {
     "name": "stderr",
     "output_type": "stream",
     "text": [
      "100%|██████████| 1024/1024 [00:03<00:00, 261.37it/s]\n",
      " 40%|████      | 121/300 [46:10<1:05:21, 21.91s/it]"
     ]
    },
    {
     "name": "stdout",
     "output_type": "stream",
     "text": [
      "Saved instance information and point cloud data to /home/wan/Workplace-why/Part-SAM/part_scene_saved/0259/2/ins_info\n",
      "0263\n"
     ]
    },
    {
     "name": "stderr",
     "output_type": "stream",
     "text": [
      "100%|██████████| 1024/1024 [00:03<00:00, 257.60it/s]\n"
     ]
    },
    {
     "name": "stdout",
     "output_type": "stream",
     "text": [
      "Saved instance information and point cloud data to /home/wan/Workplace-why/Part-SAM/part_scene_saved/0263/0/ins_info\n"
     ]
    },
    {
     "name": "stderr",
     "output_type": "stream",
     "text": [
      "100%|██████████| 1024/1024 [00:03<00:00, 258.71it/s]\n"
     ]
    },
    {
     "name": "stdout",
     "output_type": "stream",
     "text": [
      "Saved instance information and point cloud data to /home/wan/Workplace-why/Part-SAM/part_scene_saved/0263/1/ins_info\n"
     ]
    },
    {
     "name": "stderr",
     "output_type": "stream",
     "text": [
      "100%|██████████| 1024/1024 [00:03<00:00, 261.95it/s]\n",
      " 41%|████      | 122/300 [46:32<1:04:35, 21.77s/it]"
     ]
    },
    {
     "name": "stdout",
     "output_type": "stream",
     "text": [
      "Saved instance information and point cloud data to /home/wan/Workplace-why/Part-SAM/part_scene_saved/0263/2/ins_info\n",
      "0090\n"
     ]
    },
    {
     "name": "stderr",
     "output_type": "stream",
     "text": [
      "100%|██████████| 1024/1024 [00:03<00:00, 261.73it/s]\n"
     ]
    },
    {
     "name": "stdout",
     "output_type": "stream",
     "text": [
      "Saved instance information and point cloud data to /home/wan/Workplace-why/Part-SAM/part_scene_saved/0090/0/ins_info\n"
     ]
    },
    {
     "name": "stderr",
     "output_type": "stream",
     "text": [
      "100%|██████████| 1024/1024 [00:03<00:00, 260.16it/s]\n"
     ]
    },
    {
     "name": "stdout",
     "output_type": "stream",
     "text": [
      "Saved instance information and point cloud data to /home/wan/Workplace-why/Part-SAM/part_scene_saved/0090/1/ins_info\n"
     ]
    },
    {
     "name": "stderr",
     "output_type": "stream",
     "text": [
      "100%|██████████| 1024/1024 [00:03<00:00, 260.24it/s]\n",
      " 41%|████      | 123/300 [46:57<1:07:12, 22.78s/it]"
     ]
    },
    {
     "name": "stdout",
     "output_type": "stream",
     "text": [
      "Saved instance information and point cloud data to /home/wan/Workplace-why/Part-SAM/part_scene_saved/0090/2/ins_info\n",
      "0016\n"
     ]
    },
    {
     "name": "stderr",
     "output_type": "stream",
     "text": [
      "100%|██████████| 1024/1024 [00:03<00:00, 260.86it/s]\n"
     ]
    },
    {
     "name": "stdout",
     "output_type": "stream",
     "text": [
      "Saved instance information and point cloud data to /home/wan/Workplace-why/Part-SAM/part_scene_saved/0016/0/ins_info\n"
     ]
    },
    {
     "name": "stderr",
     "output_type": "stream",
     "text": [
      "100%|██████████| 1024/1024 [00:03<00:00, 259.46it/s]\n"
     ]
    },
    {
     "name": "stdout",
     "output_type": "stream",
     "text": [
      "Saved instance information and point cloud data to /home/wan/Workplace-why/Part-SAM/part_scene_saved/0016/1/ins_info\n"
     ]
    },
    {
     "name": "stderr",
     "output_type": "stream",
     "text": [
      "100%|██████████| 1024/1024 [00:04<00:00, 254.65it/s]\n",
      " 41%|████▏     | 124/300 [47:21<1:08:18, 23.29s/it]"
     ]
    },
    {
     "name": "stdout",
     "output_type": "stream",
     "text": [
      "Saved instance information and point cloud data to /home/wan/Workplace-why/Part-SAM/part_scene_saved/0016/2/ins_info\n",
      "0087\n"
     ]
    },
    {
     "name": "stderr",
     "output_type": "stream",
     "text": [
      "100%|██████████| 1024/1024 [00:04<00:00, 254.88it/s]\n"
     ]
    },
    {
     "name": "stdout",
     "output_type": "stream",
     "text": [
      "Saved instance information and point cloud data to /home/wan/Workplace-why/Part-SAM/part_scene_saved/0087/0/ins_info\n"
     ]
    },
    {
     "name": "stderr",
     "output_type": "stream",
     "text": [
      "100%|██████████| 1024/1024 [00:03<00:00, 261.63it/s]\n"
     ]
    },
    {
     "name": "stdout",
     "output_type": "stream",
     "text": [
      "Saved instance information and point cloud data to /home/wan/Workplace-why/Part-SAM/part_scene_saved/0087/1/ins_info\n"
     ]
    },
    {
     "name": "stderr",
     "output_type": "stream",
     "text": [
      "100%|██████████| 1024/1024 [00:03<00:00, 262.62it/s]\n",
      " 42%|████▏     | 125/300 [47:47<1:09:45, 23.92s/it]"
     ]
    },
    {
     "name": "stdout",
     "output_type": "stream",
     "text": [
      "Saved instance information and point cloud data to /home/wan/Workplace-why/Part-SAM/part_scene_saved/0087/2/ins_info\n",
      "0145\n"
     ]
    },
    {
     "name": "stderr",
     "output_type": "stream",
     "text": [
      "100%|██████████| 1024/1024 [00:03<00:00, 261.97it/s]\n"
     ]
    },
    {
     "name": "stdout",
     "output_type": "stream",
     "text": [
      "Saved instance information and point cloud data to /home/wan/Workplace-why/Part-SAM/part_scene_saved/0145/0/ins_info\n"
     ]
    },
    {
     "name": "stderr",
     "output_type": "stream",
     "text": [
      "100%|██████████| 1024/1024 [00:03<00:00, 258.31it/s]\n"
     ]
    },
    {
     "name": "stdout",
     "output_type": "stream",
     "text": [
      "Saved instance information and point cloud data to /home/wan/Workplace-why/Part-SAM/part_scene_saved/0145/1/ins_info\n"
     ]
    },
    {
     "name": "stderr",
     "output_type": "stream",
     "text": [
      "100%|██████████| 1024/1024 [00:03<00:00, 261.11it/s]\n",
      " 42%|████▏     | 126/300 [48:08<1:07:27, 23.26s/it]"
     ]
    },
    {
     "name": "stdout",
     "output_type": "stream",
     "text": [
      "Saved instance information and point cloud data to /home/wan/Workplace-why/Part-SAM/part_scene_saved/0145/2/ins_info\n",
      "0020\n"
     ]
    },
    {
     "name": "stderr",
     "output_type": "stream",
     "text": [
      "100%|██████████| 1024/1024 [00:03<00:00, 262.16it/s]\n"
     ]
    },
    {
     "name": "stdout",
     "output_type": "stream",
     "text": [
      "Saved instance information and point cloud data to /home/wan/Workplace-why/Part-SAM/part_scene_saved/0020/0/ins_info\n"
     ]
    },
    {
     "name": "stderr",
     "output_type": "stream",
     "text": [
      "100%|██████████| 1024/1024 [00:03<00:00, 261.06it/s]\n"
     ]
    },
    {
     "name": "stdout",
     "output_type": "stream",
     "text": [
      "Saved instance information and point cloud data to /home/wan/Workplace-why/Part-SAM/part_scene_saved/0020/1/ins_info\n"
     ]
    },
    {
     "name": "stderr",
     "output_type": "stream",
     "text": [
      "100%|██████████| 1024/1024 [00:03<00:00, 259.49it/s]\n",
      " 42%|████▏     | 127/300 [48:29<1:04:43, 22.45s/it]"
     ]
    },
    {
     "name": "stdout",
     "output_type": "stream",
     "text": [
      "Saved instance information and point cloud data to /home/wan/Workplace-why/Part-SAM/part_scene_saved/0020/2/ins_info\n",
      "0290\n"
     ]
    },
    {
     "name": "stderr",
     "output_type": "stream",
     "text": [
      "100%|██████████| 1024/1024 [00:03<00:00, 258.14it/s]\n"
     ]
    },
    {
     "name": "stdout",
     "output_type": "stream",
     "text": [
      "Saved instance information and point cloud data to /home/wan/Workplace-why/Part-SAM/part_scene_saved/0290/0/ins_info\n"
     ]
    },
    {
     "name": "stderr",
     "output_type": "stream",
     "text": [
      "100%|██████████| 1024/1024 [00:03<00:00, 258.80it/s]\n"
     ]
    },
    {
     "name": "stdout",
     "output_type": "stream",
     "text": [
      "Saved instance information and point cloud data to /home/wan/Workplace-why/Part-SAM/part_scene_saved/0290/1/ins_info\n"
     ]
    },
    {
     "name": "stderr",
     "output_type": "stream",
     "text": [
      "100%|██████████| 1024/1024 [00:03<00:00, 260.52it/s]\n",
      " 43%|████▎     | 128/300 [48:51<1:03:42, 22.23s/it]"
     ]
    },
    {
     "name": "stdout",
     "output_type": "stream",
     "text": [
      "Saved instance information and point cloud data to /home/wan/Workplace-why/Part-SAM/part_scene_saved/0290/2/ins_info\n",
      "0235\n"
     ]
    },
    {
     "name": "stderr",
     "output_type": "stream",
     "text": [
      "100%|██████████| 1024/1024 [00:03<00:00, 262.79it/s]\n"
     ]
    },
    {
     "name": "stdout",
     "output_type": "stream",
     "text": [
      "Saved instance information and point cloud data to /home/wan/Workplace-why/Part-SAM/part_scene_saved/0235/0/ins_info\n"
     ]
    },
    {
     "name": "stderr",
     "output_type": "stream",
     "text": [
      "100%|██████████| 1024/1024 [00:03<00:00, 262.77it/s]\n"
     ]
    },
    {
     "name": "stdout",
     "output_type": "stream",
     "text": [
      "Saved instance information and point cloud data to /home/wan/Workplace-why/Part-SAM/part_scene_saved/0235/1/ins_info\n"
     ]
    },
    {
     "name": "stderr",
     "output_type": "stream",
     "text": [
      "100%|██████████| 1024/1024 [00:03<00:00, 262.42it/s]\n",
      " 43%|████▎     | 129/300 [49:11<1:01:54, 21.72s/it]"
     ]
    },
    {
     "name": "stdout",
     "output_type": "stream",
     "text": [
      "Saved instance information and point cloud data to /home/wan/Workplace-why/Part-SAM/part_scene_saved/0235/2/ins_info\n",
      "0070\n"
     ]
    },
    {
     "name": "stderr",
     "output_type": "stream",
     "text": [
      "100%|██████████| 1024/1024 [00:03<00:00, 263.09it/s]\n"
     ]
    },
    {
     "name": "stdout",
     "output_type": "stream",
     "text": [
      "Saved instance information and point cloud data to /home/wan/Workplace-why/Part-SAM/part_scene_saved/0070/0/ins_info\n"
     ]
    },
    {
     "name": "stderr",
     "output_type": "stream",
     "text": [
      "100%|██████████| 1024/1024 [00:03<00:00, 263.57it/s]\n"
     ]
    },
    {
     "name": "stdout",
     "output_type": "stream",
     "text": [
      "Saved instance information and point cloud data to /home/wan/Workplace-why/Part-SAM/part_scene_saved/0070/1/ins_info\n"
     ]
    },
    {
     "name": "stderr",
     "output_type": "stream",
     "text": [
      "100%|██████████| 1024/1024 [00:03<00:00, 263.23it/s]\n",
      " 43%|████▎     | 130/300 [49:36<1:04:17, 22.69s/it]"
     ]
    },
    {
     "name": "stdout",
     "output_type": "stream",
     "text": [
      "Saved instance information and point cloud data to /home/wan/Workplace-why/Part-SAM/part_scene_saved/0070/2/ins_info\n",
      "0002\n"
     ]
    },
    {
     "name": "stderr",
     "output_type": "stream",
     "text": [
      "100%|██████████| 1024/1024 [00:03<00:00, 262.58it/s]\n"
     ]
    },
    {
     "name": "stdout",
     "output_type": "stream",
     "text": [
      "Saved instance information and point cloud data to /home/wan/Workplace-why/Part-SAM/part_scene_saved/0002/0/ins_info\n"
     ]
    },
    {
     "name": "stderr",
     "output_type": "stream",
     "text": [
      "100%|██████████| 1024/1024 [00:03<00:00, 262.69it/s]\n"
     ]
    },
    {
     "name": "stdout",
     "output_type": "stream",
     "text": [
      "Saved instance information and point cloud data to /home/wan/Workplace-why/Part-SAM/part_scene_saved/0002/1/ins_info\n"
     ]
    },
    {
     "name": "stderr",
     "output_type": "stream",
     "text": [
      "100%|██████████| 1024/1024 [00:03<00:00, 260.85it/s]\n",
      " 44%|████▎     | 131/300 [49:58<1:03:29, 22.54s/it]"
     ]
    },
    {
     "name": "stdout",
     "output_type": "stream",
     "text": [
      "Saved instance information and point cloud data to /home/wan/Workplace-why/Part-SAM/part_scene_saved/0002/2/ins_info\n",
      "0179\n"
     ]
    },
    {
     "name": "stderr",
     "output_type": "stream",
     "text": [
      "100%|██████████| 1024/1024 [00:03<00:00, 262.58it/s]\n"
     ]
    },
    {
     "name": "stdout",
     "output_type": "stream",
     "text": [
      "Saved instance information and point cloud data to /home/wan/Workplace-why/Part-SAM/part_scene_saved/0179/0/ins_info\n"
     ]
    },
    {
     "name": "stderr",
     "output_type": "stream",
     "text": [
      "100%|██████████| 1024/1024 [00:03<00:00, 264.12it/s]\n"
     ]
    },
    {
     "name": "stdout",
     "output_type": "stream",
     "text": [
      "Saved instance information and point cloud data to /home/wan/Workplace-why/Part-SAM/part_scene_saved/0179/1/ins_info\n"
     ]
    },
    {
     "name": "stderr",
     "output_type": "stream",
     "text": [
      "100%|██████████| 1024/1024 [00:03<00:00, 263.68it/s]\n",
      " 44%|████▍     | 132/300 [50:19<1:01:37, 22.01s/it]"
     ]
    },
    {
     "name": "stdout",
     "output_type": "stream",
     "text": [
      "Saved instance information and point cloud data to /home/wan/Workplace-why/Part-SAM/part_scene_saved/0179/2/ins_info\n",
      "0108\n"
     ]
    },
    {
     "name": "stderr",
     "output_type": "stream",
     "text": [
      "100%|██████████| 1024/1024 [00:03<00:00, 259.71it/s]\n"
     ]
    },
    {
     "name": "stdout",
     "output_type": "stream",
     "text": [
      "Saved instance information and point cloud data to /home/wan/Workplace-why/Part-SAM/part_scene_saved/0108/0/ins_info\n"
     ]
    },
    {
     "name": "stderr",
     "output_type": "stream",
     "text": [
      "100%|██████████| 1024/1024 [00:03<00:00, 260.40it/s]\n"
     ]
    },
    {
     "name": "stdout",
     "output_type": "stream",
     "text": [
      "Saved instance information and point cloud data to /home/wan/Workplace-why/Part-SAM/part_scene_saved/0108/1/ins_info\n"
     ]
    },
    {
     "name": "stderr",
     "output_type": "stream",
     "text": [
      "100%|██████████| 1024/1024 [00:03<00:00, 259.85it/s]\n",
      " 44%|████▍     | 133/300 [50:40<1:00:02, 21.57s/it]"
     ]
    },
    {
     "name": "stdout",
     "output_type": "stream",
     "text": [
      "Saved instance information and point cloud data to /home/wan/Workplace-why/Part-SAM/part_scene_saved/0108/2/ins_info\n",
      "0241\n"
     ]
    },
    {
     "name": "stderr",
     "output_type": "stream",
     "text": [
      "100%|██████████| 1024/1024 [00:03<00:00, 260.56it/s]\n"
     ]
    },
    {
     "name": "stdout",
     "output_type": "stream",
     "text": [
      "Saved instance information and point cloud data to /home/wan/Workplace-why/Part-SAM/part_scene_saved/0241/0/ins_info\n"
     ]
    },
    {
     "name": "stderr",
     "output_type": "stream",
     "text": [
      "100%|██████████| 1024/1024 [00:03<00:00, 260.40it/s]\n"
     ]
    },
    {
     "name": "stdout",
     "output_type": "stream",
     "text": [
      "Saved instance information and point cloud data to /home/wan/Workplace-why/Part-SAM/part_scene_saved/0241/1/ins_info\n"
     ]
    },
    {
     "name": "stderr",
     "output_type": "stream",
     "text": [
      "100%|██████████| 1024/1024 [00:03<00:00, 261.35it/s]\n",
      " 45%|████▍     | 134/300 [51:00<58:51, 21.27s/it]  "
     ]
    },
    {
     "name": "stdout",
     "output_type": "stream",
     "text": [
      "Saved instance information and point cloud data to /home/wan/Workplace-why/Part-SAM/part_scene_saved/0241/2/ins_info\n",
      "0009\n"
     ]
    },
    {
     "name": "stderr",
     "output_type": "stream",
     "text": [
      "100%|██████████| 1024/1024 [00:03<00:00, 258.77it/s]\n"
     ]
    },
    {
     "name": "stdout",
     "output_type": "stream",
     "text": [
      "Saved instance information and point cloud data to /home/wan/Workplace-why/Part-SAM/part_scene_saved/0009/0/ins_info\n"
     ]
    },
    {
     "name": "stderr",
     "output_type": "stream",
     "text": [
      "100%|██████████| 1024/1024 [00:03<00:00, 259.74it/s]\n"
     ]
    },
    {
     "name": "stdout",
     "output_type": "stream",
     "text": [
      "Saved instance information and point cloud data to /home/wan/Workplace-why/Part-SAM/part_scene_saved/0009/1/ins_info\n"
     ]
    },
    {
     "name": "stderr",
     "output_type": "stream",
     "text": [
      "100%|██████████| 1024/1024 [00:03<00:00, 262.11it/s]\n",
      " 45%|████▌     | 135/300 [51:22<58:34, 21.30s/it]"
     ]
    },
    {
     "name": "stdout",
     "output_type": "stream",
     "text": [
      "Saved instance information and point cloud data to /home/wan/Workplace-why/Part-SAM/part_scene_saved/0009/2/ins_info\n",
      "0091\n"
     ]
    },
    {
     "name": "stderr",
     "output_type": "stream",
     "text": [
      "100%|██████████| 1024/1024 [00:03<00:00, 261.91it/s]\n"
     ]
    },
    {
     "name": "stdout",
     "output_type": "stream",
     "text": [
      "Saved instance information and point cloud data to /home/wan/Workplace-why/Part-SAM/part_scene_saved/0091/0/ins_info\n"
     ]
    },
    {
     "name": "stderr",
     "output_type": "stream",
     "text": [
      "100%|██████████| 1024/1024 [00:03<00:00, 261.09it/s]\n"
     ]
    },
    {
     "name": "stdout",
     "output_type": "stream",
     "text": [
      "Saved instance information and point cloud data to /home/wan/Workplace-why/Part-SAM/part_scene_saved/0091/1/ins_info\n"
     ]
    },
    {
     "name": "stderr",
     "output_type": "stream",
     "text": [
      "100%|██████████| 1024/1024 [00:03<00:00, 260.99it/s]\n",
      " 45%|████▌     | 136/300 [51:47<1:01:13, 22.40s/it]"
     ]
    },
    {
     "name": "stdout",
     "output_type": "stream",
     "text": [
      "Saved instance information and point cloud data to /home/wan/Workplace-why/Part-SAM/part_scene_saved/0091/2/ins_info\n",
      "0222\n"
     ]
    },
    {
     "name": "stderr",
     "output_type": "stream",
     "text": [
      "100%|██████████| 1024/1024 [00:04<00:00, 252.53it/s]\n"
     ]
    },
    {
     "name": "stdout",
     "output_type": "stream",
     "text": [
      "Saved instance information and point cloud data to /home/wan/Workplace-why/Part-SAM/part_scene_saved/0222/0/ins_info\n"
     ]
    },
    {
     "name": "stderr",
     "output_type": "stream",
     "text": [
      "100%|██████████| 1024/1024 [00:03<00:00, 261.57it/s]\n"
     ]
    },
    {
     "name": "stdout",
     "output_type": "stream",
     "text": [
      "Saved instance information and point cloud data to /home/wan/Workplace-why/Part-SAM/part_scene_saved/0222/1/ins_info\n"
     ]
    },
    {
     "name": "stderr",
     "output_type": "stream",
     "text": [
      "100%|██████████| 1024/1024 [00:03<00:00, 261.55it/s]\n",
      " 46%|████▌     | 137/300 [52:08<1:00:11, 22.16s/it]"
     ]
    },
    {
     "name": "stdout",
     "output_type": "stream",
     "text": [
      "Saved instance information and point cloud data to /home/wan/Workplace-why/Part-SAM/part_scene_saved/0222/2/ins_info\n",
      "0102\n"
     ]
    },
    {
     "name": "stderr",
     "output_type": "stream",
     "text": [
      "100%|██████████| 1024/1024 [00:03<00:00, 260.08it/s]\n"
     ]
    },
    {
     "name": "stdout",
     "output_type": "stream",
     "text": [
      "Saved instance information and point cloud data to /home/wan/Workplace-why/Part-SAM/part_scene_saved/0102/0/ins_info\n"
     ]
    },
    {
     "name": "stderr",
     "output_type": "stream",
     "text": [
      "100%|██████████| 1024/1024 [00:03<00:00, 260.80it/s]\n"
     ]
    },
    {
     "name": "stdout",
     "output_type": "stream",
     "text": [
      "Saved instance information and point cloud data to /home/wan/Workplace-why/Part-SAM/part_scene_saved/0102/1/ins_info\n"
     ]
    },
    {
     "name": "stderr",
     "output_type": "stream",
     "text": [
      "100%|██████████| 1024/1024 [00:03<00:00, 261.76it/s]\n",
      " 46%|████▌     | 138/300 [52:29<59:03, 21.87s/it]  "
     ]
    },
    {
     "name": "stdout",
     "output_type": "stream",
     "text": [
      "Saved instance information and point cloud data to /home/wan/Workplace-why/Part-SAM/part_scene_saved/0102/2/ins_info\n",
      "0021\n"
     ]
    },
    {
     "name": "stderr",
     "output_type": "stream",
     "text": [
      "100%|██████████| 1024/1024 [00:03<00:00, 261.45it/s]\n"
     ]
    },
    {
     "name": "stdout",
     "output_type": "stream",
     "text": [
      "Saved instance information and point cloud data to /home/wan/Workplace-why/Part-SAM/part_scene_saved/0021/0/ins_info\n"
     ]
    },
    {
     "name": "stderr",
     "output_type": "stream",
     "text": [
      "100%|██████████| 1024/1024 [00:03<00:00, 260.35it/s]\n"
     ]
    },
    {
     "name": "stdout",
     "output_type": "stream",
     "text": [
      "Saved instance information and point cloud data to /home/wan/Workplace-why/Part-SAM/part_scene_saved/0021/1/ins_info\n"
     ]
    },
    {
     "name": "stderr",
     "output_type": "stream",
     "text": [
      "100%|██████████| 1024/1024 [00:03<00:00, 260.71it/s]\n",
      " 46%|████▋     | 139/300 [52:52<59:20, 22.11s/it]"
     ]
    },
    {
     "name": "stdout",
     "output_type": "stream",
     "text": [
      "Saved instance information and point cloud data to /home/wan/Workplace-why/Part-SAM/part_scene_saved/0021/2/ins_info\n",
      "0109\n"
     ]
    },
    {
     "name": "stderr",
     "output_type": "stream",
     "text": [
      "100%|██████████| 1024/1024 [00:03<00:00, 260.38it/s]\n"
     ]
    },
    {
     "name": "stdout",
     "output_type": "stream",
     "text": [
      "Saved instance information and point cloud data to /home/wan/Workplace-why/Part-SAM/part_scene_saved/0109/0/ins_info\n"
     ]
    },
    {
     "name": "stderr",
     "output_type": "stream",
     "text": [
      "100%|██████████| 1024/1024 [00:03<00:00, 263.03it/s]\n"
     ]
    },
    {
     "name": "stdout",
     "output_type": "stream",
     "text": [
      "Saved instance information and point cloud data to /home/wan/Workplace-why/Part-SAM/part_scene_saved/0109/1/ins_info\n"
     ]
    },
    {
     "name": "stderr",
     "output_type": "stream",
     "text": [
      "100%|██████████| 1024/1024 [00:03<00:00, 262.72it/s]\n",
      " 47%|████▋     | 140/300 [53:14<59:01, 22.13s/it]"
     ]
    },
    {
     "name": "stdout",
     "output_type": "stream",
     "text": [
      "Saved instance information and point cloud data to /home/wan/Workplace-why/Part-SAM/part_scene_saved/0109/2/ins_info\n",
      "0155\n"
     ]
    },
    {
     "name": "stderr",
     "output_type": "stream",
     "text": [
      "100%|██████████| 1024/1024 [00:03<00:00, 261.50it/s]\n"
     ]
    },
    {
     "name": "stdout",
     "output_type": "stream",
     "text": [
      "Saved instance information and point cloud data to /home/wan/Workplace-why/Part-SAM/part_scene_saved/0155/0/ins_info\n"
     ]
    },
    {
     "name": "stderr",
     "output_type": "stream",
     "text": [
      "100%|██████████| 1024/1024 [00:03<00:00, 262.40it/s]\n"
     ]
    },
    {
     "name": "stdout",
     "output_type": "stream",
     "text": [
      "Saved instance information and point cloud data to /home/wan/Workplace-why/Part-SAM/part_scene_saved/0155/1/ins_info\n"
     ]
    },
    {
     "name": "stderr",
     "output_type": "stream",
     "text": [
      "100%|██████████| 1024/1024 [00:03<00:00, 262.11it/s]\n",
      " 47%|████▋     | 141/300 [53:40<1:01:38, 23.26s/it]"
     ]
    },
    {
     "name": "stdout",
     "output_type": "stream",
     "text": [
      "Saved instance information and point cloud data to /home/wan/Workplace-why/Part-SAM/part_scene_saved/0155/2/ins_info\n",
      "0293\n"
     ]
    },
    {
     "name": "stderr",
     "output_type": "stream",
     "text": [
      "100%|██████████| 1024/1024 [00:03<00:00, 261.72it/s]\n"
     ]
    },
    {
     "name": "stdout",
     "output_type": "stream",
     "text": [
      "Saved instance information and point cloud data to /home/wan/Workplace-why/Part-SAM/part_scene_saved/0293/0/ins_info\n"
     ]
    },
    {
     "name": "stderr",
     "output_type": "stream",
     "text": [
      "100%|██████████| 1024/1024 [00:03<00:00, 262.29it/s]\n"
     ]
    },
    {
     "name": "stdout",
     "output_type": "stream",
     "text": [
      "Saved instance information and point cloud data to /home/wan/Workplace-why/Part-SAM/part_scene_saved/0293/1/ins_info\n"
     ]
    },
    {
     "name": "stderr",
     "output_type": "stream",
     "text": [
      "100%|██████████| 1024/1024 [00:03<00:00, 263.17it/s]\n",
      " 47%|████▋     | 142/300 [54:01<59:06, 22.44s/it]  "
     ]
    },
    {
     "name": "stdout",
     "output_type": "stream",
     "text": [
      "Saved instance information and point cloud data to /home/wan/Workplace-why/Part-SAM/part_scene_saved/0293/2/ins_info\n",
      "0285\n"
     ]
    },
    {
     "name": "stderr",
     "output_type": "stream",
     "text": [
      "100%|██████████| 1024/1024 [00:03<00:00, 262.69it/s]\n"
     ]
    },
    {
     "name": "stdout",
     "output_type": "stream",
     "text": [
      "Saved instance information and point cloud data to /home/wan/Workplace-why/Part-SAM/part_scene_saved/0285/0/ins_info\n"
     ]
    },
    {
     "name": "stderr",
     "output_type": "stream",
     "text": [
      "100%|██████████| 1024/1024 [00:03<00:00, 263.61it/s]\n"
     ]
    },
    {
     "name": "stdout",
     "output_type": "stream",
     "text": [
      "Saved instance information and point cloud data to /home/wan/Workplace-why/Part-SAM/part_scene_saved/0285/1/ins_info\n"
     ]
    },
    {
     "name": "stderr",
     "output_type": "stream",
     "text": [
      "100%|██████████| 1024/1024 [00:03<00:00, 262.24it/s]\n",
      " 48%|████▊     | 143/300 [54:22<57:36, 22.02s/it]"
     ]
    },
    {
     "name": "stdout",
     "output_type": "stream",
     "text": [
      "Saved instance information and point cloud data to /home/wan/Workplace-why/Part-SAM/part_scene_saved/0285/2/ins_info\n",
      "0095\n"
     ]
    },
    {
     "name": "stderr",
     "output_type": "stream",
     "text": [
      "100%|██████████| 1024/1024 [00:03<00:00, 262.38it/s]\n"
     ]
    },
    {
     "name": "stdout",
     "output_type": "stream",
     "text": [
      "Saved instance information and point cloud data to /home/wan/Workplace-why/Part-SAM/part_scene_saved/0095/0/ins_info\n"
     ]
    },
    {
     "name": "stderr",
     "output_type": "stream",
     "text": [
      "100%|██████████| 1024/1024 [00:03<00:00, 263.73it/s]\n"
     ]
    },
    {
     "name": "stdout",
     "output_type": "stream",
     "text": [
      "Saved instance information and point cloud data to /home/wan/Workplace-why/Part-SAM/part_scene_saved/0095/1/ins_info\n"
     ]
    },
    {
     "name": "stderr",
     "output_type": "stream",
     "text": [
      "100%|██████████| 1024/1024 [00:03<00:00, 263.26it/s]\n",
      " 48%|████▊     | 144/300 [54:46<58:53, 22.65s/it]"
     ]
    },
    {
     "name": "stdout",
     "output_type": "stream",
     "text": [
      "Saved instance information and point cloud data to /home/wan/Workplace-why/Part-SAM/part_scene_saved/0095/2/ins_info\n",
      "0079\n"
     ]
    },
    {
     "name": "stderr",
     "output_type": "stream",
     "text": [
      "100%|██████████| 1024/1024 [00:03<00:00, 262.63it/s]\n"
     ]
    },
    {
     "name": "stdout",
     "output_type": "stream",
     "text": [
      "Saved instance information and point cloud data to /home/wan/Workplace-why/Part-SAM/part_scene_saved/0079/0/ins_info\n"
     ]
    },
    {
     "name": "stderr",
     "output_type": "stream",
     "text": [
      "100%|██████████| 1024/1024 [00:03<00:00, 263.35it/s]\n"
     ]
    },
    {
     "name": "stdout",
     "output_type": "stream",
     "text": [
      "Saved instance information and point cloud data to /home/wan/Workplace-why/Part-SAM/part_scene_saved/0079/1/ins_info\n"
     ]
    },
    {
     "name": "stderr",
     "output_type": "stream",
     "text": [
      "100%|██████████| 1024/1024 [00:03<00:00, 263.23it/s]\n",
      " 48%|████▊     | 145/300 [55:09<58:57, 22.82s/it]"
     ]
    },
    {
     "name": "stdout",
     "output_type": "stream",
     "text": [
      "Saved instance information and point cloud data to /home/wan/Workplace-why/Part-SAM/part_scene_saved/0079/2/ins_info\n",
      "0119\n"
     ]
    },
    {
     "name": "stderr",
     "output_type": "stream",
     "text": [
      "100%|██████████| 1024/1024 [00:03<00:00, 263.72it/s]\n"
     ]
    },
    {
     "name": "stdout",
     "output_type": "stream",
     "text": [
      "Saved instance information and point cloud data to /home/wan/Workplace-why/Part-SAM/part_scene_saved/0119/0/ins_info\n"
     ]
    },
    {
     "name": "stderr",
     "output_type": "stream",
     "text": [
      "100%|██████████| 1024/1024 [00:03<00:00, 261.68it/s]\n"
     ]
    },
    {
     "name": "stdout",
     "output_type": "stream",
     "text": [
      "Saved instance information and point cloud data to /home/wan/Workplace-why/Part-SAM/part_scene_saved/0119/1/ins_info\n"
     ]
    },
    {
     "name": "stderr",
     "output_type": "stream",
     "text": [
      "100%|██████████| 1024/1024 [00:03<00:00, 261.45it/s]\n",
      " 49%|████▊     | 146/300 [55:33<59:50, 23.32s/it]"
     ]
    },
    {
     "name": "stdout",
     "output_type": "stream",
     "text": [
      "Saved instance information and point cloud data to /home/wan/Workplace-why/Part-SAM/part_scene_saved/0119/2/ins_info\n",
      "0133\n"
     ]
    },
    {
     "name": "stderr",
     "output_type": "stream",
     "text": [
      "100%|██████████| 1024/1024 [00:03<00:00, 262.03it/s]\n"
     ]
    },
    {
     "name": "stdout",
     "output_type": "stream",
     "text": [
      "Saved instance information and point cloud data to /home/wan/Workplace-why/Part-SAM/part_scene_saved/0133/0/ins_info\n"
     ]
    },
    {
     "name": "stderr",
     "output_type": "stream",
     "text": [
      "100%|██████████| 1024/1024 [00:03<00:00, 261.37it/s]\n"
     ]
    },
    {
     "name": "stdout",
     "output_type": "stream",
     "text": [
      "Saved instance information and point cloud data to /home/wan/Workplace-why/Part-SAM/part_scene_saved/0133/1/ins_info\n"
     ]
    },
    {
     "name": "stderr",
     "output_type": "stream",
     "text": [
      "100%|██████████| 1024/1024 [00:03<00:00, 260.22it/s]\n",
      " 49%|████▉     | 147/300 [56:02<1:03:36, 24.94s/it]"
     ]
    },
    {
     "name": "stdout",
     "output_type": "stream",
     "text": [
      "Saved instance information and point cloud data to /home/wan/Workplace-why/Part-SAM/part_scene_saved/0133/2/ins_info\n",
      "0130\n"
     ]
    },
    {
     "name": "stderr",
     "output_type": "stream",
     "text": [
      "100%|██████████| 1024/1024 [00:03<00:00, 262.97it/s]\n"
     ]
    },
    {
     "name": "stdout",
     "output_type": "stream",
     "text": [
      "Saved instance information and point cloud data to /home/wan/Workplace-why/Part-SAM/part_scene_saved/0130/0/ins_info\n"
     ]
    },
    {
     "name": "stderr",
     "output_type": "stream",
     "text": [
      "100%|██████████| 1024/1024 [00:03<00:00, 262.30it/s]\n"
     ]
    },
    {
     "name": "stdout",
     "output_type": "stream",
     "text": [
      "Saved instance information and point cloud data to /home/wan/Workplace-why/Part-SAM/part_scene_saved/0130/1/ins_info\n"
     ]
    },
    {
     "name": "stderr",
     "output_type": "stream",
     "text": [
      "100%|██████████| 1024/1024 [00:03<00:00, 260.65it/s]\n",
      " 49%|████▉     | 148/300 [56:22<59:36, 23.53s/it]  "
     ]
    },
    {
     "name": "stdout",
     "output_type": "stream",
     "text": [
      "Saved instance information and point cloud data to /home/wan/Workplace-why/Part-SAM/part_scene_saved/0130/2/ins_info\n",
      "0141\n"
     ]
    },
    {
     "name": "stderr",
     "output_type": "stream",
     "text": [
      "100%|██████████| 1024/1024 [00:04<00:00, 255.39it/s]\n"
     ]
    },
    {
     "name": "stdout",
     "output_type": "stream",
     "text": [
      "Saved instance information and point cloud data to /home/wan/Workplace-why/Part-SAM/part_scene_saved/0141/0/ins_info\n"
     ]
    },
    {
     "name": "stderr",
     "output_type": "stream",
     "text": [
      "100%|██████████| 1024/1024 [00:03<00:00, 259.17it/s]\n"
     ]
    },
    {
     "name": "stdout",
     "output_type": "stream",
     "text": [
      "Saved instance information and point cloud data to /home/wan/Workplace-why/Part-SAM/part_scene_saved/0141/1/ins_info\n"
     ]
    },
    {
     "name": "stderr",
     "output_type": "stream",
     "text": [
      "100%|██████████| 1024/1024 [00:03<00:00, 260.69it/s]\n",
      " 50%|████▉     | 149/300 [56:44<57:45, 22.95s/it]"
     ]
    },
    {
     "name": "stdout",
     "output_type": "stream",
     "text": [
      "Saved instance information and point cloud data to /home/wan/Workplace-why/Part-SAM/part_scene_saved/0141/2/ins_info\n",
      "0234\n"
     ]
    },
    {
     "name": "stderr",
     "output_type": "stream",
     "text": [
      "100%|██████████| 1024/1024 [00:03<00:00, 260.00it/s]\n"
     ]
    },
    {
     "name": "stdout",
     "output_type": "stream",
     "text": [
      "Saved instance information and point cloud data to /home/wan/Workplace-why/Part-SAM/part_scene_saved/0234/0/ins_info\n"
     ]
    },
    {
     "name": "stderr",
     "output_type": "stream",
     "text": [
      "100%|██████████| 1024/1024 [00:03<00:00, 264.49it/s]\n"
     ]
    },
    {
     "name": "stdout",
     "output_type": "stream",
     "text": [
      "Saved instance information and point cloud data to /home/wan/Workplace-why/Part-SAM/part_scene_saved/0234/1/ins_info\n"
     ]
    },
    {
     "name": "stderr",
     "output_type": "stream",
     "text": [
      "100%|██████████| 1024/1024 [00:03<00:00, 263.31it/s]\n",
      " 50%|█████     | 150/300 [57:09<58:39, 23.46s/it]"
     ]
    },
    {
     "name": "stdout",
     "output_type": "stream",
     "text": [
      "Saved instance information and point cloud data to /home/wan/Workplace-why/Part-SAM/part_scene_saved/0234/2/ins_info\n",
      "0188\n"
     ]
    },
    {
     "name": "stderr",
     "output_type": "stream",
     "text": [
      "100%|██████████| 1024/1024 [00:03<00:00, 262.61it/s]\n"
     ]
    },
    {
     "name": "stdout",
     "output_type": "stream",
     "text": [
      "Saved instance information and point cloud data to /home/wan/Workplace-why/Part-SAM/part_scene_saved/0188/0/ins_info\n"
     ]
    },
    {
     "name": "stderr",
     "output_type": "stream",
     "text": [
      "100%|██████████| 1024/1024 [00:03<00:00, 262.73it/s]\n"
     ]
    },
    {
     "name": "stdout",
     "output_type": "stream",
     "text": [
      "Saved instance information and point cloud data to /home/wan/Workplace-why/Part-SAM/part_scene_saved/0188/1/ins_info\n"
     ]
    },
    {
     "name": "stderr",
     "output_type": "stream",
     "text": [
      "100%|██████████| 1024/1024 [00:03<00:00, 263.67it/s]\n",
      " 50%|█████     | 151/300 [57:30<56:17, 22.67s/it]"
     ]
    },
    {
     "name": "stdout",
     "output_type": "stream",
     "text": [
      "Saved instance information and point cloud data to /home/wan/Workplace-why/Part-SAM/part_scene_saved/0188/2/ins_info\n",
      "0101\n"
     ]
    },
    {
     "name": "stderr",
     "output_type": "stream",
     "text": [
      "100%|██████████| 1024/1024 [00:03<00:00, 261.13it/s]\n"
     ]
    },
    {
     "name": "stdout",
     "output_type": "stream",
     "text": [
      "Saved instance information and point cloud data to /home/wan/Workplace-why/Part-SAM/part_scene_saved/0101/0/ins_info\n"
     ]
    },
    {
     "name": "stderr",
     "output_type": "stream",
     "text": [
      "100%|██████████| 1024/1024 [00:03<00:00, 261.97it/s]\n"
     ]
    },
    {
     "name": "stdout",
     "output_type": "stream",
     "text": [
      "Saved instance information and point cloud data to /home/wan/Workplace-why/Part-SAM/part_scene_saved/0101/1/ins_info\n"
     ]
    },
    {
     "name": "stderr",
     "output_type": "stream",
     "text": [
      "100%|██████████| 1024/1024 [00:03<00:00, 262.46it/s]\n",
      " 51%|█████     | 152/300 [57:50<54:36, 22.14s/it]"
     ]
    },
    {
     "name": "stdout",
     "output_type": "stream",
     "text": [
      "Saved instance information and point cloud data to /home/wan/Workplace-why/Part-SAM/part_scene_saved/0101/2/ins_info\n",
      "0123\n"
     ]
    },
    {
     "name": "stderr",
     "output_type": "stream",
     "text": [
      "100%|██████████| 1024/1024 [00:03<00:00, 261.22it/s]\n"
     ]
    },
    {
     "name": "stdout",
     "output_type": "stream",
     "text": [
      "Saved instance information and point cloud data to /home/wan/Workplace-why/Part-SAM/part_scene_saved/0123/0/ins_info\n"
     ]
    },
    {
     "name": "stderr",
     "output_type": "stream",
     "text": [
      "100%|██████████| 1024/1024 [00:03<00:00, 257.75it/s]\n"
     ]
    },
    {
     "name": "stdout",
     "output_type": "stream",
     "text": [
      "Saved instance information and point cloud data to /home/wan/Workplace-why/Part-SAM/part_scene_saved/0123/1/ins_info\n"
     ]
    },
    {
     "name": "stderr",
     "output_type": "stream",
     "text": [
      "100%|██████████| 1024/1024 [00:03<00:00, 261.92it/s]\n",
      " 51%|█████     | 153/300 [58:11<53:19, 21.77s/it]"
     ]
    },
    {
     "name": "stdout",
     "output_type": "stream",
     "text": [
      "Saved instance information and point cloud data to /home/wan/Workplace-why/Part-SAM/part_scene_saved/0123/2/ins_info\n",
      "0112\n"
     ]
    },
    {
     "name": "stderr",
     "output_type": "stream",
     "text": [
      "100%|██████████| 1024/1024 [00:03<00:00, 260.02it/s]\n"
     ]
    },
    {
     "name": "stdout",
     "output_type": "stream",
     "text": [
      "Saved instance information and point cloud data to /home/wan/Workplace-why/Part-SAM/part_scene_saved/0112/0/ins_info\n"
     ]
    },
    {
     "name": "stderr",
     "output_type": "stream",
     "text": [
      "100%|██████████| 1024/1024 [00:03<00:00, 262.86it/s]\n"
     ]
    },
    {
     "name": "stdout",
     "output_type": "stream",
     "text": [
      "Saved instance information and point cloud data to /home/wan/Workplace-why/Part-SAM/part_scene_saved/0112/1/ins_info\n"
     ]
    },
    {
     "name": "stderr",
     "output_type": "stream",
     "text": [
      "100%|██████████| 1024/1024 [00:03<00:00, 261.53it/s]\n",
      " 51%|█████▏    | 154/300 [58:32<52:30, 21.58s/it]"
     ]
    },
    {
     "name": "stdout",
     "output_type": "stream",
     "text": [
      "Saved instance information and point cloud data to /home/wan/Workplace-why/Part-SAM/part_scene_saved/0112/2/ins_info\n",
      "0272\n"
     ]
    },
    {
     "name": "stderr",
     "output_type": "stream",
     "text": [
      "100%|██████████| 1024/1024 [00:03<00:00, 261.90it/s]\n"
     ]
    },
    {
     "name": "stdout",
     "output_type": "stream",
     "text": [
      "Saved instance information and point cloud data to /home/wan/Workplace-why/Part-SAM/part_scene_saved/0272/0/ins_info\n"
     ]
    },
    {
     "name": "stderr",
     "output_type": "stream",
     "text": [
      "100%|██████████| 1024/1024 [00:03<00:00, 263.39it/s]\n"
     ]
    },
    {
     "name": "stdout",
     "output_type": "stream",
     "text": [
      "Saved instance information and point cloud data to /home/wan/Workplace-why/Part-SAM/part_scene_saved/0272/1/ins_info\n"
     ]
    },
    {
     "name": "stderr",
     "output_type": "stream",
     "text": [
      "100%|██████████| 1024/1024 [00:04<00:00, 251.67it/s]\n",
      " 52%|█████▏    | 155/300 [58:54<52:07, 21.57s/it]"
     ]
    },
    {
     "name": "stdout",
     "output_type": "stream",
     "text": [
      "Saved instance information and point cloud data to /home/wan/Workplace-why/Part-SAM/part_scene_saved/0272/2/ins_info\n",
      "0080\n"
     ]
    },
    {
     "name": "stderr",
     "output_type": "stream",
     "text": [
      "100%|██████████| 1024/1024 [00:03<00:00, 261.73it/s]\n"
     ]
    },
    {
     "name": "stdout",
     "output_type": "stream",
     "text": [
      "Saved instance information and point cloud data to /home/wan/Workplace-why/Part-SAM/part_scene_saved/0080/0/ins_info\n"
     ]
    },
    {
     "name": "stderr",
     "output_type": "stream",
     "text": [
      "100%|██████████| 1024/1024 [00:03<00:00, 260.39it/s]\n"
     ]
    },
    {
     "name": "stdout",
     "output_type": "stream",
     "text": [
      "Saved instance information and point cloud data to /home/wan/Workplace-why/Part-SAM/part_scene_saved/0080/1/ins_info\n"
     ]
    },
    {
     "name": "stderr",
     "output_type": "stream",
     "text": [
      "100%|██████████| 1024/1024 [00:03<00:00, 260.02it/s]\n",
      " 52%|█████▏    | 156/300 [59:19<54:05, 22.54s/it]"
     ]
    },
    {
     "name": "stdout",
     "output_type": "stream",
     "text": [
      "Saved instance information and point cloud data to /home/wan/Workplace-why/Part-SAM/part_scene_saved/0080/2/ins_info\n",
      "0001\n"
     ]
    },
    {
     "name": "stderr",
     "output_type": "stream",
     "text": [
      "100%|██████████| 1024/1024 [00:03<00:00, 261.31it/s]\n"
     ]
    },
    {
     "name": "stdout",
     "output_type": "stream",
     "text": [
      "Saved instance information and point cloud data to /home/wan/Workplace-why/Part-SAM/part_scene_saved/0001/0/ins_info\n"
     ]
    },
    {
     "name": "stderr",
     "output_type": "stream",
     "text": [
      "100%|██████████| 1024/1024 [00:03<00:00, 261.43it/s]\n"
     ]
    },
    {
     "name": "stdout",
     "output_type": "stream",
     "text": [
      "Saved instance information and point cloud data to /home/wan/Workplace-why/Part-SAM/part_scene_saved/0001/1/ins_info\n"
     ]
    },
    {
     "name": "stderr",
     "output_type": "stream",
     "text": [
      "100%|██████████| 1024/1024 [00:03<00:00, 261.06it/s]\n",
      " 52%|█████▏    | 157/300 [59:42<53:56, 22.64s/it]"
     ]
    },
    {
     "name": "stdout",
     "output_type": "stream",
     "text": [
      "Saved instance information and point cloud data to /home/wan/Workplace-why/Part-SAM/part_scene_saved/0001/2/ins_info\n",
      "0127\n"
     ]
    },
    {
     "name": "stderr",
     "output_type": "stream",
     "text": [
      "100%|██████████| 1024/1024 [00:03<00:00, 259.57it/s]\n"
     ]
    },
    {
     "name": "stdout",
     "output_type": "stream",
     "text": [
      "Saved instance information and point cloud data to /home/wan/Workplace-why/Part-SAM/part_scene_saved/0127/0/ins_info\n"
     ]
    },
    {
     "name": "stderr",
     "output_type": "stream",
     "text": [
      "100%|██████████| 1024/1024 [00:03<00:00, 261.46it/s]\n"
     ]
    },
    {
     "name": "stdout",
     "output_type": "stream",
     "text": [
      "Saved instance information and point cloud data to /home/wan/Workplace-why/Part-SAM/part_scene_saved/0127/1/ins_info\n"
     ]
    },
    {
     "name": "stderr",
     "output_type": "stream",
     "text": [
      "100%|██████████| 1024/1024 [00:03<00:00, 262.09it/s]\n",
      " 53%|█████▎    | 158/300 [1:00:03<52:25, 22.15s/it]"
     ]
    },
    {
     "name": "stdout",
     "output_type": "stream",
     "text": [
      "Saved instance information and point cloud data to /home/wan/Workplace-why/Part-SAM/part_scene_saved/0127/2/ins_info\n",
      "0279\n"
     ]
    },
    {
     "name": "stderr",
     "output_type": "stream",
     "text": [
      "100%|██████████| 1024/1024 [00:03<00:00, 262.29it/s]\n"
     ]
    },
    {
     "name": "stdout",
     "output_type": "stream",
     "text": [
      "Saved instance information and point cloud data to /home/wan/Workplace-why/Part-SAM/part_scene_saved/0279/0/ins_info\n"
     ]
    },
    {
     "name": "stderr",
     "output_type": "stream",
     "text": [
      "100%|██████████| 1024/1024 [00:03<00:00, 260.96it/s]\n"
     ]
    },
    {
     "name": "stdout",
     "output_type": "stream",
     "text": [
      "Saved instance information and point cloud data to /home/wan/Workplace-why/Part-SAM/part_scene_saved/0279/1/ins_info\n"
     ]
    },
    {
     "name": "stderr",
     "output_type": "stream",
     "text": [
      "100%|██████████| 1024/1024 [00:03<00:00, 260.24it/s]\n",
      " 53%|█████▎    | 159/300 [1:00:23<50:52, 21.65s/it]"
     ]
    },
    {
     "name": "stdout",
     "output_type": "stream",
     "text": [
      "Saved instance information and point cloud data to /home/wan/Workplace-why/Part-SAM/part_scene_saved/0279/2/ins_info\n",
      "0015\n"
     ]
    },
    {
     "name": "stderr",
     "output_type": "stream",
     "text": [
      "100%|██████████| 1024/1024 [00:03<00:00, 263.20it/s]\n"
     ]
    },
    {
     "name": "stdout",
     "output_type": "stream",
     "text": [
      "Saved instance information and point cloud data to /home/wan/Workplace-why/Part-SAM/part_scene_saved/0015/0/ins_info\n"
     ]
    },
    {
     "name": "stderr",
     "output_type": "stream",
     "text": [
      "100%|██████████| 1024/1024 [00:03<00:00, 260.76it/s]\n"
     ]
    },
    {
     "name": "stdout",
     "output_type": "stream",
     "text": [
      "Saved instance information and point cloud data to /home/wan/Workplace-why/Part-SAM/part_scene_saved/0015/1/ins_info\n"
     ]
    },
    {
     "name": "stderr",
     "output_type": "stream",
     "text": [
      "100%|██████████| 1024/1024 [00:03<00:00, 261.77it/s]\n",
      " 53%|█████▎    | 160/300 [1:00:46<51:11, 21.94s/it]"
     ]
    },
    {
     "name": "stdout",
     "output_type": "stream",
     "text": [
      "Saved instance information and point cloud data to /home/wan/Workplace-why/Part-SAM/part_scene_saved/0015/2/ins_info\n",
      "0226\n"
     ]
    },
    {
     "name": "stderr",
     "output_type": "stream",
     "text": [
      "100%|██████████| 1024/1024 [00:03<00:00, 259.52it/s]\n"
     ]
    },
    {
     "name": "stdout",
     "output_type": "stream",
     "text": [
      "Saved instance information and point cloud data to /home/wan/Workplace-why/Part-SAM/part_scene_saved/0226/0/ins_info\n"
     ]
    },
    {
     "name": "stderr",
     "output_type": "stream",
     "text": [
      "100%|██████████| 1024/1024 [00:03<00:00, 261.59it/s]\n"
     ]
    },
    {
     "name": "stdout",
     "output_type": "stream",
     "text": [
      "Saved instance information and point cloud data to /home/wan/Workplace-why/Part-SAM/part_scene_saved/0226/1/ins_info\n"
     ]
    },
    {
     "name": "stderr",
     "output_type": "stream",
     "text": [
      "100%|██████████| 1024/1024 [00:03<00:00, 260.76it/s]\n",
      " 54%|█████▎    | 161/300 [1:01:06<49:45, 21.48s/it]"
     ]
    },
    {
     "name": "stdout",
     "output_type": "stream",
     "text": [
      "Saved instance information and point cloud data to /home/wan/Workplace-why/Part-SAM/part_scene_saved/0226/2/ins_info\n",
      "0061\n"
     ]
    },
    {
     "name": "stderr",
     "output_type": "stream",
     "text": [
      "100%|██████████| 1024/1024 [00:03<00:00, 259.97it/s]\n"
     ]
    },
    {
     "name": "stdout",
     "output_type": "stream",
     "text": [
      "Saved instance information and point cloud data to /home/wan/Workplace-why/Part-SAM/part_scene_saved/0061/0/ins_info\n"
     ]
    },
    {
     "name": "stderr",
     "output_type": "stream",
     "text": [
      "100%|██████████| 1024/1024 [00:03<00:00, 260.86it/s]\n"
     ]
    },
    {
     "name": "stdout",
     "output_type": "stream",
     "text": [
      "Saved instance information and point cloud data to /home/wan/Workplace-why/Part-SAM/part_scene_saved/0061/1/ins_info\n"
     ]
    },
    {
     "name": "stderr",
     "output_type": "stream",
     "text": [
      "100%|██████████| 1024/1024 [00:03<00:00, 260.80it/s]\n",
      " 54%|█████▍    | 162/300 [1:01:27<48:56, 21.28s/it]"
     ]
    },
    {
     "name": "stdout",
     "output_type": "stream",
     "text": [
      "Saved instance information and point cloud data to /home/wan/Workplace-why/Part-SAM/part_scene_saved/0061/2/ins_info\n",
      "0136\n"
     ]
    },
    {
     "name": "stderr",
     "output_type": "stream",
     "text": [
      "100%|██████████| 1024/1024 [00:03<00:00, 260.84it/s]\n"
     ]
    },
    {
     "name": "stdout",
     "output_type": "stream",
     "text": [
      "Saved instance information and point cloud data to /home/wan/Workplace-why/Part-SAM/part_scene_saved/0136/0/ins_info\n"
     ]
    },
    {
     "name": "stderr",
     "output_type": "stream",
     "text": [
      "100%|██████████| 1024/1024 [00:03<00:00, 261.26it/s]\n"
     ]
    },
    {
     "name": "stdout",
     "output_type": "stream",
     "text": [
      "Saved instance information and point cloud data to /home/wan/Workplace-why/Part-SAM/part_scene_saved/0136/1/ins_info\n"
     ]
    },
    {
     "name": "stderr",
     "output_type": "stream",
     "text": [
      "100%|██████████| 1024/1024 [00:03<00:00, 260.85it/s]\n",
      " 54%|█████▍    | 163/300 [1:01:53<51:53, 22.73s/it]"
     ]
    },
    {
     "name": "stdout",
     "output_type": "stream",
     "text": [
      "Saved instance information and point cloud data to /home/wan/Workplace-why/Part-SAM/part_scene_saved/0136/2/ins_info\n",
      "0254\n"
     ]
    },
    {
     "name": "stderr",
     "output_type": "stream",
     "text": [
      "100%|██████████| 1024/1024 [00:03<00:00, 258.07it/s]\n"
     ]
    },
    {
     "name": "stdout",
     "output_type": "stream",
     "text": [
      "Saved instance information and point cloud data to /home/wan/Workplace-why/Part-SAM/part_scene_saved/0254/0/ins_info\n"
     ]
    },
    {
     "name": "stderr",
     "output_type": "stream",
     "text": [
      "100%|██████████| 1024/1024 [00:03<00:00, 258.52it/s]\n"
     ]
    },
    {
     "name": "stdout",
     "output_type": "stream",
     "text": [
      "Saved instance information and point cloud data to /home/wan/Workplace-why/Part-SAM/part_scene_saved/0254/1/ins_info\n"
     ]
    },
    {
     "name": "stderr",
     "output_type": "stream",
     "text": [
      "100%|██████████| 1024/1024 [00:03<00:00, 260.62it/s]\n",
      " 55%|█████▍    | 164/300 [1:02:18<53:17, 23.51s/it]"
     ]
    },
    {
     "name": "stdout",
     "output_type": "stream",
     "text": [
      "Saved instance information and point cloud data to /home/wan/Workplace-why/Part-SAM/part_scene_saved/0254/2/ins_info\n",
      "0202\n"
     ]
    },
    {
     "name": "stderr",
     "output_type": "stream",
     "text": [
      "100%|██████████| 1024/1024 [00:03<00:00, 261.14it/s]\n"
     ]
    },
    {
     "name": "stdout",
     "output_type": "stream",
     "text": [
      "Saved instance information and point cloud data to /home/wan/Workplace-why/Part-SAM/part_scene_saved/0202/0/ins_info\n"
     ]
    },
    {
     "name": "stderr",
     "output_type": "stream",
     "text": [
      "100%|██████████| 1024/1024 [00:03<00:00, 260.66it/s]\n"
     ]
    },
    {
     "name": "stdout",
     "output_type": "stream",
     "text": [
      "Saved instance information and point cloud data to /home/wan/Workplace-why/Part-SAM/part_scene_saved/0202/1/ins_info\n"
     ]
    },
    {
     "name": "stderr",
     "output_type": "stream",
     "text": [
      "100%|██████████| 1024/1024 [00:03<00:00, 259.11it/s]\n",
      " 55%|█████▌    | 165/300 [1:02:41<51:59, 23.10s/it]"
     ]
    },
    {
     "name": "stdout",
     "output_type": "stream",
     "text": [
      "Saved instance information and point cloud data to /home/wan/Workplace-why/Part-SAM/part_scene_saved/0202/2/ins_info\n",
      "0110\n"
     ]
    },
    {
     "name": "stderr",
     "output_type": "stream",
     "text": [
      "100%|██████████| 1024/1024 [00:03<00:00, 260.59it/s]\n"
     ]
    },
    {
     "name": "stdout",
     "output_type": "stream",
     "text": [
      "Saved instance information and point cloud data to /home/wan/Workplace-why/Part-SAM/part_scene_saved/0110/0/ins_info\n"
     ]
    },
    {
     "name": "stderr",
     "output_type": "stream",
     "text": [
      "100%|██████████| 1024/1024 [00:03<00:00, 260.93it/s]\n"
     ]
    },
    {
     "name": "stdout",
     "output_type": "stream",
     "text": [
      "Saved instance information and point cloud data to /home/wan/Workplace-why/Part-SAM/part_scene_saved/0110/1/ins_info\n"
     ]
    },
    {
     "name": "stderr",
     "output_type": "stream",
     "text": [
      "100%|██████████| 1024/1024 [00:03<00:00, 260.17it/s]\n",
      " 55%|█████▌    | 166/300 [1:03:02<50:40, 22.69s/it]"
     ]
    },
    {
     "name": "stdout",
     "output_type": "stream",
     "text": [
      "Saved instance information and point cloud data to /home/wan/Workplace-why/Part-SAM/part_scene_saved/0110/2/ins_info\n",
      "0189\n"
     ]
    },
    {
     "name": "stderr",
     "output_type": "stream",
     "text": [
      "100%|██████████| 1024/1024 [00:03<00:00, 261.45it/s]\n"
     ]
    },
    {
     "name": "stdout",
     "output_type": "stream",
     "text": [
      "Saved instance information and point cloud data to /home/wan/Workplace-why/Part-SAM/part_scene_saved/0189/0/ins_info\n"
     ]
    },
    {
     "name": "stderr",
     "output_type": "stream",
     "text": [
      "100%|██████████| 1024/1024 [00:03<00:00, 261.40it/s]\n"
     ]
    },
    {
     "name": "stdout",
     "output_type": "stream",
     "text": [
      "Saved instance information and point cloud data to /home/wan/Workplace-why/Part-SAM/part_scene_saved/0189/1/ins_info\n"
     ]
    },
    {
     "name": "stderr",
     "output_type": "stream",
     "text": [
      "100%|██████████| 1024/1024 [00:03<00:00, 260.07it/s]\n",
      " 56%|█████▌    | 167/300 [1:03:35<56:43, 25.59s/it]"
     ]
    },
    {
     "name": "stdout",
     "output_type": "stream",
     "text": [
      "Saved instance information and point cloud data to /home/wan/Workplace-why/Part-SAM/part_scene_saved/0189/2/ins_info\n",
      "0086\n"
     ]
    },
    {
     "name": "stderr",
     "output_type": "stream",
     "text": [
      "100%|██████████| 1024/1024 [00:03<00:00, 261.79it/s]\n"
     ]
    },
    {
     "name": "stdout",
     "output_type": "stream",
     "text": [
      "Saved instance information and point cloud data to /home/wan/Workplace-why/Part-SAM/part_scene_saved/0086/0/ins_info\n"
     ]
    },
    {
     "name": "stderr",
     "output_type": "stream",
     "text": [
      "100%|██████████| 1024/1024 [00:03<00:00, 261.61it/s]\n"
     ]
    },
    {
     "name": "stdout",
     "output_type": "stream",
     "text": [
      "Saved instance information and point cloud data to /home/wan/Workplace-why/Part-SAM/part_scene_saved/0086/1/ins_info\n"
     ]
    },
    {
     "name": "stderr",
     "output_type": "stream",
     "text": [
      "100%|██████████| 1024/1024 [00:03<00:00, 260.82it/s]\n",
      " 56%|█████▌    | 168/300 [1:03:59<55:42, 25.32s/it]"
     ]
    },
    {
     "name": "stdout",
     "output_type": "stream",
     "text": [
      "Saved instance information and point cloud data to /home/wan/Workplace-why/Part-SAM/part_scene_saved/0086/2/ins_info\n",
      "0167\n"
     ]
    },
    {
     "name": "stderr",
     "output_type": "stream",
     "text": [
      "100%|██████████| 1024/1024 [00:03<00:00, 257.66it/s]\n"
     ]
    },
    {
     "name": "stdout",
     "output_type": "stream",
     "text": [
      "Saved instance information and point cloud data to /home/wan/Workplace-why/Part-SAM/part_scene_saved/0167/0/ins_info\n"
     ]
    },
    {
     "name": "stderr",
     "output_type": "stream",
     "text": [
      "100%|██████████| 1024/1024 [00:03<00:00, 259.60it/s]\n"
     ]
    },
    {
     "name": "stdout",
     "output_type": "stream",
     "text": [
      "Saved instance information and point cloud data to /home/wan/Workplace-why/Part-SAM/part_scene_saved/0167/1/ins_info\n"
     ]
    },
    {
     "name": "stderr",
     "output_type": "stream",
     "text": [
      "100%|██████████| 1024/1024 [00:03<00:00, 259.28it/s]\n",
      " 56%|█████▋    | 169/300 [1:04:26<56:15, 25.76s/it]"
     ]
    },
    {
     "name": "stdout",
     "output_type": "stream",
     "text": [
      "Saved instance information and point cloud data to /home/wan/Workplace-why/Part-SAM/part_scene_saved/0167/2/ins_info\n",
      "0046\n"
     ]
    },
    {
     "name": "stderr",
     "output_type": "stream",
     "text": [
      "100%|██████████| 1024/1024 [00:03<00:00, 259.22it/s]\n"
     ]
    },
    {
     "name": "stdout",
     "output_type": "stream",
     "text": [
      "Saved instance information and point cloud data to /home/wan/Workplace-why/Part-SAM/part_scene_saved/0046/0/ins_info\n"
     ]
    },
    {
     "name": "stderr",
     "output_type": "stream",
     "text": [
      "100%|██████████| 1024/1024 [00:03<00:00, 260.15it/s]\n"
     ]
    },
    {
     "name": "stdout",
     "output_type": "stream",
     "text": [
      "Saved instance information and point cloud data to /home/wan/Workplace-why/Part-SAM/part_scene_saved/0046/1/ins_info\n"
     ]
    },
    {
     "name": "stderr",
     "output_type": "stream",
     "text": [
      "100%|██████████| 1024/1024 [00:03<00:00, 260.11it/s]\n",
      " 57%|█████▋    | 170/300 [1:04:47<52:37, 24.29s/it]"
     ]
    },
    {
     "name": "stdout",
     "output_type": "stream",
     "text": [
      "Saved instance information and point cloud data to /home/wan/Workplace-why/Part-SAM/part_scene_saved/0046/2/ins_info\n",
      "0174\n"
     ]
    },
    {
     "name": "stderr",
     "output_type": "stream",
     "text": [
      "100%|██████████| 1024/1024 [00:03<00:00, 257.08it/s]\n"
     ]
    },
    {
     "name": "stdout",
     "output_type": "stream",
     "text": [
      "Saved instance information and point cloud data to /home/wan/Workplace-why/Part-SAM/part_scene_saved/0174/0/ins_info\n"
     ]
    },
    {
     "name": "stderr",
     "output_type": "stream",
     "text": [
      "100%|██████████| 1024/1024 [00:03<00:00, 259.49it/s]\n"
     ]
    },
    {
     "name": "stdout",
     "output_type": "stream",
     "text": [
      "Saved instance information and point cloud data to /home/wan/Workplace-why/Part-SAM/part_scene_saved/0174/1/ins_info\n"
     ]
    },
    {
     "name": "stderr",
     "output_type": "stream",
     "text": [
      "100%|██████████| 1024/1024 [00:03<00:00, 257.82it/s]\n",
      " 57%|█████▋    | 171/300 [1:05:08<50:20, 23.41s/it]"
     ]
    },
    {
     "name": "stdout",
     "output_type": "stream",
     "text": [
      "Saved instance information and point cloud data to /home/wan/Workplace-why/Part-SAM/part_scene_saved/0174/2/ins_info\n",
      "0011\n"
     ]
    },
    {
     "name": "stderr",
     "output_type": "stream",
     "text": [
      "100%|██████████| 1024/1024 [00:03<00:00, 260.04it/s]\n"
     ]
    },
    {
     "name": "stdout",
     "output_type": "stream",
     "text": [
      "Saved instance information and point cloud data to /home/wan/Workplace-why/Part-SAM/part_scene_saved/0011/0/ins_info\n"
     ]
    },
    {
     "name": "stderr",
     "output_type": "stream",
     "text": [
      "100%|██████████| 1024/1024 [00:03<00:00, 261.43it/s]\n"
     ]
    },
    {
     "name": "stdout",
     "output_type": "stream",
     "text": [
      "Saved instance information and point cloud data to /home/wan/Workplace-why/Part-SAM/part_scene_saved/0011/1/ins_info\n"
     ]
    },
    {
     "name": "stderr",
     "output_type": "stream",
     "text": [
      "100%|██████████| 1024/1024 [00:03<00:00, 261.20it/s]\n",
      " 57%|█████▋    | 172/300 [1:05:32<50:17, 23.58s/it]"
     ]
    },
    {
     "name": "stdout",
     "output_type": "stream",
     "text": [
      "Saved instance information and point cloud data to /home/wan/Workplace-why/Part-SAM/part_scene_saved/0011/2/ins_info\n",
      "0237\n"
     ]
    },
    {
     "name": "stderr",
     "output_type": "stream",
     "text": [
      "100%|██████████| 1024/1024 [00:03<00:00, 261.12it/s]\n"
     ]
    },
    {
     "name": "stdout",
     "output_type": "stream",
     "text": [
      "Saved instance information and point cloud data to /home/wan/Workplace-why/Part-SAM/part_scene_saved/0237/0/ins_info\n"
     ]
    },
    {
     "name": "stderr",
     "output_type": "stream",
     "text": [
      "100%|██████████| 1024/1024 [00:03<00:00, 261.98it/s]\n"
     ]
    },
    {
     "name": "stdout",
     "output_type": "stream",
     "text": [
      "Saved instance information and point cloud data to /home/wan/Workplace-why/Part-SAM/part_scene_saved/0237/1/ins_info\n"
     ]
    },
    {
     "name": "stderr",
     "output_type": "stream",
     "text": [
      "100%|██████████| 1024/1024 [00:03<00:00, 261.76it/s]\n",
      " 58%|█████▊    | 173/300 [1:06:01<53:24, 25.23s/it]"
     ]
    },
    {
     "name": "stdout",
     "output_type": "stream",
     "text": [
      "Saved instance information and point cloud data to /home/wan/Workplace-why/Part-SAM/part_scene_saved/0237/2/ins_info\n",
      "0289\n"
     ]
    },
    {
     "name": "stderr",
     "output_type": "stream",
     "text": [
      "100%|██████████| 1024/1024 [00:03<00:00, 260.63it/s]\n"
     ]
    },
    {
     "name": "stdout",
     "output_type": "stream",
     "text": [
      "Saved instance information and point cloud data to /home/wan/Workplace-why/Part-SAM/part_scene_saved/0289/0/ins_info\n"
     ]
    },
    {
     "name": "stderr",
     "output_type": "stream",
     "text": [
      "100%|██████████| 1024/1024 [00:03<00:00, 260.71it/s]\n"
     ]
    },
    {
     "name": "stdout",
     "output_type": "stream",
     "text": [
      "Saved instance information and point cloud data to /home/wan/Workplace-why/Part-SAM/part_scene_saved/0289/1/ins_info\n"
     ]
    },
    {
     "name": "stderr",
     "output_type": "stream",
     "text": [
      "100%|██████████| 1024/1024 [00:03<00:00, 260.75it/s]\n",
      " 58%|█████▊    | 174/300 [1:06:28<53:50, 25.64s/it]"
     ]
    },
    {
     "name": "stdout",
     "output_type": "stream",
     "text": [
      "Saved instance information and point cloud data to /home/wan/Workplace-why/Part-SAM/part_scene_saved/0289/2/ins_info\n",
      "0128\n"
     ]
    },
    {
     "name": "stderr",
     "output_type": "stream",
     "text": [
      "100%|██████████| 1024/1024 [00:04<00:00, 253.68it/s]\n"
     ]
    },
    {
     "name": "stdout",
     "output_type": "stream",
     "text": [
      "Saved instance information and point cloud data to /home/wan/Workplace-why/Part-SAM/part_scene_saved/0128/0/ins_info\n"
     ]
    },
    {
     "name": "stderr",
     "output_type": "stream",
     "text": [
      "100%|██████████| 1024/1024 [00:03<00:00, 259.01it/s]\n"
     ]
    },
    {
     "name": "stdout",
     "output_type": "stream",
     "text": [
      "Saved instance information and point cloud data to /home/wan/Workplace-why/Part-SAM/part_scene_saved/0128/1/ins_info\n"
     ]
    },
    {
     "name": "stderr",
     "output_type": "stream",
     "text": [
      "100%|██████████| 1024/1024 [00:03<00:00, 261.45it/s]\n",
      " 58%|█████▊    | 175/300 [1:06:55<54:15, 26.05s/it]"
     ]
    },
    {
     "name": "stdout",
     "output_type": "stream",
     "text": [
      "Saved instance information and point cloud data to /home/wan/Workplace-why/Part-SAM/part_scene_saved/0128/2/ins_info\n",
      "0040\n"
     ]
    },
    {
     "name": "stderr",
     "output_type": "stream",
     "text": [
      "100%|██████████| 1024/1024 [00:03<00:00, 262.44it/s]\n"
     ]
    },
    {
     "name": "stdout",
     "output_type": "stream",
     "text": [
      "Saved instance information and point cloud data to /home/wan/Workplace-why/Part-SAM/part_scene_saved/0040/0/ins_info\n"
     ]
    },
    {
     "name": "stderr",
     "output_type": "stream",
     "text": [
      "100%|██████████| 1024/1024 [00:03<00:00, 259.70it/s]\n"
     ]
    },
    {
     "name": "stdout",
     "output_type": "stream",
     "text": [
      "Saved instance information and point cloud data to /home/wan/Workplace-why/Part-SAM/part_scene_saved/0040/1/ins_info\n"
     ]
    },
    {
     "name": "stderr",
     "output_type": "stream",
     "text": [
      "100%|██████████| 1024/1024 [00:03<00:00, 261.25it/s]\n",
      " 59%|█████▊    | 176/300 [1:07:17<50:59, 24.68s/it]"
     ]
    },
    {
     "name": "stdout",
     "output_type": "stream",
     "text": [
      "Saved instance information and point cloud data to /home/wan/Workplace-why/Part-SAM/part_scene_saved/0040/2/ins_info\n",
      "0115\n"
     ]
    },
    {
     "name": "stderr",
     "output_type": "stream",
     "text": [
      "100%|██████████| 1024/1024 [00:03<00:00, 262.24it/s]\n"
     ]
    },
    {
     "name": "stdout",
     "output_type": "stream",
     "text": [
      "Saved instance information and point cloud data to /home/wan/Workplace-why/Part-SAM/part_scene_saved/0115/0/ins_info\n"
     ]
    },
    {
     "name": "stderr",
     "output_type": "stream",
     "text": [
      "100%|██████████| 1024/1024 [00:03<00:00, 260.12it/s]\n"
     ]
    },
    {
     "name": "stdout",
     "output_type": "stream",
     "text": [
      "Saved instance information and point cloud data to /home/wan/Workplace-why/Part-SAM/part_scene_saved/0115/1/ins_info\n"
     ]
    },
    {
     "name": "stderr",
     "output_type": "stream",
     "text": [
      "100%|██████████| 1024/1024 [00:03<00:00, 261.67it/s]\n",
      " 59%|█████▉    | 177/300 [1:07:39<49:23, 24.09s/it]"
     ]
    },
    {
     "name": "stdout",
     "output_type": "stream",
     "text": [
      "Saved instance information and point cloud data to /home/wan/Workplace-why/Part-SAM/part_scene_saved/0115/2/ins_info\n",
      "0172\n"
     ]
    },
    {
     "name": "stderr",
     "output_type": "stream",
     "text": [
      "100%|██████████| 1024/1024 [00:03<00:00, 261.12it/s]\n"
     ]
    },
    {
     "name": "stdout",
     "output_type": "stream",
     "text": [
      "Saved instance information and point cloud data to /home/wan/Workplace-why/Part-SAM/part_scene_saved/0172/0/ins_info\n"
     ]
    },
    {
     "name": "stderr",
     "output_type": "stream",
     "text": [
      "100%|██████████| 1024/1024 [00:03<00:00, 260.63it/s]\n"
     ]
    },
    {
     "name": "stdout",
     "output_type": "stream",
     "text": [
      "Saved instance information and point cloud data to /home/wan/Workplace-why/Part-SAM/part_scene_saved/0172/1/ins_info\n"
     ]
    },
    {
     "name": "stderr",
     "output_type": "stream",
     "text": [
      "100%|██████████| 1024/1024 [00:03<00:00, 259.50it/s]\n",
      " 59%|█████▉    | 178/300 [1:08:00<46:57, 23.10s/it]"
     ]
    },
    {
     "name": "stdout",
     "output_type": "stream",
     "text": [
      "Saved instance information and point cloud data to /home/wan/Workplace-why/Part-SAM/part_scene_saved/0172/2/ins_info\n",
      "0225\n"
     ]
    },
    {
     "name": "stderr",
     "output_type": "stream",
     "text": [
      "100%|██████████| 1024/1024 [00:03<00:00, 256.32it/s]\n"
     ]
    },
    {
     "name": "stdout",
     "output_type": "stream",
     "text": [
      "Saved instance information and point cloud data to /home/wan/Workplace-why/Part-SAM/part_scene_saved/0225/0/ins_info\n"
     ]
    },
    {
     "name": "stderr",
     "output_type": "stream",
     "text": [
      "100%|██████████| 1024/1024 [00:03<00:00, 261.04it/s]\n"
     ]
    },
    {
     "name": "stdout",
     "output_type": "stream",
     "text": [
      "Saved instance information and point cloud data to /home/wan/Workplace-why/Part-SAM/part_scene_saved/0225/1/ins_info\n"
     ]
    },
    {
     "name": "stderr",
     "output_type": "stream",
     "text": [
      "100%|██████████| 1024/1024 [00:03<00:00, 259.92it/s]\n",
      " 60%|█████▉    | 179/300 [1:08:21<45:21, 22.50s/it]"
     ]
    },
    {
     "name": "stdout",
     "output_type": "stream",
     "text": [
      "Saved instance information and point cloud data to /home/wan/Workplace-why/Part-SAM/part_scene_saved/0225/2/ins_info\n",
      "0276\n"
     ]
    },
    {
     "name": "stderr",
     "output_type": "stream",
     "text": [
      "100%|██████████| 1024/1024 [00:03<00:00, 258.80it/s]\n"
     ]
    },
    {
     "name": "stdout",
     "output_type": "stream",
     "text": [
      "Saved instance information and point cloud data to /home/wan/Workplace-why/Part-SAM/part_scene_saved/0276/0/ins_info\n"
     ]
    },
    {
     "name": "stderr",
     "output_type": "stream",
     "text": [
      "100%|██████████| 1024/1024 [00:03<00:00, 259.88it/s]\n"
     ]
    },
    {
     "name": "stdout",
     "output_type": "stream",
     "text": [
      "Saved instance information and point cloud data to /home/wan/Workplace-why/Part-SAM/part_scene_saved/0276/1/ins_info\n"
     ]
    },
    {
     "name": "stderr",
     "output_type": "stream",
     "text": [
      "100%|██████████| 1024/1024 [00:03<00:00, 257.86it/s]\n",
      " 60%|██████    | 180/300 [1:08:43<44:36, 22.31s/it]"
     ]
    },
    {
     "name": "stdout",
     "output_type": "stream",
     "text": [
      "Saved instance information and point cloud data to /home/wan/Workplace-why/Part-SAM/part_scene_saved/0276/2/ins_info\n",
      "0085\n"
     ]
    },
    {
     "name": "stderr",
     "output_type": "stream",
     "text": [
      "100%|██████████| 1024/1024 [00:03<00:00, 258.14it/s]\n"
     ]
    },
    {
     "name": "stdout",
     "output_type": "stream",
     "text": [
      "Saved instance information and point cloud data to /home/wan/Workplace-why/Part-SAM/part_scene_saved/0085/0/ins_info\n"
     ]
    },
    {
     "name": "stderr",
     "output_type": "stream",
     "text": [
      "100%|██████████| 1024/1024 [00:04<00:00, 253.13it/s]\n"
     ]
    },
    {
     "name": "stdout",
     "output_type": "stream",
     "text": [
      "Saved instance information and point cloud data to /home/wan/Workplace-why/Part-SAM/part_scene_saved/0085/1/ins_info\n"
     ]
    },
    {
     "name": "stderr",
     "output_type": "stream",
     "text": [
      "100%|██████████| 1024/1024 [00:03<00:00, 256.90it/s]\n",
      " 60%|██████    | 181/300 [1:09:04<43:41, 22.03s/it]"
     ]
    },
    {
     "name": "stdout",
     "output_type": "stream",
     "text": [
      "Saved instance information and point cloud data to /home/wan/Workplace-why/Part-SAM/part_scene_saved/0085/2/ins_info\n",
      "0266\n"
     ]
    },
    {
     "name": "stderr",
     "output_type": "stream",
     "text": [
      "100%|██████████| 1024/1024 [00:03<00:00, 258.81it/s]\n"
     ]
    },
    {
     "name": "stdout",
     "output_type": "stream",
     "text": [
      "Saved instance information and point cloud data to /home/wan/Workplace-why/Part-SAM/part_scene_saved/0266/0/ins_info\n"
     ]
    },
    {
     "name": "stderr",
     "output_type": "stream",
     "text": [
      "100%|██████████| 1024/1024 [00:03<00:00, 261.27it/s]\n"
     ]
    },
    {
     "name": "stdout",
     "output_type": "stream",
     "text": [
      "Saved instance information and point cloud data to /home/wan/Workplace-why/Part-SAM/part_scene_saved/0266/1/ins_info\n"
     ]
    },
    {
     "name": "stderr",
     "output_type": "stream",
     "text": [
      "100%|██████████| 1024/1024 [00:03<00:00, 260.14it/s]\n",
      " 61%|██████    | 182/300 [1:09:29<44:47, 22.77s/it]"
     ]
    },
    {
     "name": "stdout",
     "output_type": "stream",
     "text": [
      "Saved instance information and point cloud data to /home/wan/Workplace-why/Part-SAM/part_scene_saved/0266/2/ins_info\n",
      "0208\n"
     ]
    },
    {
     "name": "stderr",
     "output_type": "stream",
     "text": [
      "100%|██████████| 1024/1024 [00:03<00:00, 260.85it/s]\n"
     ]
    },
    {
     "name": "stdout",
     "output_type": "stream",
     "text": [
      "Saved instance information and point cloud data to /home/wan/Workplace-why/Part-SAM/part_scene_saved/0208/0/ins_info\n"
     ]
    },
    {
     "name": "stderr",
     "output_type": "stream",
     "text": [
      "100%|██████████| 1024/1024 [00:03<00:00, 262.37it/s]\n"
     ]
    },
    {
     "name": "stdout",
     "output_type": "stream",
     "text": [
      "Saved instance information and point cloud data to /home/wan/Workplace-why/Part-SAM/part_scene_saved/0208/1/ins_info\n"
     ]
    },
    {
     "name": "stderr",
     "output_type": "stream",
     "text": [
      "100%|██████████| 1024/1024 [00:03<00:00, 261.32it/s]\n",
      " 61%|██████    | 183/300 [1:09:50<43:30, 22.32s/it]"
     ]
    },
    {
     "name": "stdout",
     "output_type": "stream",
     "text": [
      "Saved instance information and point cloud data to /home/wan/Workplace-why/Part-SAM/part_scene_saved/0208/2/ins_info\n",
      "0089\n"
     ]
    },
    {
     "name": "stderr",
     "output_type": "stream",
     "text": [
      "100%|██████████| 1024/1024 [00:03<00:00, 258.88it/s]\n"
     ]
    },
    {
     "name": "stdout",
     "output_type": "stream",
     "text": [
      "Saved instance information and point cloud data to /home/wan/Workplace-why/Part-SAM/part_scene_saved/0089/0/ins_info\n"
     ]
    },
    {
     "name": "stderr",
     "output_type": "stream",
     "text": [
      "100%|██████████| 1024/1024 [00:03<00:00, 260.36it/s]\n"
     ]
    },
    {
     "name": "stdout",
     "output_type": "stream",
     "text": [
      "Saved instance information and point cloud data to /home/wan/Workplace-why/Part-SAM/part_scene_saved/0089/1/ins_info\n"
     ]
    },
    {
     "name": "stderr",
     "output_type": "stream",
     "text": [
      "100%|██████████| 1024/1024 [00:03<00:00, 259.55it/s]\n",
      " 61%|██████▏   | 184/300 [1:10:13<43:14, 22.36s/it]"
     ]
    },
    {
     "name": "stdout",
     "output_type": "stream",
     "text": [
      "Saved instance information and point cloud data to /home/wan/Workplace-why/Part-SAM/part_scene_saved/0089/2/ins_info\n",
      "0280\n"
     ]
    },
    {
     "name": "stderr",
     "output_type": "stream",
     "text": [
      "100%|██████████| 1024/1024 [00:03<00:00, 261.44it/s]\n"
     ]
    },
    {
     "name": "stdout",
     "output_type": "stream",
     "text": [
      "Saved instance information and point cloud data to /home/wan/Workplace-why/Part-SAM/part_scene_saved/0280/0/ins_info\n"
     ]
    },
    {
     "name": "stderr",
     "output_type": "stream",
     "text": [
      "100%|██████████| 1024/1024 [00:03<00:00, 261.15it/s]\n"
     ]
    },
    {
     "name": "stdout",
     "output_type": "stream",
     "text": [
      "Saved instance information and point cloud data to /home/wan/Workplace-why/Part-SAM/part_scene_saved/0280/1/ins_info\n"
     ]
    },
    {
     "name": "stderr",
     "output_type": "stream",
     "text": [
      "100%|██████████| 1024/1024 [00:03<00:00, 260.26it/s]\n",
      " 62%|██████▏   | 185/300 [1:10:34<42:16, 22.05s/it]"
     ]
    },
    {
     "name": "stdout",
     "output_type": "stream",
     "text": [
      "Saved instance information and point cloud data to /home/wan/Workplace-why/Part-SAM/part_scene_saved/0280/2/ins_info\n",
      "0116\n"
     ]
    },
    {
     "name": "stderr",
     "output_type": "stream",
     "text": [
      "100%|██████████| 1024/1024 [00:03<00:00, 260.45it/s]\n"
     ]
    },
    {
     "name": "stdout",
     "output_type": "stream",
     "text": [
      "Saved instance information and point cloud data to /home/wan/Workplace-why/Part-SAM/part_scene_saved/0116/0/ins_info\n"
     ]
    },
    {
     "name": "stderr",
     "output_type": "stream",
     "text": [
      "100%|██████████| 1024/1024 [00:03<00:00, 260.89it/s]\n"
     ]
    },
    {
     "name": "stdout",
     "output_type": "stream",
     "text": [
      "Saved instance information and point cloud data to /home/wan/Workplace-why/Part-SAM/part_scene_saved/0116/1/ins_info\n"
     ]
    },
    {
     "name": "stderr",
     "output_type": "stream",
     "text": [
      "100%|██████████| 1024/1024 [00:03<00:00, 262.21it/s]\n",
      " 62%|██████▏   | 186/300 [1:10:57<42:23, 22.31s/it]"
     ]
    },
    {
     "name": "stdout",
     "output_type": "stream",
     "text": [
      "Saved instance information and point cloud data to /home/wan/Workplace-why/Part-SAM/part_scene_saved/0116/2/ins_info\n",
      "0006\n"
     ]
    },
    {
     "name": "stderr",
     "output_type": "stream",
     "text": [
      "100%|██████████| 1024/1024 [00:04<00:00, 254.54it/s]\n"
     ]
    },
    {
     "name": "stdout",
     "output_type": "stream",
     "text": [
      "Saved instance information and point cloud data to /home/wan/Workplace-why/Part-SAM/part_scene_saved/0006/0/ins_info\n"
     ]
    },
    {
     "name": "stderr",
     "output_type": "stream",
     "text": [
      "100%|██████████| 1024/1024 [00:03<00:00, 261.48it/s]\n"
     ]
    },
    {
     "name": "stdout",
     "output_type": "stream",
     "text": [
      "Saved instance information and point cloud data to /home/wan/Workplace-why/Part-SAM/part_scene_saved/0006/1/ins_info\n"
     ]
    },
    {
     "name": "stderr",
     "output_type": "stream",
     "text": [
      "100%|██████████| 1024/1024 [00:03<00:00, 257.29it/s]\n",
      " 62%|██████▏   | 187/300 [1:11:25<45:14, 24.03s/it]"
     ]
    },
    {
     "name": "stdout",
     "output_type": "stream",
     "text": [
      "Saved instance information and point cloud data to /home/wan/Workplace-why/Part-SAM/part_scene_saved/0006/2/ins_info\n",
      "0060\n"
     ]
    },
    {
     "name": "stderr",
     "output_type": "stream",
     "text": [
      "100%|██████████| 1024/1024 [00:04<00:00, 254.84it/s]\n"
     ]
    },
    {
     "name": "stdout",
     "output_type": "stream",
     "text": [
      "Saved instance information and point cloud data to /home/wan/Workplace-why/Part-SAM/part_scene_saved/0060/0/ins_info\n"
     ]
    },
    {
     "name": "stderr",
     "output_type": "stream",
     "text": [
      "100%|██████████| 1024/1024 [00:03<00:00, 261.07it/s]\n"
     ]
    },
    {
     "name": "stdout",
     "output_type": "stream",
     "text": [
      "Saved instance information and point cloud data to /home/wan/Workplace-why/Part-SAM/part_scene_saved/0060/1/ins_info\n"
     ]
    },
    {
     "name": "stderr",
     "output_type": "stream",
     "text": [
      "100%|██████████| 1024/1024 [00:03<00:00, 263.58it/s]\n",
      " 63%|██████▎   | 188/300 [1:11:46<43:05, 23.08s/it]"
     ]
    },
    {
     "name": "stdout",
     "output_type": "stream",
     "text": [
      "Saved instance information and point cloud data to /home/wan/Workplace-why/Part-SAM/part_scene_saved/0060/2/ins_info\n",
      "0270\n"
     ]
    },
    {
     "name": "stderr",
     "output_type": "stream",
     "text": [
      "100%|██████████| 1024/1024 [00:03<00:00, 263.25it/s]\n"
     ]
    },
    {
     "name": "stdout",
     "output_type": "stream",
     "text": [
      "Saved instance information and point cloud data to /home/wan/Workplace-why/Part-SAM/part_scene_saved/0270/0/ins_info\n"
     ]
    },
    {
     "name": "stderr",
     "output_type": "stream",
     "text": [
      "100%|██████████| 1024/1024 [00:03<00:00, 262.63it/s]\n"
     ]
    },
    {
     "name": "stdout",
     "output_type": "stream",
     "text": [
      "Saved instance information and point cloud data to /home/wan/Workplace-why/Part-SAM/part_scene_saved/0270/1/ins_info\n"
     ]
    },
    {
     "name": "stderr",
     "output_type": "stream",
     "text": [
      "100%|██████████| 1024/1024 [00:03<00:00, 263.65it/s]\n",
      " 63%|██████▎   | 189/300 [1:12:16<46:38, 25.21s/it]"
     ]
    },
    {
     "name": "stdout",
     "output_type": "stream",
     "text": [
      "Saved instance information and point cloud data to /home/wan/Workplace-why/Part-SAM/part_scene_saved/0270/2/ins_info\n",
      "0219\n"
     ]
    },
    {
     "name": "stderr",
     "output_type": "stream",
     "text": [
      "100%|██████████| 1024/1024 [00:03<00:00, 264.05it/s]\n"
     ]
    },
    {
     "name": "stdout",
     "output_type": "stream",
     "text": [
      "Saved instance information and point cloud data to /home/wan/Workplace-why/Part-SAM/part_scene_saved/0219/0/ins_info\n"
     ]
    },
    {
     "name": "stderr",
     "output_type": "stream",
     "text": [
      "100%|██████████| 1024/1024 [00:03<00:00, 264.02it/s]\n"
     ]
    },
    {
     "name": "stdout",
     "output_type": "stream",
     "text": [
      "Saved instance information and point cloud data to /home/wan/Workplace-why/Part-SAM/part_scene_saved/0219/1/ins_info\n"
     ]
    },
    {
     "name": "stderr",
     "output_type": "stream",
     "text": [
      "100%|██████████| 1024/1024 [00:03<00:00, 263.61it/s]\n",
      " 63%|██████▎   | 190/300 [1:12:37<43:55, 23.96s/it]"
     ]
    },
    {
     "name": "stdout",
     "output_type": "stream",
     "text": [
      "Saved instance information and point cloud data to /home/wan/Workplace-why/Part-SAM/part_scene_saved/0219/2/ins_info\n",
      "0243\n"
     ]
    },
    {
     "name": "stderr",
     "output_type": "stream",
     "text": [
      "100%|██████████| 1024/1024 [00:03<00:00, 262.57it/s]\n"
     ]
    },
    {
     "name": "stdout",
     "output_type": "stream",
     "text": [
      "Saved instance information and point cloud data to /home/wan/Workplace-why/Part-SAM/part_scene_saved/0243/0/ins_info\n"
     ]
    },
    {
     "name": "stderr",
     "output_type": "stream",
     "text": [
      "100%|██████████| 1024/1024 [00:03<00:00, 261.52it/s]\n"
     ]
    },
    {
     "name": "stdout",
     "output_type": "stream",
     "text": [
      "Saved instance information and point cloud data to /home/wan/Workplace-why/Part-SAM/part_scene_saved/0243/1/ins_info\n"
     ]
    },
    {
     "name": "stderr",
     "output_type": "stream",
     "text": [
      "100%|██████████| 1024/1024 [00:03<00:00, 263.23it/s]\n",
      " 64%|██████▎   | 191/300 [1:13:01<43:43, 24.07s/it]"
     ]
    },
    {
     "name": "stdout",
     "output_type": "stream",
     "text": [
      "Saved instance information and point cloud data to /home/wan/Workplace-why/Part-SAM/part_scene_saved/0243/2/ins_info\n",
      "0137\n"
     ]
    },
    {
     "name": "stderr",
     "output_type": "stream",
     "text": [
      "100%|██████████| 1024/1024 [00:03<00:00, 263.63it/s]\n"
     ]
    },
    {
     "name": "stdout",
     "output_type": "stream",
     "text": [
      "Saved instance information and point cloud data to /home/wan/Workplace-why/Part-SAM/part_scene_saved/0137/0/ins_info\n"
     ]
    },
    {
     "name": "stderr",
     "output_type": "stream",
     "text": [
      "100%|██████████| 1024/1024 [00:03<00:00, 262.34it/s]\n"
     ]
    },
    {
     "name": "stdout",
     "output_type": "stream",
     "text": [
      "Saved instance information and point cloud data to /home/wan/Workplace-why/Part-SAM/part_scene_saved/0137/1/ins_info\n"
     ]
    },
    {
     "name": "stderr",
     "output_type": "stream",
     "text": [
      "100%|██████████| 1024/1024 [00:03<00:00, 262.68it/s]\n",
      " 64%|██████▍   | 192/300 [1:13:23<41:51, 23.25s/it]"
     ]
    },
    {
     "name": "stdout",
     "output_type": "stream",
     "text": [
      "Saved instance information and point cloud data to /home/wan/Workplace-why/Part-SAM/part_scene_saved/0137/2/ins_info\n",
      "0023\n"
     ]
    },
    {
     "name": "stderr",
     "output_type": "stream",
     "text": [
      "100%|██████████| 1024/1024 [00:03<00:00, 262.00it/s]\n"
     ]
    },
    {
     "name": "stdout",
     "output_type": "stream",
     "text": [
      "Saved instance information and point cloud data to /home/wan/Workplace-why/Part-SAM/part_scene_saved/0023/0/ins_info\n"
     ]
    },
    {
     "name": "stderr",
     "output_type": "stream",
     "text": [
      "100%|██████████| 1024/1024 [00:03<00:00, 262.79it/s]\n"
     ]
    },
    {
     "name": "stdout",
     "output_type": "stream",
     "text": [
      "Saved instance information and point cloud data to /home/wan/Workplace-why/Part-SAM/part_scene_saved/0023/1/ins_info\n"
     ]
    },
    {
     "name": "stderr",
     "output_type": "stream",
     "text": [
      "100%|██████████| 1024/1024 [00:04<00:00, 251.80it/s]\n",
      " 64%|██████▍   | 193/300 [1:13:46<41:32, 23.29s/it]"
     ]
    },
    {
     "name": "stdout",
     "output_type": "stream",
     "text": [
      "Saved instance information and point cloud data to /home/wan/Workplace-why/Part-SAM/part_scene_saved/0023/2/ins_info\n",
      "0031\n"
     ]
    },
    {
     "name": "stderr",
     "output_type": "stream",
     "text": [
      "100%|██████████| 1024/1024 [00:03<00:00, 260.32it/s]\n"
     ]
    },
    {
     "name": "stdout",
     "output_type": "stream",
     "text": [
      "Saved instance information and point cloud data to /home/wan/Workplace-why/Part-SAM/part_scene_saved/0031/0/ins_info\n"
     ]
    },
    {
     "name": "stderr",
     "output_type": "stream",
     "text": [
      "100%|██████████| 1024/1024 [00:03<00:00, 261.76it/s]\n"
     ]
    },
    {
     "name": "stdout",
     "output_type": "stream",
     "text": [
      "Saved instance information and point cloud data to /home/wan/Workplace-why/Part-SAM/part_scene_saved/0031/1/ins_info\n"
     ]
    },
    {
     "name": "stderr",
     "output_type": "stream",
     "text": [
      "100%|██████████| 1024/1024 [00:03<00:00, 261.41it/s]\n",
      " 65%|██████▍   | 194/300 [1:14:07<39:48, 22.53s/it]"
     ]
    },
    {
     "name": "stdout",
     "output_type": "stream",
     "text": [
      "Saved instance information and point cloud data to /home/wan/Workplace-why/Part-SAM/part_scene_saved/0031/2/ins_info\n",
      "0099\n"
     ]
    },
    {
     "name": "stderr",
     "output_type": "stream",
     "text": [
      "100%|██████████| 1024/1024 [00:03<00:00, 260.64it/s]\n"
     ]
    },
    {
     "name": "stdout",
     "output_type": "stream",
     "text": [
      "Saved instance information and point cloud data to /home/wan/Workplace-why/Part-SAM/part_scene_saved/0099/0/ins_info\n"
     ]
    },
    {
     "name": "stderr",
     "output_type": "stream",
     "text": [
      "100%|██████████| 1024/1024 [00:03<00:00, 261.07it/s]\n"
     ]
    },
    {
     "name": "stdout",
     "output_type": "stream",
     "text": [
      "Saved instance information and point cloud data to /home/wan/Workplace-why/Part-SAM/part_scene_saved/0099/1/ins_info\n"
     ]
    },
    {
     "name": "stderr",
     "output_type": "stream",
     "text": [
      "100%|██████████| 1024/1024 [00:03<00:00, 263.95it/s]\n",
      " 65%|██████▌   | 195/300 [1:14:31<40:23, 23.08s/it]"
     ]
    },
    {
     "name": "stdout",
     "output_type": "stream",
     "text": [
      "Saved instance information and point cloud data to /home/wan/Workplace-why/Part-SAM/part_scene_saved/0099/2/ins_info\n",
      "0140\n"
     ]
    },
    {
     "name": "stderr",
     "output_type": "stream",
     "text": [
      "100%|██████████| 1024/1024 [00:03<00:00, 262.33it/s]\n"
     ]
    },
    {
     "name": "stdout",
     "output_type": "stream",
     "text": [
      "Saved instance information and point cloud data to /home/wan/Workplace-why/Part-SAM/part_scene_saved/0140/0/ins_info\n"
     ]
    },
    {
     "name": "stderr",
     "output_type": "stream",
     "text": [
      "100%|██████████| 1024/1024 [00:03<00:00, 258.38it/s]\n"
     ]
    },
    {
     "name": "stdout",
     "output_type": "stream",
     "text": [
      "Saved instance information and point cloud data to /home/wan/Workplace-why/Part-SAM/part_scene_saved/0140/1/ins_info\n"
     ]
    },
    {
     "name": "stderr",
     "output_type": "stream",
     "text": [
      "100%|██████████| 1024/1024 [00:03<00:00, 261.55it/s]\n",
      " 65%|██████▌   | 196/300 [1:14:52<39:02, 22.52s/it]"
     ]
    },
    {
     "name": "stdout",
     "output_type": "stream",
     "text": [
      "Saved instance information and point cloud data to /home/wan/Workplace-why/Part-SAM/part_scene_saved/0140/2/ins_info\n",
      "0129\n"
     ]
    },
    {
     "name": "stderr",
     "output_type": "stream",
     "text": [
      "100%|██████████| 1024/1024 [00:03<00:00, 261.33it/s]\n"
     ]
    },
    {
     "name": "stdout",
     "output_type": "stream",
     "text": [
      "Saved instance information and point cloud data to /home/wan/Workplace-why/Part-SAM/part_scene_saved/0129/0/ins_info\n"
     ]
    },
    {
     "name": "stderr",
     "output_type": "stream",
     "text": [
      "100%|██████████| 1024/1024 [00:03<00:00, 261.16it/s]\n"
     ]
    },
    {
     "name": "stdout",
     "output_type": "stream",
     "text": [
      "Saved instance information and point cloud data to /home/wan/Workplace-why/Part-SAM/part_scene_saved/0129/1/ins_info\n"
     ]
    },
    {
     "name": "stderr",
     "output_type": "stream",
     "text": [
      "100%|██████████| 1024/1024 [00:03<00:00, 259.13it/s]\n",
      " 66%|██████▌   | 197/300 [1:15:13<37:42, 21.96s/it]"
     ]
    },
    {
     "name": "stdout",
     "output_type": "stream",
     "text": [
      "Saved instance information and point cloud data to /home/wan/Workplace-why/Part-SAM/part_scene_saved/0129/2/ins_info\n",
      "0012\n"
     ]
    },
    {
     "name": "stderr",
     "output_type": "stream",
     "text": [
      "100%|██████████| 1024/1024 [00:03<00:00, 259.23it/s]\n"
     ]
    },
    {
     "name": "stdout",
     "output_type": "stream",
     "text": [
      "Saved instance information and point cloud data to /home/wan/Workplace-why/Part-SAM/part_scene_saved/0012/0/ins_info\n"
     ]
    },
    {
     "name": "stderr",
     "output_type": "stream",
     "text": [
      "100%|██████████| 1024/1024 [00:03<00:00, 261.80it/s]\n"
     ]
    },
    {
     "name": "stdout",
     "output_type": "stream",
     "text": [
      "Saved instance information and point cloud data to /home/wan/Workplace-why/Part-SAM/part_scene_saved/0012/1/ins_info\n"
     ]
    },
    {
     "name": "stderr",
     "output_type": "stream",
     "text": [
      "100%|██████████| 1024/1024 [00:03<00:00, 261.91it/s]\n",
      " 66%|██████▌   | 198/300 [1:15:37<38:29, 22.64s/it]"
     ]
    },
    {
     "name": "stdout",
     "output_type": "stream",
     "text": [
      "Saved instance information and point cloud data to /home/wan/Workplace-why/Part-SAM/part_scene_saved/0012/2/ins_info\n",
      "0093\n"
     ]
    },
    {
     "name": "stderr",
     "output_type": "stream",
     "text": [
      "100%|██████████| 1024/1024 [00:03<00:00, 261.93it/s]\n"
     ]
    },
    {
     "name": "stdout",
     "output_type": "stream",
     "text": [
      "Saved instance information and point cloud data to /home/wan/Workplace-why/Part-SAM/part_scene_saved/0093/0/ins_info\n"
     ]
    },
    {
     "name": "stderr",
     "output_type": "stream",
     "text": [
      "100%|██████████| 1024/1024 [00:03<00:00, 263.07it/s]\n"
     ]
    },
    {
     "name": "stdout",
     "output_type": "stream",
     "text": [
      "Saved instance information and point cloud data to /home/wan/Workplace-why/Part-SAM/part_scene_saved/0093/1/ins_info\n"
     ]
    },
    {
     "name": "stderr",
     "output_type": "stream",
     "text": [
      "100%|██████████| 1024/1024 [00:03<00:00, 262.59it/s]\n",
      " 66%|██████▋   | 199/300 [1:16:03<39:44, 23.61s/it]"
     ]
    },
    {
     "name": "stdout",
     "output_type": "stream",
     "text": [
      "Saved instance information and point cloud data to /home/wan/Workplace-why/Part-SAM/part_scene_saved/0093/2/ins_info\n",
      "0000\n"
     ]
    },
    {
     "name": "stderr",
     "output_type": "stream",
     "text": [
      "100%|██████████| 1024/1024 [00:03<00:00, 263.72it/s]\n"
     ]
    },
    {
     "name": "stdout",
     "output_type": "stream",
     "text": [
      "Saved instance information and point cloud data to /home/wan/Workplace-why/Part-SAM/part_scene_saved/0000/0/ins_info\n"
     ]
    },
    {
     "name": "stderr",
     "output_type": "stream",
     "text": [
      "100%|██████████| 1024/1024 [00:03<00:00, 259.70it/s]\n"
     ]
    },
    {
     "name": "stdout",
     "output_type": "stream",
     "text": [
      "Saved instance information and point cloud data to /home/wan/Workplace-why/Part-SAM/part_scene_saved/0000/1/ins_info\n"
     ]
    },
    {
     "name": "stderr",
     "output_type": "stream",
     "text": [
      "100%|██████████| 1024/1024 [00:03<00:00, 259.72it/s]\n",
      " 67%|██████▋   | 200/300 [1:16:30<40:45, 24.46s/it]"
     ]
    },
    {
     "name": "stdout",
     "output_type": "stream",
     "text": [
      "Saved instance information and point cloud data to /home/wan/Workplace-why/Part-SAM/part_scene_saved/0000/2/ins_info\n",
      "0261\n"
     ]
    },
    {
     "name": "stderr",
     "output_type": "stream",
     "text": [
      "100%|██████████| 1024/1024 [00:03<00:00, 261.65it/s]\n"
     ]
    },
    {
     "name": "stdout",
     "output_type": "stream",
     "text": [
      "Saved instance information and point cloud data to /home/wan/Workplace-why/Part-SAM/part_scene_saved/0261/0/ins_info\n"
     ]
    },
    {
     "name": "stderr",
     "output_type": "stream",
     "text": [
      "100%|██████████| 1024/1024 [00:03<00:00, 257.86it/s]\n"
     ]
    },
    {
     "name": "stdout",
     "output_type": "stream",
     "text": [
      "Saved instance information and point cloud data to /home/wan/Workplace-why/Part-SAM/part_scene_saved/0261/1/ins_info\n"
     ]
    },
    {
     "name": "stderr",
     "output_type": "stream",
     "text": [
      "100%|██████████| 1024/1024 [00:03<00:00, 261.23it/s]\n",
      " 67%|██████▋   | 201/300 [1:16:50<38:24, 23.28s/it]"
     ]
    },
    {
     "name": "stdout",
     "output_type": "stream",
     "text": [
      "Saved instance information and point cloud data to /home/wan/Workplace-why/Part-SAM/part_scene_saved/0261/2/ins_info\n",
      "0156\n"
     ]
    },
    {
     "name": "stderr",
     "output_type": "stream",
     "text": [
      "100%|██████████| 1024/1024 [00:03<00:00, 258.93it/s]\n"
     ]
    },
    {
     "name": "stdout",
     "output_type": "stream",
     "text": [
      "Saved instance information and point cloud data to /home/wan/Workplace-why/Part-SAM/part_scene_saved/0156/0/ins_info\n"
     ]
    },
    {
     "name": "stderr",
     "output_type": "stream",
     "text": [
      "100%|██████████| 1024/1024 [00:03<00:00, 261.30it/s]\n"
     ]
    },
    {
     "name": "stdout",
     "output_type": "stream",
     "text": [
      "Saved instance information and point cloud data to /home/wan/Workplace-why/Part-SAM/part_scene_saved/0156/1/ins_info\n"
     ]
    },
    {
     "name": "stderr",
     "output_type": "stream",
     "text": [
      "100%|██████████| 1024/1024 [00:03<00:00, 259.30it/s]\n",
      " 67%|██████▋   | 202/300 [1:17:21<41:36, 25.48s/it]"
     ]
    },
    {
     "name": "stdout",
     "output_type": "stream",
     "text": [
      "Saved instance information and point cloud data to /home/wan/Workplace-why/Part-SAM/part_scene_saved/0156/2/ins_info\n",
      "0092\n"
     ]
    },
    {
     "name": "stderr",
     "output_type": "stream",
     "text": [
      "100%|██████████| 1024/1024 [00:03<00:00, 260.75it/s]\n"
     ]
    },
    {
     "name": "stdout",
     "output_type": "stream",
     "text": [
      "Saved instance information and point cloud data to /home/wan/Workplace-why/Part-SAM/part_scene_saved/0092/0/ins_info\n"
     ]
    },
    {
     "name": "stderr",
     "output_type": "stream",
     "text": [
      "100%|██████████| 1024/1024 [00:03<00:00, 263.40it/s]\n"
     ]
    },
    {
     "name": "stdout",
     "output_type": "stream",
     "text": [
      "Saved instance information and point cloud data to /home/wan/Workplace-why/Part-SAM/part_scene_saved/0092/1/ins_info\n"
     ]
    },
    {
     "name": "stderr",
     "output_type": "stream",
     "text": [
      "100%|██████████| 1024/1024 [00:03<00:00, 261.54it/s]\n",
      " 68%|██████▊   | 203/300 [1:17:42<39:19, 24.32s/it]"
     ]
    },
    {
     "name": "stdout",
     "output_type": "stream",
     "text": [
      "Saved instance information and point cloud data to /home/wan/Workplace-why/Part-SAM/part_scene_saved/0092/2/ins_info\n",
      "0216\n"
     ]
    },
    {
     "name": "stderr",
     "output_type": "stream",
     "text": [
      "100%|██████████| 1024/1024 [00:03<00:00, 260.71it/s]\n"
     ]
    },
    {
     "name": "stdout",
     "output_type": "stream",
     "text": [
      "Saved instance information and point cloud data to /home/wan/Workplace-why/Part-SAM/part_scene_saved/0216/0/ins_info\n"
     ]
    },
    {
     "name": "stderr",
     "output_type": "stream",
     "text": [
      "100%|██████████| 1024/1024 [00:03<00:00, 260.91it/s]\n"
     ]
    },
    {
     "name": "stdout",
     "output_type": "stream",
     "text": [
      "Saved instance information and point cloud data to /home/wan/Workplace-why/Part-SAM/part_scene_saved/0216/1/ins_info\n"
     ]
    },
    {
     "name": "stderr",
     "output_type": "stream",
     "text": [
      "100%|██████████| 1024/1024 [00:04<00:00, 255.43it/s]\n",
      " 68%|██████▊   | 204/300 [1:18:08<39:35, 24.75s/it]"
     ]
    },
    {
     "name": "stdout",
     "output_type": "stream",
     "text": [
      "Saved instance information and point cloud data to /home/wan/Workplace-why/Part-SAM/part_scene_saved/0216/2/ins_info\n",
      "0269\n"
     ]
    },
    {
     "name": "stderr",
     "output_type": "stream",
     "text": [
      "100%|██████████| 1024/1024 [00:03<00:00, 257.80it/s]\n"
     ]
    },
    {
     "name": "stdout",
     "output_type": "stream",
     "text": [
      "Saved instance information and point cloud data to /home/wan/Workplace-why/Part-SAM/part_scene_saved/0269/0/ins_info\n"
     ]
    },
    {
     "name": "stderr",
     "output_type": "stream",
     "text": [
      "100%|██████████| 1024/1024 [00:03<00:00, 261.37it/s]\n"
     ]
    },
    {
     "name": "stdout",
     "output_type": "stream",
     "text": [
      "Saved instance information and point cloud data to /home/wan/Workplace-why/Part-SAM/part_scene_saved/0269/1/ins_info\n"
     ]
    },
    {
     "name": "stderr",
     "output_type": "stream",
     "text": [
      "100%|██████████| 1024/1024 [00:03<00:00, 261.78it/s]\n",
      " 68%|██████▊   | 205/300 [1:18:29<37:30, 23.69s/it]"
     ]
    },
    {
     "name": "stdout",
     "output_type": "stream",
     "text": [
      "Saved instance information and point cloud data to /home/wan/Workplace-why/Part-SAM/part_scene_saved/0269/2/ins_info\n",
      "0286\n"
     ]
    },
    {
     "name": "stderr",
     "output_type": "stream",
     "text": [
      "100%|██████████| 1024/1024 [00:03<00:00, 260.80it/s]\n"
     ]
    },
    {
     "name": "stdout",
     "output_type": "stream",
     "text": [
      "Saved instance information and point cloud data to /home/wan/Workplace-why/Part-SAM/part_scene_saved/0286/0/ins_info\n"
     ]
    },
    {
     "name": "stderr",
     "output_type": "stream",
     "text": [
      "100%|██████████| 1024/1024 [00:03<00:00, 258.38it/s]\n"
     ]
    },
    {
     "name": "stdout",
     "output_type": "stream",
     "text": [
      "Saved instance information and point cloud data to /home/wan/Workplace-why/Part-SAM/part_scene_saved/0286/1/ins_info\n"
     ]
    },
    {
     "name": "stderr",
     "output_type": "stream",
     "text": [
      "100%|██████████| 1024/1024 [00:03<00:00, 258.31it/s]\n",
      " 69%|██████▊   | 206/300 [1:18:53<37:21, 23.84s/it]"
     ]
    },
    {
     "name": "stdout",
     "output_type": "stream",
     "text": [
      "Saved instance information and point cloud data to /home/wan/Workplace-why/Part-SAM/part_scene_saved/0286/2/ins_info\n",
      "0050\n"
     ]
    },
    {
     "name": "stderr",
     "output_type": "stream",
     "text": [
      "100%|██████████| 1024/1024 [00:03<00:00, 261.85it/s]\n"
     ]
    },
    {
     "name": "stdout",
     "output_type": "stream",
     "text": [
      "Saved instance information and point cloud data to /home/wan/Workplace-why/Part-SAM/part_scene_saved/0050/0/ins_info\n"
     ]
    },
    {
     "name": "stderr",
     "output_type": "stream",
     "text": [
      "100%|██████████| 1024/1024 [00:03<00:00, 259.57it/s]\n"
     ]
    },
    {
     "name": "stdout",
     "output_type": "stream",
     "text": [
      "Saved instance information and point cloud data to /home/wan/Workplace-why/Part-SAM/part_scene_saved/0050/1/ins_info\n"
     ]
    },
    {
     "name": "stderr",
     "output_type": "stream",
     "text": [
      "100%|██████████| 1024/1024 [00:03<00:00, 257.22it/s]\n",
      " 69%|██████▉   | 207/300 [1:19:15<35:44, 23.06s/it]"
     ]
    },
    {
     "name": "stdout",
     "output_type": "stream",
     "text": [
      "Saved instance information and point cloud data to /home/wan/Workplace-why/Part-SAM/part_scene_saved/0050/2/ins_info\n",
      "0217\n"
     ]
    },
    {
     "name": "stderr",
     "output_type": "stream",
     "text": [
      "100%|██████████| 1024/1024 [00:03<00:00, 258.06it/s]\n"
     ]
    },
    {
     "name": "stdout",
     "output_type": "stream",
     "text": [
      "Saved instance information and point cloud data to /home/wan/Workplace-why/Part-SAM/part_scene_saved/0217/0/ins_info\n"
     ]
    },
    {
     "name": "stderr",
     "output_type": "stream",
     "text": [
      "100%|██████████| 1024/1024 [00:04<00:00, 255.94it/s]\n"
     ]
    },
    {
     "name": "stdout",
     "output_type": "stream",
     "text": [
      "Saved instance information and point cloud data to /home/wan/Workplace-why/Part-SAM/part_scene_saved/0217/1/ins_info\n"
     ]
    },
    {
     "name": "stderr",
     "output_type": "stream",
     "text": [
      "100%|██████████| 1024/1024 [00:04<00:00, 251.61it/s]\n",
      " 69%|██████▉   | 208/300 [1:19:41<36:42, 23.94s/it]"
     ]
    },
    {
     "name": "stdout",
     "output_type": "stream",
     "text": [
      "Saved instance information and point cloud data to /home/wan/Workplace-why/Part-SAM/part_scene_saved/0217/2/ins_info\n",
      "0170\n"
     ]
    },
    {
     "name": "stderr",
     "output_type": "stream",
     "text": [
      "100%|██████████| 1024/1024 [00:03<00:00, 261.39it/s]\n"
     ]
    },
    {
     "name": "stdout",
     "output_type": "stream",
     "text": [
      "Saved instance information and point cloud data to /home/wan/Workplace-why/Part-SAM/part_scene_saved/0170/0/ins_info\n"
     ]
    },
    {
     "name": "stderr",
     "output_type": "stream",
     "text": [
      "100%|██████████| 1024/1024 [00:03<00:00, 261.46it/s]\n"
     ]
    },
    {
     "name": "stdout",
     "output_type": "stream",
     "text": [
      "Saved instance information and point cloud data to /home/wan/Workplace-why/Part-SAM/part_scene_saved/0170/1/ins_info\n"
     ]
    },
    {
     "name": "stderr",
     "output_type": "stream",
     "text": [
      "100%|██████████| 1024/1024 [00:03<00:00, 262.22it/s]\n",
      " 70%|██████▉   | 209/300 [1:20:07<37:26, 24.69s/it]"
     ]
    },
    {
     "name": "stdout",
     "output_type": "stream",
     "text": [
      "Saved instance information and point cloud data to /home/wan/Workplace-why/Part-SAM/part_scene_saved/0170/2/ins_info\n",
      "0072\n"
     ]
    },
    {
     "name": "stderr",
     "output_type": "stream",
     "text": [
      "100%|██████████| 1024/1024 [00:03<00:00, 260.38it/s]\n"
     ]
    },
    {
     "name": "stdout",
     "output_type": "stream",
     "text": [
      "Saved instance information and point cloud data to /home/wan/Workplace-why/Part-SAM/part_scene_saved/0072/0/ins_info\n"
     ]
    },
    {
     "name": "stderr",
     "output_type": "stream",
     "text": [
      "100%|██████████| 1024/1024 [00:03<00:00, 261.01it/s]\n"
     ]
    },
    {
     "name": "stdout",
     "output_type": "stream",
     "text": [
      "Saved instance information and point cloud data to /home/wan/Workplace-why/Part-SAM/part_scene_saved/0072/1/ins_info\n"
     ]
    },
    {
     "name": "stderr",
     "output_type": "stream",
     "text": [
      "100%|██████████| 1024/1024 [00:03<00:00, 257.87it/s]\n",
      " 70%|███████   | 210/300 [1:20:29<35:37, 23.75s/it]"
     ]
    },
    {
     "name": "stdout",
     "output_type": "stream",
     "text": [
      "Saved instance information and point cloud data to /home/wan/Workplace-why/Part-SAM/part_scene_saved/0072/2/ins_info\n",
      "0138\n"
     ]
    },
    {
     "name": "stderr",
     "output_type": "stream",
     "text": [
      "100%|██████████| 1024/1024 [00:03<00:00, 261.45it/s]\n"
     ]
    },
    {
     "name": "stdout",
     "output_type": "stream",
     "text": [
      "Saved instance information and point cloud data to /home/wan/Workplace-why/Part-SAM/part_scene_saved/0138/0/ins_info\n"
     ]
    },
    {
     "name": "stderr",
     "output_type": "stream",
     "text": [
      "100%|██████████| 1024/1024 [00:03<00:00, 260.77it/s]\n"
     ]
    },
    {
     "name": "stdout",
     "output_type": "stream",
     "text": [
      "Saved instance information and point cloud data to /home/wan/Workplace-why/Part-SAM/part_scene_saved/0138/1/ins_info\n"
     ]
    },
    {
     "name": "stderr",
     "output_type": "stream",
     "text": [
      "100%|██████████| 1024/1024 [00:03<00:00, 261.44it/s]\n",
      " 70%|███████   | 211/300 [1:20:49<33:45, 22.76s/it]"
     ]
    },
    {
     "name": "stdout",
     "output_type": "stream",
     "text": [
      "Saved instance information and point cloud data to /home/wan/Workplace-why/Part-SAM/part_scene_saved/0138/2/ins_info\n",
      "0177\n"
     ]
    },
    {
     "name": "stderr",
     "output_type": "stream",
     "text": [
      "100%|██████████| 1024/1024 [00:03<00:00, 261.17it/s]\n"
     ]
    },
    {
     "name": "stdout",
     "output_type": "stream",
     "text": [
      "Saved instance information and point cloud data to /home/wan/Workplace-why/Part-SAM/part_scene_saved/0177/0/ins_info\n"
     ]
    },
    {
     "name": "stderr",
     "output_type": "stream",
     "text": [
      "100%|██████████| 1024/1024 [00:03<00:00, 260.54it/s]\n"
     ]
    },
    {
     "name": "stdout",
     "output_type": "stream",
     "text": [
      "Saved instance information and point cloud data to /home/wan/Workplace-why/Part-SAM/part_scene_saved/0177/1/ins_info\n"
     ]
    },
    {
     "name": "stderr",
     "output_type": "stream",
     "text": [
      "100%|██████████| 1024/1024 [00:03<00:00, 263.18it/s]\n",
      " 71%|███████   | 212/300 [1:21:10<32:44, 22.33s/it]"
     ]
    },
    {
     "name": "stdout",
     "output_type": "stream",
     "text": [
      "Saved instance information and point cloud data to /home/wan/Workplace-why/Part-SAM/part_scene_saved/0177/2/ins_info\n",
      "0073\n"
     ]
    },
    {
     "name": "stderr",
     "output_type": "stream",
     "text": [
      "100%|██████████| 1024/1024 [00:04<00:00, 252.12it/s]\n"
     ]
    },
    {
     "name": "stdout",
     "output_type": "stream",
     "text": [
      "Saved instance information and point cloud data to /home/wan/Workplace-why/Part-SAM/part_scene_saved/0073/0/ins_info\n"
     ]
    },
    {
     "name": "stderr",
     "output_type": "stream",
     "text": [
      "100%|██████████| 1024/1024 [00:03<00:00, 259.93it/s]\n"
     ]
    },
    {
     "name": "stdout",
     "output_type": "stream",
     "text": [
      "Saved instance information and point cloud data to /home/wan/Workplace-why/Part-SAM/part_scene_saved/0073/1/ins_info\n"
     ]
    },
    {
     "name": "stderr",
     "output_type": "stream",
     "text": [
      "100%|██████████| 1024/1024 [00:03<00:00, 258.55it/s]\n",
      " 71%|███████   | 213/300 [1:21:32<32:03, 22.11s/it]"
     ]
    },
    {
     "name": "stdout",
     "output_type": "stream",
     "text": [
      "Saved instance information and point cloud data to /home/wan/Workplace-why/Part-SAM/part_scene_saved/0073/2/ins_info\n",
      "0169\n"
     ]
    },
    {
     "name": "stderr",
     "output_type": "stream",
     "text": [
      "100%|██████████| 1024/1024 [00:03<00:00, 262.15it/s]\n"
     ]
    },
    {
     "name": "stdout",
     "output_type": "stream",
     "text": [
      "Saved instance information and point cloud data to /home/wan/Workplace-why/Part-SAM/part_scene_saved/0169/0/ins_info\n"
     ]
    },
    {
     "name": "stderr",
     "output_type": "stream",
     "text": [
      "100%|██████████| 1024/1024 [00:03<00:00, 262.38it/s]\n"
     ]
    },
    {
     "name": "stdout",
     "output_type": "stream",
     "text": [
      "Saved instance information and point cloud data to /home/wan/Workplace-why/Part-SAM/part_scene_saved/0169/1/ins_info\n"
     ]
    },
    {
     "name": "stderr",
     "output_type": "stream",
     "text": [
      "100%|██████████| 1024/1024 [00:03<00:00, 262.61it/s]\n",
      " 71%|███████▏  | 214/300 [1:21:57<32:50, 22.92s/it]"
     ]
    },
    {
     "name": "stdout",
     "output_type": "stream",
     "text": [
      "Saved instance information and point cloud data to /home/wan/Workplace-why/Part-SAM/part_scene_saved/0169/2/ins_info\n",
      "0148\n"
     ]
    },
    {
     "name": "stderr",
     "output_type": "stream",
     "text": [
      "100%|██████████| 1024/1024 [00:03<00:00, 260.16it/s]\n"
     ]
    },
    {
     "name": "stdout",
     "output_type": "stream",
     "text": [
      "Saved instance information and point cloud data to /home/wan/Workplace-why/Part-SAM/part_scene_saved/0148/0/ins_info\n"
     ]
    },
    {
     "name": "stderr",
     "output_type": "stream",
     "text": [
      "100%|██████████| 1024/1024 [00:03<00:00, 260.71it/s]\n"
     ]
    },
    {
     "name": "stdout",
     "output_type": "stream",
     "text": [
      "Saved instance information and point cloud data to /home/wan/Workplace-why/Part-SAM/part_scene_saved/0148/1/ins_info\n"
     ]
    },
    {
     "name": "stderr",
     "output_type": "stream",
     "text": [
      "100%|██████████| 1024/1024 [00:03<00:00, 261.43it/s]\n",
      " 72%|███████▏  | 215/300 [1:22:24<34:18, 24.22s/it]"
     ]
    },
    {
     "name": "stdout",
     "output_type": "stream",
     "text": [
      "Saved instance information and point cloud data to /home/wan/Workplace-why/Part-SAM/part_scene_saved/0148/2/ins_info\n",
      "0096\n"
     ]
    },
    {
     "name": "stderr",
     "output_type": "stream",
     "text": [
      "100%|██████████| 1024/1024 [00:03<00:00, 256.62it/s]\n"
     ]
    },
    {
     "name": "stdout",
     "output_type": "stream",
     "text": [
      "Saved instance information and point cloud data to /home/wan/Workplace-why/Part-SAM/part_scene_saved/0096/0/ins_info\n"
     ]
    },
    {
     "name": "stderr",
     "output_type": "stream",
     "text": [
      "100%|██████████| 1024/1024 [00:03<00:00, 262.66it/s]\n"
     ]
    },
    {
     "name": "stdout",
     "output_type": "stream",
     "text": [
      "Saved instance information and point cloud data to /home/wan/Workplace-why/Part-SAM/part_scene_saved/0096/1/ins_info\n"
     ]
    },
    {
     "name": "stderr",
     "output_type": "stream",
     "text": [
      "100%|██████████| 1024/1024 [00:03<00:00, 262.63it/s]\n",
      " 72%|███████▏  | 216/300 [1:22:45<32:42, 23.36s/it]"
     ]
    },
    {
     "name": "stdout",
     "output_type": "stream",
     "text": [
      "Saved instance information and point cloud data to /home/wan/Workplace-why/Part-SAM/part_scene_saved/0096/2/ins_info\n",
      "0106\n"
     ]
    },
    {
     "name": "stderr",
     "output_type": "stream",
     "text": [
      "100%|██████████| 1024/1024 [00:03<00:00, 260.98it/s]\n"
     ]
    },
    {
     "name": "stdout",
     "output_type": "stream",
     "text": [
      "Saved instance information and point cloud data to /home/wan/Workplace-why/Part-SAM/part_scene_saved/0106/0/ins_info\n"
     ]
    },
    {
     "name": "stderr",
     "output_type": "stream",
     "text": [
      "100%|██████████| 1024/1024 [00:03<00:00, 262.43it/s]\n"
     ]
    },
    {
     "name": "stdout",
     "output_type": "stream",
     "text": [
      "Saved instance information and point cloud data to /home/wan/Workplace-why/Part-SAM/part_scene_saved/0106/1/ins_info\n"
     ]
    },
    {
     "name": "stderr",
     "output_type": "stream",
     "text": [
      "100%|██████████| 1024/1024 [00:03<00:00, 261.89it/s]\n",
      " 72%|███████▏  | 217/300 [1:23:21<37:17, 26.96s/it]"
     ]
    },
    {
     "name": "stdout",
     "output_type": "stream",
     "text": [
      "Saved instance information and point cloud data to /home/wan/Workplace-why/Part-SAM/part_scene_saved/0106/2/ins_info\n",
      "0201\n"
     ]
    },
    {
     "name": "stderr",
     "output_type": "stream",
     "text": [
      "100%|██████████| 1024/1024 [00:03<00:00, 261.29it/s]\n"
     ]
    },
    {
     "name": "stdout",
     "output_type": "stream",
     "text": [
      "Saved instance information and point cloud data to /home/wan/Workplace-why/Part-SAM/part_scene_saved/0201/0/ins_info\n"
     ]
    },
    {
     "name": "stderr",
     "output_type": "stream",
     "text": [
      "100%|██████████| 1024/1024 [00:03<00:00, 262.16it/s]\n"
     ]
    },
    {
     "name": "stdout",
     "output_type": "stream",
     "text": [
      "Saved instance information and point cloud data to /home/wan/Workplace-why/Part-SAM/part_scene_saved/0201/1/ins_info\n"
     ]
    },
    {
     "name": "stderr",
     "output_type": "stream",
     "text": [
      "100%|██████████| 1024/1024 [00:03<00:00, 263.45it/s]\n",
      " 73%|███████▎  | 218/300 [1:23:46<35:58, 26.32s/it]"
     ]
    },
    {
     "name": "stdout",
     "output_type": "stream",
     "text": [
      "Saved instance information and point cloud data to /home/wan/Workplace-why/Part-SAM/part_scene_saved/0201/2/ins_info\n",
      "0162\n"
     ]
    },
    {
     "name": "stderr",
     "output_type": "stream",
     "text": [
      "100%|██████████| 1024/1024 [00:03<00:00, 261.96it/s]\n"
     ]
    },
    {
     "name": "stdout",
     "output_type": "stream",
     "text": [
      "Saved instance information and point cloud data to /home/wan/Workplace-why/Part-SAM/part_scene_saved/0162/0/ins_info\n"
     ]
    },
    {
     "name": "stderr",
     "output_type": "stream",
     "text": [
      "100%|██████████| 1024/1024 [00:03<00:00, 261.31it/s]\n"
     ]
    },
    {
     "name": "stdout",
     "output_type": "stream",
     "text": [
      "Saved instance information and point cloud data to /home/wan/Workplace-why/Part-SAM/part_scene_saved/0162/1/ins_info\n"
     ]
    },
    {
     "name": "stderr",
     "output_type": "stream",
     "text": [
      "100%|██████████| 1024/1024 [00:03<00:00, 261.81it/s]\n",
      " 73%|███████▎  | 219/300 [1:24:12<35:23, 26.21s/it]"
     ]
    },
    {
     "name": "stdout",
     "output_type": "stream",
     "text": [
      "Saved instance information and point cloud data to /home/wan/Workplace-why/Part-SAM/part_scene_saved/0162/2/ins_info\n",
      "0147\n"
     ]
    },
    {
     "name": "stderr",
     "output_type": "stream",
     "text": [
      "100%|██████████| 1024/1024 [00:03<00:00, 261.40it/s]\n"
     ]
    },
    {
     "name": "stdout",
     "output_type": "stream",
     "text": [
      "Saved instance information and point cloud data to /home/wan/Workplace-why/Part-SAM/part_scene_saved/0147/0/ins_info\n"
     ]
    },
    {
     "name": "stderr",
     "output_type": "stream",
     "text": [
      "100%|██████████| 1024/1024 [00:03<00:00, 260.46it/s]\n"
     ]
    },
    {
     "name": "stdout",
     "output_type": "stream",
     "text": [
      "Saved instance information and point cloud data to /home/wan/Workplace-why/Part-SAM/part_scene_saved/0147/1/ins_info\n"
     ]
    },
    {
     "name": "stderr",
     "output_type": "stream",
     "text": [
      "100%|██████████| 1024/1024 [00:03<00:00, 261.26it/s]\n",
      " 73%|███████▎  | 220/300 [1:24:33<33:07, 24.84s/it]"
     ]
    },
    {
     "name": "stdout",
     "output_type": "stream",
     "text": [
      "Saved instance information and point cloud data to /home/wan/Workplace-why/Part-SAM/part_scene_saved/0147/2/ins_info\n",
      "0017\n"
     ]
    },
    {
     "name": "stderr",
     "output_type": "stream",
     "text": [
      "100%|██████████| 1024/1024 [00:03<00:00, 261.18it/s]\n"
     ]
    },
    {
     "name": "stdout",
     "output_type": "stream",
     "text": [
      "Saved instance information and point cloud data to /home/wan/Workplace-why/Part-SAM/part_scene_saved/0017/0/ins_info\n"
     ]
    },
    {
     "name": "stderr",
     "output_type": "stream",
     "text": [
      "100%|██████████| 1024/1024 [00:03<00:00, 260.48it/s]\n"
     ]
    },
    {
     "name": "stdout",
     "output_type": "stream",
     "text": [
      "Saved instance information and point cloud data to /home/wan/Workplace-why/Part-SAM/part_scene_saved/0017/1/ins_info\n"
     ]
    },
    {
     "name": "stderr",
     "output_type": "stream",
     "text": [
      "100%|██████████| 1024/1024 [00:03<00:00, 261.56it/s]\n",
      " 74%|███████▎  | 221/300 [1:24:57<32:22, 24.59s/it]"
     ]
    },
    {
     "name": "stdout",
     "output_type": "stream",
     "text": [
      "Saved instance information and point cloud data to /home/wan/Workplace-why/Part-SAM/part_scene_saved/0017/2/ins_info\n",
      "0175\n"
     ]
    },
    {
     "name": "stderr",
     "output_type": "stream",
     "text": [
      "100%|██████████| 1024/1024 [00:03<00:00, 260.90it/s]\n"
     ]
    },
    {
     "name": "stdout",
     "output_type": "stream",
     "text": [
      "Saved instance information and point cloud data to /home/wan/Workplace-why/Part-SAM/part_scene_saved/0175/0/ins_info\n"
     ]
    },
    {
     "name": "stderr",
     "output_type": "stream",
     "text": [
      "100%|██████████| 1024/1024 [00:03<00:00, 261.32it/s]\n"
     ]
    },
    {
     "name": "stdout",
     "output_type": "stream",
     "text": [
      "Saved instance information and point cloud data to /home/wan/Workplace-why/Part-SAM/part_scene_saved/0175/1/ins_info\n"
     ]
    },
    {
     "name": "stderr",
     "output_type": "stream",
     "text": [
      "100%|██████████| 1024/1024 [00:03<00:00, 261.96it/s]\n",
      " 74%|███████▍  | 222/300 [1:25:18<30:38, 23.57s/it]"
     ]
    },
    {
     "name": "stdout",
     "output_type": "stream",
     "text": [
      "Saved instance information and point cloud data to /home/wan/Workplace-why/Part-SAM/part_scene_saved/0175/2/ins_info\n",
      "0253\n"
     ]
    },
    {
     "name": "stderr",
     "output_type": "stream",
     "text": [
      "100%|██████████| 1024/1024 [00:03<00:00, 260.86it/s]\n"
     ]
    },
    {
     "name": "stdout",
     "output_type": "stream",
     "text": [
      "Saved instance information and point cloud data to /home/wan/Workplace-why/Part-SAM/part_scene_saved/0253/0/ins_info\n"
     ]
    },
    {
     "name": "stderr",
     "output_type": "stream",
     "text": [
      "100%|██████████| 1024/1024 [00:03<00:00, 259.50it/s]\n"
     ]
    },
    {
     "name": "stdout",
     "output_type": "stream",
     "text": [
      "Saved instance information and point cloud data to /home/wan/Workplace-why/Part-SAM/part_scene_saved/0253/1/ins_info\n"
     ]
    },
    {
     "name": "stderr",
     "output_type": "stream",
     "text": [
      "100%|██████████| 1024/1024 [00:03<00:00, 260.71it/s]\n",
      " 74%|███████▍  | 223/300 [1:25:39<29:10, 22.73s/it]"
     ]
    },
    {
     "name": "stdout",
     "output_type": "stream",
     "text": [
      "Saved instance information and point cloud data to /home/wan/Workplace-why/Part-SAM/part_scene_saved/0253/2/ins_info\n",
      "0265\n"
     ]
    },
    {
     "name": "stderr",
     "output_type": "stream",
     "text": [
      "100%|██████████| 1024/1024 [00:03<00:00, 261.60it/s]\n"
     ]
    },
    {
     "name": "stdout",
     "output_type": "stream",
     "text": [
      "Saved instance information and point cloud data to /home/wan/Workplace-why/Part-SAM/part_scene_saved/0265/0/ins_info\n"
     ]
    },
    {
     "name": "stderr",
     "output_type": "stream",
     "text": [
      "100%|██████████| 1024/1024 [00:03<00:00, 261.24it/s]\n"
     ]
    },
    {
     "name": "stdout",
     "output_type": "stream",
     "text": [
      "Saved instance information and point cloud data to /home/wan/Workplace-why/Part-SAM/part_scene_saved/0265/1/ins_info\n"
     ]
    },
    {
     "name": "stderr",
     "output_type": "stream",
     "text": [
      "100%|██████████| 1024/1024 [00:03<00:00, 261.51it/s]\n",
      " 75%|███████▍  | 224/300 [1:26:04<29:23, 23.20s/it]"
     ]
    },
    {
     "name": "stdout",
     "output_type": "stream",
     "text": [
      "Saved instance information and point cloud data to /home/wan/Workplace-why/Part-SAM/part_scene_saved/0265/2/ins_info\n",
      "0173\n"
     ]
    },
    {
     "name": "stderr",
     "output_type": "stream",
     "text": [
      "100%|██████████| 1024/1024 [00:03<00:00, 261.84it/s]\n"
     ]
    },
    {
     "name": "stdout",
     "output_type": "stream",
     "text": [
      "Saved instance information and point cloud data to /home/wan/Workplace-why/Part-SAM/part_scene_saved/0173/0/ins_info\n"
     ]
    },
    {
     "name": "stderr",
     "output_type": "stream",
     "text": [
      "100%|██████████| 1024/1024 [00:03<00:00, 259.64it/s]\n"
     ]
    },
    {
     "name": "stdout",
     "output_type": "stream",
     "text": [
      "Saved instance information and point cloud data to /home/wan/Workplace-why/Part-SAM/part_scene_saved/0173/1/ins_info\n"
     ]
    },
    {
     "name": "stderr",
     "output_type": "stream",
     "text": [
      "100%|██████████| 1024/1024 [00:03<00:00, 262.33it/s]\n",
      " 75%|███████▌  | 225/300 [1:26:24<28:03, 22.45s/it]"
     ]
    },
    {
     "name": "stdout",
     "output_type": "stream",
     "text": [
      "Saved instance information and point cloud data to /home/wan/Workplace-why/Part-SAM/part_scene_saved/0173/2/ins_info\n",
      "0190\n"
     ]
    },
    {
     "name": "stderr",
     "output_type": "stream",
     "text": [
      "100%|██████████| 1024/1024 [00:03<00:00, 262.30it/s]\n"
     ]
    },
    {
     "name": "stdout",
     "output_type": "stream",
     "text": [
      "Saved instance information and point cloud data to /home/wan/Workplace-why/Part-SAM/part_scene_saved/0190/0/ins_info\n"
     ]
    },
    {
     "name": "stderr",
     "output_type": "stream",
     "text": [
      "100%|██████████| 1024/1024 [00:03<00:00, 261.18it/s]\n"
     ]
    },
    {
     "name": "stdout",
     "output_type": "stream",
     "text": [
      "Saved instance information and point cloud data to /home/wan/Workplace-why/Part-SAM/part_scene_saved/0190/1/ins_info\n"
     ]
    },
    {
     "name": "stderr",
     "output_type": "stream",
     "text": [
      "100%|██████████| 1024/1024 [00:03<00:00, 262.00it/s]\n",
      " 75%|███████▌  | 226/300 [1:26:45<27:07, 21.99s/it]"
     ]
    },
    {
     "name": "stdout",
     "output_type": "stream",
     "text": [
      "Saved instance information and point cloud data to /home/wan/Workplace-why/Part-SAM/part_scene_saved/0190/2/ins_info\n",
      "0142\n"
     ]
    },
    {
     "name": "stderr",
     "output_type": "stream",
     "text": [
      "100%|██████████| 1024/1024 [00:03<00:00, 261.45it/s]\n"
     ]
    },
    {
     "name": "stdout",
     "output_type": "stream",
     "text": [
      "Saved instance information and point cloud data to /home/wan/Workplace-why/Part-SAM/part_scene_saved/0142/0/ins_info\n"
     ]
    },
    {
     "name": "stderr",
     "output_type": "stream",
     "text": [
      "100%|██████████| 1024/1024 [00:03<00:00, 260.66it/s]\n"
     ]
    },
    {
     "name": "stdout",
     "output_type": "stream",
     "text": [
      "Saved instance information and point cloud data to /home/wan/Workplace-why/Part-SAM/part_scene_saved/0142/1/ins_info\n"
     ]
    },
    {
     "name": "stderr",
     "output_type": "stream",
     "text": [
      "100%|██████████| 1024/1024 [00:03<00:00, 260.49it/s]\n",
      " 76%|███████▌  | 227/300 [1:27:09<27:23, 22.51s/it]"
     ]
    },
    {
     "name": "stdout",
     "output_type": "stream",
     "text": [
      "Saved instance information and point cloud data to /home/wan/Workplace-why/Part-SAM/part_scene_saved/0142/2/ins_info\n",
      "0139\n"
     ]
    },
    {
     "name": "stderr",
     "output_type": "stream",
     "text": [
      "100%|██████████| 1024/1024 [00:03<00:00, 260.98it/s]\n"
     ]
    },
    {
     "name": "stdout",
     "output_type": "stream",
     "text": [
      "Saved instance information and point cloud data to /home/wan/Workplace-why/Part-SAM/part_scene_saved/0139/0/ins_info\n"
     ]
    },
    {
     "name": "stderr",
     "output_type": "stream",
     "text": [
      "100%|██████████| 1024/1024 [00:03<00:00, 261.00it/s]\n"
     ]
    },
    {
     "name": "stdout",
     "output_type": "stream",
     "text": [
      "Saved instance information and point cloud data to /home/wan/Workplace-why/Part-SAM/part_scene_saved/0139/1/ins_info\n"
     ]
    },
    {
     "name": "stderr",
     "output_type": "stream",
     "text": [
      "100%|██████████| 1024/1024 [00:03<00:00, 260.13it/s]\n",
      " 76%|███████▌  | 228/300 [1:27:39<29:50, 24.87s/it]"
     ]
    },
    {
     "name": "stdout",
     "output_type": "stream",
     "text": [
      "Saved instance information and point cloud data to /home/wan/Workplace-why/Part-SAM/part_scene_saved/0139/2/ins_info\n",
      "0032\n"
     ]
    },
    {
     "name": "stderr",
     "output_type": "stream",
     "text": [
      "100%|██████████| 1024/1024 [00:03<00:00, 261.34it/s]\n"
     ]
    },
    {
     "name": "stdout",
     "output_type": "stream",
     "text": [
      "Saved instance information and point cloud data to /home/wan/Workplace-why/Part-SAM/part_scene_saved/0032/0/ins_info\n"
     ]
    },
    {
     "name": "stderr",
     "output_type": "stream",
     "text": [
      "100%|██████████| 1024/1024 [00:03<00:00, 263.05it/s]\n"
     ]
    },
    {
     "name": "stdout",
     "output_type": "stream",
     "text": [
      "Saved instance information and point cloud data to /home/wan/Workplace-why/Part-SAM/part_scene_saved/0032/1/ins_info\n"
     ]
    },
    {
     "name": "stderr",
     "output_type": "stream",
     "text": [
      "100%|██████████| 1024/1024 [00:03<00:00, 261.93it/s]\n",
      " 76%|███████▋  | 229/300 [1:28:01<28:17, 23.90s/it]"
     ]
    },
    {
     "name": "stdout",
     "output_type": "stream",
     "text": [
      "Saved instance information and point cloud data to /home/wan/Workplace-why/Part-SAM/part_scene_saved/0032/2/ins_info\n",
      "0039\n"
     ]
    },
    {
     "name": "stderr",
     "output_type": "stream",
     "text": [
      "100%|██████████| 1024/1024 [00:03<00:00, 262.47it/s]\n"
     ]
    },
    {
     "name": "stdout",
     "output_type": "stream",
     "text": [
      "Saved instance information and point cloud data to /home/wan/Workplace-why/Part-SAM/part_scene_saved/0039/0/ins_info\n"
     ]
    },
    {
     "name": "stderr",
     "output_type": "stream",
     "text": [
      "100%|██████████| 1024/1024 [00:03<00:00, 260.83it/s]\n"
     ]
    },
    {
     "name": "stdout",
     "output_type": "stream",
     "text": [
      "Saved instance information and point cloud data to /home/wan/Workplace-why/Part-SAM/part_scene_saved/0039/1/ins_info\n"
     ]
    },
    {
     "name": "stderr",
     "output_type": "stream",
     "text": [
      "100%|██████████| 1024/1024 [00:03<00:00, 261.16it/s]\n",
      " 77%|███████▋  | 230/300 [1:28:25<27:54, 23.92s/it]"
     ]
    },
    {
     "name": "stdout",
     "output_type": "stream",
     "text": [
      "Saved instance information and point cloud data to /home/wan/Workplace-why/Part-SAM/part_scene_saved/0039/2/ins_info\n",
      "0207\n"
     ]
    },
    {
     "name": "stderr",
     "output_type": "stream",
     "text": [
      "100%|██████████| 1024/1024 [00:03<00:00, 261.74it/s]\n"
     ]
    },
    {
     "name": "stdout",
     "output_type": "stream",
     "text": [
      "Saved instance information and point cloud data to /home/wan/Workplace-why/Part-SAM/part_scene_saved/0207/0/ins_info\n"
     ]
    },
    {
     "name": "stderr",
     "output_type": "stream",
     "text": [
      "100%|██████████| 1024/1024 [00:03<00:00, 262.37it/s]\n"
     ]
    },
    {
     "name": "stdout",
     "output_type": "stream",
     "text": [
      "Saved instance information and point cloud data to /home/wan/Workplace-why/Part-SAM/part_scene_saved/0207/1/ins_info\n"
     ]
    },
    {
     "name": "stderr",
     "output_type": "stream",
     "text": [
      "100%|██████████| 1024/1024 [00:04<00:00, 252.05it/s]\n",
      " 77%|███████▋  | 231/300 [1:28:49<27:37, 24.02s/it]"
     ]
    },
    {
     "name": "stdout",
     "output_type": "stream",
     "text": [
      "Saved instance information and point cloud data to /home/wan/Workplace-why/Part-SAM/part_scene_saved/0207/2/ins_info\n",
      "0154\n"
     ]
    },
    {
     "name": "stderr",
     "output_type": "stream",
     "text": [
      "100%|██████████| 1024/1024 [00:03<00:00, 258.12it/s]\n"
     ]
    },
    {
     "name": "stdout",
     "output_type": "stream",
     "text": [
      "Saved instance information and point cloud data to /home/wan/Workplace-why/Part-SAM/part_scene_saved/0154/0/ins_info\n"
     ]
    },
    {
     "name": "stderr",
     "output_type": "stream",
     "text": [
      "100%|██████████| 1024/1024 [00:03<00:00, 259.17it/s]\n"
     ]
    },
    {
     "name": "stdout",
     "output_type": "stream",
     "text": [
      "Saved instance information and point cloud data to /home/wan/Workplace-why/Part-SAM/part_scene_saved/0154/1/ins_info\n"
     ]
    },
    {
     "name": "stderr",
     "output_type": "stream",
     "text": [
      "100%|██████████| 1024/1024 [00:03<00:00, 261.19it/s]\n",
      " 77%|███████▋  | 232/300 [1:29:17<28:38, 25.27s/it]"
     ]
    },
    {
     "name": "stdout",
     "output_type": "stream",
     "text": [
      "Saved instance information and point cloud data to /home/wan/Workplace-why/Part-SAM/part_scene_saved/0154/2/ins_info\n",
      "0077\n"
     ]
    },
    {
     "name": "stderr",
     "output_type": "stream",
     "text": [
      "100%|██████████| 1024/1024 [00:03<00:00, 261.29it/s]\n"
     ]
    },
    {
     "name": "stdout",
     "output_type": "stream",
     "text": [
      "Saved instance information and point cloud data to /home/wan/Workplace-why/Part-SAM/part_scene_saved/0077/0/ins_info\n"
     ]
    },
    {
     "name": "stderr",
     "output_type": "stream",
     "text": [
      "100%|██████████| 1024/1024 [00:03<00:00, 261.47it/s]\n"
     ]
    },
    {
     "name": "stdout",
     "output_type": "stream",
     "text": [
      "Saved instance information and point cloud data to /home/wan/Workplace-why/Part-SAM/part_scene_saved/0077/1/ins_info\n"
     ]
    },
    {
     "name": "stderr",
     "output_type": "stream",
     "text": [
      "100%|██████████| 1024/1024 [00:03<00:00, 262.13it/s]\n",
      " 78%|███████▊  | 233/300 [1:29:39<27:06, 24.28s/it]"
     ]
    },
    {
     "name": "stdout",
     "output_type": "stream",
     "text": [
      "Saved instance information and point cloud data to /home/wan/Workplace-why/Part-SAM/part_scene_saved/0077/2/ins_info\n",
      "0067\n"
     ]
    },
    {
     "name": "stderr",
     "output_type": "stream",
     "text": [
      "100%|██████████| 1024/1024 [00:03<00:00, 261.85it/s]\n"
     ]
    },
    {
     "name": "stdout",
     "output_type": "stream",
     "text": [
      "Saved instance information and point cloud data to /home/wan/Workplace-why/Part-SAM/part_scene_saved/0067/0/ins_info\n"
     ]
    },
    {
     "name": "stderr",
     "output_type": "stream",
     "text": [
      "100%|██████████| 1024/1024 [00:03<00:00, 260.99it/s]\n"
     ]
    },
    {
     "name": "stdout",
     "output_type": "stream",
     "text": [
      "Saved instance information and point cloud data to /home/wan/Workplace-why/Part-SAM/part_scene_saved/0067/1/ins_info\n"
     ]
    },
    {
     "name": "stderr",
     "output_type": "stream",
     "text": [
      "100%|██████████| 1024/1024 [00:03<00:00, 261.89it/s]\n",
      " 78%|███████▊  | 234/300 [1:30:02<26:06, 23.73s/it]"
     ]
    },
    {
     "name": "stdout",
     "output_type": "stream",
     "text": [
      "Saved instance information and point cloud data to /home/wan/Workplace-why/Part-SAM/part_scene_saved/0067/2/ins_info\n",
      "0218\n"
     ]
    },
    {
     "name": "stderr",
     "output_type": "stream",
     "text": [
      "100%|██████████| 1024/1024 [00:03<00:00, 262.57it/s]\n"
     ]
    },
    {
     "name": "stdout",
     "output_type": "stream",
     "text": [
      "Saved instance information and point cloud data to /home/wan/Workplace-why/Part-SAM/part_scene_saved/0218/0/ins_info\n"
     ]
    },
    {
     "name": "stderr",
     "output_type": "stream",
     "text": [
      "100%|██████████| 1024/1024 [00:03<00:00, 260.46it/s]\n"
     ]
    },
    {
     "name": "stdout",
     "output_type": "stream",
     "text": [
      "Saved instance information and point cloud data to /home/wan/Workplace-why/Part-SAM/part_scene_saved/0218/1/ins_info\n"
     ]
    },
    {
     "name": "stderr",
     "output_type": "stream",
     "text": [
      "100%|██████████| 1024/1024 [00:03<00:00, 259.97it/s]\n",
      " 78%|███████▊  | 235/300 [1:30:26<25:49, 23.84s/it]"
     ]
    },
    {
     "name": "stdout",
     "output_type": "stream",
     "text": [
      "Saved instance information and point cloud data to /home/wan/Workplace-why/Part-SAM/part_scene_saved/0218/2/ins_info\n",
      "0282\n"
     ]
    },
    {
     "name": "stderr",
     "output_type": "stream",
     "text": [
      "100%|██████████| 1024/1024 [00:03<00:00, 260.71it/s]\n"
     ]
    },
    {
     "name": "stdout",
     "output_type": "stream",
     "text": [
      "Saved instance information and point cloud data to /home/wan/Workplace-why/Part-SAM/part_scene_saved/0282/0/ins_info\n"
     ]
    },
    {
     "name": "stderr",
     "output_type": "stream",
     "text": [
      "100%|██████████| 1024/1024 [00:03<00:00, 261.77it/s]\n"
     ]
    },
    {
     "name": "stdout",
     "output_type": "stream",
     "text": [
      "Saved instance information and point cloud data to /home/wan/Workplace-why/Part-SAM/part_scene_saved/0282/1/ins_info\n"
     ]
    },
    {
     "name": "stderr",
     "output_type": "stream",
     "text": [
      "100%|██████████| 1024/1024 [00:03<00:00, 261.33it/s]\n",
      " 79%|███████▊  | 236/300 [1:30:52<26:18, 24.67s/it]"
     ]
    },
    {
     "name": "stdout",
     "output_type": "stream",
     "text": [
      "Saved instance information and point cloud data to /home/wan/Workplace-why/Part-SAM/part_scene_saved/0282/2/ins_info\n",
      "0038\n"
     ]
    },
    {
     "name": "stderr",
     "output_type": "stream",
     "text": [
      "100%|██████████| 1024/1024 [00:03<00:00, 263.35it/s]\n"
     ]
    },
    {
     "name": "stdout",
     "output_type": "stream",
     "text": [
      "Saved instance information and point cloud data to /home/wan/Workplace-why/Part-SAM/part_scene_saved/0038/0/ins_info\n"
     ]
    },
    {
     "name": "stderr",
     "output_type": "stream",
     "text": [
      "100%|██████████| 1024/1024 [00:03<00:00, 262.16it/s]\n"
     ]
    },
    {
     "name": "stdout",
     "output_type": "stream",
     "text": [
      "Saved instance information and point cloud data to /home/wan/Workplace-why/Part-SAM/part_scene_saved/0038/1/ins_info\n"
     ]
    },
    {
     "name": "stderr",
     "output_type": "stream",
     "text": [
      "100%|██████████| 1024/1024 [00:03<00:00, 261.91it/s]\n",
      " 79%|███████▉  | 237/300 [1:31:15<25:12, 24.00s/it]"
     ]
    },
    {
     "name": "stdout",
     "output_type": "stream",
     "text": [
      "Saved instance information and point cloud data to /home/wan/Workplace-why/Part-SAM/part_scene_saved/0038/2/ins_info\n",
      "0062\n"
     ]
    },
    {
     "name": "stderr",
     "output_type": "stream",
     "text": [
      "100%|██████████| 1024/1024 [00:03<00:00, 258.57it/s]\n"
     ]
    },
    {
     "name": "stdout",
     "output_type": "stream",
     "text": [
      "Saved instance information and point cloud data to /home/wan/Workplace-why/Part-SAM/part_scene_saved/0062/0/ins_info\n"
     ]
    },
    {
     "name": "stderr",
     "output_type": "stream",
     "text": [
      "100%|██████████| 1024/1024 [00:03<00:00, 258.26it/s]\n"
     ]
    },
    {
     "name": "stdout",
     "output_type": "stream",
     "text": [
      "Saved instance information and point cloud data to /home/wan/Workplace-why/Part-SAM/part_scene_saved/0062/1/ins_info\n"
     ]
    },
    {
     "name": "stderr",
     "output_type": "stream",
     "text": [
      "100%|██████████| 1024/1024 [00:03<00:00, 261.74it/s]\n",
      " 79%|███████▉  | 238/300 [1:31:42<25:50, 25.00s/it]"
     ]
    },
    {
     "name": "stdout",
     "output_type": "stream",
     "text": [
      "Saved instance information and point cloud data to /home/wan/Workplace-why/Part-SAM/part_scene_saved/0062/2/ins_info\n",
      "0126\n"
     ]
    },
    {
     "name": "stderr",
     "output_type": "stream",
     "text": [
      "100%|██████████| 1024/1024 [00:03<00:00, 261.25it/s]\n"
     ]
    },
    {
     "name": "stdout",
     "output_type": "stream",
     "text": [
      "Saved instance information and point cloud data to /home/wan/Workplace-why/Part-SAM/part_scene_saved/0126/0/ins_info\n"
     ]
    },
    {
     "name": "stderr",
     "output_type": "stream",
     "text": [
      "100%|██████████| 1024/1024 [00:03<00:00, 257.76it/s]\n"
     ]
    },
    {
     "name": "stdout",
     "output_type": "stream",
     "text": [
      "Saved instance information and point cloud data to /home/wan/Workplace-why/Part-SAM/part_scene_saved/0126/1/ins_info\n"
     ]
    },
    {
     "name": "stderr",
     "output_type": "stream",
     "text": [
      "100%|██████████| 1024/1024 [00:03<00:00, 260.05it/s]\n",
      " 80%|███████▉  | 239/300 [1:32:06<25:09, 24.75s/it]"
     ]
    },
    {
     "name": "stdout",
     "output_type": "stream",
     "text": [
      "Saved instance information and point cloud data to /home/wan/Workplace-why/Part-SAM/part_scene_saved/0126/2/ins_info\n",
      "0047\n"
     ]
    },
    {
     "name": "stderr",
     "output_type": "stream",
     "text": [
      "100%|██████████| 1024/1024 [00:03<00:00, 260.88it/s]\n"
     ]
    },
    {
     "name": "stdout",
     "output_type": "stream",
     "text": [
      "Saved instance information and point cloud data to /home/wan/Workplace-why/Part-SAM/part_scene_saved/0047/0/ins_info\n"
     ]
    },
    {
     "name": "stderr",
     "output_type": "stream",
     "text": [
      "100%|██████████| 1024/1024 [00:03<00:00, 259.18it/s]\n"
     ]
    },
    {
     "name": "stdout",
     "output_type": "stream",
     "text": [
      "Saved instance information and point cloud data to /home/wan/Workplace-why/Part-SAM/part_scene_saved/0047/1/ins_info\n"
     ]
    },
    {
     "name": "stderr",
     "output_type": "stream",
     "text": [
      "100%|██████████| 1024/1024 [00:03<00:00, 260.51it/s]\n",
      " 80%|████████  | 240/300 [1:32:28<23:45, 23.76s/it]"
     ]
    },
    {
     "name": "stdout",
     "output_type": "stream",
     "text": [
      "Saved instance information and point cloud data to /home/wan/Workplace-why/Part-SAM/part_scene_saved/0047/2/ins_info\n",
      "0198\n"
     ]
    },
    {
     "name": "stderr",
     "output_type": "stream",
     "text": [
      "100%|██████████| 1024/1024 [00:03<00:00, 258.05it/s]\n"
     ]
    },
    {
     "name": "stdout",
     "output_type": "stream",
     "text": [
      "Saved instance information and point cloud data to /home/wan/Workplace-why/Part-SAM/part_scene_saved/0198/0/ins_info\n"
     ]
    },
    {
     "name": "stderr",
     "output_type": "stream",
     "text": [
      "100%|██████████| 1024/1024 [00:03<00:00, 260.07it/s]\n"
     ]
    },
    {
     "name": "stdout",
     "output_type": "stream",
     "text": [
      "Saved instance information and point cloud data to /home/wan/Workplace-why/Part-SAM/part_scene_saved/0198/1/ins_info\n"
     ]
    },
    {
     "name": "stderr",
     "output_type": "stream",
     "text": [
      "100%|██████████| 1024/1024 [00:03<00:00, 258.88it/s]\n",
      " 80%|████████  | 241/300 [1:32:48<22:16, 22.65s/it]"
     ]
    },
    {
     "name": "stdout",
     "output_type": "stream",
     "text": [
      "Saved instance information and point cloud data to /home/wan/Workplace-why/Part-SAM/part_scene_saved/0198/2/ins_info\n",
      "0088\n"
     ]
    },
    {
     "name": "stderr",
     "output_type": "stream",
     "text": [
      "100%|██████████| 1024/1024 [00:03<00:00, 259.66it/s]\n"
     ]
    },
    {
     "name": "stdout",
     "output_type": "stream",
     "text": [
      "Saved instance information and point cloud data to /home/wan/Workplace-why/Part-SAM/part_scene_saved/0088/0/ins_info\n"
     ]
    },
    {
     "name": "stderr",
     "output_type": "stream",
     "text": [
      "100%|██████████| 1024/1024 [00:03<00:00, 260.18it/s]\n"
     ]
    },
    {
     "name": "stdout",
     "output_type": "stream",
     "text": [
      "Saved instance information and point cloud data to /home/wan/Workplace-why/Part-SAM/part_scene_saved/0088/1/ins_info\n"
     ]
    },
    {
     "name": "stderr",
     "output_type": "stream",
     "text": [
      "100%|██████████| 1024/1024 [00:04<00:00, 252.86it/s]\n",
      " 81%|████████  | 242/300 [1:33:10<21:39, 22.41s/it]"
     ]
    },
    {
     "name": "stdout",
     "output_type": "stream",
     "text": [
      "Saved instance information and point cloud data to /home/wan/Workplace-why/Part-SAM/part_scene_saved/0088/2/ins_info\n",
      "0214\n"
     ]
    },
    {
     "name": "stderr",
     "output_type": "stream",
     "text": [
      "100%|██████████| 1024/1024 [00:03<00:00, 257.96it/s]\n"
     ]
    },
    {
     "name": "stdout",
     "output_type": "stream",
     "text": [
      "Saved instance information and point cloud data to /home/wan/Workplace-why/Part-SAM/part_scene_saved/0214/0/ins_info\n"
     ]
    },
    {
     "name": "stderr",
     "output_type": "stream",
     "text": [
      "100%|██████████| 1024/1024 [00:03<00:00, 260.90it/s]\n"
     ]
    },
    {
     "name": "stdout",
     "output_type": "stream",
     "text": [
      "Saved instance information and point cloud data to /home/wan/Workplace-why/Part-SAM/part_scene_saved/0214/1/ins_info\n"
     ]
    },
    {
     "name": "stderr",
     "output_type": "stream",
     "text": [
      "100%|██████████| 1024/1024 [00:03<00:00, 260.67it/s]\n",
      " 81%|████████  | 243/300 [1:33:32<21:15, 22.39s/it]"
     ]
    },
    {
     "name": "stdout",
     "output_type": "stream",
     "text": [
      "Saved instance information and point cloud data to /home/wan/Workplace-why/Part-SAM/part_scene_saved/0214/2/ins_info\n",
      "0212\n"
     ]
    },
    {
     "name": "stderr",
     "output_type": "stream",
     "text": [
      "100%|██████████| 1024/1024 [00:03<00:00, 260.90it/s]\n"
     ]
    },
    {
     "name": "stdout",
     "output_type": "stream",
     "text": [
      "Saved instance information and point cloud data to /home/wan/Workplace-why/Part-SAM/part_scene_saved/0212/0/ins_info\n"
     ]
    },
    {
     "name": "stderr",
     "output_type": "stream",
     "text": [
      "100%|██████████| 1024/1024 [00:03<00:00, 261.16it/s]\n"
     ]
    },
    {
     "name": "stdout",
     "output_type": "stream",
     "text": [
      "Saved instance information and point cloud data to /home/wan/Workplace-why/Part-SAM/part_scene_saved/0212/1/ins_info\n"
     ]
    },
    {
     "name": "stderr",
     "output_type": "stream",
     "text": [
      "100%|██████████| 1024/1024 [00:03<00:00, 261.63it/s]\n",
      " 81%|████████▏ | 244/300 [1:33:56<21:12, 22.73s/it]"
     ]
    },
    {
     "name": "stdout",
     "output_type": "stream",
     "text": [
      "Saved instance information and point cloud data to /home/wan/Workplace-why/Part-SAM/part_scene_saved/0212/2/ins_info\n",
      "0178\n"
     ]
    },
    {
     "name": "stderr",
     "output_type": "stream",
     "text": [
      "100%|██████████| 1024/1024 [00:03<00:00, 262.58it/s]\n"
     ]
    },
    {
     "name": "stdout",
     "output_type": "stream",
     "text": [
      "Saved instance information and point cloud data to /home/wan/Workplace-why/Part-SAM/part_scene_saved/0178/0/ins_info\n"
     ]
    },
    {
     "name": "stderr",
     "output_type": "stream",
     "text": [
      "100%|██████████| 1024/1024 [00:03<00:00, 260.58it/s]\n"
     ]
    },
    {
     "name": "stdout",
     "output_type": "stream",
     "text": [
      "Saved instance information and point cloud data to /home/wan/Workplace-why/Part-SAM/part_scene_saved/0178/1/ins_info\n"
     ]
    },
    {
     "name": "stderr",
     "output_type": "stream",
     "text": [
      "100%|██████████| 1024/1024 [00:03<00:00, 261.65it/s]\n",
      " 82%|████████▏ | 245/300 [1:34:17<20:25, 22.28s/it]"
     ]
    },
    {
     "name": "stdout",
     "output_type": "stream",
     "text": [
      "Saved instance information and point cloud data to /home/wan/Workplace-why/Part-SAM/part_scene_saved/0178/2/ins_info\n",
      "0200\n"
     ]
    },
    {
     "name": "stderr",
     "output_type": "stream",
     "text": [
      "100%|██████████| 1024/1024 [00:03<00:00, 259.36it/s]\n"
     ]
    },
    {
     "name": "stdout",
     "output_type": "stream",
     "text": [
      "Saved instance information and point cloud data to /home/wan/Workplace-why/Part-SAM/part_scene_saved/0200/0/ins_info\n"
     ]
    },
    {
     "name": "stderr",
     "output_type": "stream",
     "text": [
      "100%|██████████| 1024/1024 [00:03<00:00, 261.77it/s]\n"
     ]
    },
    {
     "name": "stdout",
     "output_type": "stream",
     "text": [
      "Saved instance information and point cloud data to /home/wan/Workplace-why/Part-SAM/part_scene_saved/0200/1/ins_info\n"
     ]
    },
    {
     "name": "stderr",
     "output_type": "stream",
     "text": [
      "100%|██████████| 1024/1024 [00:03<00:00, 260.41it/s]\n",
      " 82%|████████▏ | 246/300 [1:34:44<21:23, 23.77s/it]"
     ]
    },
    {
     "name": "stdout",
     "output_type": "stream",
     "text": [
      "Saved instance information and point cloud data to /home/wan/Workplace-why/Part-SAM/part_scene_saved/0200/2/ins_info\n",
      "0003\n"
     ]
    },
    {
     "name": "stderr",
     "output_type": "stream",
     "text": [
      "100%|██████████| 1024/1024 [00:03<00:00, 259.76it/s]\n"
     ]
    },
    {
     "name": "stdout",
     "output_type": "stream",
     "text": [
      "Saved instance information and point cloud data to /home/wan/Workplace-why/Part-SAM/part_scene_saved/0003/0/ins_info\n"
     ]
    },
    {
     "name": "stderr",
     "output_type": "stream",
     "text": [
      "100%|██████████| 1024/1024 [00:03<00:00, 261.05it/s]\n"
     ]
    },
    {
     "name": "stdout",
     "output_type": "stream",
     "text": [
      "Saved instance information and point cloud data to /home/wan/Workplace-why/Part-SAM/part_scene_saved/0003/1/ins_info\n"
     ]
    },
    {
     "name": "stderr",
     "output_type": "stream",
     "text": [
      "100%|██████████| 1024/1024 [00:03<00:00, 261.08it/s]\n",
      " 82%|████████▏ | 247/300 [1:35:05<20:20, 23.03s/it]"
     ]
    },
    {
     "name": "stdout",
     "output_type": "stream",
     "text": [
      "Saved instance information and point cloud data to /home/wan/Workplace-why/Part-SAM/part_scene_saved/0003/2/ins_info\n",
      "0107\n"
     ]
    },
    {
     "name": "stderr",
     "output_type": "stream",
     "text": [
      "100%|██████████| 1024/1024 [00:03<00:00, 259.03it/s]\n"
     ]
    },
    {
     "name": "stdout",
     "output_type": "stream",
     "text": [
      "Saved instance information and point cloud data to /home/wan/Workplace-why/Part-SAM/part_scene_saved/0107/0/ins_info\n"
     ]
    },
    {
     "name": "stderr",
     "output_type": "stream",
     "text": [
      "100%|██████████| 1024/1024 [00:04<00:00, 253.72it/s]\n"
     ]
    },
    {
     "name": "stdout",
     "output_type": "stream",
     "text": [
      "Saved instance information and point cloud data to /home/wan/Workplace-why/Part-SAM/part_scene_saved/0107/1/ins_info\n"
     ]
    },
    {
     "name": "stderr",
     "output_type": "stream",
     "text": [
      "100%|██████████| 1024/1024 [00:03<00:00, 259.08it/s]\n",
      " 83%|████████▎ | 248/300 [1:35:27<19:42, 22.73s/it]"
     ]
    },
    {
     "name": "stdout",
     "output_type": "stream",
     "text": [
      "Saved instance information and point cloud data to /home/wan/Workplace-why/Part-SAM/part_scene_saved/0107/2/ins_info\n",
      "0244\n"
     ]
    },
    {
     "name": "stderr",
     "output_type": "stream",
     "text": [
      "100%|██████████| 1024/1024 [00:03<00:00, 260.12it/s]\n"
     ]
    },
    {
     "name": "stdout",
     "output_type": "stream",
     "text": [
      "Saved instance information and point cloud data to /home/wan/Workplace-why/Part-SAM/part_scene_saved/0244/0/ins_info\n"
     ]
    },
    {
     "name": "stderr",
     "output_type": "stream",
     "text": [
      "100%|██████████| 1024/1024 [00:03<00:00, 258.15it/s]\n"
     ]
    },
    {
     "name": "stdout",
     "output_type": "stream",
     "text": [
      "Saved instance information and point cloud data to /home/wan/Workplace-why/Part-SAM/part_scene_saved/0244/1/ins_info\n"
     ]
    },
    {
     "name": "stderr",
     "output_type": "stream",
     "text": [
      "100%|██████████| 1024/1024 [00:03<00:00, 260.83it/s]\n",
      " 83%|████████▎ | 249/300 [1:35:54<20:13, 23.80s/it]"
     ]
    },
    {
     "name": "stdout",
     "output_type": "stream",
     "text": [
      "Saved instance information and point cloud data to /home/wan/Workplace-why/Part-SAM/part_scene_saved/0244/2/ins_info\n",
      "0035\n"
     ]
    },
    {
     "name": "stderr",
     "output_type": "stream",
     "text": [
      "100%|██████████| 1024/1024 [00:03<00:00, 261.97it/s]\n"
     ]
    },
    {
     "name": "stdout",
     "output_type": "stream",
     "text": [
      "Saved instance information and point cloud data to /home/wan/Workplace-why/Part-SAM/part_scene_saved/0035/0/ins_info\n"
     ]
    },
    {
     "name": "stderr",
     "output_type": "stream",
     "text": [
      "100%|██████████| 1024/1024 [00:03<00:00, 257.70it/s]\n"
     ]
    },
    {
     "name": "stdout",
     "output_type": "stream",
     "text": [
      "Saved instance information and point cloud data to /home/wan/Workplace-why/Part-SAM/part_scene_saved/0035/1/ins_info\n"
     ]
    },
    {
     "name": "stderr",
     "output_type": "stream",
     "text": [
      "100%|██████████| 1024/1024 [00:03<00:00, 258.37it/s]\n",
      " 83%|████████▎ | 250/300 [1:36:15<19:13, 23.08s/it]"
     ]
    },
    {
     "name": "stdout",
     "output_type": "stream",
     "text": [
      "Saved instance information and point cloud data to /home/wan/Workplace-why/Part-SAM/part_scene_saved/0035/2/ins_info\n",
      "0049\n"
     ]
    },
    {
     "name": "stderr",
     "output_type": "stream",
     "text": [
      "100%|██████████| 1024/1024 [00:04<00:00, 252.01it/s]\n"
     ]
    },
    {
     "name": "stdout",
     "output_type": "stream",
     "text": [
      "Saved instance information and point cloud data to /home/wan/Workplace-why/Part-SAM/part_scene_saved/0049/0/ins_info\n"
     ]
    },
    {
     "name": "stderr",
     "output_type": "stream",
     "text": [
      "100%|██████████| 1024/1024 [00:03<00:00, 261.56it/s]\n"
     ]
    },
    {
     "name": "stdout",
     "output_type": "stream",
     "text": [
      "Saved instance information and point cloud data to /home/wan/Workplace-why/Part-SAM/part_scene_saved/0049/1/ins_info\n"
     ]
    },
    {
     "name": "stderr",
     "output_type": "stream",
     "text": [
      "100%|██████████| 1024/1024 [00:03<00:00, 261.57it/s]\n",
      " 84%|████████▎ | 251/300 [1:36:39<19:09, 23.46s/it]"
     ]
    },
    {
     "name": "stdout",
     "output_type": "stream",
     "text": [
      "Saved instance information and point cloud data to /home/wan/Workplace-why/Part-SAM/part_scene_saved/0049/2/ins_info\n",
      "0018\n"
     ]
    },
    {
     "name": "stderr",
     "output_type": "stream",
     "text": [
      "100%|██████████| 1024/1024 [00:03<00:00, 261.42it/s]\n"
     ]
    },
    {
     "name": "stdout",
     "output_type": "stream",
     "text": [
      "Saved instance information and point cloud data to /home/wan/Workplace-why/Part-SAM/part_scene_saved/0018/0/ins_info\n"
     ]
    },
    {
     "name": "stderr",
     "output_type": "stream",
     "text": [
      "100%|██████████| 1024/1024 [00:03<00:00, 260.70it/s]\n"
     ]
    },
    {
     "name": "stdout",
     "output_type": "stream",
     "text": [
      "Saved instance information and point cloud data to /home/wan/Workplace-why/Part-SAM/part_scene_saved/0018/1/ins_info\n"
     ]
    },
    {
     "name": "stderr",
     "output_type": "stream",
     "text": [
      "100%|██████████| 1024/1024 [00:03<00:00, 259.89it/s]\n",
      " 84%|████████▍ | 252/300 [1:37:10<20:30, 25.64s/it]"
     ]
    },
    {
     "name": "stdout",
     "output_type": "stream",
     "text": [
      "Saved instance information and point cloud data to /home/wan/Workplace-why/Part-SAM/part_scene_saved/0018/2/ins_info\n",
      "0195\n"
     ]
    },
    {
     "name": "stderr",
     "output_type": "stream",
     "text": [
      "100%|██████████| 1024/1024 [00:03<00:00, 258.71it/s]\n"
     ]
    },
    {
     "name": "stdout",
     "output_type": "stream",
     "text": [
      "Saved instance information and point cloud data to /home/wan/Workplace-why/Part-SAM/part_scene_saved/0195/0/ins_info\n"
     ]
    },
    {
     "name": "stderr",
     "output_type": "stream",
     "text": [
      "100%|██████████| 1024/1024 [00:03<00:00, 259.32it/s]\n"
     ]
    },
    {
     "name": "stdout",
     "output_type": "stream",
     "text": [
      "Saved instance information and point cloud data to /home/wan/Workplace-why/Part-SAM/part_scene_saved/0195/1/ins_info\n"
     ]
    },
    {
     "name": "stderr",
     "output_type": "stream",
     "text": [
      "100%|██████████| 1024/1024 [00:03<00:00, 260.58it/s]\n",
      " 84%|████████▍ | 253/300 [1:37:32<19:09, 24.46s/it]"
     ]
    },
    {
     "name": "stdout",
     "output_type": "stream",
     "text": [
      "Saved instance information and point cloud data to /home/wan/Workplace-why/Part-SAM/part_scene_saved/0195/2/ins_info\n",
      "0151\n"
     ]
    },
    {
     "name": "stderr",
     "output_type": "stream",
     "text": [
      "100%|██████████| 1024/1024 [00:03<00:00, 259.76it/s]\n"
     ]
    },
    {
     "name": "stdout",
     "output_type": "stream",
     "text": [
      "Saved instance information and point cloud data to /home/wan/Workplace-why/Part-SAM/part_scene_saved/0151/0/ins_info\n"
     ]
    },
    {
     "name": "stderr",
     "output_type": "stream",
     "text": [
      "100%|██████████| 1024/1024 [00:03<00:00, 261.70it/s]\n"
     ]
    },
    {
     "name": "stdout",
     "output_type": "stream",
     "text": [
      "Saved instance information and point cloud data to /home/wan/Workplace-why/Part-SAM/part_scene_saved/0151/1/ins_info\n"
     ]
    },
    {
     "name": "stderr",
     "output_type": "stream",
     "text": [
      "100%|██████████| 1024/1024 [00:03<00:00, 260.59it/s]\n",
      " 85%|████████▍ | 254/300 [1:37:52<17:50, 23.26s/it]"
     ]
    },
    {
     "name": "stdout",
     "output_type": "stream",
     "text": [
      "Saved instance information and point cloud data to /home/wan/Workplace-why/Part-SAM/part_scene_saved/0151/2/ins_info\n",
      "0277\n"
     ]
    },
    {
     "name": "stderr",
     "output_type": "stream",
     "text": [
      "100%|██████████| 1024/1024 [00:03<00:00, 260.99it/s]\n"
     ]
    },
    {
     "name": "stdout",
     "output_type": "stream",
     "text": [
      "Saved instance information and point cloud data to /home/wan/Workplace-why/Part-SAM/part_scene_saved/0277/0/ins_info\n"
     ]
    },
    {
     "name": "stderr",
     "output_type": "stream",
     "text": [
      "100%|██████████| 1024/1024 [00:03<00:00, 261.44it/s]\n"
     ]
    },
    {
     "name": "stdout",
     "output_type": "stream",
     "text": [
      "Saved instance information and point cloud data to /home/wan/Workplace-why/Part-SAM/part_scene_saved/0277/1/ins_info\n"
     ]
    },
    {
     "name": "stderr",
     "output_type": "stream",
     "text": [
      "100%|██████████| 1024/1024 [00:03<00:00, 259.27it/s]\n",
      " 85%|████████▌ | 255/300 [1:38:13<16:56, 22.59s/it]"
     ]
    },
    {
     "name": "stdout",
     "output_type": "stream",
     "text": [
      "Saved instance information and point cloud data to /home/wan/Workplace-why/Part-SAM/part_scene_saved/0277/2/ins_info\n",
      "0257\n"
     ]
    },
    {
     "name": "stderr",
     "output_type": "stream",
     "text": [
      "100%|██████████| 1024/1024 [00:03<00:00, 261.15it/s]\n"
     ]
    },
    {
     "name": "stdout",
     "output_type": "stream",
     "text": [
      "Saved instance information and point cloud data to /home/wan/Workplace-why/Part-SAM/part_scene_saved/0257/0/ins_info\n"
     ]
    },
    {
     "name": "stderr",
     "output_type": "stream",
     "text": [
      "100%|██████████| 1024/1024 [00:03<00:00, 262.84it/s]\n"
     ]
    },
    {
     "name": "stdout",
     "output_type": "stream",
     "text": [
      "Saved instance information and point cloud data to /home/wan/Workplace-why/Part-SAM/part_scene_saved/0257/1/ins_info\n"
     ]
    },
    {
     "name": "stderr",
     "output_type": "stream",
     "text": [
      "100%|██████████| 1024/1024 [00:03<00:00, 263.22it/s]\n",
      " 85%|████████▌ | 256/300 [1:38:34<16:12, 22.10s/it]"
     ]
    },
    {
     "name": "stdout",
     "output_type": "stream",
     "text": [
      "Saved instance information and point cloud data to /home/wan/Workplace-why/Part-SAM/part_scene_saved/0257/2/ins_info\n",
      "0029\n"
     ]
    },
    {
     "name": "stderr",
     "output_type": "stream",
     "text": [
      "100%|██████████| 1024/1024 [00:03<00:00, 262.41it/s]\n"
     ]
    },
    {
     "name": "stdout",
     "output_type": "stream",
     "text": [
      "Saved instance information and point cloud data to /home/wan/Workplace-why/Part-SAM/part_scene_saved/0029/0/ins_info\n"
     ]
    },
    {
     "name": "stderr",
     "output_type": "stream",
     "text": [
      "100%|██████████| 1024/1024 [00:03<00:00, 263.73it/s]\n"
     ]
    },
    {
     "name": "stdout",
     "output_type": "stream",
     "text": [
      "Saved instance information and point cloud data to /home/wan/Workplace-why/Part-SAM/part_scene_saved/0029/1/ins_info\n"
     ]
    },
    {
     "name": "stderr",
     "output_type": "stream",
     "text": [
      "100%|██████████| 1024/1024 [00:03<00:00, 259.69it/s]\n",
      " 86%|████████▌ | 257/300 [1:38:56<15:43, 21.95s/it]"
     ]
    },
    {
     "name": "stdout",
     "output_type": "stream",
     "text": [
      "Saved instance information and point cloud data to /home/wan/Workplace-why/Part-SAM/part_scene_saved/0029/2/ins_info\n",
      "0163\n"
     ]
    },
    {
     "name": "stderr",
     "output_type": "stream",
     "text": [
      "100%|██████████| 1024/1024 [00:03<00:00, 256.25it/s]\n"
     ]
    },
    {
     "name": "stdout",
     "output_type": "stream",
     "text": [
      "Saved instance information and point cloud data to /home/wan/Workplace-why/Part-SAM/part_scene_saved/0163/0/ins_info\n"
     ]
    },
    {
     "name": "stderr",
     "output_type": "stream",
     "text": [
      "100%|██████████| 1024/1024 [00:03<00:00, 260.26it/s]\n"
     ]
    },
    {
     "name": "stdout",
     "output_type": "stream",
     "text": [
      "Saved instance information and point cloud data to /home/wan/Workplace-why/Part-SAM/part_scene_saved/0163/1/ins_info\n"
     ]
    },
    {
     "name": "stderr",
     "output_type": "stream",
     "text": [
      "100%|██████████| 1024/1024 [00:03<00:00, 260.49it/s]\n",
      " 86%|████████▌ | 258/300 [1:39:20<15:49, 22.60s/it]"
     ]
    },
    {
     "name": "stdout",
     "output_type": "stream",
     "text": [
      "Saved instance information and point cloud data to /home/wan/Workplace-why/Part-SAM/part_scene_saved/0163/2/ins_info\n",
      "0030\n"
     ]
    },
    {
     "name": "stderr",
     "output_type": "stream",
     "text": [
      "100%|██████████| 1024/1024 [00:03<00:00, 260.14it/s]\n"
     ]
    },
    {
     "name": "stdout",
     "output_type": "stream",
     "text": [
      "Saved instance information and point cloud data to /home/wan/Workplace-why/Part-SAM/part_scene_saved/0030/0/ins_info\n"
     ]
    },
    {
     "name": "stderr",
     "output_type": "stream",
     "text": [
      "100%|██████████| 1024/1024 [00:03<00:00, 260.40it/s]\n"
     ]
    },
    {
     "name": "stdout",
     "output_type": "stream",
     "text": [
      "Saved instance information and point cloud data to /home/wan/Workplace-why/Part-SAM/part_scene_saved/0030/1/ins_info\n"
     ]
    },
    {
     "name": "stderr",
     "output_type": "stream",
     "text": [
      "100%|██████████| 1024/1024 [00:03<00:00, 260.64it/s]\n",
      " 86%|████████▋ | 259/300 [1:39:44<15:37, 22.87s/it]"
     ]
    },
    {
     "name": "stdout",
     "output_type": "stream",
     "text": [
      "Saved instance information and point cloud data to /home/wan/Workplace-why/Part-SAM/part_scene_saved/0030/2/ins_info\n",
      "0146\n"
     ]
    },
    {
     "name": "stderr",
     "output_type": "stream",
     "text": [
      "100%|██████████| 1024/1024 [00:03<00:00, 260.48it/s]\n"
     ]
    },
    {
     "name": "stdout",
     "output_type": "stream",
     "text": [
      "Saved instance information and point cloud data to /home/wan/Workplace-why/Part-SAM/part_scene_saved/0146/0/ins_info\n"
     ]
    },
    {
     "name": "stderr",
     "output_type": "stream",
     "text": [
      "100%|██████████| 1024/1024 [00:03<00:00, 262.33it/s]\n"
     ]
    },
    {
     "name": "stdout",
     "output_type": "stream",
     "text": [
      "Saved instance information and point cloud data to /home/wan/Workplace-why/Part-SAM/part_scene_saved/0146/1/ins_info\n"
     ]
    },
    {
     "name": "stderr",
     "output_type": "stream",
     "text": [
      "100%|██████████| 1024/1024 [00:03<00:00, 260.72it/s]\n",
      " 87%|████████▋ | 260/300 [1:40:05<15:02, 22.55s/it]"
     ]
    },
    {
     "name": "stdout",
     "output_type": "stream",
     "text": [
      "Saved instance information and point cloud data to /home/wan/Workplace-why/Part-SAM/part_scene_saved/0146/2/ins_info\n",
      "0262\n"
     ]
    },
    {
     "name": "stderr",
     "output_type": "stream",
     "text": [
      "100%|██████████| 1024/1024 [00:03<00:00, 261.36it/s]\n"
     ]
    },
    {
     "name": "stdout",
     "output_type": "stream",
     "text": [
      "Saved instance information and point cloud data to /home/wan/Workplace-why/Part-SAM/part_scene_saved/0262/0/ins_info\n"
     ]
    },
    {
     "name": "stderr",
     "output_type": "stream",
     "text": [
      "100%|██████████| 1024/1024 [00:03<00:00, 263.44it/s]\n"
     ]
    },
    {
     "name": "stdout",
     "output_type": "stream",
     "text": [
      "Saved instance information and point cloud data to /home/wan/Workplace-why/Part-SAM/part_scene_saved/0262/1/ins_info\n"
     ]
    },
    {
     "name": "stderr",
     "output_type": "stream",
     "text": [
      "100%|██████████| 1024/1024 [00:03<00:00, 263.09it/s]\n",
      " 87%|████████▋ | 261/300 [1:40:30<15:05, 23.22s/it]"
     ]
    },
    {
     "name": "stdout",
     "output_type": "stream",
     "text": [
      "Saved instance information and point cloud data to /home/wan/Workplace-why/Part-SAM/part_scene_saved/0262/2/ins_info\n",
      "0160\n"
     ]
    },
    {
     "name": "stderr",
     "output_type": "stream",
     "text": [
      "100%|██████████| 1024/1024 [00:03<00:00, 262.03it/s]\n"
     ]
    },
    {
     "name": "stdout",
     "output_type": "stream",
     "text": [
      "Saved instance information and point cloud data to /home/wan/Workplace-why/Part-SAM/part_scene_saved/0160/0/ins_info\n"
     ]
    },
    {
     "name": "stderr",
     "output_type": "stream",
     "text": [
      "100%|██████████| 1024/1024 [00:03<00:00, 262.77it/s]\n"
     ]
    },
    {
     "name": "stdout",
     "output_type": "stream",
     "text": [
      "Saved instance information and point cloud data to /home/wan/Workplace-why/Part-SAM/part_scene_saved/0160/1/ins_info\n"
     ]
    },
    {
     "name": "stderr",
     "output_type": "stream",
     "text": [
      "100%|██████████| 1024/1024 [00:03<00:00, 262.96it/s]\n",
      " 87%|████████▋ | 262/300 [1:40:51<14:16, 22.54s/it]"
     ]
    },
    {
     "name": "stdout",
     "output_type": "stream",
     "text": [
      "Saved instance information and point cloud data to /home/wan/Workplace-why/Part-SAM/part_scene_saved/0160/2/ins_info\n",
      "0281\n"
     ]
    },
    {
     "name": "stderr",
     "output_type": "stream",
     "text": [
      "100%|██████████| 1024/1024 [00:03<00:00, 261.96it/s]\n"
     ]
    },
    {
     "name": "stdout",
     "output_type": "stream",
     "text": [
      "Saved instance information and point cloud data to /home/wan/Workplace-why/Part-SAM/part_scene_saved/0281/0/ins_info\n"
     ]
    },
    {
     "name": "stderr",
     "output_type": "stream",
     "text": [
      "100%|██████████| 1024/1024 [00:03<00:00, 261.64it/s]\n"
     ]
    },
    {
     "name": "stdout",
     "output_type": "stream",
     "text": [
      "Saved instance information and point cloud data to /home/wan/Workplace-why/Part-SAM/part_scene_saved/0281/1/ins_info\n"
     ]
    },
    {
     "name": "stderr",
     "output_type": "stream",
     "text": [
      "100%|██████████| 1024/1024 [00:03<00:00, 261.63it/s]\n",
      " 88%|████████▊ | 263/300 [1:41:14<13:57, 22.62s/it]"
     ]
    },
    {
     "name": "stdout",
     "output_type": "stream",
     "text": [
      "Saved instance information and point cloud data to /home/wan/Workplace-why/Part-SAM/part_scene_saved/0281/2/ins_info\n",
      "0027\n"
     ]
    },
    {
     "name": "stderr",
     "output_type": "stream",
     "text": [
      "100%|██████████| 1024/1024 [00:03<00:00, 261.64it/s]\n"
     ]
    },
    {
     "name": "stdout",
     "output_type": "stream",
     "text": [
      "Saved instance information and point cloud data to /home/wan/Workplace-why/Part-SAM/part_scene_saved/0027/0/ins_info\n"
     ]
    },
    {
     "name": "stderr",
     "output_type": "stream",
     "text": [
      "100%|██████████| 1024/1024 [00:03<00:00, 262.05it/s]\n"
     ]
    },
    {
     "name": "stdout",
     "output_type": "stream",
     "text": [
      "Saved instance information and point cloud data to /home/wan/Workplace-why/Part-SAM/part_scene_saved/0027/1/ins_info\n"
     ]
    },
    {
     "name": "stderr",
     "output_type": "stream",
     "text": [
      "100%|██████████| 1024/1024 [00:03<00:00, 262.20it/s]\n",
      " 88%|████████▊ | 264/300 [1:41:36<13:23, 22.33s/it]"
     ]
    },
    {
     "name": "stdout",
     "output_type": "stream",
     "text": [
      "Saved instance information and point cloud data to /home/wan/Workplace-why/Part-SAM/part_scene_saved/0027/2/ins_info\n",
      "0084\n"
     ]
    },
    {
     "name": "stderr",
     "output_type": "stream",
     "text": [
      "100%|██████████| 1024/1024 [00:03<00:00, 261.29it/s]\n"
     ]
    },
    {
     "name": "stdout",
     "output_type": "stream",
     "text": [
      "Saved instance information and point cloud data to /home/wan/Workplace-why/Part-SAM/part_scene_saved/0084/0/ins_info\n"
     ]
    },
    {
     "name": "stderr",
     "output_type": "stream",
     "text": [
      "100%|██████████| 1024/1024 [00:03<00:00, 262.09it/s]\n"
     ]
    },
    {
     "name": "stdout",
     "output_type": "stream",
     "text": [
      "Saved instance information and point cloud data to /home/wan/Workplace-why/Part-SAM/part_scene_saved/0084/1/ins_info\n"
     ]
    },
    {
     "name": "stderr",
     "output_type": "stream",
     "text": [
      "100%|██████████| 1024/1024 [00:03<00:00, 262.68it/s]\n",
      " 88%|████████▊ | 265/300 [1:41:56<12:40, 21.73s/it]"
     ]
    },
    {
     "name": "stdout",
     "output_type": "stream",
     "text": [
      "Saved instance information and point cloud data to /home/wan/Workplace-why/Part-SAM/part_scene_saved/0084/2/ins_info\n",
      "0118\n"
     ]
    },
    {
     "name": "stderr",
     "output_type": "stream",
     "text": [
      "100%|██████████| 1024/1024 [00:03<00:00, 259.00it/s]\n"
     ]
    },
    {
     "name": "stdout",
     "output_type": "stream",
     "text": [
      "Saved instance information and point cloud data to /home/wan/Workplace-why/Part-SAM/part_scene_saved/0118/0/ins_info\n"
     ]
    },
    {
     "name": "stderr",
     "output_type": "stream",
     "text": [
      "100%|██████████| 1024/1024 [00:03<00:00, 258.70it/s]\n"
     ]
    },
    {
     "name": "stdout",
     "output_type": "stream",
     "text": [
      "Saved instance information and point cloud data to /home/wan/Workplace-why/Part-SAM/part_scene_saved/0118/1/ins_info\n"
     ]
    },
    {
     "name": "stderr",
     "output_type": "stream",
     "text": [
      "100%|██████████| 1024/1024 [00:03<00:00, 262.07it/s]\n",
      " 89%|████████▊ | 266/300 [1:42:19<12:30, 22.07s/it]"
     ]
    },
    {
     "name": "stdout",
     "output_type": "stream",
     "text": [
      "Saved instance information and point cloud data to /home/wan/Workplace-why/Part-SAM/part_scene_saved/0118/2/ins_info\n",
      "0249\n"
     ]
    },
    {
     "name": "stderr",
     "output_type": "stream",
     "text": [
      "100%|██████████| 1024/1024 [00:03<00:00, 261.93it/s]\n"
     ]
    },
    {
     "name": "stdout",
     "output_type": "stream",
     "text": [
      "Saved instance information and point cloud data to /home/wan/Workplace-why/Part-SAM/part_scene_saved/0249/0/ins_info\n"
     ]
    },
    {
     "name": "stderr",
     "output_type": "stream",
     "text": [
      "100%|██████████| 1024/1024 [00:03<00:00, 258.52it/s]\n"
     ]
    },
    {
     "name": "stdout",
     "output_type": "stream",
     "text": [
      "Saved instance information and point cloud data to /home/wan/Workplace-why/Part-SAM/part_scene_saved/0249/1/ins_info\n"
     ]
    },
    {
     "name": "stderr",
     "output_type": "stream",
     "text": [
      "100%|██████████| 1024/1024 [00:04<00:00, 253.63it/s]\n",
      " 89%|████████▉ | 267/300 [1:42:43<12:25, 22.60s/it]"
     ]
    },
    {
     "name": "stdout",
     "output_type": "stream",
     "text": [
      "Saved instance information and point cloud data to /home/wan/Workplace-why/Part-SAM/part_scene_saved/0249/2/ins_info\n",
      "0057\n"
     ]
    },
    {
     "name": "stderr",
     "output_type": "stream",
     "text": [
      "100%|██████████| 1024/1024 [00:03<00:00, 256.61it/s]\n"
     ]
    },
    {
     "name": "stdout",
     "output_type": "stream",
     "text": [
      "Saved instance information and point cloud data to /home/wan/Workplace-why/Part-SAM/part_scene_saved/0057/0/ins_info\n"
     ]
    },
    {
     "name": "stderr",
     "output_type": "stream",
     "text": [
      "100%|██████████| 1024/1024 [00:03<00:00, 261.05it/s]\n"
     ]
    },
    {
     "name": "stdout",
     "output_type": "stream",
     "text": [
      "Saved instance information and point cloud data to /home/wan/Workplace-why/Part-SAM/part_scene_saved/0057/1/ins_info\n"
     ]
    },
    {
     "name": "stderr",
     "output_type": "stream",
     "text": [
      "100%|██████████| 1024/1024 [00:03<00:00, 259.68it/s]\n",
      " 89%|████████▉ | 268/300 [1:43:05<12:00, 22.51s/it]"
     ]
    },
    {
     "name": "stdout",
     "output_type": "stream",
     "text": [
      "Saved instance information and point cloud data to /home/wan/Workplace-why/Part-SAM/part_scene_saved/0057/2/ins_info\n",
      "0264\n"
     ]
    },
    {
     "name": "stderr",
     "output_type": "stream",
     "text": [
      "100%|██████████| 1024/1024 [00:03<00:00, 259.37it/s]\n"
     ]
    },
    {
     "name": "stdout",
     "output_type": "stream",
     "text": [
      "Saved instance information and point cloud data to /home/wan/Workplace-why/Part-SAM/part_scene_saved/0264/0/ins_info\n"
     ]
    },
    {
     "name": "stderr",
     "output_type": "stream",
     "text": [
      "100%|██████████| 1024/1024 [00:04<00:00, 253.75it/s]\n"
     ]
    },
    {
     "name": "stdout",
     "output_type": "stream",
     "text": [
      "Saved instance information and point cloud data to /home/wan/Workplace-why/Part-SAM/part_scene_saved/0264/1/ins_info\n"
     ]
    },
    {
     "name": "stderr",
     "output_type": "stream",
     "text": [
      "100%|██████████| 1024/1024 [00:04<00:00, 250.01it/s]\n",
      " 90%|████████▉ | 269/300 [1:43:28<11:42, 22.65s/it]"
     ]
    },
    {
     "name": "stdout",
     "output_type": "stream",
     "text": [
      "Saved instance information and point cloud data to /home/wan/Workplace-why/Part-SAM/part_scene_saved/0264/2/ins_info\n",
      "0068\n"
     ]
    },
    {
     "name": "stderr",
     "output_type": "stream",
     "text": [
      "100%|██████████| 1024/1024 [00:03<00:00, 258.35it/s]\n"
     ]
    },
    {
     "name": "stdout",
     "output_type": "stream",
     "text": [
      "Saved instance information and point cloud data to /home/wan/Workplace-why/Part-SAM/part_scene_saved/0068/0/ins_info\n"
     ]
    },
    {
     "name": "stderr",
     "output_type": "stream",
     "text": [
      "100%|██████████| 1024/1024 [00:03<00:00, 261.85it/s]\n"
     ]
    },
    {
     "name": "stdout",
     "output_type": "stream",
     "text": [
      "Saved instance information and point cloud data to /home/wan/Workplace-why/Part-SAM/part_scene_saved/0068/1/ins_info\n"
     ]
    },
    {
     "name": "stderr",
     "output_type": "stream",
     "text": [
      "100%|██████████| 1024/1024 [00:03<00:00, 260.48it/s]\n",
      " 90%|█████████ | 270/300 [1:43:49<11:04, 22.15s/it]"
     ]
    },
    {
     "name": "stdout",
     "output_type": "stream",
     "text": [
      "Saved instance information and point cloud data to /home/wan/Workplace-why/Part-SAM/part_scene_saved/0068/2/ins_info\n",
      "0007\n"
     ]
    },
    {
     "name": "stderr",
     "output_type": "stream",
     "text": [
      "100%|██████████| 1024/1024 [00:03<00:00, 260.97it/s]\n"
     ]
    },
    {
     "name": "stdout",
     "output_type": "stream",
     "text": [
      "Saved instance information and point cloud data to /home/wan/Workplace-why/Part-SAM/part_scene_saved/0007/0/ins_info\n"
     ]
    },
    {
     "name": "stderr",
     "output_type": "stream",
     "text": [
      "100%|██████████| 1024/1024 [00:03<00:00, 261.10it/s]\n"
     ]
    },
    {
     "name": "stdout",
     "output_type": "stream",
     "text": [
      "Saved instance information and point cloud data to /home/wan/Workplace-why/Part-SAM/part_scene_saved/0007/1/ins_info\n"
     ]
    },
    {
     "name": "stderr",
     "output_type": "stream",
     "text": [
      "100%|██████████| 1024/1024 [00:03<00:00, 260.20it/s]\n",
      " 90%|█████████ | 271/300 [1:44:16<11:21, 23.52s/it]"
     ]
    },
    {
     "name": "stdout",
     "output_type": "stream",
     "text": [
      "Saved instance information and point cloud data to /home/wan/Workplace-why/Part-SAM/part_scene_saved/0007/2/ins_info\n",
      "0227\n"
     ]
    },
    {
     "name": "stderr",
     "output_type": "stream",
     "text": [
      "100%|██████████| 1024/1024 [00:03<00:00, 260.36it/s]\n"
     ]
    },
    {
     "name": "stdout",
     "output_type": "stream",
     "text": [
      "Saved instance information and point cloud data to /home/wan/Workplace-why/Part-SAM/part_scene_saved/0227/0/ins_info\n"
     ]
    },
    {
     "name": "stderr",
     "output_type": "stream",
     "text": [
      "100%|██████████| 1024/1024 [00:03<00:00, 260.42it/s]\n"
     ]
    },
    {
     "name": "stdout",
     "output_type": "stream",
     "text": [
      "Saved instance information and point cloud data to /home/wan/Workplace-why/Part-SAM/part_scene_saved/0227/1/ins_info\n"
     ]
    },
    {
     "name": "stderr",
     "output_type": "stream",
     "text": [
      "100%|██████████| 1024/1024 [00:03<00:00, 262.95it/s]\n",
      " 91%|█████████ | 272/300 [1:44:42<11:23, 24.42s/it]"
     ]
    },
    {
     "name": "stdout",
     "output_type": "stream",
     "text": [
      "Saved instance information and point cloud data to /home/wan/Workplace-why/Part-SAM/part_scene_saved/0227/2/ins_info\n",
      "0037\n"
     ]
    },
    {
     "name": "stderr",
     "output_type": "stream",
     "text": [
      "100%|██████████| 1024/1024 [00:03<00:00, 262.98it/s]\n"
     ]
    },
    {
     "name": "stdout",
     "output_type": "stream",
     "text": [
      "Saved instance information and point cloud data to /home/wan/Workplace-why/Part-SAM/part_scene_saved/0037/0/ins_info\n"
     ]
    },
    {
     "name": "stderr",
     "output_type": "stream",
     "text": [
      "100%|██████████| 1024/1024 [00:03<00:00, 262.83it/s]\n"
     ]
    },
    {
     "name": "stdout",
     "output_type": "stream",
     "text": [
      "Saved instance information and point cloud data to /home/wan/Workplace-why/Part-SAM/part_scene_saved/0037/1/ins_info\n"
     ]
    },
    {
     "name": "stderr",
     "output_type": "stream",
     "text": [
      "100%|██████████| 1024/1024 [00:03<00:00, 263.29it/s]\n",
      " 91%|█████████ | 273/300 [1:45:16<12:17, 27.33s/it]"
     ]
    },
    {
     "name": "stdout",
     "output_type": "stream",
     "text": [
      "Saved instance information and point cloud data to /home/wan/Workplace-why/Part-SAM/part_scene_saved/0037/2/ins_info\n",
      "0180\n"
     ]
    },
    {
     "name": "stderr",
     "output_type": "stream",
     "text": [
      "100%|██████████| 1024/1024 [00:03<00:00, 262.61it/s]\n"
     ]
    },
    {
     "name": "stdout",
     "output_type": "stream",
     "text": [
      "Saved instance information and point cloud data to /home/wan/Workplace-why/Part-SAM/part_scene_saved/0180/0/ins_info\n"
     ]
    },
    {
     "name": "stderr",
     "output_type": "stream",
     "text": [
      "100%|██████████| 1024/1024 [00:03<00:00, 261.77it/s]\n"
     ]
    },
    {
     "name": "stdout",
     "output_type": "stream",
     "text": [
      "Saved instance information and point cloud data to /home/wan/Workplace-why/Part-SAM/part_scene_saved/0180/1/ins_info\n"
     ]
    },
    {
     "name": "stderr",
     "output_type": "stream",
     "text": [
      "100%|██████████| 1024/1024 [00:03<00:00, 262.51it/s]\n",
      " 91%|█████████▏| 274/300 [1:45:38<11:03, 25.53s/it]"
     ]
    },
    {
     "name": "stdout",
     "output_type": "stream",
     "text": [
      "Saved instance information and point cloud data to /home/wan/Workplace-why/Part-SAM/part_scene_saved/0180/2/ins_info\n",
      "0205\n"
     ]
    },
    {
     "name": "stderr",
     "output_type": "stream",
     "text": [
      "100%|██████████| 1024/1024 [00:03<00:00, 262.41it/s]\n"
     ]
    },
    {
     "name": "stdout",
     "output_type": "stream",
     "text": [
      "Saved instance information and point cloud data to /home/wan/Workplace-why/Part-SAM/part_scene_saved/0205/0/ins_info\n"
     ]
    },
    {
     "name": "stderr",
     "output_type": "stream",
     "text": [
      "100%|██████████| 1024/1024 [00:03<00:00, 263.20it/s]\n"
     ]
    },
    {
     "name": "stdout",
     "output_type": "stream",
     "text": [
      "Saved instance information and point cloud data to /home/wan/Workplace-why/Part-SAM/part_scene_saved/0205/1/ins_info\n"
     ]
    },
    {
     "name": "stderr",
     "output_type": "stream",
     "text": [
      "100%|██████████| 1024/1024 [00:03<00:00, 261.86it/s]\n",
      " 92%|█████████▏| 275/300 [1:45:58<10:01, 24.05s/it]"
     ]
    },
    {
     "name": "stdout",
     "output_type": "stream",
     "text": [
      "Saved instance information and point cloud data to /home/wan/Workplace-why/Part-SAM/part_scene_saved/0205/2/ins_info\n",
      "0008\n"
     ]
    },
    {
     "name": "stderr",
     "output_type": "stream",
     "text": [
      "100%|██████████| 1024/1024 [00:03<00:00, 262.81it/s]\n"
     ]
    },
    {
     "name": "stdout",
     "output_type": "stream",
     "text": [
      "Saved instance information and point cloud data to /home/wan/Workplace-why/Part-SAM/part_scene_saved/0008/0/ins_info\n"
     ]
    },
    {
     "name": "stderr",
     "output_type": "stream",
     "text": [
      "100%|██████████| 1024/1024 [00:03<00:00, 262.70it/s]\n"
     ]
    },
    {
     "name": "stdout",
     "output_type": "stream",
     "text": [
      "Saved instance information and point cloud data to /home/wan/Workplace-why/Part-SAM/part_scene_saved/0008/1/ins_info\n"
     ]
    },
    {
     "name": "stderr",
     "output_type": "stream",
     "text": [
      "100%|██████████| 1024/1024 [00:03<00:00, 261.25it/s]\n",
      " 92%|█████████▏| 276/300 [1:46:29<10:29, 26.22s/it]"
     ]
    },
    {
     "name": "stdout",
     "output_type": "stream",
     "text": [
      "Saved instance information and point cloud data to /home/wan/Workplace-why/Part-SAM/part_scene_saved/0008/2/ins_info\n",
      "0043\n"
     ]
    },
    {
     "name": "stderr",
     "output_type": "stream",
     "text": [
      "100%|██████████| 1024/1024 [00:03<00:00, 261.04it/s]\n"
     ]
    },
    {
     "name": "stdout",
     "output_type": "stream",
     "text": [
      "Saved instance information and point cloud data to /home/wan/Workplace-why/Part-SAM/part_scene_saved/0043/0/ins_info\n"
     ]
    },
    {
     "name": "stderr",
     "output_type": "stream",
     "text": [
      "100%|██████████| 1024/1024 [00:03<00:00, 262.13it/s]\n"
     ]
    },
    {
     "name": "stdout",
     "output_type": "stream",
     "text": [
      "Saved instance information and point cloud data to /home/wan/Workplace-why/Part-SAM/part_scene_saved/0043/1/ins_info\n"
     ]
    },
    {
     "name": "stderr",
     "output_type": "stream",
     "text": [
      "100%|██████████| 1024/1024 [00:03<00:00, 260.63it/s]\n",
      " 92%|█████████▏| 277/300 [1:47:01<10:40, 27.87s/it]"
     ]
    },
    {
     "name": "stdout",
     "output_type": "stream",
     "text": [
      "Saved instance information and point cloud data to /home/wan/Workplace-why/Part-SAM/part_scene_saved/0043/2/ins_info\n",
      "0121\n"
     ]
    },
    {
     "name": "stderr",
     "output_type": "stream",
     "text": [
      "100%|██████████| 1024/1024 [00:03<00:00, 260.24it/s]\n"
     ]
    },
    {
     "name": "stdout",
     "output_type": "stream",
     "text": [
      "Saved instance information and point cloud data to /home/wan/Workplace-why/Part-SAM/part_scene_saved/0121/0/ins_info\n"
     ]
    },
    {
     "name": "stderr",
     "output_type": "stream",
     "text": [
      "100%|██████████| 1024/1024 [00:03<00:00, 261.11it/s]\n"
     ]
    },
    {
     "name": "stdout",
     "output_type": "stream",
     "text": [
      "Saved instance information and point cloud data to /home/wan/Workplace-why/Part-SAM/part_scene_saved/0121/1/ins_info\n"
     ]
    },
    {
     "name": "stderr",
     "output_type": "stream",
     "text": [
      "100%|██████████| 1024/1024 [00:03<00:00, 261.74it/s]\n",
      " 93%|█████████▎| 278/300 [1:47:22<09:28, 25.83s/it]"
     ]
    },
    {
     "name": "stdout",
     "output_type": "stream",
     "text": [
      "Saved instance information and point cloud data to /home/wan/Workplace-why/Part-SAM/part_scene_saved/0121/2/ins_info\n",
      "0124\n"
     ]
    },
    {
     "name": "stderr",
     "output_type": "stream",
     "text": [
      "100%|██████████| 1024/1024 [00:03<00:00, 262.25it/s]\n"
     ]
    },
    {
     "name": "stdout",
     "output_type": "stream",
     "text": [
      "Saved instance information and point cloud data to /home/wan/Workplace-why/Part-SAM/part_scene_saved/0124/0/ins_info\n"
     ]
    },
    {
     "name": "stderr",
     "output_type": "stream",
     "text": [
      "100%|██████████| 1024/1024 [00:03<00:00, 261.73it/s]\n"
     ]
    },
    {
     "name": "stdout",
     "output_type": "stream",
     "text": [
      "Saved instance information and point cloud data to /home/wan/Workplace-why/Part-SAM/part_scene_saved/0124/1/ins_info\n"
     ]
    },
    {
     "name": "stderr",
     "output_type": "stream",
     "text": [
      "100%|██████████| 1024/1024 [00:03<00:00, 261.55it/s]\n",
      " 93%|█████████▎| 279/300 [1:47:46<08:50, 25.26s/it]"
     ]
    },
    {
     "name": "stdout",
     "output_type": "stream",
     "text": [
      "Saved instance information and point cloud data to /home/wan/Workplace-why/Part-SAM/part_scene_saved/0124/2/ins_info\n",
      "0114\n"
     ]
    },
    {
     "name": "stderr",
     "output_type": "stream",
     "text": [
      "100%|██████████| 1024/1024 [00:03<00:00, 260.79it/s]\n"
     ]
    },
    {
     "name": "stdout",
     "output_type": "stream",
     "text": [
      "Saved instance information and point cloud data to /home/wan/Workplace-why/Part-SAM/part_scene_saved/0114/0/ins_info\n"
     ]
    },
    {
     "name": "stderr",
     "output_type": "stream",
     "text": [
      "100%|██████████| 1024/1024 [00:03<00:00, 260.11it/s]\n"
     ]
    },
    {
     "name": "stdout",
     "output_type": "stream",
     "text": [
      "Saved instance information and point cloud data to /home/wan/Workplace-why/Part-SAM/part_scene_saved/0114/1/ins_info\n"
     ]
    },
    {
     "name": "stderr",
     "output_type": "stream",
     "text": [
      "100%|██████████| 1024/1024 [00:03<00:00, 261.49it/s]\n",
      " 93%|█████████▎| 280/300 [1:48:12<08:30, 25.53s/it]"
     ]
    },
    {
     "name": "stdout",
     "output_type": "stream",
     "text": [
      "Saved instance information and point cloud data to /home/wan/Workplace-why/Part-SAM/part_scene_saved/0114/2/ins_info\n",
      "0164\n"
     ]
    },
    {
     "name": "stderr",
     "output_type": "stream",
     "text": [
      "100%|██████████| 1024/1024 [00:03<00:00, 261.43it/s]\n"
     ]
    },
    {
     "name": "stdout",
     "output_type": "stream",
     "text": [
      "Saved instance information and point cloud data to /home/wan/Workplace-why/Part-SAM/part_scene_saved/0164/0/ins_info\n"
     ]
    },
    {
     "name": "stderr",
     "output_type": "stream",
     "text": [
      "100%|██████████| 1024/1024 [00:03<00:00, 262.28it/s]\n"
     ]
    },
    {
     "name": "stdout",
     "output_type": "stream",
     "text": [
      "Saved instance information and point cloud data to /home/wan/Workplace-why/Part-SAM/part_scene_saved/0164/1/ins_info\n"
     ]
    },
    {
     "name": "stderr",
     "output_type": "stream",
     "text": [
      "100%|██████████| 1024/1024 [00:03<00:00, 260.90it/s]\n",
      " 94%|█████████▎| 281/300 [1:48:37<07:58, 25.18s/it]"
     ]
    },
    {
     "name": "stdout",
     "output_type": "stream",
     "text": [
      "Saved instance information and point cloud data to /home/wan/Workplace-why/Part-SAM/part_scene_saved/0164/2/ins_info\n",
      "0278\n"
     ]
    },
    {
     "name": "stderr",
     "output_type": "stream",
     "text": [
      "100%|██████████| 1024/1024 [00:03<00:00, 260.08it/s]\n"
     ]
    },
    {
     "name": "stdout",
     "output_type": "stream",
     "text": [
      "Saved instance information and point cloud data to /home/wan/Workplace-why/Part-SAM/part_scene_saved/0278/0/ins_info\n"
     ]
    },
    {
     "name": "stderr",
     "output_type": "stream",
     "text": [
      "100%|██████████| 1024/1024 [00:03<00:00, 260.60it/s]\n"
     ]
    },
    {
     "name": "stdout",
     "output_type": "stream",
     "text": [
      "Saved instance information and point cloud data to /home/wan/Workplace-why/Part-SAM/part_scene_saved/0278/1/ins_info\n"
     ]
    },
    {
     "name": "stderr",
     "output_type": "stream",
     "text": [
      "100%|██████████| 1024/1024 [00:03<00:00, 260.46it/s]\n",
      " 94%|█████████▍| 282/300 [1:49:03<07:42, 25.67s/it]"
     ]
    },
    {
     "name": "stdout",
     "output_type": "stream",
     "text": [
      "Saved instance information and point cloud data to /home/wan/Workplace-why/Part-SAM/part_scene_saved/0278/2/ins_info\n",
      "0196\n"
     ]
    },
    {
     "name": "stderr",
     "output_type": "stream",
     "text": [
      "100%|██████████| 1024/1024 [00:03<00:00, 258.00it/s]\n"
     ]
    },
    {
     "name": "stdout",
     "output_type": "stream",
     "text": [
      "Saved instance information and point cloud data to /home/wan/Workplace-why/Part-SAM/part_scene_saved/0196/0/ins_info\n"
     ]
    },
    {
     "name": "stderr",
     "output_type": "stream",
     "text": [
      "100%|██████████| 1024/1024 [00:03<00:00, 261.03it/s]\n"
     ]
    },
    {
     "name": "stdout",
     "output_type": "stream",
     "text": [
      "Saved instance information and point cloud data to /home/wan/Workplace-why/Part-SAM/part_scene_saved/0196/1/ins_info\n"
     ]
    },
    {
     "name": "stderr",
     "output_type": "stream",
     "text": [
      "100%|██████████| 1024/1024 [00:03<00:00, 259.76it/s]\n",
      " 94%|█████████▍| 283/300 [1:49:24<06:52, 24.25s/it]"
     ]
    },
    {
     "name": "stdout",
     "output_type": "stream",
     "text": [
      "Saved instance information and point cloud data to /home/wan/Workplace-why/Part-SAM/part_scene_saved/0196/2/ins_info\n",
      "0213\n"
     ]
    },
    {
     "name": "stderr",
     "output_type": "stream",
     "text": [
      "100%|██████████| 1024/1024 [00:03<00:00, 257.94it/s]\n"
     ]
    },
    {
     "name": "stdout",
     "output_type": "stream",
     "text": [
      "Saved instance information and point cloud data to /home/wan/Workplace-why/Part-SAM/part_scene_saved/0213/0/ins_info\n"
     ]
    },
    {
     "name": "stderr",
     "output_type": "stream",
     "text": [
      "100%|██████████| 1024/1024 [00:03<00:00, 258.48it/s]\n"
     ]
    },
    {
     "name": "stdout",
     "output_type": "stream",
     "text": [
      "Saved instance information and point cloud data to /home/wan/Workplace-why/Part-SAM/part_scene_saved/0213/1/ins_info\n"
     ]
    },
    {
     "name": "stderr",
     "output_type": "stream",
     "text": [
      "100%|██████████| 1024/1024 [00:03<00:00, 259.73it/s]\n",
      " 95%|█████████▍| 284/300 [1:49:49<06:29, 24.32s/it]"
     ]
    },
    {
     "name": "stdout",
     "output_type": "stream",
     "text": [
      "Saved instance information and point cloud data to /home/wan/Workplace-why/Part-SAM/part_scene_saved/0213/2/ins_info\n",
      "0299\n"
     ]
    },
    {
     "name": "stderr",
     "output_type": "stream",
     "text": [
      "100%|██████████| 1024/1024 [00:03<00:00, 257.53it/s]\n"
     ]
    },
    {
     "name": "stdout",
     "output_type": "stream",
     "text": [
      "Saved instance information and point cloud data to /home/wan/Workplace-why/Part-SAM/part_scene_saved/0299/0/ins_info\n"
     ]
    },
    {
     "name": "stderr",
     "output_type": "stream",
     "text": [
      "100%|██████████| 1024/1024 [00:03<00:00, 259.70it/s]\n"
     ]
    },
    {
     "name": "stdout",
     "output_type": "stream",
     "text": [
      "Saved instance information and point cloud data to /home/wan/Workplace-why/Part-SAM/part_scene_saved/0299/1/ins_info\n"
     ]
    },
    {
     "name": "stderr",
     "output_type": "stream",
     "text": [
      "100%|██████████| 1024/1024 [00:03<00:00, 260.25it/s]\n",
      " 95%|█████████▌| 285/300 [1:50:11<05:53, 23.55s/it]"
     ]
    },
    {
     "name": "stdout",
     "output_type": "stream",
     "text": [
      "Saved instance information and point cloud data to /home/wan/Workplace-why/Part-SAM/part_scene_saved/0299/2/ins_info\n",
      "0185\n"
     ]
    },
    {
     "name": "stderr",
     "output_type": "stream",
     "text": [
      "100%|██████████| 1024/1024 [00:03<00:00, 260.13it/s]\n"
     ]
    },
    {
     "name": "stdout",
     "output_type": "stream",
     "text": [
      "Saved instance information and point cloud data to /home/wan/Workplace-why/Part-SAM/part_scene_saved/0185/0/ins_info\n"
     ]
    },
    {
     "name": "stderr",
     "output_type": "stream",
     "text": [
      "100%|██████████| 1024/1024 [00:03<00:00, 260.73it/s]\n"
     ]
    },
    {
     "name": "stdout",
     "output_type": "stream",
     "text": [
      "Saved instance information and point cloud data to /home/wan/Workplace-why/Part-SAM/part_scene_saved/0185/1/ins_info\n"
     ]
    },
    {
     "name": "stderr",
     "output_type": "stream",
     "text": [
      "100%|██████████| 1024/1024 [00:03<00:00, 259.10it/s]\n",
      " 95%|█████████▌| 286/300 [1:50:32<05:19, 22.81s/it]"
     ]
    },
    {
     "name": "stdout",
     "output_type": "stream",
     "text": [
      "Saved instance information and point cloud data to /home/wan/Workplace-why/Part-SAM/part_scene_saved/0185/2/ins_info\n",
      "0252\n"
     ]
    },
    {
     "name": "stderr",
     "output_type": "stream",
     "text": [
      "100%|██████████| 1024/1024 [00:03<00:00, 259.26it/s]\n"
     ]
    },
    {
     "name": "stdout",
     "output_type": "stream",
     "text": [
      "Saved instance information and point cloud data to /home/wan/Workplace-why/Part-SAM/part_scene_saved/0252/0/ins_info\n"
     ]
    },
    {
     "name": "stderr",
     "output_type": "stream",
     "text": [
      "100%|██████████| 1024/1024 [00:03<00:00, 261.17it/s]\n"
     ]
    },
    {
     "name": "stdout",
     "output_type": "stream",
     "text": [
      "Saved instance information and point cloud data to /home/wan/Workplace-why/Part-SAM/part_scene_saved/0252/1/ins_info\n"
     ]
    },
    {
     "name": "stderr",
     "output_type": "stream",
     "text": [
      "100%|██████████| 1024/1024 [00:03<00:00, 260.80it/s]\n",
      " 96%|█████████▌| 287/300 [1:50:53<04:50, 22.31s/it]"
     ]
    },
    {
     "name": "stdout",
     "output_type": "stream",
     "text": [
      "Saved instance information and point cloud data to /home/wan/Workplace-why/Part-SAM/part_scene_saved/0252/2/ins_info\n",
      "0131\n"
     ]
    },
    {
     "name": "stderr",
     "output_type": "stream",
     "text": [
      "100%|██████████| 1024/1024 [00:03<00:00, 260.36it/s]\n"
     ]
    },
    {
     "name": "stdout",
     "output_type": "stream",
     "text": [
      "Saved instance information and point cloud data to /home/wan/Workplace-why/Part-SAM/part_scene_saved/0131/0/ins_info\n"
     ]
    },
    {
     "name": "stderr",
     "output_type": "stream",
     "text": [
      "100%|██████████| 1024/1024 [00:03<00:00, 260.48it/s]\n"
     ]
    },
    {
     "name": "stdout",
     "output_type": "stream",
     "text": [
      "Saved instance information and point cloud data to /home/wan/Workplace-why/Part-SAM/part_scene_saved/0131/1/ins_info\n"
     ]
    },
    {
     "name": "stderr",
     "output_type": "stream",
     "text": [
      "100%|██████████| 1024/1024 [00:03<00:00, 257.96it/s]\n",
      " 96%|█████████▌| 288/300 [1:51:17<04:35, 22.94s/it]"
     ]
    },
    {
     "name": "stdout",
     "output_type": "stream",
     "text": [
      "Saved instance information and point cloud data to /home/wan/Workplace-why/Part-SAM/part_scene_saved/0131/2/ins_info\n",
      "0298\n"
     ]
    },
    {
     "name": "stderr",
     "output_type": "stream",
     "text": [
      "100%|██████████| 1024/1024 [00:04<00:00, 246.87it/s]\n"
     ]
    },
    {
     "name": "stdout",
     "output_type": "stream",
     "text": [
      "Saved instance information and point cloud data to /home/wan/Workplace-why/Part-SAM/part_scene_saved/0298/0/ins_info\n"
     ]
    },
    {
     "name": "stderr",
     "output_type": "stream",
     "text": [
      "100%|██████████| 1024/1024 [00:04<00:00, 255.64it/s]\n"
     ]
    },
    {
     "name": "stdout",
     "output_type": "stream",
     "text": [
      "Saved instance information and point cloud data to /home/wan/Workplace-why/Part-SAM/part_scene_saved/0298/1/ins_info\n"
     ]
    },
    {
     "name": "stderr",
     "output_type": "stream",
     "text": [
      "100%|██████████| 1024/1024 [00:03<00:00, 260.69it/s]\n",
      " 96%|█████████▋| 289/300 [1:51:41<04:16, 23.33s/it]"
     ]
    },
    {
     "name": "stdout",
     "output_type": "stream",
     "text": [
      "Saved instance information and point cloud data to /home/wan/Workplace-why/Part-SAM/part_scene_saved/0298/2/ins_info\n",
      "0183\n"
     ]
    },
    {
     "name": "stderr",
     "output_type": "stream",
     "text": [
      "100%|██████████| 1024/1024 [00:04<00:00, 253.32it/s]\n"
     ]
    },
    {
     "name": "stdout",
     "output_type": "stream",
     "text": [
      "Saved instance information and point cloud data to /home/wan/Workplace-why/Part-SAM/part_scene_saved/0183/0/ins_info\n"
     ]
    },
    {
     "name": "stderr",
     "output_type": "stream",
     "text": [
      "100%|██████████| 1024/1024 [00:03<00:00, 257.00it/s]\n"
     ]
    },
    {
     "name": "stdout",
     "output_type": "stream",
     "text": [
      "Saved instance information and point cloud data to /home/wan/Workplace-why/Part-SAM/part_scene_saved/0183/1/ins_info\n"
     ]
    },
    {
     "name": "stderr",
     "output_type": "stream",
     "text": [
      "100%|██████████| 1024/1024 [00:03<00:00, 256.47it/s]\n",
      " 97%|█████████▋| 290/300 [1:52:05<03:52, 23.28s/it]"
     ]
    },
    {
     "name": "stdout",
     "output_type": "stream",
     "text": [
      "Saved instance information and point cloud data to /home/wan/Workplace-why/Part-SAM/part_scene_saved/0183/2/ins_info\n",
      "0125\n"
     ]
    },
    {
     "name": "stderr",
     "output_type": "stream",
     "text": [
      "100%|██████████| 1024/1024 [00:03<00:00, 258.66it/s]\n"
     ]
    },
    {
     "name": "stdout",
     "output_type": "stream",
     "text": [
      "Saved instance information and point cloud data to /home/wan/Workplace-why/Part-SAM/part_scene_saved/0125/0/ins_info\n"
     ]
    },
    {
     "name": "stderr",
     "output_type": "stream",
     "text": [
      "100%|██████████| 1024/1024 [00:03<00:00, 258.39it/s]\n"
     ]
    },
    {
     "name": "stdout",
     "output_type": "stream",
     "text": [
      "Saved instance information and point cloud data to /home/wan/Workplace-why/Part-SAM/part_scene_saved/0125/1/ins_info\n"
     ]
    },
    {
     "name": "stderr",
     "output_type": "stream",
     "text": [
      "100%|██████████| 1024/1024 [00:03<00:00, 259.92it/s]\n",
      " 97%|█████████▋| 291/300 [1:52:26<03:24, 22.67s/it]"
     ]
    },
    {
     "name": "stdout",
     "output_type": "stream",
     "text": [
      "Saved instance information and point cloud data to /home/wan/Workplace-why/Part-SAM/part_scene_saved/0125/2/ins_info\n",
      "0122\n"
     ]
    },
    {
     "name": "stderr",
     "output_type": "stream",
     "text": [
      "100%|██████████| 1024/1024 [00:03<00:00, 261.02it/s]\n"
     ]
    },
    {
     "name": "stdout",
     "output_type": "stream",
     "text": [
      "Saved instance information and point cloud data to /home/wan/Workplace-why/Part-SAM/part_scene_saved/0122/0/ins_info\n"
     ]
    },
    {
     "name": "stderr",
     "output_type": "stream",
     "text": [
      "100%|██████████| 1024/1024 [00:03<00:00, 261.42it/s]\n"
     ]
    },
    {
     "name": "stdout",
     "output_type": "stream",
     "text": [
      "Saved instance information and point cloud data to /home/wan/Workplace-why/Part-SAM/part_scene_saved/0122/1/ins_info\n"
     ]
    },
    {
     "name": "stderr",
     "output_type": "stream",
     "text": [
      "100%|██████████| 1024/1024 [00:03<00:00, 260.89it/s]\n",
      " 97%|█████████▋| 292/300 [1:52:51<03:08, 23.54s/it]"
     ]
    },
    {
     "name": "stdout",
     "output_type": "stream",
     "text": [
      "Saved instance information and point cloud data to /home/wan/Workplace-why/Part-SAM/part_scene_saved/0122/2/ins_info\n",
      "0134\n"
     ]
    },
    {
     "name": "stderr",
     "output_type": "stream",
     "text": [
      "100%|██████████| 1024/1024 [00:03<00:00, 260.00it/s]\n"
     ]
    },
    {
     "name": "stdout",
     "output_type": "stream",
     "text": [
      "Saved instance information and point cloud data to /home/wan/Workplace-why/Part-SAM/part_scene_saved/0134/0/ins_info\n"
     ]
    },
    {
     "name": "stderr",
     "output_type": "stream",
     "text": [
      "100%|██████████| 1024/1024 [00:03<00:00, 258.21it/s]\n"
     ]
    },
    {
     "name": "stdout",
     "output_type": "stream",
     "text": [
      "Saved instance information and point cloud data to /home/wan/Workplace-why/Part-SAM/part_scene_saved/0134/1/ins_info\n"
     ]
    },
    {
     "name": "stderr",
     "output_type": "stream",
     "text": [
      "100%|██████████| 1024/1024 [00:03<00:00, 263.07it/s]\n",
      " 98%|█████████▊| 293/300 [1:53:19<02:53, 24.79s/it]"
     ]
    },
    {
     "name": "stdout",
     "output_type": "stream",
     "text": [
      "Saved instance information and point cloud data to /home/wan/Workplace-why/Part-SAM/part_scene_saved/0134/2/ins_info\n",
      "0028\n"
     ]
    },
    {
     "name": "stderr",
     "output_type": "stream",
     "text": [
      "100%|██████████| 1024/1024 [00:03<00:00, 262.57it/s]\n"
     ]
    },
    {
     "name": "stdout",
     "output_type": "stream",
     "text": [
      "Saved instance information and point cloud data to /home/wan/Workplace-why/Part-SAM/part_scene_saved/0028/0/ins_info\n"
     ]
    },
    {
     "name": "stderr",
     "output_type": "stream",
     "text": [
      "100%|██████████| 1024/1024 [00:03<00:00, 260.84it/s]\n"
     ]
    },
    {
     "name": "stdout",
     "output_type": "stream",
     "text": [
      "Saved instance information and point cloud data to /home/wan/Workplace-why/Part-SAM/part_scene_saved/0028/1/ins_info\n"
     ]
    },
    {
     "name": "stderr",
     "output_type": "stream",
     "text": [
      "100%|██████████| 1024/1024 [00:03<00:00, 261.37it/s]\n",
      " 98%|█████████▊| 294/300 [1:53:43<02:26, 24.48s/it]"
     ]
    },
    {
     "name": "stdout",
     "output_type": "stream",
     "text": [
      "Saved instance information and point cloud data to /home/wan/Workplace-why/Part-SAM/part_scene_saved/0028/2/ins_info\n",
      "0117\n"
     ]
    },
    {
     "name": "stderr",
     "output_type": "stream",
     "text": [
      "100%|██████████| 1024/1024 [00:03<00:00, 260.84it/s]\n"
     ]
    },
    {
     "name": "stdout",
     "output_type": "stream",
     "text": [
      "Saved instance information and point cloud data to /home/wan/Workplace-why/Part-SAM/part_scene_saved/0117/0/ins_info\n"
     ]
    },
    {
     "name": "stderr",
     "output_type": "stream",
     "text": [
      "100%|██████████| 1024/1024 [00:03<00:00, 261.28it/s]\n"
     ]
    },
    {
     "name": "stdout",
     "output_type": "stream",
     "text": [
      "Saved instance information and point cloud data to /home/wan/Workplace-why/Part-SAM/part_scene_saved/0117/1/ins_info\n"
     ]
    },
    {
     "name": "stderr",
     "output_type": "stream",
     "text": [
      "100%|██████████| 1024/1024 [00:03<00:00, 261.16it/s]\n",
      " 98%|█████████▊| 295/300 [1:54:10<02:06, 25.28s/it]"
     ]
    },
    {
     "name": "stdout",
     "output_type": "stream",
     "text": [
      "Saved instance information and point cloud data to /home/wan/Workplace-why/Part-SAM/part_scene_saved/0117/2/ins_info\n",
      "0274\n"
     ]
    },
    {
     "name": "stderr",
     "output_type": "stream",
     "text": [
      "100%|██████████| 1024/1024 [00:03<00:00, 262.18it/s]\n"
     ]
    },
    {
     "name": "stdout",
     "output_type": "stream",
     "text": [
      "Saved instance information and point cloud data to /home/wan/Workplace-why/Part-SAM/part_scene_saved/0274/0/ins_info\n"
     ]
    },
    {
     "name": "stderr",
     "output_type": "stream",
     "text": [
      "100%|██████████| 1024/1024 [00:03<00:00, 261.62it/s]\n"
     ]
    },
    {
     "name": "stdout",
     "output_type": "stream",
     "text": [
      "Saved instance information and point cloud data to /home/wan/Workplace-why/Part-SAM/part_scene_saved/0274/1/ins_info\n"
     ]
    },
    {
     "name": "stderr",
     "output_type": "stream",
     "text": [
      "100%|██████████| 1024/1024 [00:03<00:00, 260.66it/s]\n",
      " 99%|█████████▊| 296/300 [1:54:36<01:41, 25.48s/it]"
     ]
    },
    {
     "name": "stdout",
     "output_type": "stream",
     "text": [
      "Saved instance information and point cloud data to /home/wan/Workplace-why/Part-SAM/part_scene_saved/0274/2/ins_info\n",
      "0165\n"
     ]
    },
    {
     "name": "stderr",
     "output_type": "stream",
     "text": [
      "100%|██████████| 1024/1024 [00:03<00:00, 260.88it/s]\n"
     ]
    },
    {
     "name": "stdout",
     "output_type": "stream",
     "text": [
      "Saved instance information and point cloud data to /home/wan/Workplace-why/Part-SAM/part_scene_saved/0165/0/ins_info\n"
     ]
    },
    {
     "name": "stderr",
     "output_type": "stream",
     "text": [
      "100%|██████████| 1024/1024 [00:03<00:00, 263.45it/s]\n"
     ]
    },
    {
     "name": "stdout",
     "output_type": "stream",
     "text": [
      "Saved instance information and point cloud data to /home/wan/Workplace-why/Part-SAM/part_scene_saved/0165/1/ins_info\n"
     ]
    },
    {
     "name": "stderr",
     "output_type": "stream",
     "text": [
      "100%|██████████| 1024/1024 [00:03<00:00, 263.48it/s]\n",
      " 99%|█████████▉| 297/300 [1:54:57<01:12, 24.17s/it]"
     ]
    },
    {
     "name": "stdout",
     "output_type": "stream",
     "text": [
      "Saved instance information and point cloud data to /home/wan/Workplace-why/Part-SAM/part_scene_saved/0165/2/ins_info\n",
      "0211\n"
     ]
    },
    {
     "name": "stderr",
     "output_type": "stream",
     "text": [
      "100%|██████████| 1024/1024 [00:03<00:00, 262.42it/s]\n"
     ]
    },
    {
     "name": "stdout",
     "output_type": "stream",
     "text": [
      "Saved instance information and point cloud data to /home/wan/Workplace-why/Part-SAM/part_scene_saved/0211/0/ins_info\n"
     ]
    },
    {
     "name": "stderr",
     "output_type": "stream",
     "text": [
      "100%|██████████| 1024/1024 [00:03<00:00, 258.59it/s]\n"
     ]
    },
    {
     "name": "stdout",
     "output_type": "stream",
     "text": [
      "Saved instance information and point cloud data to /home/wan/Workplace-why/Part-SAM/part_scene_saved/0211/1/ins_info\n"
     ]
    },
    {
     "name": "stderr",
     "output_type": "stream",
     "text": [
      "100%|██████████| 1024/1024 [00:03<00:00, 261.08it/s]\n",
      " 99%|█████████▉| 298/300 [1:55:19<00:47, 23.60s/it]"
     ]
    },
    {
     "name": "stdout",
     "output_type": "stream",
     "text": [
      "Saved instance information and point cloud data to /home/wan/Workplace-why/Part-SAM/part_scene_saved/0211/2/ins_info\n",
      "0258\n"
     ]
    },
    {
     "name": "stderr",
     "output_type": "stream",
     "text": [
      "100%|██████████| 1024/1024 [00:03<00:00, 263.50it/s]\n"
     ]
    },
    {
     "name": "stdout",
     "output_type": "stream",
     "text": [
      "Saved instance information and point cloud data to /home/wan/Workplace-why/Part-SAM/part_scene_saved/0258/0/ins_info\n"
     ]
    },
    {
     "name": "stderr",
     "output_type": "stream",
     "text": [
      "100%|██████████| 1024/1024 [00:03<00:00, 261.67it/s]\n"
     ]
    },
    {
     "name": "stdout",
     "output_type": "stream",
     "text": [
      "Saved instance information and point cloud data to /home/wan/Workplace-why/Part-SAM/part_scene_saved/0258/1/ins_info\n"
     ]
    },
    {
     "name": "stderr",
     "output_type": "stream",
     "text": [
      "100%|██████████| 1024/1024 [00:03<00:00, 258.99it/s]\n",
      "100%|█████████▉| 299/300 [1:55:49<00:25, 25.47s/it]"
     ]
    },
    {
     "name": "stdout",
     "output_type": "stream",
     "text": [
      "Saved instance information and point cloud data to /home/wan/Workplace-why/Part-SAM/part_scene_saved/0258/2/ins_info\n",
      "0221\n"
     ]
    },
    {
     "name": "stderr",
     "output_type": "stream",
     "text": [
      "100%|██████████| 1024/1024 [00:03<00:00, 262.79it/s]\n"
     ]
    },
    {
     "name": "stdout",
     "output_type": "stream",
     "text": [
      "Saved instance information and point cloud data to /home/wan/Workplace-why/Part-SAM/part_scene_saved/0221/0/ins_info\n"
     ]
    },
    {
     "name": "stderr",
     "output_type": "stream",
     "text": [
      "100%|██████████| 1024/1024 [00:03<00:00, 263.15it/s]\n"
     ]
    },
    {
     "name": "stdout",
     "output_type": "stream",
     "text": [
      "Saved instance information and point cloud data to /home/wan/Workplace-why/Part-SAM/part_scene_saved/0221/1/ins_info\n"
     ]
    },
    {
     "name": "stderr",
     "output_type": "stream",
     "text": [
      "100%|██████████| 1024/1024 [00:03<00:00, 259.97it/s]\n",
      "100%|██████████| 300/300 [1:56:10<00:00, 23.24s/it]"
     ]
    },
    {
     "name": "stdout",
     "output_type": "stream",
     "text": [
      "Saved instance information and point cloud data to /home/wan/Workplace-why/Part-SAM/part_scene_saved/0221/2/ins_info\n"
     ]
    },
    {
     "name": "stderr",
     "output_type": "stream",
     "text": [
      "\n"
     ]
    }
   ],
   "source": [
    "import numpy as np\n",
    "import torch\n",
    "from scripts.utils import load_ply\n",
    "from pytorch3d.structures import Meshes,Pointclouds\n",
    "from pytorch3d.renderer import Textures\n",
    "from pytorch3d.io import load_obj\n",
    "from point_sam.build_model import build_point_sam\n",
    "from sklearn.neighbors import NearestNeighbors\n",
    "from tqdm import tqdm\n",
    "import pytorch3d.ops as ops\n",
    "from pytorch3d.ops import sample_farthest_points\n",
    "from utils.nms import apply_pointwise_nms,visualize_point_clouds_with_masks\n",
    "from mask_proposal import  mask_proposal,mask_proposal_v2,batch_mask_proposal\n",
    "from utils.render import render_all_angles_pc,render_single_view,project_3d_to_2d\n",
    "import glob\n",
    "from point_sam.build_model import build_point_sam\n",
    "import numpy as np\n",
    "import torch\n",
    "from scripts.utils import load_ply\n",
    "from pytorch3d.structures import Meshes\n",
    "from pytorch3d.renderer import Textures\n",
    "from pytorch3d.io import load_obj\n",
    "# Use glob to access all files in the directory\n",
    "from transformers import AutoProcessor, AutoModelForCausalLM\n",
    "import random\n",
    "import os\n",
    "from utils.inference_florence import run_florence2\n",
    "from PIL import Image\n",
    "import cv2\n",
    "import supervision as sv\n",
    "import open3d as o3d\n",
    "from tqdm import tqdm\n",
    "device = torch.device(\"cuda:0\" if torch.cuda.is_available() else \"cpu\")\n",
    "\n",
    "def load_prediction_data(filename):\n",
    "    with open(filename, 'r') as file:\n",
    "        return [{'file': parts[0], 'prediction': int(parts[1]), 'confidence': float(parts[2])}\n",
    "                for line in file if len(parts := line.strip().split()) == 3]\n",
    "\n",
    "def normalize_point_cloud(xyz):\n",
    "    centroid = np.mean(xyz, axis=0)\n",
    "    xyz_centered = xyz - centroid\n",
    "    furthest_distance = np.max(np.sqrt(np.sum(xyz_centered**2, axis=1)))\n",
    "    return xyz_centered / furthest_distance\n",
    "\n",
    "def process_scene(scene_id, scene_path, mask_info_path, model, output_dir,mask_infos):\n",
    "    pcd = o3d.io.read_point_cloud(scene_path)\n",
    "    xyz = np.asarray(pcd.points)\n",
    "    rgb = np.asarray(pcd.colors) * 255\n",
    "\n",
    "#     rotation_matrix = o3d.geometry.get_rotation_matrix_from_xyz((-np.pi/2, 0, 0))\n",
    "\n",
    "# # Rotate point cloud\n",
    "\n",
    "# # Rotate mesh\n",
    "#     pcd = pcd.rotate(rotation_matrix, center=(0, 0, 0)) \n",
    "    \n",
    "    for idx, mask_info in enumerate(mask_infos):\n",
    "        mask = np.loadtxt(os.path.join(os.path.dirname(mask_info_path), mask_info['file'])).astype(bool)\n",
    "        obj_xyz = normalize_point_cloud(xyz[mask])\n",
    "        obj_rgb = rgb[mask]\n",
    "        \n",
    "        obj_xyz_tensor = torch.tensor(obj_xyz).to(device).float()\n",
    "        obj_rgb_tensor = torch.tensor(obj_rgb).to(device).float()\n",
    "\n",
    "         \n",
    "        obj_pcd = Pointclouds(points=[obj_xyz_tensor], features=[obj_rgb_tensor])\n",
    "        obj_xyz_tensor = obj_xyz_tensor.unsqueeze(0)\n",
    "        obj_rgb_tensor = obj_rgb_tensor.unsqueeze(0)\n",
    "        top_k_masks, _, _ = mask_proposal(obj_xyz_tensor, obj_rgb_tensor, NUM_PROMPTS, model)\n",
    "        #instance_pcd\n",
    "        img_dir, pc_depth, screen_coords, num_views, cameras = render_all_angles_pc(obj_pcd, os.path.join(output_dir, str(idx)), device)\n",
    "        # save top_k_masks,pc_depth,screen_coords as pt\n",
    "        # save obj_xyz as np\n",
    "        # make a new directoy under the os.path.join(output_dir, str(idx)) called ins_info\n",
    "        instance_info_dir = os.path.join(output_dir, str(idx), 'ins_info')\n",
    "        os.makedirs(instance_info_dir, exist_ok=True)\n",
    "\n",
    "        # Save top_k_masks, pc_depth, and screen_coords as pt files\n",
    "        torch.save(top_k_masks, os.path.join(instance_info_dir, 'top_k_masks.pt'))\n",
    "        torch.save(pc_depth, os.path.join(instance_info_dir, 'pc_depth.pt'))\n",
    "        torch.save(screen_coords, os.path.join(instance_info_dir, 'screen_coords.pt'))\n",
    "\n",
    "        # Save obj_xyz as numpy array\n",
    "        np.save(os.path.join(instance_info_dir, 'obj_xyz.npy'), obj_xyz)\n",
    "\n",
    "        print(f\"Saved instance information and point cloud data to {instance_info_dir}\")\n",
    "    return top_k_masks, img_dir, pc_depth, screen_coords, num_views, cameras,obj_xyz\n",
    "\n",
    "# Main execution\n",
    "if __name__ == \"__main__\":\n",
    "    NUM_PROMPTS = 1024\n",
    "    NUM_MASKS_PER_PROMPT = 3\n",
    "    NMS_THRESHOLD = 0.3\n",
    "    TOP_K_PROPOSALS = 250\n",
    "\n",
    "    \n",
    "    dataset_dir = '/home/wan/Datasets/Test_scene/part_valid'\n",
    "    project_path = '/home/wan/Workplace-why/Part-SAM'\n",
    "    final_masks_save_dir = os.path.join(project_path, 'part_scene_results')\n",
    "    by_product_save_dir = 'part_scene_saved'\n",
    "    ckpt_path = os.path.join(project_path, \"checkpoints/model.safetensors\")\n",
    "\n",
    "    model = build_point_sam(ckpt_path, 512, 64).to(device)\n",
    "    print('Model built successfully')\n",
    "\n",
    "    for scene_id in tqdm(os.listdir(dataset_dir)):\n",
    "        print(scene_id)\n",
    "        scene_path = os.path.join(dataset_dir, scene_id, f'points_{scene_id}.ply')\n",
    "        mask_info_path = os.path.join(final_masks_save_dir, scene_id, f'{scene_id}_summary.txt')\n",
    "        output_dir = os.path.join(project_path, by_product_save_dir, scene_id)\n",
    "        os.makedirs(output_dir, exist_ok=True)\n",
    "        mask_infos = load_prediction_data(mask_info_path)\n",
    "\n",
    "        # i\n",
    "        top_k_masks,img_dir, pc_depth, screen_coords, num_views, cameras,obj_xyz  = process_scene(scene_id, scene_path, mask_info_path, model, output_dir,mask_infos)\n"
   ]
  },
  {
   "cell_type": "markdown",
   "metadata": {},
   "source": [
    "# Segment 2d"
   ]
  },
  {
   "cell_type": "code",
   "execution_count": 2,
   "metadata": {},
   "outputs": [
    {
     "name": "stdout",
     "output_type": "stream",
     "text": [
      "Jupyter environment detected. Enabling Open3D WebVisualizer.\n",
      "[Open3D INFO] WebRTC GUI backend enabled.\n",
      "[Open3D INFO] WebRTCWindowSystem: HTTP handshake server disabled.\n"
     ]
    },
    {
     "name": "stderr",
     "output_type": "stream",
     "text": [
      "  0%|          | 0/300 [00:00<?, ?it/s]"
     ]
    },
    {
     "name": "stdout",
     "output_type": "stream",
     "text": [
      "0055\n"
     ]
    },
    {
     "name": "stderr",
     "output_type": "stream",
     "text": [
      "  0%|          | 1/300 [00:00<02:36,  1.91it/s]"
     ]
    },
    {
     "name": "stdout",
     "output_type": "stream",
     "text": [
      "0197\n"
     ]
    },
    {
     "name": "stderr",
     "output_type": "stream",
     "text": [
      "  1%|          | 2/300 [00:01<02:34,  1.93it/s]"
     ]
    },
    {
     "name": "stdout",
     "output_type": "stream",
     "text": [
      "0187\n"
     ]
    },
    {
     "name": "stderr",
     "output_type": "stream",
     "text": [
      "  1%|          | 3/300 [00:01<02:27,  2.01it/s]"
     ]
    },
    {
     "name": "stdout",
     "output_type": "stream",
     "text": [
      "0247\n"
     ]
    },
    {
     "name": "stderr",
     "output_type": "stream",
     "text": [
      "  1%|▏         | 4/300 [00:02<02:28,  1.99it/s]"
     ]
    },
    {
     "name": "stdout",
     "output_type": "stream",
     "text": [
      "0036\n"
     ]
    },
    {
     "name": "stderr",
     "output_type": "stream",
     "text": [
      "  2%|▏         | 5/300 [00:02<02:27,  2.00it/s]"
     ]
    },
    {
     "name": "stdout",
     "output_type": "stream",
     "text": [
      "0296\n"
     ]
    },
    {
     "name": "stderr",
     "output_type": "stream",
     "text": [
      "  2%|▏         | 6/300 [00:03<02:27,  1.99it/s]"
     ]
    },
    {
     "name": "stdout",
     "output_type": "stream",
     "text": [
      "0292\n"
     ]
    },
    {
     "name": "stderr",
     "output_type": "stream",
     "text": [
      "  2%|▏         | 7/300 [00:03<02:26,  2.00it/s]"
     ]
    },
    {
     "name": "stdout",
     "output_type": "stream",
     "text": [
      "0181\n"
     ]
    },
    {
     "name": "stderr",
     "output_type": "stream",
     "text": [
      "  3%|▎         | 8/300 [00:04<02:27,  1.98it/s]"
     ]
    },
    {
     "name": "stdout",
     "output_type": "stream",
     "text": [
      "0224\n"
     ]
    },
    {
     "name": "stderr",
     "output_type": "stream",
     "text": [
      "  3%|▎         | 9/300 [00:04<02:25,  2.00it/s]"
     ]
    },
    {
     "name": "stdout",
     "output_type": "stream",
     "text": [
      "0157\n"
     ]
    },
    {
     "name": "stderr",
     "output_type": "stream",
     "text": [
      "  3%|▎         | 10/300 [00:05<02:24,  2.01it/s]"
     ]
    },
    {
     "name": "stdout",
     "output_type": "stream",
     "text": [
      "0294\n"
     ]
    },
    {
     "name": "stderr",
     "output_type": "stream",
     "text": [
      "  4%|▎         | 11/300 [00:05<02:22,  2.03it/s]"
     ]
    },
    {
     "name": "stdout",
     "output_type": "stream",
     "text": [
      "0223\n"
     ]
    },
    {
     "name": "stderr",
     "output_type": "stream",
     "text": [
      "  4%|▍         | 12/300 [00:05<02:22,  2.03it/s]"
     ]
    },
    {
     "name": "stdout",
     "output_type": "stream",
     "text": [
      "0268\n"
     ]
    },
    {
     "name": "stderr",
     "output_type": "stream",
     "text": [
      "  4%|▍         | 13/300 [00:06<02:21,  2.02it/s]"
     ]
    },
    {
     "name": "stdout",
     "output_type": "stream",
     "text": [
      "0210\n"
     ]
    },
    {
     "name": "stderr",
     "output_type": "stream",
     "text": [
      "  5%|▍         | 14/300 [00:06<02:21,  2.02it/s]"
     ]
    },
    {
     "name": "stdout",
     "output_type": "stream",
     "text": [
      "0171\n"
     ]
    },
    {
     "name": "stderr",
     "output_type": "stream",
     "text": [
      "  5%|▌         | 15/300 [00:07<02:20,  2.02it/s]"
     ]
    },
    {
     "name": "stdout",
     "output_type": "stream",
     "text": [
      "0010\n"
     ]
    },
    {
     "name": "stderr",
     "output_type": "stream",
     "text": [
      "  5%|▌         | 16/300 [00:07<02:20,  2.02it/s]"
     ]
    },
    {
     "name": "stdout",
     "output_type": "stream",
     "text": [
      "0005\n"
     ]
    },
    {
     "name": "stderr",
     "output_type": "stream",
     "text": [
      "  6%|▌         | 17/300 [00:08<02:21,  2.00it/s]"
     ]
    },
    {
     "name": "stdout",
     "output_type": "stream",
     "text": [
      "0291\n"
     ]
    },
    {
     "name": "stderr",
     "output_type": "stream",
     "text": [
      "  6%|▌         | 18/300 [00:09<02:22,  1.98it/s]"
     ]
    },
    {
     "name": "stdout",
     "output_type": "stream",
     "text": [
      "0066\n"
     ]
    },
    {
     "name": "stderr",
     "output_type": "stream",
     "text": [
      "  6%|▋         | 19/300 [00:09<02:20,  2.00it/s]"
     ]
    },
    {
     "name": "stdout",
     "output_type": "stream",
     "text": [
      "0297\n"
     ]
    },
    {
     "name": "stderr",
     "output_type": "stream",
     "text": [
      "  7%|▋         | 20/300 [00:10<02:21,  1.98it/s]"
     ]
    },
    {
     "name": "stdout",
     "output_type": "stream",
     "text": [
      "0076\n"
     ]
    },
    {
     "name": "stderr",
     "output_type": "stream",
     "text": [
      "  7%|▋         | 21/300 [00:10<02:20,  1.99it/s]"
     ]
    },
    {
     "name": "stdout",
     "output_type": "stream",
     "text": [
      "0059\n"
     ]
    },
    {
     "name": "stderr",
     "output_type": "stream",
     "text": [
      "  7%|▋         | 22/300 [00:11<02:20,  1.98it/s]"
     ]
    },
    {
     "name": "stdout",
     "output_type": "stream",
     "text": [
      "0192\n"
     ]
    },
    {
     "name": "stderr",
     "output_type": "stream",
     "text": [
      "  8%|▊         | 23/300 [00:11<02:19,  1.99it/s]"
     ]
    },
    {
     "name": "stdout",
     "output_type": "stream",
     "text": [
      "0186\n"
     ]
    },
    {
     "name": "stderr",
     "output_type": "stream",
     "text": [
      "  8%|▊         | 24/300 [00:12<02:18,  2.00it/s]"
     ]
    },
    {
     "name": "stdout",
     "output_type": "stream",
     "text": [
      "0168\n"
     ]
    },
    {
     "name": "stderr",
     "output_type": "stream",
     "text": [
      "  8%|▊         | 25/300 [00:12<02:16,  2.02it/s]"
     ]
    },
    {
     "name": "stdout",
     "output_type": "stream",
     "text": [
      "0215\n"
     ]
    },
    {
     "name": "stderr",
     "output_type": "stream",
     "text": [
      "  9%|▊         | 26/300 [00:12<02:16,  2.01it/s]"
     ]
    },
    {
     "name": "stdout",
     "output_type": "stream",
     "text": [
      "0255\n"
     ]
    },
    {
     "name": "stderr",
     "output_type": "stream",
     "text": [
      "  9%|▉         | 27/300 [00:13<02:15,  2.01it/s]"
     ]
    },
    {
     "name": "stdout",
     "output_type": "stream",
     "text": [
      "0245\n"
     ]
    },
    {
     "name": "stderr",
     "output_type": "stream",
     "text": [
      "  9%|▉         | 28/300 [00:13<02:15,  2.00it/s]"
     ]
    },
    {
     "name": "stdout",
     "output_type": "stream",
     "text": [
      "0206\n"
     ]
    },
    {
     "name": "stderr",
     "output_type": "stream",
     "text": [
      " 10%|▉         | 29/300 [00:14<02:16,  1.99it/s]"
     ]
    },
    {
     "name": "stdout",
     "output_type": "stream",
     "text": [
      "0284\n"
     ]
    },
    {
     "name": "stderr",
     "output_type": "stream",
     "text": [
      " 10%|█         | 30/300 [00:15<02:16,  1.98it/s]"
     ]
    },
    {
     "name": "stdout",
     "output_type": "stream",
     "text": [
      "0065\n"
     ]
    },
    {
     "name": "stderr",
     "output_type": "stream",
     "text": [
      " 10%|█         | 31/300 [00:15<02:16,  1.97it/s]"
     ]
    },
    {
     "name": "stdout",
     "output_type": "stream",
     "text": [
      "0204\n"
     ]
    },
    {
     "name": "stderr",
     "output_type": "stream",
     "text": [
      " 11%|█         | 32/300 [00:16<02:16,  1.96it/s]"
     ]
    },
    {
     "name": "stdout",
     "output_type": "stream",
     "text": [
      "0019\n"
     ]
    },
    {
     "name": "stderr",
     "output_type": "stream",
     "text": [
      " 11%|█         | 33/300 [00:16<02:16,  1.96it/s]"
     ]
    },
    {
     "name": "stdout",
     "output_type": "stream",
     "text": [
      "0071\n"
     ]
    },
    {
     "name": "stderr",
     "output_type": "stream",
     "text": [
      " 11%|█▏        | 34/300 [00:17<02:16,  1.95it/s]"
     ]
    },
    {
     "name": "stdout",
     "output_type": "stream",
     "text": [
      "0048\n"
     ]
    },
    {
     "name": "stderr",
     "output_type": "stream",
     "text": [
      " 12%|█▏        | 35/300 [00:17<02:16,  1.94it/s]"
     ]
    },
    {
     "name": "stdout",
     "output_type": "stream",
     "text": [
      "0250\n"
     ]
    },
    {
     "name": "stderr",
     "output_type": "stream",
     "text": [
      " 12%|█▏        | 36/300 [00:18<02:15,  1.95it/s]"
     ]
    },
    {
     "name": "stdout",
     "output_type": "stream",
     "text": [
      "0111\n"
     ]
    },
    {
     "name": "stderr",
     "output_type": "stream",
     "text": [
      " 12%|█▏        | 37/300 [00:18<02:13,  1.97it/s]"
     ]
    },
    {
     "name": "stdout",
     "output_type": "stream",
     "text": [
      "0242\n"
     ]
    },
    {
     "name": "stderr",
     "output_type": "stream",
     "text": [
      " 13%|█▎        | 38/300 [00:19<02:12,  1.98it/s]"
     ]
    },
    {
     "name": "stdout",
     "output_type": "stream",
     "text": [
      "0044\n"
     ]
    },
    {
     "name": "stderr",
     "output_type": "stream",
     "text": [
      " 13%|█▎        | 39/300 [00:19<02:10,  2.00it/s]"
     ]
    },
    {
     "name": "stdout",
     "output_type": "stream",
     "text": [
      "0193\n"
     ]
    },
    {
     "name": "stderr",
     "output_type": "stream",
     "text": [
      " 13%|█▎        | 40/300 [00:20<02:09,  2.00it/s]"
     ]
    },
    {
     "name": "stdout",
     "output_type": "stream",
     "text": [
      "0182\n"
     ]
    },
    {
     "name": "stderr",
     "output_type": "stream",
     "text": [
      " 14%|█▎        | 41/300 [00:20<02:08,  2.01it/s]"
     ]
    },
    {
     "name": "stdout",
     "output_type": "stream",
     "text": [
      "0078\n"
     ]
    },
    {
     "name": "stderr",
     "output_type": "stream",
     "text": [
      " 14%|█▍        | 42/300 [00:21<02:07,  2.02it/s]"
     ]
    },
    {
     "name": "stdout",
     "output_type": "stream",
     "text": [
      "0056\n"
     ]
    },
    {
     "name": "stderr",
     "output_type": "stream",
     "text": [
      " 14%|█▍        | 43/300 [00:21<02:06,  2.03it/s]"
     ]
    },
    {
     "name": "stdout",
     "output_type": "stream",
     "text": [
      "0239\n"
     ]
    },
    {
     "name": "stderr",
     "output_type": "stream",
     "text": [
      " 15%|█▍        | 44/300 [00:22<02:07,  2.01it/s]"
     ]
    },
    {
     "name": "stdout",
     "output_type": "stream",
     "text": [
      "0094\n"
     ]
    },
    {
     "name": "stderr",
     "output_type": "stream",
     "text": [
      " 15%|█▌        | 45/300 [00:22<02:06,  2.01it/s]"
     ]
    },
    {
     "name": "stdout",
     "output_type": "stream",
     "text": [
      "0295\n"
     ]
    },
    {
     "name": "stderr",
     "output_type": "stream",
     "text": [
      " 15%|█▌        | 46/300 [00:23<02:05,  2.02it/s]"
     ]
    },
    {
     "name": "stdout",
     "output_type": "stream",
     "text": [
      "0042\n"
     ]
    },
    {
     "name": "stderr",
     "output_type": "stream",
     "text": [
      " 16%|█▌        | 47/300 [00:23<02:04,  2.03it/s]"
     ]
    },
    {
     "name": "stdout",
     "output_type": "stream",
     "text": [
      "0184\n"
     ]
    },
    {
     "name": "stderr",
     "output_type": "stream",
     "text": [
      " 16%|█▌        | 48/300 [00:24<02:04,  2.03it/s]"
     ]
    },
    {
     "name": "stdout",
     "output_type": "stream",
     "text": [
      "0229\n"
     ]
    },
    {
     "name": "stderr",
     "output_type": "stream",
     "text": [
      " 16%|█▋        | 49/300 [00:24<02:03,  2.03it/s]"
     ]
    },
    {
     "name": "stdout",
     "output_type": "stream",
     "text": [
      "0238\n"
     ]
    },
    {
     "name": "stderr",
     "output_type": "stream",
     "text": [
      " 17%|█▋        | 50/300 [00:25<02:03,  2.03it/s]"
     ]
    },
    {
     "name": "stdout",
     "output_type": "stream",
     "text": [
      "0063\n"
     ]
    },
    {
     "name": "stderr",
     "output_type": "stream",
     "text": [
      " 17%|█▋        | 51/300 [00:25<02:03,  2.02it/s]"
     ]
    },
    {
     "name": "stdout",
     "output_type": "stream",
     "text": [
      "0051\n"
     ]
    },
    {
     "name": "stderr",
     "output_type": "stream",
     "text": [
      " 17%|█▋        | 52/300 [00:26<02:02,  2.02it/s]"
     ]
    },
    {
     "name": "stdout",
     "output_type": "stream",
     "text": [
      "0228\n"
     ]
    },
    {
     "name": "stderr",
     "output_type": "stream",
     "text": [
      " 18%|█▊        | 53/300 [00:26<02:00,  2.04it/s]"
     ]
    },
    {
     "name": "stdout",
     "output_type": "stream",
     "text": [
      "0275\n"
     ]
    },
    {
     "name": "stderr",
     "output_type": "stream",
     "text": [
      " 18%|█▊        | 54/300 [00:26<02:00,  2.04it/s]"
     ]
    },
    {
     "name": "stdout",
     "output_type": "stream",
     "text": [
      "0041\n"
     ]
    },
    {
     "name": "stderr",
     "output_type": "stream",
     "text": [
      " 18%|█▊        | 55/300 [00:27<01:59,  2.06it/s]"
     ]
    },
    {
     "name": "stdout",
     "output_type": "stream",
     "text": [
      "0022\n"
     ]
    },
    {
     "name": "stderr",
     "output_type": "stream",
     "text": [
      " 19%|█▊        | 56/300 [00:27<01:58,  2.06it/s]"
     ]
    },
    {
     "name": "stdout",
     "output_type": "stream",
     "text": [
      "0199\n"
     ]
    },
    {
     "name": "stderr",
     "output_type": "stream",
     "text": [
      " 19%|█▉        | 57/300 [00:28<01:56,  2.08it/s]"
     ]
    },
    {
     "name": "stdout",
     "output_type": "stream",
     "text": [
      "0271\n"
     ]
    },
    {
     "name": "stderr",
     "output_type": "stream",
     "text": [
      " 19%|█▉        | 58/300 [00:28<01:55,  2.09it/s]"
     ]
    },
    {
     "name": "stdout",
     "output_type": "stream",
     "text": [
      "0152\n"
     ]
    },
    {
     "name": "stderr",
     "output_type": "stream",
     "text": [
      " 20%|█▉        | 59/300 [00:29<01:54,  2.11it/s]"
     ]
    },
    {
     "name": "stdout",
     "output_type": "stream",
     "text": [
      "0113\n"
     ]
    },
    {
     "name": "stderr",
     "output_type": "stream",
     "text": [
      " 20%|██        | 60/300 [00:29<01:54,  2.10it/s]"
     ]
    },
    {
     "name": "stdout",
     "output_type": "stream",
     "text": [
      "0014\n"
     ]
    },
    {
     "name": "stderr",
     "output_type": "stream",
     "text": [
      " 20%|██        | 61/300 [00:30<01:52,  2.12it/s]"
     ]
    },
    {
     "name": "stdout",
     "output_type": "stream",
     "text": [
      "0054\n"
     ]
    },
    {
     "name": "stderr",
     "output_type": "stream",
     "text": [
      " 21%|██        | 62/300 [00:30<01:53,  2.11it/s]"
     ]
    },
    {
     "name": "stdout",
     "output_type": "stream",
     "text": [
      "0052\n"
     ]
    },
    {
     "name": "stderr",
     "output_type": "stream",
     "text": [
      " 21%|██        | 63/300 [00:31<01:52,  2.11it/s]"
     ]
    },
    {
     "name": "stdout",
     "output_type": "stream",
     "text": [
      "0064\n"
     ]
    },
    {
     "name": "stderr",
     "output_type": "stream",
     "text": [
      " 21%|██▏       | 64/300 [00:31<01:52,  2.09it/s]"
     ]
    },
    {
     "name": "stdout",
     "output_type": "stream",
     "text": [
      "0053\n"
     ]
    },
    {
     "name": "stderr",
     "output_type": "stream",
     "text": [
      " 22%|██▏       | 65/300 [00:32<01:52,  2.08it/s]"
     ]
    },
    {
     "name": "stdout",
     "output_type": "stream",
     "text": [
      "0082\n"
     ]
    },
    {
     "name": "stderr",
     "output_type": "stream",
     "text": [
      " 22%|██▏       | 66/300 [00:32<01:53,  2.06it/s]"
     ]
    },
    {
     "name": "stdout",
     "output_type": "stream",
     "text": [
      "0240\n"
     ]
    },
    {
     "name": "stderr",
     "output_type": "stream",
     "text": [
      " 22%|██▏       | 67/300 [00:33<01:53,  2.04it/s]"
     ]
    },
    {
     "name": "stdout",
     "output_type": "stream",
     "text": [
      "0176\n"
     ]
    },
    {
     "name": "stderr",
     "output_type": "stream",
     "text": [
      " 23%|██▎       | 68/300 [00:33<01:54,  2.02it/s]"
     ]
    },
    {
     "name": "stdout",
     "output_type": "stream",
     "text": [
      "0097\n"
     ]
    },
    {
     "name": "stderr",
     "output_type": "stream",
     "text": [
      " 23%|██▎       | 69/300 [00:34<01:54,  2.02it/s]"
     ]
    },
    {
     "name": "stdout",
     "output_type": "stream",
     "text": [
      "0069\n"
     ]
    },
    {
     "name": "stderr",
     "output_type": "stream",
     "text": [
      " 23%|██▎       | 70/300 [00:34<01:55,  2.00it/s]"
     ]
    },
    {
     "name": "stdout",
     "output_type": "stream",
     "text": [
      "0191\n"
     ]
    },
    {
     "name": "stderr",
     "output_type": "stream",
     "text": [
      " 24%|██▎       | 71/300 [00:35<01:54,  2.01it/s]"
     ]
    },
    {
     "name": "stdout",
     "output_type": "stream",
     "text": [
      "0159\n"
     ]
    },
    {
     "name": "stderr",
     "output_type": "stream",
     "text": [
      " 24%|██▍       | 72/300 [00:35<01:54,  2.00it/s]"
     ]
    },
    {
     "name": "stdout",
     "output_type": "stream",
     "text": [
      "0232\n"
     ]
    },
    {
     "name": "stderr",
     "output_type": "stream",
     "text": [
      " 24%|██▍       | 73/300 [00:36<01:53,  2.00it/s]"
     ]
    },
    {
     "name": "stdout",
     "output_type": "stream",
     "text": [
      "0150\n"
     ]
    },
    {
     "name": "stderr",
     "output_type": "stream",
     "text": [
      " 25%|██▍       | 74/300 [00:36<01:53,  2.00it/s]"
     ]
    },
    {
     "name": "stdout",
     "output_type": "stream",
     "text": [
      "0104\n"
     ]
    },
    {
     "name": "stderr",
     "output_type": "stream",
     "text": [
      " 25%|██▌       | 75/300 [00:37<01:52,  2.01it/s]"
     ]
    },
    {
     "name": "stdout",
     "output_type": "stream",
     "text": [
      "0083\n"
     ]
    },
    {
     "name": "stderr",
     "output_type": "stream",
     "text": [
      " 25%|██▌       | 76/300 [00:37<01:51,  2.01it/s]"
     ]
    },
    {
     "name": "stdout",
     "output_type": "stream",
     "text": [
      "0246\n"
     ]
    },
    {
     "name": "stderr",
     "output_type": "stream",
     "text": [
      " 26%|██▌       | 77/300 [00:38<01:49,  2.04it/s]"
     ]
    },
    {
     "name": "stdout",
     "output_type": "stream",
     "text": [
      "0025\n"
     ]
    },
    {
     "name": "stderr",
     "output_type": "stream",
     "text": [
      " 26%|██▌       | 78/300 [00:38<01:48,  2.05it/s]"
     ]
    },
    {
     "name": "stdout",
     "output_type": "stream",
     "text": [
      "0230\n"
     ]
    },
    {
     "name": "stderr",
     "output_type": "stream",
     "text": [
      " 26%|██▋       | 79/300 [00:39<01:46,  2.08it/s]"
     ]
    },
    {
     "name": "stdout",
     "output_type": "stream",
     "text": [
      "0248\n"
     ]
    },
    {
     "name": "stderr",
     "output_type": "stream",
     "text": [
      " 27%|██▋       | 80/300 [00:39<01:45,  2.08it/s]"
     ]
    },
    {
     "name": "stdout",
     "output_type": "stream",
     "text": [
      "0024\n"
     ]
    },
    {
     "name": "stderr",
     "output_type": "stream",
     "text": [
      " 27%|██▋       | 81/300 [00:40<01:44,  2.09it/s]"
     ]
    },
    {
     "name": "stdout",
     "output_type": "stream",
     "text": [
      "0143\n"
     ]
    },
    {
     "name": "stderr",
     "output_type": "stream",
     "text": [
      " 27%|██▋       | 82/300 [00:40<01:44,  2.08it/s]"
     ]
    },
    {
     "name": "stdout",
     "output_type": "stream",
     "text": [
      "0149\n"
     ]
    },
    {
     "name": "stderr",
     "output_type": "stream",
     "text": [
      " 28%|██▊       | 83/300 [00:41<01:43,  2.09it/s]"
     ]
    },
    {
     "name": "stdout",
     "output_type": "stream",
     "text": [
      "0231\n"
     ]
    },
    {
     "name": "stderr",
     "output_type": "stream",
     "text": [
      " 28%|██▊       | 84/300 [00:41<01:43,  2.09it/s]"
     ]
    },
    {
     "name": "stdout",
     "output_type": "stream",
     "text": [
      "0220\n"
     ]
    },
    {
     "name": "stderr",
     "output_type": "stream",
     "text": [
      " 28%|██▊       | 85/300 [00:42<01:44,  2.07it/s]"
     ]
    },
    {
     "name": "stdout",
     "output_type": "stream",
     "text": [
      "0103\n"
     ]
    },
    {
     "name": "stderr",
     "output_type": "stream",
     "text": [
      " 29%|██▊       | 86/300 [00:42<01:44,  2.04it/s]"
     ]
    },
    {
     "name": "stdout",
     "output_type": "stream",
     "text": [
      "0233\n"
     ]
    },
    {
     "name": "stderr",
     "output_type": "stream",
     "text": [
      " 29%|██▉       | 87/300 [00:43<01:44,  2.03it/s]"
     ]
    },
    {
     "name": "stdout",
     "output_type": "stream",
     "text": [
      "0283\n"
     ]
    },
    {
     "name": "stderr",
     "output_type": "stream",
     "text": [
      " 29%|██▉       | 88/300 [00:43<01:46,  2.00it/s]"
     ]
    },
    {
     "name": "stdout",
     "output_type": "stream",
     "text": [
      "0267\n"
     ]
    },
    {
     "name": "stderr",
     "output_type": "stream",
     "text": [
      " 30%|██▉       | 89/300 [00:44<01:46,  1.98it/s]"
     ]
    },
    {
     "name": "stdout",
     "output_type": "stream",
     "text": [
      "0288\n"
     ]
    },
    {
     "name": "stderr",
     "output_type": "stream",
     "text": [
      " 30%|███       | 90/300 [00:44<01:45,  1.98it/s]"
     ]
    },
    {
     "name": "stdout",
     "output_type": "stream",
     "text": [
      "0045\n"
     ]
    },
    {
     "name": "stderr",
     "output_type": "stream",
     "text": [
      " 30%|███       | 91/300 [00:45<01:45,  1.99it/s]"
     ]
    },
    {
     "name": "stdout",
     "output_type": "stream",
     "text": [
      "0100\n"
     ]
    },
    {
     "name": "stderr",
     "output_type": "stream",
     "text": [
      " 31%|███       | 92/300 [00:45<01:45,  1.98it/s]"
     ]
    },
    {
     "name": "stdout",
     "output_type": "stream",
     "text": [
      "0004\n"
     ]
    },
    {
     "name": "stderr",
     "output_type": "stream",
     "text": [
      " 31%|███       | 93/300 [00:46<01:43,  1.99it/s]"
     ]
    },
    {
     "name": "stdout",
     "output_type": "stream",
     "text": [
      "0135\n"
     ]
    },
    {
     "name": "stderr",
     "output_type": "stream",
     "text": [
      " 31%|███▏      | 94/300 [00:46<01:42,  2.00it/s]"
     ]
    },
    {
     "name": "stdout",
     "output_type": "stream",
     "text": [
      "0209\n"
     ]
    },
    {
     "name": "stderr",
     "output_type": "stream",
     "text": [
      " 32%|███▏      | 95/300 [00:47<01:41,  2.02it/s]"
     ]
    },
    {
     "name": "stdout",
     "output_type": "stream",
     "text": [
      "0081\n"
     ]
    },
    {
     "name": "stderr",
     "output_type": "stream",
     "text": [
      " 32%|███▏      | 96/300 [00:47<01:40,  2.03it/s]"
     ]
    },
    {
     "name": "stdout",
     "output_type": "stream",
     "text": [
      "0251\n"
     ]
    },
    {
     "name": "stderr",
     "output_type": "stream",
     "text": [
      " 32%|███▏      | 97/300 [00:48<01:39,  2.04it/s]"
     ]
    },
    {
     "name": "stdout",
     "output_type": "stream",
     "text": [
      "0273\n"
     ]
    },
    {
     "name": "stderr",
     "output_type": "stream",
     "text": [
      " 33%|███▎      | 98/300 [00:48<01:38,  2.05it/s]"
     ]
    },
    {
     "name": "stdout",
     "output_type": "stream",
     "text": [
      "0098\n"
     ]
    },
    {
     "name": "stderr",
     "output_type": "stream",
     "text": [
      " 33%|███▎      | 99/300 [00:48<01:36,  2.08it/s]"
     ]
    },
    {
     "name": "stdout",
     "output_type": "stream",
     "text": [
      "0194\n"
     ]
    },
    {
     "name": "stderr",
     "output_type": "stream",
     "text": [
      " 33%|███▎      | 100/300 [00:49<01:36,  2.08it/s]"
     ]
    },
    {
     "name": "stdout",
     "output_type": "stream",
     "text": [
      "0256\n"
     ]
    },
    {
     "name": "stderr",
     "output_type": "stream",
     "text": [
      " 34%|███▎      | 101/300 [00:49<01:34,  2.10it/s]"
     ]
    },
    {
     "name": "stdout",
     "output_type": "stream",
     "text": [
      "0074\n"
     ]
    },
    {
     "name": "stderr",
     "output_type": "stream",
     "text": [
      " 34%|███▍      | 102/300 [00:50<01:35,  2.07it/s]"
     ]
    },
    {
     "name": "stdout",
     "output_type": "stream",
     "text": [
      "0105\n"
     ]
    },
    {
     "name": "stderr",
     "output_type": "stream",
     "text": [
      " 34%|███▍      | 103/300 [00:50<01:35,  2.07it/s]"
     ]
    },
    {
     "name": "stdout",
     "output_type": "stream",
     "text": [
      "0144\n"
     ]
    },
    {
     "name": "stderr",
     "output_type": "stream",
     "text": [
      " 35%|███▍      | 104/300 [00:51<01:35,  2.06it/s]"
     ]
    },
    {
     "name": "stdout",
     "output_type": "stream",
     "text": [
      "0153\n"
     ]
    },
    {
     "name": "stderr",
     "output_type": "stream",
     "text": [
      " 35%|███▌      | 105/300 [00:51<01:35,  2.04it/s]"
     ]
    },
    {
     "name": "stdout",
     "output_type": "stream",
     "text": [
      "0075\n"
     ]
    },
    {
     "name": "stderr",
     "output_type": "stream",
     "text": [
      " 35%|███▌      | 106/300 [00:52<01:35,  2.03it/s]"
     ]
    },
    {
     "name": "stdout",
     "output_type": "stream",
     "text": [
      "0260\n"
     ]
    },
    {
     "name": "stderr",
     "output_type": "stream",
     "text": [
      " 36%|███▌      | 107/300 [00:52<01:34,  2.04it/s]"
     ]
    },
    {
     "name": "stdout",
     "output_type": "stream",
     "text": [
      "0033\n"
     ]
    },
    {
     "name": "stderr",
     "output_type": "stream",
     "text": [
      " 36%|███▌      | 108/300 [00:53<01:35,  2.02it/s]"
     ]
    },
    {
     "name": "stdout",
     "output_type": "stream",
     "text": [
      "0161\n"
     ]
    },
    {
     "name": "stderr",
     "output_type": "stream",
     "text": [
      " 36%|███▋      | 109/300 [00:53<01:34,  2.02it/s]"
     ]
    },
    {
     "name": "stdout",
     "output_type": "stream",
     "text": [
      "0236\n"
     ]
    },
    {
     "name": "stderr",
     "output_type": "stream",
     "text": [
      " 37%|███▋      | 110/300 [00:54<01:36,  1.97it/s]"
     ]
    },
    {
     "name": "stdout",
     "output_type": "stream",
     "text": [
      "0287\n"
     ]
    },
    {
     "name": "stderr",
     "output_type": "stream",
     "text": [
      " 37%|███▋      | 111/300 [00:54<01:36,  1.95it/s]"
     ]
    },
    {
     "name": "stdout",
     "output_type": "stream",
     "text": [
      "0026\n"
     ]
    },
    {
     "name": "stderr",
     "output_type": "stream",
     "text": [
      " 37%|███▋      | 112/300 [00:55<01:37,  1.93it/s]"
     ]
    },
    {
     "name": "stdout",
     "output_type": "stream",
     "text": [
      "0203\n"
     ]
    },
    {
     "name": "stderr",
     "output_type": "stream",
     "text": [
      " 38%|███▊      | 113/300 [00:55<01:36,  1.95it/s]"
     ]
    },
    {
     "name": "stdout",
     "output_type": "stream",
     "text": [
      "0034\n"
     ]
    },
    {
     "name": "stderr",
     "output_type": "stream",
     "text": [
      " 38%|███▊      | 114/300 [00:56<01:34,  1.96it/s]"
     ]
    },
    {
     "name": "stdout",
     "output_type": "stream",
     "text": [
      "0158\n"
     ]
    },
    {
     "name": "stderr",
     "output_type": "stream",
     "text": [
      " 38%|███▊      | 115/300 [00:56<01:32,  2.00it/s]"
     ]
    },
    {
     "name": "stdout",
     "output_type": "stream",
     "text": [
      "0013\n"
     ]
    },
    {
     "name": "stderr",
     "output_type": "stream",
     "text": [
      " 39%|███▊      | 116/300 [00:57<01:31,  2.01it/s]"
     ]
    },
    {
     "name": "stdout",
     "output_type": "stream",
     "text": [
      "0058\n"
     ]
    },
    {
     "name": "stderr",
     "output_type": "stream",
     "text": [
      " 39%|███▉      | 117/300 [00:57<01:30,  2.02it/s]"
     ]
    },
    {
     "name": "stdout",
     "output_type": "stream",
     "text": [
      "0132\n"
     ]
    },
    {
     "name": "stderr",
     "output_type": "stream",
     "text": [
      " 39%|███▉      | 118/300 [00:58<01:29,  2.03it/s]"
     ]
    },
    {
     "name": "stdout",
     "output_type": "stream",
     "text": [
      "0120\n"
     ]
    },
    {
     "name": "stderr",
     "output_type": "stream",
     "text": [
      " 40%|███▉      | 119/300 [00:58<01:27,  2.06it/s]"
     ]
    },
    {
     "name": "stdout",
     "output_type": "stream",
     "text": [
      "0166\n"
     ]
    },
    {
     "name": "stderr",
     "output_type": "stream",
     "text": [
      " 40%|████      | 120/300 [00:59<01:26,  2.09it/s]"
     ]
    },
    {
     "name": "stdout",
     "output_type": "stream",
     "text": [
      "0259\n"
     ]
    },
    {
     "name": "stderr",
     "output_type": "stream",
     "text": [
      " 40%|████      | 121/300 [00:59<01:24,  2.12it/s]"
     ]
    },
    {
     "name": "stdout",
     "output_type": "stream",
     "text": [
      "0263\n"
     ]
    },
    {
     "name": "stderr",
     "output_type": "stream",
     "text": [
      " 41%|████      | 122/300 [01:00<01:23,  2.14it/s]"
     ]
    },
    {
     "name": "stdout",
     "output_type": "stream",
     "text": [
      "0090\n"
     ]
    },
    {
     "name": "stderr",
     "output_type": "stream",
     "text": [
      " 41%|████      | 123/300 [01:00<01:21,  2.17it/s]"
     ]
    },
    {
     "name": "stdout",
     "output_type": "stream",
     "text": [
      "0016\n"
     ]
    },
    {
     "name": "stderr",
     "output_type": "stream",
     "text": [
      " 41%|████▏     | 124/300 [01:01<01:21,  2.16it/s]"
     ]
    },
    {
     "name": "stdout",
     "output_type": "stream",
     "text": [
      "0087\n"
     ]
    },
    {
     "name": "stderr",
     "output_type": "stream",
     "text": [
      " 42%|████▏     | 125/300 [01:01<01:21,  2.14it/s]"
     ]
    },
    {
     "name": "stdout",
     "output_type": "stream",
     "text": [
      "0145\n"
     ]
    },
    {
     "name": "stderr",
     "output_type": "stream",
     "text": [
      " 42%|████▏     | 126/300 [01:02<01:22,  2.12it/s]"
     ]
    },
    {
     "name": "stdout",
     "output_type": "stream",
     "text": [
      "0020\n"
     ]
    },
    {
     "name": "stderr",
     "output_type": "stream",
     "text": [
      " 42%|████▏     | 127/300 [01:02<01:22,  2.10it/s]"
     ]
    },
    {
     "name": "stdout",
     "output_type": "stream",
     "text": [
      "0290\n"
     ]
    },
    {
     "name": "stderr",
     "output_type": "stream",
     "text": [
      " 43%|████▎     | 128/300 [01:03<01:23,  2.07it/s]"
     ]
    },
    {
     "name": "stdout",
     "output_type": "stream",
     "text": [
      "0235\n"
     ]
    },
    {
     "name": "stderr",
     "output_type": "stream",
     "text": [
      " 43%|████▎     | 129/300 [01:03<01:23,  2.05it/s]"
     ]
    },
    {
     "name": "stdout",
     "output_type": "stream",
     "text": [
      "0070\n"
     ]
    },
    {
     "name": "stderr",
     "output_type": "stream",
     "text": [
      " 43%|████▎     | 130/300 [01:04<01:25,  1.99it/s]"
     ]
    },
    {
     "name": "stdout",
     "output_type": "stream",
     "text": [
      "0002\n"
     ]
    },
    {
     "name": "stderr",
     "output_type": "stream",
     "text": [
      " 44%|████▎     | 131/300 [01:04<01:25,  1.97it/s]"
     ]
    },
    {
     "name": "stdout",
     "output_type": "stream",
     "text": [
      "0179\n"
     ]
    },
    {
     "name": "stderr",
     "output_type": "stream",
     "text": [
      " 44%|████▍     | 132/300 [01:05<01:26,  1.94it/s]"
     ]
    },
    {
     "name": "stdout",
     "output_type": "stream",
     "text": [
      "0108\n"
     ]
    },
    {
     "name": "stderr",
     "output_type": "stream",
     "text": [
      " 44%|████▍     | 133/300 [01:05<01:24,  1.97it/s]"
     ]
    },
    {
     "name": "stdout",
     "output_type": "stream",
     "text": [
      "0241\n"
     ]
    },
    {
     "name": "stderr",
     "output_type": "stream",
     "text": [
      " 45%|████▍     | 134/300 [01:06<01:23,  1.98it/s]"
     ]
    },
    {
     "name": "stdout",
     "output_type": "stream",
     "text": [
      "0009\n"
     ]
    },
    {
     "name": "stderr",
     "output_type": "stream",
     "text": [
      " 45%|████▌     | 135/300 [01:06<01:22,  2.00it/s]"
     ]
    },
    {
     "name": "stdout",
     "output_type": "stream",
     "text": [
      "0091\n"
     ]
    },
    {
     "name": "stderr",
     "output_type": "stream",
     "text": [
      " 45%|████▌     | 136/300 [01:07<01:21,  2.01it/s]"
     ]
    },
    {
     "name": "stdout",
     "output_type": "stream",
     "text": [
      "0222\n"
     ]
    },
    {
     "name": "stderr",
     "output_type": "stream",
     "text": [
      " 46%|████▌     | 137/300 [01:07<01:19,  2.04it/s]"
     ]
    },
    {
     "name": "stdout",
     "output_type": "stream",
     "text": [
      "0102\n"
     ]
    },
    {
     "name": "stderr",
     "output_type": "stream",
     "text": [
      " 46%|████▌     | 138/300 [01:08<01:17,  2.08it/s]"
     ]
    },
    {
     "name": "stdout",
     "output_type": "stream",
     "text": [
      "0021\n"
     ]
    },
    {
     "name": "stderr",
     "output_type": "stream",
     "text": [
      " 46%|████▋     | 139/300 [01:08<01:16,  2.10it/s]"
     ]
    },
    {
     "name": "stdout",
     "output_type": "stream",
     "text": [
      "0109\n"
     ]
    },
    {
     "name": "stderr",
     "output_type": "stream",
     "text": [
      " 47%|████▋     | 140/300 [01:09<01:16,  2.08it/s]"
     ]
    },
    {
     "name": "stdout",
     "output_type": "stream",
     "text": [
      "0155\n"
     ]
    },
    {
     "name": "stderr",
     "output_type": "stream",
     "text": [
      " 47%|████▋     | 141/300 [01:09<01:16,  2.07it/s]"
     ]
    },
    {
     "name": "stdout",
     "output_type": "stream",
     "text": [
      "0293\n"
     ]
    },
    {
     "name": "stderr",
     "output_type": "stream",
     "text": [
      " 47%|████▋     | 142/300 [01:10<01:16,  2.06it/s]"
     ]
    },
    {
     "name": "stdout",
     "output_type": "stream",
     "text": [
      "0285\n"
     ]
    },
    {
     "name": "stderr",
     "output_type": "stream",
     "text": [
      " 48%|████▊     | 143/300 [01:10<01:17,  2.04it/s]"
     ]
    },
    {
     "name": "stdout",
     "output_type": "stream",
     "text": [
      "0095\n"
     ]
    },
    {
     "name": "stderr",
     "output_type": "stream",
     "text": [
      " 48%|████▊     | 144/300 [01:11<01:18,  1.98it/s]"
     ]
    },
    {
     "name": "stdout",
     "output_type": "stream",
     "text": [
      "0079\n"
     ]
    },
    {
     "name": "stderr",
     "output_type": "stream",
     "text": [
      " 48%|████▊     | 145/300 [01:11<01:18,  1.97it/s]"
     ]
    },
    {
     "name": "stdout",
     "output_type": "stream",
     "text": [
      "0119\n"
     ]
    },
    {
     "name": "stderr",
     "output_type": "stream",
     "text": [
      " 49%|████▊     | 146/300 [01:12<01:19,  1.95it/s]"
     ]
    },
    {
     "name": "stdout",
     "output_type": "stream",
     "text": [
      "0133\n"
     ]
    },
    {
     "name": "stderr",
     "output_type": "stream",
     "text": [
      " 49%|████▉     | 147/300 [01:12<01:18,  1.94it/s]"
     ]
    },
    {
     "name": "stdout",
     "output_type": "stream",
     "text": [
      "0130\n"
     ]
    },
    {
     "name": "stderr",
     "output_type": "stream",
     "text": [
      " 49%|████▉     | 148/300 [01:13<01:18,  1.94it/s]"
     ]
    },
    {
     "name": "stdout",
     "output_type": "stream",
     "text": [
      "0141\n"
     ]
    },
    {
     "name": "stderr",
     "output_type": "stream",
     "text": [
      " 50%|████▉     | 149/300 [01:13<01:17,  1.95it/s]"
     ]
    },
    {
     "name": "stdout",
     "output_type": "stream",
     "text": [
      "0234\n"
     ]
    },
    {
     "name": "stderr",
     "output_type": "stream",
     "text": [
      " 50%|█████     | 150/300 [01:14<01:16,  1.97it/s]"
     ]
    },
    {
     "name": "stdout",
     "output_type": "stream",
     "text": [
      "0188\n"
     ]
    },
    {
     "name": "stderr",
     "output_type": "stream",
     "text": [
      " 50%|█████     | 151/300 [01:14<01:14,  2.01it/s]"
     ]
    },
    {
     "name": "stdout",
     "output_type": "stream",
     "text": [
      "0101\n"
     ]
    },
    {
     "name": "stderr",
     "output_type": "stream",
     "text": [
      " 51%|█████     | 152/300 [01:15<01:13,  2.02it/s]"
     ]
    },
    {
     "name": "stdout",
     "output_type": "stream",
     "text": [
      "0123\n"
     ]
    },
    {
     "name": "stderr",
     "output_type": "stream",
     "text": [
      " 51%|█████     | 153/300 [01:15<01:12,  2.04it/s]"
     ]
    },
    {
     "name": "stdout",
     "output_type": "stream",
     "text": [
      "0112\n"
     ]
    },
    {
     "name": "stderr",
     "output_type": "stream",
     "text": [
      " 51%|█████▏    | 154/300 [01:16<01:11,  2.04it/s]"
     ]
    },
    {
     "name": "stdout",
     "output_type": "stream",
     "text": [
      "0272\n"
     ]
    },
    {
     "name": "stderr",
     "output_type": "stream",
     "text": [
      " 52%|█████▏    | 155/300 [01:16<01:10,  2.05it/s]"
     ]
    },
    {
     "name": "stdout",
     "output_type": "stream",
     "text": [
      "0080\n"
     ]
    },
    {
     "name": "stderr",
     "output_type": "stream",
     "text": [
      " 52%|█████▏    | 156/300 [01:17<01:10,  2.04it/s]"
     ]
    },
    {
     "name": "stdout",
     "output_type": "stream",
     "text": [
      "0001\n"
     ]
    },
    {
     "name": "stderr",
     "output_type": "stream",
     "text": [
      " 52%|█████▏    | 157/300 [01:17<01:09,  2.06it/s]"
     ]
    },
    {
     "name": "stdout",
     "output_type": "stream",
     "text": [
      "0127\n"
     ]
    },
    {
     "name": "stderr",
     "output_type": "stream",
     "text": [
      " 53%|█████▎    | 158/300 [01:18<01:08,  2.08it/s]"
     ]
    },
    {
     "name": "stdout",
     "output_type": "stream",
     "text": [
      "0279\n"
     ]
    },
    {
     "name": "stderr",
     "output_type": "stream",
     "text": [
      " 53%|█████▎    | 159/300 [01:18<01:07,  2.10it/s]"
     ]
    },
    {
     "name": "stdout",
     "output_type": "stream",
     "text": [
      "0015\n"
     ]
    },
    {
     "name": "stderr",
     "output_type": "stream",
     "text": [
      " 53%|█████▎    | 160/300 [01:18<01:07,  2.08it/s]"
     ]
    },
    {
     "name": "stdout",
     "output_type": "stream",
     "text": [
      "0226\n"
     ]
    },
    {
     "name": "stderr",
     "output_type": "stream",
     "text": [
      " 54%|█████▎    | 161/300 [01:19<01:07,  2.07it/s]"
     ]
    },
    {
     "name": "stdout",
     "output_type": "stream",
     "text": [
      "0061\n"
     ]
    },
    {
     "name": "stderr",
     "output_type": "stream",
     "text": [
      " 54%|█████▍    | 162/300 [01:19<01:06,  2.06it/s]"
     ]
    },
    {
     "name": "stdout",
     "output_type": "stream",
     "text": [
      "0136\n"
     ]
    },
    {
     "name": "stderr",
     "output_type": "stream",
     "text": [
      " 54%|█████▍    | 163/300 [01:20<01:06,  2.07it/s]"
     ]
    },
    {
     "name": "stdout",
     "output_type": "stream",
     "text": [
      "0254\n"
     ]
    },
    {
     "name": "stderr",
     "output_type": "stream",
     "text": [
      " 55%|█████▍    | 164/300 [01:20<01:07,  2.02it/s]"
     ]
    },
    {
     "name": "stdout",
     "output_type": "stream",
     "text": [
      "0202\n"
     ]
    },
    {
     "name": "stderr",
     "output_type": "stream",
     "text": [
      " 55%|█████▌    | 165/300 [01:21<01:08,  1.98it/s]"
     ]
    },
    {
     "name": "stdout",
     "output_type": "stream",
     "text": [
      "0110\n"
     ]
    },
    {
     "name": "stderr",
     "output_type": "stream",
     "text": [
      " 55%|█████▌    | 166/300 [01:22<01:08,  1.94it/s]"
     ]
    },
    {
     "name": "stdout",
     "output_type": "stream",
     "text": [
      "0189\n"
     ]
    },
    {
     "name": "stderr",
     "output_type": "stream",
     "text": [
      " 56%|█████▌    | 167/300 [01:22<01:08,  1.93it/s]"
     ]
    },
    {
     "name": "stdout",
     "output_type": "stream",
     "text": [
      "0086\n"
     ]
    },
    {
     "name": "stderr",
     "output_type": "stream",
     "text": [
      " 56%|█████▌    | 168/300 [01:23<01:09,  1.91it/s]"
     ]
    },
    {
     "name": "stdout",
     "output_type": "stream",
     "text": [
      "0167\n"
     ]
    },
    {
     "name": "stderr",
     "output_type": "stream",
     "text": [
      " 56%|█████▋    | 169/300 [01:23<01:08,  1.91it/s]"
     ]
    },
    {
     "name": "stdout",
     "output_type": "stream",
     "text": [
      "0046\n"
     ]
    },
    {
     "name": "stderr",
     "output_type": "stream",
     "text": [
      " 57%|█████▋    | 170/300 [01:24<01:08,  1.90it/s]"
     ]
    },
    {
     "name": "stdout",
     "output_type": "stream",
     "text": [
      "0174\n"
     ]
    },
    {
     "name": "stderr",
     "output_type": "stream",
     "text": [
      " 57%|█████▋    | 171/300 [01:24<01:07,  1.91it/s]"
     ]
    },
    {
     "name": "stdout",
     "output_type": "stream",
     "text": [
      "0011\n"
     ]
    },
    {
     "name": "stderr",
     "output_type": "stream",
     "text": [
      " 57%|█████▋    | 172/300 [01:25<01:06,  1.92it/s]"
     ]
    },
    {
     "name": "stdout",
     "output_type": "stream",
     "text": [
      "0237\n"
     ]
    },
    {
     "name": "stderr",
     "output_type": "stream",
     "text": [
      " 58%|█████▊    | 173/300 [01:25<01:04,  1.96it/s]"
     ]
    },
    {
     "name": "stdout",
     "output_type": "stream",
     "text": [
      "0289\n"
     ]
    },
    {
     "name": "stderr",
     "output_type": "stream",
     "text": [
      " 58%|█████▊    | 174/300 [01:26<01:03,  1.98it/s]"
     ]
    },
    {
     "name": "stdout",
     "output_type": "stream",
     "text": [
      "0128\n"
     ]
    },
    {
     "name": "stderr",
     "output_type": "stream",
     "text": [
      " 58%|█████▊    | 175/300 [01:26<01:02,  2.00it/s]"
     ]
    },
    {
     "name": "stdout",
     "output_type": "stream",
     "text": [
      "0040\n"
     ]
    },
    {
     "name": "stderr",
     "output_type": "stream",
     "text": [
      " 59%|█████▊    | 176/300 [01:27<01:01,  2.02it/s]"
     ]
    },
    {
     "name": "stdout",
     "output_type": "stream",
     "text": [
      "0115\n"
     ]
    },
    {
     "name": "stderr",
     "output_type": "stream",
     "text": [
      " 59%|█████▉    | 177/300 [01:27<00:59,  2.06it/s]"
     ]
    },
    {
     "name": "stdout",
     "output_type": "stream",
     "text": [
      "0172\n"
     ]
    },
    {
     "name": "stderr",
     "output_type": "stream",
     "text": [
      " 59%|█████▉    | 178/300 [01:28<00:58,  2.08it/s]"
     ]
    },
    {
     "name": "stdout",
     "output_type": "stream",
     "text": [
      "0225\n"
     ]
    },
    {
     "name": "stderr",
     "output_type": "stream",
     "text": [
      " 60%|█████▉    | 179/300 [01:28<00:57,  2.12it/s]"
     ]
    },
    {
     "name": "stdout",
     "output_type": "stream",
     "text": [
      "0276\n"
     ]
    },
    {
     "name": "stderr",
     "output_type": "stream",
     "text": [
      " 60%|██████    | 180/300 [01:28<00:56,  2.13it/s]"
     ]
    },
    {
     "name": "stdout",
     "output_type": "stream",
     "text": [
      "0085\n"
     ]
    },
    {
     "name": "stderr",
     "output_type": "stream",
     "text": [
      " 60%|██████    | 181/300 [01:29<00:54,  2.16it/s]"
     ]
    },
    {
     "name": "stdout",
     "output_type": "stream",
     "text": [
      "0266\n"
     ]
    },
    {
     "name": "stderr",
     "output_type": "stream",
     "text": [
      " 61%|██████    | 182/300 [01:29<00:54,  2.18it/s]"
     ]
    },
    {
     "name": "stdout",
     "output_type": "stream",
     "text": [
      "0208\n"
     ]
    },
    {
     "name": "stderr",
     "output_type": "stream",
     "text": [
      " 61%|██████    | 183/300 [01:30<00:53,  2.19it/s]"
     ]
    },
    {
     "name": "stdout",
     "output_type": "stream",
     "text": [
      "0089\n"
     ]
    },
    {
     "name": "stderr",
     "output_type": "stream",
     "text": [
      " 61%|██████▏   | 184/300 [01:30<00:53,  2.18it/s]"
     ]
    },
    {
     "name": "stdout",
     "output_type": "stream",
     "text": [
      "0280\n"
     ]
    },
    {
     "name": "stderr",
     "output_type": "stream",
     "text": [
      " 62%|██████▏   | 185/300 [01:31<00:53,  2.17it/s]"
     ]
    },
    {
     "name": "stdout",
     "output_type": "stream",
     "text": [
      "0116\n"
     ]
    },
    {
     "name": "stderr",
     "output_type": "stream",
     "text": [
      " 62%|██████▏   | 186/300 [01:31<00:53,  2.14it/s]"
     ]
    },
    {
     "name": "stdout",
     "output_type": "stream",
     "text": [
      "0006\n"
     ]
    },
    {
     "name": "stderr",
     "output_type": "stream",
     "text": [
      " 62%|██████▏   | 187/300 [01:32<00:52,  2.14it/s]"
     ]
    },
    {
     "name": "stdout",
     "output_type": "stream",
     "text": [
      "0060\n"
     ]
    },
    {
     "name": "stderr",
     "output_type": "stream",
     "text": [
      " 63%|██████▎   | 188/300 [01:32<00:53,  2.09it/s]"
     ]
    },
    {
     "name": "stdout",
     "output_type": "stream",
     "text": [
      "0270\n"
     ]
    },
    {
     "name": "stderr",
     "output_type": "stream",
     "text": [
      " 63%|██████▎   | 189/300 [01:33<00:53,  2.07it/s]"
     ]
    },
    {
     "name": "stdout",
     "output_type": "stream",
     "text": [
      "0219\n"
     ]
    },
    {
     "name": "stderr",
     "output_type": "stream",
     "text": [
      " 63%|██████▎   | 190/300 [01:33<00:53,  2.06it/s]"
     ]
    },
    {
     "name": "stdout",
     "output_type": "stream",
     "text": [
      "0243\n"
     ]
    },
    {
     "name": "stderr",
     "output_type": "stream",
     "text": [
      " 64%|██████▎   | 191/300 [01:34<00:52,  2.07it/s]"
     ]
    },
    {
     "name": "stdout",
     "output_type": "stream",
     "text": [
      "0137\n"
     ]
    },
    {
     "name": "stderr",
     "output_type": "stream",
     "text": [
      " 64%|██████▍   | 192/300 [01:34<00:51,  2.09it/s]"
     ]
    },
    {
     "name": "stdout",
     "output_type": "stream",
     "text": [
      "0023\n"
     ]
    },
    {
     "name": "stderr",
     "output_type": "stream",
     "text": [
      " 64%|██████▍   | 193/300 [01:35<00:50,  2.12it/s]"
     ]
    },
    {
     "name": "stdout",
     "output_type": "stream",
     "text": [
      "0031\n"
     ]
    },
    {
     "name": "stderr",
     "output_type": "stream",
     "text": [
      " 65%|██████▍   | 194/300 [01:35<00:50,  2.09it/s]"
     ]
    },
    {
     "name": "stdout",
     "output_type": "stream",
     "text": [
      "0099\n"
     ]
    },
    {
     "name": "stderr",
     "output_type": "stream",
     "text": [
      " 65%|██████▌   | 195/300 [01:36<00:50,  2.07it/s]"
     ]
    },
    {
     "name": "stdout",
     "output_type": "stream",
     "text": [
      "0140\n"
     ]
    },
    {
     "name": "stderr",
     "output_type": "stream",
     "text": [
      " 65%|██████▌   | 196/300 [01:36<00:50,  2.06it/s]"
     ]
    },
    {
     "name": "stdout",
     "output_type": "stream",
     "text": [
      "0129\n"
     ]
    },
    {
     "name": "stderr",
     "output_type": "stream",
     "text": [
      " 66%|██████▌   | 197/300 [01:37<00:49,  2.07it/s]"
     ]
    },
    {
     "name": "stdout",
     "output_type": "stream",
     "text": [
      "0012\n"
     ]
    },
    {
     "name": "stderr",
     "output_type": "stream",
     "text": [
      " 66%|██████▌   | 198/300 [01:37<00:48,  2.08it/s]"
     ]
    },
    {
     "name": "stdout",
     "output_type": "stream",
     "text": [
      "0093\n"
     ]
    },
    {
     "name": "stderr",
     "output_type": "stream",
     "text": [
      " 66%|██████▋   | 199/300 [01:37<00:47,  2.11it/s]"
     ]
    },
    {
     "name": "stdout",
     "output_type": "stream",
     "text": [
      "0000\n"
     ]
    },
    {
     "name": "stderr",
     "output_type": "stream",
     "text": [
      " 67%|██████▋   | 200/300 [01:38<00:47,  2.12it/s]"
     ]
    },
    {
     "name": "stdout",
     "output_type": "stream",
     "text": [
      "0261\n"
     ]
    },
    {
     "name": "stderr",
     "output_type": "stream",
     "text": [
      " 67%|██████▋   | 201/300 [01:38<00:46,  2.12it/s]"
     ]
    },
    {
     "name": "stdout",
     "output_type": "stream",
     "text": [
      "0156\n"
     ]
    },
    {
     "name": "stderr",
     "output_type": "stream",
     "text": [
      " 67%|██████▋   | 202/300 [01:39<00:47,  2.08it/s]"
     ]
    },
    {
     "name": "stdout",
     "output_type": "stream",
     "text": [
      "0092\n"
     ]
    },
    {
     "name": "stderr",
     "output_type": "stream",
     "text": [
      " 68%|██████▊   | 203/300 [01:39<00:47,  2.06it/s]"
     ]
    },
    {
     "name": "stdout",
     "output_type": "stream",
     "text": [
      "0216\n"
     ]
    },
    {
     "name": "stderr",
     "output_type": "stream",
     "text": [
      " 68%|██████▊   | 204/300 [01:40<00:47,  2.02it/s]"
     ]
    },
    {
     "name": "stdout",
     "output_type": "stream",
     "text": [
      "0269\n"
     ]
    },
    {
     "name": "stderr",
     "output_type": "stream",
     "text": [
      " 68%|██████▊   | 205/300 [01:40<00:47,  1.99it/s]"
     ]
    },
    {
     "name": "stdout",
     "output_type": "stream",
     "text": [
      "0286\n"
     ]
    },
    {
     "name": "stderr",
     "output_type": "stream",
     "text": [
      " 69%|██████▊   | 206/300 [01:41<00:47,  1.98it/s]"
     ]
    },
    {
     "name": "stdout",
     "output_type": "stream",
     "text": [
      "0050\n"
     ]
    },
    {
     "name": "stderr",
     "output_type": "stream",
     "text": [
      " 69%|██████▉   | 207/300 [01:41<00:46,  1.99it/s]"
     ]
    },
    {
     "name": "stdout",
     "output_type": "stream",
     "text": [
      "0217\n"
     ]
    },
    {
     "name": "stderr",
     "output_type": "stream",
     "text": [
      " 69%|██████▉   | 208/300 [01:42<00:46,  1.98it/s]"
     ]
    },
    {
     "name": "stdout",
     "output_type": "stream",
     "text": [
      "0170\n"
     ]
    },
    {
     "name": "stderr",
     "output_type": "stream",
     "text": [
      " 70%|██████▉   | 209/300 [01:42<00:45,  2.00it/s]"
     ]
    },
    {
     "name": "stdout",
     "output_type": "stream",
     "text": [
      "0072\n"
     ]
    },
    {
     "name": "stderr",
     "output_type": "stream",
     "text": [
      " 70%|███████   | 210/300 [01:43<00:44,  2.00it/s]"
     ]
    },
    {
     "name": "stdout",
     "output_type": "stream",
     "text": [
      "0138\n"
     ]
    },
    {
     "name": "stderr",
     "output_type": "stream",
     "text": [
      " 70%|███████   | 211/300 [01:43<00:44,  2.01it/s]"
     ]
    },
    {
     "name": "stdout",
     "output_type": "stream",
     "text": [
      "0177\n"
     ]
    },
    {
     "name": "stderr",
     "output_type": "stream",
     "text": [
      " 71%|███████   | 212/300 [01:44<00:43,  2.00it/s]"
     ]
    },
    {
     "name": "stdout",
     "output_type": "stream",
     "text": [
      "0073\n"
     ]
    },
    {
     "name": "stderr",
     "output_type": "stream",
     "text": [
      " 71%|███████   | 213/300 [01:44<00:43,  2.02it/s]"
     ]
    },
    {
     "name": "stdout",
     "output_type": "stream",
     "text": [
      "0169\n"
     ]
    },
    {
     "name": "stderr",
     "output_type": "stream",
     "text": [
      " 71%|███████▏  | 214/300 [01:45<00:42,  2.03it/s]"
     ]
    },
    {
     "name": "stdout",
     "output_type": "stream",
     "text": [
      "0148\n"
     ]
    },
    {
     "name": "stderr",
     "output_type": "stream",
     "text": [
      " 72%|███████▏  | 215/300 [01:45<00:41,  2.05it/s]"
     ]
    },
    {
     "name": "stdout",
     "output_type": "stream",
     "text": [
      "0096\n"
     ]
    },
    {
     "name": "stderr",
     "output_type": "stream",
     "text": [
      " 72%|███████▏  | 216/300 [01:46<00:41,  2.05it/s]"
     ]
    },
    {
     "name": "stdout",
     "output_type": "stream",
     "text": [
      "0106\n"
     ]
    },
    {
     "name": "stderr",
     "output_type": "stream",
     "text": [
      " 72%|███████▏  | 217/300 [01:46<00:40,  2.06it/s]"
     ]
    },
    {
     "name": "stdout",
     "output_type": "stream",
     "text": [
      "0201\n"
     ]
    },
    {
     "name": "stderr",
     "output_type": "stream",
     "text": [
      " 73%|███████▎  | 218/300 [01:47<00:40,  2.05it/s]"
     ]
    },
    {
     "name": "stdout",
     "output_type": "stream",
     "text": [
      "0162\n"
     ]
    },
    {
     "name": "stderr",
     "output_type": "stream",
     "text": [
      " 73%|███████▎  | 219/300 [01:47<00:39,  2.05it/s]"
     ]
    },
    {
     "name": "stdout",
     "output_type": "stream",
     "text": [
      "0147\n"
     ]
    },
    {
     "name": "stderr",
     "output_type": "stream",
     "text": [
      " 73%|███████▎  | 220/300 [01:48<00:39,  2.03it/s]"
     ]
    },
    {
     "name": "stdout",
     "output_type": "stream",
     "text": [
      "0017\n"
     ]
    },
    {
     "name": "stderr",
     "output_type": "stream",
     "text": [
      " 74%|███████▎  | 221/300 [01:48<00:39,  2.00it/s]"
     ]
    },
    {
     "name": "stdout",
     "output_type": "stream",
     "text": [
      "0175\n"
     ]
    },
    {
     "name": "stderr",
     "output_type": "stream",
     "text": [
      " 74%|███████▍  | 222/300 [01:49<00:39,  1.99it/s]"
     ]
    },
    {
     "name": "stdout",
     "output_type": "stream",
     "text": [
      "0253\n"
     ]
    },
    {
     "name": "stderr",
     "output_type": "stream",
     "text": [
      " 74%|███████▍  | 223/300 [01:49<00:38,  1.99it/s]"
     ]
    },
    {
     "name": "stdout",
     "output_type": "stream",
     "text": [
      "0265\n"
     ]
    },
    {
     "name": "stderr",
     "output_type": "stream",
     "text": [
      " 75%|███████▍  | 224/300 [01:50<00:38,  1.97it/s]"
     ]
    },
    {
     "name": "stdout",
     "output_type": "stream",
     "text": [
      "0173\n"
     ]
    },
    {
     "name": "stderr",
     "output_type": "stream",
     "text": [
      " 75%|███████▌  | 225/300 [01:50<00:37,  1.99it/s]"
     ]
    },
    {
     "name": "stdout",
     "output_type": "stream",
     "text": [
      "0190\n"
     ]
    },
    {
     "name": "stderr",
     "output_type": "stream",
     "text": [
      " 75%|███████▌  | 226/300 [01:51<00:37,  1.99it/s]"
     ]
    },
    {
     "name": "stdout",
     "output_type": "stream",
     "text": [
      "0142\n"
     ]
    },
    {
     "name": "stderr",
     "output_type": "stream",
     "text": [
      " 76%|███████▌  | 227/300 [01:51<00:36,  2.00it/s]"
     ]
    },
    {
     "name": "stdout",
     "output_type": "stream",
     "text": [
      "0139\n"
     ]
    },
    {
     "name": "stderr",
     "output_type": "stream",
     "text": [
      " 76%|███████▌  | 228/300 [01:52<00:35,  2.00it/s]"
     ]
    },
    {
     "name": "stdout",
     "output_type": "stream",
     "text": [
      "0032\n"
     ]
    },
    {
     "name": "stderr",
     "output_type": "stream",
     "text": [
      " 76%|███████▋  | 229/300 [01:52<00:34,  2.03it/s]"
     ]
    },
    {
     "name": "stdout",
     "output_type": "stream",
     "text": [
      "0039\n"
     ]
    },
    {
     "name": "stderr",
     "output_type": "stream",
     "text": [
      " 77%|███████▋  | 230/300 [01:53<00:34,  2.02it/s]"
     ]
    },
    {
     "name": "stdout",
     "output_type": "stream",
     "text": [
      "0207\n"
     ]
    },
    {
     "name": "stderr",
     "output_type": "stream",
     "text": [
      " 77%|███████▋  | 231/300 [01:53<00:34,  2.02it/s]"
     ]
    },
    {
     "name": "stdout",
     "output_type": "stream",
     "text": [
      "0154\n"
     ]
    },
    {
     "name": "stderr",
     "output_type": "stream",
     "text": [
      " 77%|███████▋  | 232/300 [01:54<00:33,  2.01it/s]"
     ]
    },
    {
     "name": "stdout",
     "output_type": "stream",
     "text": [
      "0077\n"
     ]
    },
    {
     "name": "stderr",
     "output_type": "stream",
     "text": [
      " 78%|███████▊  | 233/300 [01:54<00:33,  2.01it/s]"
     ]
    },
    {
     "name": "stdout",
     "output_type": "stream",
     "text": [
      "0067\n"
     ]
    },
    {
     "name": "stderr",
     "output_type": "stream",
     "text": [
      " 78%|███████▊  | 234/300 [01:55<00:32,  2.00it/s]"
     ]
    },
    {
     "name": "stdout",
     "output_type": "stream",
     "text": [
      "0218\n"
     ]
    },
    {
     "name": "stderr",
     "output_type": "stream",
     "text": [
      " 78%|███████▊  | 235/300 [01:55<00:32,  1.99it/s]"
     ]
    },
    {
     "name": "stdout",
     "output_type": "stream",
     "text": [
      "0282\n"
     ]
    },
    {
     "name": "stderr",
     "output_type": "stream",
     "text": [
      " 79%|███████▊  | 236/300 [01:56<00:32,  1.97it/s]"
     ]
    },
    {
     "name": "stdout",
     "output_type": "stream",
     "text": [
      "0038\n"
     ]
    },
    {
     "name": "stderr",
     "output_type": "stream",
     "text": [
      " 79%|███████▉  | 237/300 [01:56<00:32,  1.95it/s]"
     ]
    },
    {
     "name": "stdout",
     "output_type": "stream",
     "text": [
      "0062\n"
     ]
    },
    {
     "name": "stderr",
     "output_type": "stream",
     "text": [
      " 79%|███████▉  | 238/300 [01:57<00:32,  1.93it/s]"
     ]
    },
    {
     "name": "stdout",
     "output_type": "stream",
     "text": [
      "0126\n"
     ]
    },
    {
     "name": "stderr",
     "output_type": "stream",
     "text": [
      " 80%|███████▉  | 239/300 [01:57<00:31,  1.93it/s]"
     ]
    },
    {
     "name": "stdout",
     "output_type": "stream",
     "text": [
      "0047\n"
     ]
    },
    {
     "name": "stderr",
     "output_type": "stream",
     "text": [
      " 80%|████████  | 240/300 [01:58<00:31,  1.93it/s]"
     ]
    },
    {
     "name": "stdout",
     "output_type": "stream",
     "text": [
      "0198\n"
     ]
    },
    {
     "name": "stderr",
     "output_type": "stream",
     "text": [
      " 80%|████████  | 241/300 [01:58<00:30,  1.95it/s]"
     ]
    },
    {
     "name": "stdout",
     "output_type": "stream",
     "text": [
      "0088\n"
     ]
    },
    {
     "name": "stderr",
     "output_type": "stream",
     "text": [
      " 81%|████████  | 242/300 [01:59<00:29,  1.96it/s]"
     ]
    },
    {
     "name": "stdout",
     "output_type": "stream",
     "text": [
      "0214\n"
     ]
    },
    {
     "name": "stderr",
     "output_type": "stream",
     "text": [
      " 81%|████████  | 243/300 [01:59<00:28,  1.98it/s]"
     ]
    },
    {
     "name": "stdout",
     "output_type": "stream",
     "text": [
      "0212\n"
     ]
    },
    {
     "name": "stderr",
     "output_type": "stream",
     "text": [
      " 81%|████████▏ | 244/300 [02:00<00:28,  1.99it/s]"
     ]
    },
    {
     "name": "stdout",
     "output_type": "stream",
     "text": [
      "0178\n"
     ]
    },
    {
     "name": "stderr",
     "output_type": "stream",
     "text": [
      " 82%|████████▏ | 245/300 [02:00<00:27,  2.01it/s]"
     ]
    },
    {
     "name": "stdout",
     "output_type": "stream",
     "text": [
      "0200\n"
     ]
    },
    {
     "name": "stderr",
     "output_type": "stream",
     "text": [
      " 82%|████████▏ | 246/300 [02:01<00:26,  2.02it/s]"
     ]
    },
    {
     "name": "stdout",
     "output_type": "stream",
     "text": [
      "0003\n"
     ]
    },
    {
     "name": "stderr",
     "output_type": "stream",
     "text": [
      " 82%|████████▏ | 247/300 [02:01<00:26,  2.02it/s]"
     ]
    },
    {
     "name": "stdout",
     "output_type": "stream",
     "text": [
      "0107\n"
     ]
    },
    {
     "name": "stderr",
     "output_type": "stream",
     "text": [
      " 83%|████████▎ | 248/300 [02:02<00:25,  2.02it/s]"
     ]
    },
    {
     "name": "stdout",
     "output_type": "stream",
     "text": [
      "0244\n"
     ]
    },
    {
     "name": "stderr",
     "output_type": "stream",
     "text": [
      " 83%|████████▎ | 249/300 [02:02<00:25,  2.03it/s]"
     ]
    },
    {
     "name": "stdout",
     "output_type": "stream",
     "text": [
      "0035\n"
     ]
    },
    {
     "name": "stderr",
     "output_type": "stream",
     "text": [
      " 83%|████████▎ | 250/300 [02:03<00:24,  2.03it/s]"
     ]
    },
    {
     "name": "stdout",
     "output_type": "stream",
     "text": [
      "0049\n"
     ]
    },
    {
     "name": "stderr",
     "output_type": "stream",
     "text": [
      " 84%|████████▎ | 251/300 [02:03<00:23,  2.04it/s]"
     ]
    },
    {
     "name": "stdout",
     "output_type": "stream",
     "text": [
      "0018\n"
     ]
    },
    {
     "name": "stderr",
     "output_type": "stream",
     "text": [
      " 84%|████████▍ | 252/300 [02:04<00:23,  2.03it/s]"
     ]
    },
    {
     "name": "stdout",
     "output_type": "stream",
     "text": [
      "0195\n"
     ]
    },
    {
     "name": "stderr",
     "output_type": "stream",
     "text": [
      " 84%|████████▍ | 253/300 [02:04<00:23,  2.04it/s]"
     ]
    },
    {
     "name": "stdout",
     "output_type": "stream",
     "text": [
      "0151\n"
     ]
    },
    {
     "name": "stderr",
     "output_type": "stream",
     "text": [
      " 85%|████████▍ | 254/300 [02:05<00:22,  2.03it/s]"
     ]
    },
    {
     "name": "stdout",
     "output_type": "stream",
     "text": [
      "0277\n"
     ]
    },
    {
     "name": "stderr",
     "output_type": "stream",
     "text": [
      " 85%|████████▌ | 255/300 [02:05<00:22,  2.03it/s]"
     ]
    },
    {
     "name": "stdout",
     "output_type": "stream",
     "text": [
      "0257\n"
     ]
    },
    {
     "name": "stderr",
     "output_type": "stream",
     "text": [
      " 85%|████████▌ | 256/300 [02:06<00:21,  2.03it/s]"
     ]
    },
    {
     "name": "stdout",
     "output_type": "stream",
     "text": [
      "0029\n"
     ]
    },
    {
     "name": "stderr",
     "output_type": "stream",
     "text": [
      " 86%|████████▌ | 257/300 [02:06<00:20,  2.06it/s]"
     ]
    },
    {
     "name": "stdout",
     "output_type": "stream",
     "text": [
      "0163\n"
     ]
    },
    {
     "name": "stderr",
     "output_type": "stream",
     "text": [
      " 86%|████████▌ | 258/300 [02:07<00:20,  2.06it/s]"
     ]
    },
    {
     "name": "stdout",
     "output_type": "stream",
     "text": [
      "0030\n"
     ]
    },
    {
     "name": "stderr",
     "output_type": "stream",
     "text": [
      " 86%|████████▋ | 259/300 [02:07<00:19,  2.08it/s]"
     ]
    },
    {
     "name": "stdout",
     "output_type": "stream",
     "text": [
      "0146\n"
     ]
    },
    {
     "name": "stderr",
     "output_type": "stream",
     "text": [
      " 87%|████████▋ | 260/300 [02:08<00:19,  2.08it/s]"
     ]
    },
    {
     "name": "stdout",
     "output_type": "stream",
     "text": [
      "0262\n"
     ]
    },
    {
     "name": "stderr",
     "output_type": "stream",
     "text": [
      " 87%|████████▋ | 261/300 [02:08<00:18,  2.09it/s]"
     ]
    },
    {
     "name": "stdout",
     "output_type": "stream",
     "text": [
      "0160\n"
     ]
    },
    {
     "name": "stderr",
     "output_type": "stream",
     "text": [
      " 87%|████████▋ | 262/300 [02:09<00:18,  2.08it/s]"
     ]
    },
    {
     "name": "stdout",
     "output_type": "stream",
     "text": [
      "0281\n"
     ]
    },
    {
     "name": "stderr",
     "output_type": "stream",
     "text": [
      " 88%|████████▊ | 263/300 [02:09<00:17,  2.09it/s]"
     ]
    },
    {
     "name": "stdout",
     "output_type": "stream",
     "text": [
      "0027\n"
     ]
    },
    {
     "name": "stderr",
     "output_type": "stream",
     "text": [
      " 88%|████████▊ | 264/300 [02:10<00:17,  2.07it/s]"
     ]
    },
    {
     "name": "stdout",
     "output_type": "stream",
     "text": [
      "0084\n"
     ]
    },
    {
     "name": "stderr",
     "output_type": "stream",
     "text": [
      " 88%|████████▊ | 265/300 [02:10<00:16,  2.07it/s]"
     ]
    },
    {
     "name": "stdout",
     "output_type": "stream",
     "text": [
      "0118\n"
     ]
    },
    {
     "name": "stderr",
     "output_type": "stream",
     "text": [
      " 89%|████████▊ | 266/300 [02:11<00:16,  2.07it/s]"
     ]
    },
    {
     "name": "stdout",
     "output_type": "stream",
     "text": [
      "0249\n"
     ]
    },
    {
     "name": "stderr",
     "output_type": "stream",
     "text": [
      " 89%|████████▉ | 267/300 [02:11<00:15,  2.08it/s]"
     ]
    },
    {
     "name": "stdout",
     "output_type": "stream",
     "text": [
      "0057\n"
     ]
    },
    {
     "name": "stderr",
     "output_type": "stream",
     "text": [
      " 89%|████████▉ | 268/300 [02:12<00:15,  2.06it/s]"
     ]
    },
    {
     "name": "stdout",
     "output_type": "stream",
     "text": [
      "0264\n"
     ]
    },
    {
     "name": "stderr",
     "output_type": "stream",
     "text": [
      " 90%|████████▉ | 269/300 [02:12<00:15,  2.06it/s]"
     ]
    },
    {
     "name": "stdout",
     "output_type": "stream",
     "text": [
      "0068\n"
     ]
    },
    {
     "name": "stderr",
     "output_type": "stream",
     "text": [
      " 90%|█████████ | 270/300 [02:13<00:14,  2.04it/s]"
     ]
    },
    {
     "name": "stdout",
     "output_type": "stream",
     "text": [
      "0007\n"
     ]
    },
    {
     "name": "stderr",
     "output_type": "stream",
     "text": [
      " 90%|█████████ | 271/300 [02:13<00:14,  2.06it/s]"
     ]
    },
    {
     "name": "stdout",
     "output_type": "stream",
     "text": [
      "0227\n"
     ]
    },
    {
     "name": "stderr",
     "output_type": "stream",
     "text": [
      " 91%|█████████ | 272/300 [02:14<00:13,  2.04it/s]"
     ]
    },
    {
     "name": "stdout",
     "output_type": "stream",
     "text": [
      "0037\n"
     ]
    },
    {
     "name": "stderr",
     "output_type": "stream",
     "text": [
      " 91%|█████████ | 273/300 [02:14<00:13,  2.05it/s]"
     ]
    },
    {
     "name": "stdout",
     "output_type": "stream",
     "text": [
      "0180\n"
     ]
    },
    {
     "name": "stderr",
     "output_type": "stream",
     "text": [
      " 91%|█████████▏| 274/300 [02:15<00:12,  2.01it/s]"
     ]
    },
    {
     "name": "stdout",
     "output_type": "stream",
     "text": [
      "0205\n"
     ]
    },
    {
     "name": "stderr",
     "output_type": "stream",
     "text": [
      " 92%|█████████▏| 275/300 [02:15<00:12,  2.01it/s]"
     ]
    },
    {
     "name": "stdout",
     "output_type": "stream",
     "text": [
      "0008\n"
     ]
    },
    {
     "name": "stderr",
     "output_type": "stream",
     "text": [
      " 92%|█████████▏| 276/300 [02:16<00:11,  2.00it/s]"
     ]
    },
    {
     "name": "stdout",
     "output_type": "stream",
     "text": [
      "0043\n"
     ]
    },
    {
     "name": "stderr",
     "output_type": "stream",
     "text": [
      " 92%|█████████▏| 277/300 [02:16<00:11,  2.00it/s]"
     ]
    },
    {
     "name": "stdout",
     "output_type": "stream",
     "text": [
      "0121\n"
     ]
    },
    {
     "name": "stderr",
     "output_type": "stream",
     "text": [
      " 93%|█████████▎| 278/300 [02:17<00:11,  1.99it/s]"
     ]
    },
    {
     "name": "stdout",
     "output_type": "stream",
     "text": [
      "0124\n"
     ]
    },
    {
     "name": "stderr",
     "output_type": "stream",
     "text": [
      " 93%|█████████▎| 279/300 [02:17<00:10,  2.00it/s]"
     ]
    },
    {
     "name": "stdout",
     "output_type": "stream",
     "text": [
      "0114\n"
     ]
    },
    {
     "name": "stderr",
     "output_type": "stream",
     "text": [
      " 93%|█████████▎| 280/300 [02:18<00:10,  2.00it/s]"
     ]
    },
    {
     "name": "stdout",
     "output_type": "stream",
     "text": [
      "0164\n"
     ]
    },
    {
     "name": "stderr",
     "output_type": "stream",
     "text": [
      " 94%|█████████▎| 281/300 [02:18<00:09,  2.02it/s]"
     ]
    },
    {
     "name": "stdout",
     "output_type": "stream",
     "text": [
      "0278\n"
     ]
    },
    {
     "name": "stderr",
     "output_type": "stream",
     "text": [
      " 94%|█████████▍| 282/300 [02:19<00:08,  2.03it/s]"
     ]
    },
    {
     "name": "stdout",
     "output_type": "stream",
     "text": [
      "0196\n"
     ]
    },
    {
     "name": "stderr",
     "output_type": "stream",
     "text": [
      " 94%|█████████▍| 283/300 [02:19<00:08,  2.06it/s]"
     ]
    },
    {
     "name": "stdout",
     "output_type": "stream",
     "text": [
      "0213\n"
     ]
    },
    {
     "name": "stderr",
     "output_type": "stream",
     "text": [
      " 95%|█████████▍| 284/300 [02:20<00:07,  2.06it/s]"
     ]
    },
    {
     "name": "stdout",
     "output_type": "stream",
     "text": [
      "0299\n"
     ]
    },
    {
     "name": "stderr",
     "output_type": "stream",
     "text": [
      " 95%|█████████▌| 285/300 [02:20<00:07,  2.07it/s]"
     ]
    },
    {
     "name": "stdout",
     "output_type": "stream",
     "text": [
      "0185\n"
     ]
    },
    {
     "name": "stderr",
     "output_type": "stream",
     "text": [
      " 95%|█████████▌| 286/300 [02:21<00:06,  2.06it/s]"
     ]
    },
    {
     "name": "stdout",
     "output_type": "stream",
     "text": [
      "0252\n"
     ]
    },
    {
     "name": "stderr",
     "output_type": "stream",
     "text": [
      " 96%|█████████▌| 287/300 [02:21<00:06,  2.07it/s]"
     ]
    },
    {
     "name": "stdout",
     "output_type": "stream",
     "text": [
      "0131\n"
     ]
    },
    {
     "name": "stderr",
     "output_type": "stream",
     "text": [
      " 96%|█████████▌| 288/300 [02:21<00:05,  2.07it/s]"
     ]
    },
    {
     "name": "stdout",
     "output_type": "stream",
     "text": [
      "0298\n"
     ]
    },
    {
     "name": "stderr",
     "output_type": "stream",
     "text": [
      " 96%|█████████▋| 289/300 [02:22<00:05,  2.05it/s]"
     ]
    },
    {
     "name": "stdout",
     "output_type": "stream",
     "text": [
      "0183\n"
     ]
    },
    {
     "name": "stderr",
     "output_type": "stream",
     "text": [
      " 97%|█████████▋| 290/300 [02:22<00:04,  2.03it/s]"
     ]
    },
    {
     "name": "stdout",
     "output_type": "stream",
     "text": [
      "0125\n"
     ]
    },
    {
     "name": "stderr",
     "output_type": "stream",
     "text": [
      " 97%|█████████▋| 291/300 [02:23<00:04,  2.04it/s]"
     ]
    },
    {
     "name": "stdout",
     "output_type": "stream",
     "text": [
      "0122\n"
     ]
    },
    {
     "name": "stderr",
     "output_type": "stream",
     "text": [
      " 97%|█████████▋| 292/300 [02:23<00:03,  2.02it/s]"
     ]
    },
    {
     "name": "stdout",
     "output_type": "stream",
     "text": [
      "0134\n"
     ]
    },
    {
     "name": "stderr",
     "output_type": "stream",
     "text": [
      " 98%|█████████▊| 293/300 [02:24<00:03,  2.01it/s]"
     ]
    },
    {
     "name": "stdout",
     "output_type": "stream",
     "text": [
      "0028\n"
     ]
    },
    {
     "name": "stderr",
     "output_type": "stream",
     "text": [
      " 98%|█████████▊| 294/300 [02:24<00:03,  1.99it/s]"
     ]
    },
    {
     "name": "stdout",
     "output_type": "stream",
     "text": [
      "0117\n"
     ]
    },
    {
     "name": "stderr",
     "output_type": "stream",
     "text": [
      " 98%|█████████▊| 295/300 [02:25<00:02,  1.99it/s]"
     ]
    },
    {
     "name": "stdout",
     "output_type": "stream",
     "text": [
      "0274\n"
     ]
    },
    {
     "name": "stderr",
     "output_type": "stream",
     "text": [
      " 99%|█████████▊| 296/300 [02:25<00:02,  1.99it/s]"
     ]
    },
    {
     "name": "stdout",
     "output_type": "stream",
     "text": [
      "0165\n"
     ]
    },
    {
     "name": "stderr",
     "output_type": "stream",
     "text": [
      " 99%|█████████▉| 297/300 [02:26<00:01,  2.00it/s]"
     ]
    },
    {
     "name": "stdout",
     "output_type": "stream",
     "text": [
      "0211\n"
     ]
    },
    {
     "name": "stderr",
     "output_type": "stream",
     "text": [
      " 99%|█████████▉| 298/300 [02:26<00:01,  2.00it/s]"
     ]
    },
    {
     "name": "stdout",
     "output_type": "stream",
     "text": [
      "0258\n"
     ]
    },
    {
     "name": "stderr",
     "output_type": "stream",
     "text": [
      "100%|█████████▉| 299/300 [02:27<00:00,  2.02it/s]"
     ]
    },
    {
     "name": "stdout",
     "output_type": "stream",
     "text": [
      "0221\n"
     ]
    },
    {
     "name": "stderr",
     "output_type": "stream",
     "text": [
      "100%|██████████| 300/300 [02:27<00:00,  2.03it/s]\n"
     ]
    }
   ],
   "source": [
    "import numpy as np\n",
    "import torch\n",
    "from scripts.utils import load_ply\n",
    "from pytorch3d.structures import Meshes,Pointclouds\n",
    "from pytorch3d.renderer import Textures\n",
    "from pytorch3d.io import load_obj\n",
    "from point_sam.build_model import build_point_sam\n",
    "from sklearn.neighbors import NearestNeighbors\n",
    "from tqdm import tqdm\n",
    "import glob\n",
    "import numpy as np\n",
    "import torch\n",
    "# Use glob to access all files in the directory\n",
    "from transformers import AutoProcessor, AutoModelForCausalLM\n",
    "from third_party.torkit3d.config.config import * \n",
    "import random\n",
    "import os\n",
    "from utils.inference_florence import run_florence2\n",
    "from PIL import Image\n",
    "import cv2\n",
    "import supervision as sv\n",
    "from utils.utils_3d import * \n",
    "from third_party.Ground_SAM.sam2.build_sam import build_sam2\n",
    "from third_party.Ground_SAM.sam2.sam2_image_predictor import SAM2ImagePredictor\n",
    "from third_party.Ground_SAM.mask_proposal_2d import segment2d\n",
    "import open3d as o3d\n",
    "import json \n",
    "\n",
    "\n",
    "def load_instance_info(instance_info_dir):\n",
    "    \"\"\"\n",
    "    Load instance information and point cloud data from the given directory.\n",
    "    \n",
    "    Args:\n",
    "    instance_info_dir (str): Path to the directory containing the saved files.\n",
    "    \n",
    "    Returns:\n",
    "    dict: A dictionary containing the loaded data.\n",
    "    \"\"\"\n",
    "    # Load PyTorch tensors\n",
    "    top_k_masks = torch.load(os.path.join(instance_info_dir, 'top_k_masks.pt'))\n",
    "    pc_depth = torch.load(os.path.join(instance_info_dir, 'pc_depth.pt'))\n",
    "    screen_coords = torch.load(os.path.join(instance_info_dir, 'screen_coords.pt'))\n",
    "    \n",
    "    # Load numpy array\n",
    "    obj_xyz = np.load(os.path.join(instance_info_dir, 'obj_xyz.npy'))\n",
    "    \n",
    "    # Create a dictionary to hold all the loaded data\n",
    "    \n",
    "    \n",
    "    \n",
    "    return top_k_masks,pc_depth,screen_coords,obj_xyz\n",
    "\n",
    "\n",
    "\n",
    "import os \n",
    "\n",
    "\n",
    "       \n",
    "FLORENCE2_MODEL_ID = \"microsoft/Florence-2-large\"\n",
    "SAM2_CHECKPOINT = \"/home/wan/Workplace-why/Part-SAM/third_party/Ground_SAM/checkpoints/sam2_hiera_large.pt\"\n",
    "SAM2_CONFIG = \"sam2_hiera_l.yaml\"\n",
    "\n",
    "torch.autocast(device_type=\"cuda\", dtype=torch.bfloat16).__enter__()\n",
    "\n",
    "if torch.cuda.get_device_properties(0).major >= 8:\n",
    "    # turn on tfloat32 for Ampere GPUs (https://pytorch.org/docs/stable/notes/cuda.html#tensorfloat-32-tf32-on-ampere-devices)\n",
    "    torch.backends.cuda.matmul.allow_tf32 = True\n",
    "    torch.backends.cudnn.allow_tf32 = True\n",
    "\n",
    "device = \"cuda:0\" if torch.cuda.is_available() else \"cpu\"\n",
    "torch_dtype = torch.float16 if torch.cuda.is_available() else torch.float32\n",
    "reversed_dict = {value: key for key, value in cls_dict.items()}\n",
    "\n",
    "# build florence-2\n",
    "florence2_model = AutoModelForCausalLM.from_pretrained(FLORENCE2_MODEL_ID, trust_remote_code=True, torch_dtype='auto').eval().to(device)\n",
    "florence2_processor = AutoProcessor.from_pretrained(FLORENCE2_MODEL_ID, trust_remote_code=True)\n",
    "# build sam 2\n",
    "sam2_model = build_sam2(SAM2_CONFIG, SAM2_CHECKPOINT, device=device)\n",
    "sam2_predictor = SAM2ImagePredictor(sam2_model)\n",
    "\n",
    "\n",
    "\n",
    "\n",
    "\n",
    "\n",
    "dataset_dir = '/home/wan/Datasets/Test_scene/part_valid'\n",
    "project_path = '/home/wan/Workplace-why/Part-SAM'\n",
    "final_masks_save_dir = os.path.join(project_path, 'part_scene_results')\n",
    "by_product_save_dir = 'part_scene_saved'\n",
    "ckpt_path = os.path.join(project_path, \"checkpoints/model.safetensors\")\n",
    "\n",
    "\n",
    "for scene_id in tqdm(os.listdir(dataset_dir)):\n",
    "        print(scene_id)\n",
    "        scene_path = os.path.join(dataset_dir, scene_id, f'points_{scene_id}.ply')\n",
    "        mask_result_path = os.path.join(final_masks_save_dir, scene_id)\n",
    "        output_scene_dir = os.path.join(project_path, by_product_save_dir, scene_id)\n",
    "        mask_infos = load_prediction_data( f'{mask_result_path}/{scene_id}_summary.txt')\n",
    "        for idx,mask in enumerate(mask_infos):\n",
    "                ins_num = mask['prediction']\n",
    "                instance_dir = os.path.join(output_scene_dir,str(idx))\n",
    "                top_k_masks,pc_depth,screen_coords,obj_xyz = load_instance_info(f'{instance_dir}/ins_info')\n",
    "                ins =reversed_dict[ins_num]\n",
    "                prompt = cls_part_dict[ins]\n",
    "                file_paths = glob.glob(os.path.join(f'{instance_dir}/rendered_img', '*'))\n",
    "                points_3d =[]\n",
    "                visible_pts_list = []\n",
    "                # Print all the files found\n",
    "                num_views = pc_depth.shape[0]\n",
    "                task_prompt = \"<OPEN_VOCABULARY_DETECTION>\"\n",
    "                text_input = prompt\n",
    "                # torch.autocast(device_type=\"cuda\", dtype=torch.bfloat16).__enter__(\n",
    "                torch_dtype = torch.float16 if torch.cuda.is_available() else torch.float32\n",
    "\n",
    "                sem_seg_path = os.path.join(f'{instance_dir}/ins_info', 'sem_seg.pt')\n",
    "                if os.path.exists(sem_seg_path):\n",
    "                       continue\n",
    "                result_dict = segment2d(num_views = num_views ,save_dir=instance_dir,text_input=text_input,task_prompt=task_prompt,florence2_model=florence2_model,florence2_processor=florence2_processor,sam2_predictor= sam2_predictor)\n",
    "                torch.save(result_dict, os.path.join(f'{instance_dir}/ins_info', 'sem_seg.pt'))\n",
    "                \n",
    "\n"
   ]
  },
  {
   "cell_type": "markdown",
   "metadata": {},
   "source": [
    "# Mask clasification"
   ]
  },
  {
   "cell_type": "code",
   "execution_count": 2,
   "metadata": {},
   "outputs": [
    {
     "name": "stdout",
     "output_type": "stream",
     "text": [
      "Jupyter environment detected. Enabling Open3D WebVisualizer.\n",
      "[Open3D INFO] WebRTC GUI backend enabled.\n",
      "[Open3D INFO] WebRTCWindowSystem: HTTP handshake server disabled.\n"
     ]
    }
   ],
   "source": [
    "from utils.utils_3d import * \n",
    "import torch\n",
    "import numpy as np\n",
    "import open3d as o3d \n",
    "from matplotlib import pyplot as plt \n",
    "import os \n",
    "import json\n",
    "import glob\n",
    "from utils.process import *\n",
    "import sys\n",
    "import glob\n",
    "import shutil\n",
    "import glob\n",
    "import re\n",
    "from third_party.torkit3d.config.config import * \n",
    "from tqdm import tqdm"
   ]
  },
  {
   "cell_type": "code",
   "execution_count": 3,
   "metadata": {},
   "outputs": [],
   "source": [
    "def save_mask_results(scene_id, part_mask_after_process, scene_pcd, ins_mask, ins, output_dir, part_label_v2):\n",
    "    try:\n",
    "        scene_dir = os.path.join(output_dir, f'{scene_id}')\n",
    "        pred_part_mask_dir = os.path.join(scene_dir, 'pred_part_mask')\n",
    "    except PermissionError:\n",
    "        print(f\"Error: Permission denied when trying to create directory: {pred_part_mask_dir}\")\n",
    "        print(\"Please check that you have write permissions for the output directory.\")\n",
    "        print(f\"Current working directory: {os.getcwd()}\")\n",
    "        print(f\"Output directory path: {output_dir}\")\n",
    "        sys.exit(1)\n",
    "    except Exception as e:\n",
    "        print(f\"An unexpected error occurred while creating directories: {str(e)}\")\n",
    "        sys.exit(1)\n",
    "    \n",
    "    summary_data = []\n",
    "    base_cls = ins.split(' ')[-1].lower()\n",
    "\n",
    "    # Get the current highest index in the pred_part_mask directory\n",
    "    existing_files = glob.glob(os.path.join(pred_part_mask_dir, '*.txt'))\n",
    "    numeric_files = [f for f in existing_files if re.match(r'^\\d+\\.txt$', os.path.basename(f))]\n",
    "    if numeric_files:\n",
    "        highest_idx = max([int(os.path.splitext(os.path.basename(f))[0]) for f in numeric_files])\n",
    "        start_idx = highest_idx + 1\n",
    "    else:\n",
    "        start_idx = 0\n",
    "\n",
    "    for idx, (label_key, data) in enumerate(part_mask_after_process.items(), start=start_idx):\n",
    "        part_mask = data['mask']\n",
    "        part_score = data['score']\n",
    "        \n",
    "        # Map parts to scene\n",
    "        scene_part_mask = map_parts_to_scene(scene_pcd, part_mask, ins_mask)\n",
    "        \n",
    "        # Save individual mask file\n",
    "        mask_filename = f'{idx:03d}.txt'\n",
    "        mask_filepath = os.path.join(pred_part_mask_dir, mask_filename)\n",
    "        \n",
    "        # Convert scene_part_mask to integer numpy array\n",
    "        if isinstance(scene_part_mask, np.ndarray):\n",
    "            mask_to_save = scene_part_mask.astype(int)\n",
    "        else:\n",
    "            mask_to_save = np.array(scene_part_mask, dtype=int)\n",
    "        \n",
    "        try:\n",
    "            # Save the mask\n",
    "            np.savetxt(mask_filepath, mask_to_save, fmt='%d')\n",
    "        except PermissionError:\n",
    "            print(f\"Error: Permission denied when trying to save file: {mask_filepath}\")\n",
    "            print(\"Please check that you have write permissions for the output directory.\")\n",
    "            sys.exit(1)\n",
    "        except Exception as e:\n",
    "            print(f\"An unexpected error occurred while saving mask file: {str(e)}\")\n",
    "            sys.exit(1)\n",
    "        \n",
    "        # Get part label and number\n",
    "        part_label = f'{base_cls}_{label_key}'\n",
    "        # print(part_label)\n",
    "        \n",
    "        part_label_num = part_label_v2[part_label]  # This will return None if label not found\n",
    "        # Append to summary data\n",
    "        summary_data.append(f\"pred_part_mask/{mask_filename} {part_label_num} {part_score:.4f}\")\n",
    "    \n",
    "    # Save part summary file at the same level as regular summary\n",
    "    part_summary_filepath = os.path.join(scene_dir, f'{scene_id}_part_summary.txt')\n",
    "    \n",
    "    try:\n",
    "        # Append to part summary file\n",
    "        with open(part_summary_filepath, 'a') as f:\n",
    "            f.write('\\n'.join(summary_data) + '\\n')\n",
    "        print(f\"Part summary appended in {part_summary_filepath}\")\n",
    "    except PermissionError:\n",
    "        print(f\"Error: Permission denied when trying to save file: {part_summary_filepath}\")\n",
    "        print(\"Please check that you have write permissions for the output directory.\")\n",
    "        sys.exit(1)\n",
    "    except Exception as e:\n",
    "        print(f\"An unexpected error occurred while saving part summary file: {str(e)}\")\n",
    "        sys.exit(1)"
   ]
  },
  {
   "cell_type": "code",
   "execution_count": 5,
   "metadata": {},
   "outputs": [
    {
     "name": "stderr",
     "output_type": "stream",
     "text": [
      "  0%|          | 0/300 [00:00<?, ?it/s]/tmp/ipykernel_119389/2279935286.py:49: FutureWarning: You are using `torch.load` with `weights_only=False` (the current default value), which uses the default pickle module implicitly. It is possible to construct malicious pickle data which will execute arbitrary code during unpickling (See https://github.com/pytorch/pytorch/blob/main/SECURITY.md#untrusted-models for more details). In a future release, the default value for `weights_only` will be flipped to `True`. This limits the functions that could be executed during unpickling. Arbitrary objects will no longer be allowed to be loaded via this mode unless they are explicitly allowlisted by the user via `torch.serialization.add_safe_globals`. We recommend you start setting `weights_only=True` for any use case where you don't have full control of the loaded file. Please open an issue on GitHub for any issues related to this experimental feature.\n",
      "  result_dict = torch.load(os.path.join(f'{instance_dir}/ins_info', 'sem_seg.pt'))\n"
     ]
    },
    {
     "name": "stdout",
     "output_type": "stream",
     "text": [
      "Part summary appended in /home/wan/Workplace-why/Part-SAM/part_scene_results/0055/0055_part_summary.txt\n",
      "Part summary appended in /home/wan/Workplace-why/Part-SAM/part_scene_results/0055/0055_part_summary.txt\n"
     ]
    },
    {
     "name": "stderr",
     "output_type": "stream",
     "text": [
      "  0%|          | 1/300 [00:08<40:31,  8.13s/it]"
     ]
    },
    {
     "name": "stdout",
     "output_type": "stream",
     "text": [
      "Part summary appended in /home/wan/Workplace-why/Part-SAM/part_scene_results/0055/0055_part_summary.txt\n",
      "Part summary appended in /home/wan/Workplace-why/Part-SAM/part_scene_results/0197/0197_part_summary.txt\n",
      "Part summary appended in /home/wan/Workplace-why/Part-SAM/part_scene_results/0197/0197_part_summary.txt\n"
     ]
    },
    {
     "name": "stderr",
     "output_type": "stream",
     "text": [
      "  1%|          | 2/300 [00:16<41:36,  8.38s/it]"
     ]
    },
    {
     "name": "stdout",
     "output_type": "stream",
     "text": [
      "Part summary appended in /home/wan/Workplace-why/Part-SAM/part_scene_results/0197/0197_part_summary.txt\n",
      "Part summary appended in /home/wan/Workplace-why/Part-SAM/part_scene_results/0187/0187_part_summary.txt\n",
      "Part summary appended in /home/wan/Workplace-why/Part-SAM/part_scene_results/0187/0187_part_summary.txt\n"
     ]
    },
    {
     "name": "stderr",
     "output_type": "stream",
     "text": [
      "  1%|          | 3/300 [00:24<40:42,  8.22s/it]"
     ]
    },
    {
     "name": "stdout",
     "output_type": "stream",
     "text": [
      "Part summary appended in /home/wan/Workplace-why/Part-SAM/part_scene_results/0187/0187_part_summary.txt\n",
      "Part summary appended in /home/wan/Workplace-why/Part-SAM/part_scene_results/0247/0247_part_summary.txt\n",
      "Part summary appended in /home/wan/Workplace-why/Part-SAM/part_scene_results/0247/0247_part_summary.txt\n"
     ]
    },
    {
     "name": "stderr",
     "output_type": "stream",
     "text": [
      "  1%|▏         | 4/300 [00:32<40:21,  8.18s/it]"
     ]
    },
    {
     "name": "stdout",
     "output_type": "stream",
     "text": [
      "Part summary appended in /home/wan/Workplace-why/Part-SAM/part_scene_results/0247/0247_part_summary.txt\n",
      "Part summary appended in /home/wan/Workplace-why/Part-SAM/part_scene_results/0036/0036_part_summary.txt\n",
      "Part summary appended in /home/wan/Workplace-why/Part-SAM/part_scene_results/0036/0036_part_summary.txt\n"
     ]
    },
    {
     "name": "stderr",
     "output_type": "stream",
     "text": [
      "  2%|▏         | 5/300 [00:41<40:49,  8.30s/it]"
     ]
    },
    {
     "name": "stdout",
     "output_type": "stream",
     "text": [
      "Part summary appended in /home/wan/Workplace-why/Part-SAM/part_scene_results/0036/0036_part_summary.txt\n",
      "Part summary appended in /home/wan/Workplace-why/Part-SAM/part_scene_results/0296/0296_part_summary.txt\n",
      "Part summary appended in /home/wan/Workplace-why/Part-SAM/part_scene_results/0296/0296_part_summary.txt\n"
     ]
    },
    {
     "name": "stderr",
     "output_type": "stream",
     "text": [
      "  2%|▏         | 6/300 [00:49<40:22,  8.24s/it]"
     ]
    },
    {
     "name": "stdout",
     "output_type": "stream",
     "text": [
      "Part summary appended in /home/wan/Workplace-why/Part-SAM/part_scene_results/0296/0296_part_summary.txt\n",
      "Part summary appended in /home/wan/Workplace-why/Part-SAM/part_scene_results/0292/0292_part_summary.txt\n",
      "Part summary appended in /home/wan/Workplace-why/Part-SAM/part_scene_results/0292/0292_part_summary.txt\n"
     ]
    },
    {
     "name": "stderr",
     "output_type": "stream",
     "text": [
      "  2%|▏         | 7/300 [00:58<40:56,  8.38s/it]"
     ]
    },
    {
     "name": "stdout",
     "output_type": "stream",
     "text": [
      "Part summary appended in /home/wan/Workplace-why/Part-SAM/part_scene_results/0292/0292_part_summary.txt\n",
      "Part summary appended in /home/wan/Workplace-why/Part-SAM/part_scene_results/0181/0181_part_summary.txt\n",
      "Part summary appended in /home/wan/Workplace-why/Part-SAM/part_scene_results/0181/0181_part_summary.txt\n"
     ]
    },
    {
     "name": "stderr",
     "output_type": "stream",
     "text": [
      "  3%|▎         | 8/300 [01:06<40:53,  8.40s/it]"
     ]
    },
    {
     "name": "stdout",
     "output_type": "stream",
     "text": [
      "Part summary appended in /home/wan/Workplace-why/Part-SAM/part_scene_results/0181/0181_part_summary.txt\n",
      "Part summary appended in /home/wan/Workplace-why/Part-SAM/part_scene_results/0224/0224_part_summary.txt\n",
      "Part summary appended in /home/wan/Workplace-why/Part-SAM/part_scene_results/0224/0224_part_summary.txt\n"
     ]
    },
    {
     "name": "stderr",
     "output_type": "stream",
     "text": [
      "  3%|▎         | 9/300 [01:14<40:04,  8.26s/it]"
     ]
    },
    {
     "name": "stdout",
     "output_type": "stream",
     "text": [
      "Part summary appended in /home/wan/Workplace-why/Part-SAM/part_scene_results/0224/0224_part_summary.txt\n",
      "Part summary appended in /home/wan/Workplace-why/Part-SAM/part_scene_results/0157/0157_part_summary.txt\n",
      "Part summary appended in /home/wan/Workplace-why/Part-SAM/part_scene_results/0157/0157_part_summary.txt\n"
     ]
    },
    {
     "name": "stderr",
     "output_type": "stream",
     "text": [
      "  3%|▎         | 10/300 [01:22<38:55,  8.06s/it]"
     ]
    },
    {
     "name": "stdout",
     "output_type": "stream",
     "text": [
      "Part summary appended in /home/wan/Workplace-why/Part-SAM/part_scene_results/0157/0157_part_summary.txt\n",
      "Part summary appended in /home/wan/Workplace-why/Part-SAM/part_scene_results/0294/0294_part_summary.txt\n",
      "Part summary appended in /home/wan/Workplace-why/Part-SAM/part_scene_results/0294/0294_part_summary.txt\n"
     ]
    },
    {
     "name": "stderr",
     "output_type": "stream",
     "text": [
      "  4%|▎         | 11/300 [01:30<38:59,  8.10s/it]"
     ]
    },
    {
     "name": "stdout",
     "output_type": "stream",
     "text": [
      "Part summary appended in /home/wan/Workplace-why/Part-SAM/part_scene_results/0294/0294_part_summary.txt\n",
      "Part summary appended in /home/wan/Workplace-why/Part-SAM/part_scene_results/0223/0223_part_summary.txt\n",
      "Part summary appended in /home/wan/Workplace-why/Part-SAM/part_scene_results/0223/0223_part_summary.txt\n"
     ]
    },
    {
     "name": "stderr",
     "output_type": "stream",
     "text": [
      "  4%|▍         | 12/300 [01:38<38:49,  8.09s/it]"
     ]
    },
    {
     "name": "stdout",
     "output_type": "stream",
     "text": [
      "Part summary appended in /home/wan/Workplace-why/Part-SAM/part_scene_results/0223/0223_part_summary.txt\n",
      "Part summary appended in /home/wan/Workplace-why/Part-SAM/part_scene_results/0268/0268_part_summary.txt\n",
      "Part summary appended in /home/wan/Workplace-why/Part-SAM/part_scene_results/0268/0268_part_summary.txt\n"
     ]
    },
    {
     "name": "stderr",
     "output_type": "stream",
     "text": [
      "  4%|▍         | 13/300 [01:46<39:06,  8.18s/it]"
     ]
    },
    {
     "name": "stdout",
     "output_type": "stream",
     "text": [
      "Part summary appended in /home/wan/Workplace-why/Part-SAM/part_scene_results/0268/0268_part_summary.txt\n",
      "Part summary appended in /home/wan/Workplace-why/Part-SAM/part_scene_results/0210/0210_part_summary.txt\n",
      "Part summary appended in /home/wan/Workplace-why/Part-SAM/part_scene_results/0210/0210_part_summary.txt\n"
     ]
    },
    {
     "name": "stderr",
     "output_type": "stream",
     "text": [
      "  5%|▍         | 14/300 [01:55<39:04,  8.20s/it]"
     ]
    },
    {
     "name": "stdout",
     "output_type": "stream",
     "text": [
      "Part summary appended in /home/wan/Workplace-why/Part-SAM/part_scene_results/0210/0210_part_summary.txt\n",
      "Part summary appended in /home/wan/Workplace-why/Part-SAM/part_scene_results/0171/0171_part_summary.txt\n",
      "Part summary appended in /home/wan/Workplace-why/Part-SAM/part_scene_results/0171/0171_part_summary.txt\n"
     ]
    },
    {
     "name": "stderr",
     "output_type": "stream",
     "text": [
      "  5%|▌         | 15/300 [02:03<38:46,  8.16s/it]"
     ]
    },
    {
     "name": "stdout",
     "output_type": "stream",
     "text": [
      "Part summary appended in /home/wan/Workplace-why/Part-SAM/part_scene_results/0171/0171_part_summary.txt\n",
      "Part summary appended in /home/wan/Workplace-why/Part-SAM/part_scene_results/0010/0010_part_summary.txt\n",
      "Part summary appended in /home/wan/Workplace-why/Part-SAM/part_scene_results/0010/0010_part_summary.txt\n"
     ]
    },
    {
     "name": "stderr",
     "output_type": "stream",
     "text": [
      "  5%|▌         | 16/300 [02:11<39:02,  8.25s/it]"
     ]
    },
    {
     "name": "stdout",
     "output_type": "stream",
     "text": [
      "Part summary appended in /home/wan/Workplace-why/Part-SAM/part_scene_results/0010/0010_part_summary.txt\n",
      "Part summary appended in /home/wan/Workplace-why/Part-SAM/part_scene_results/0005/0005_part_summary.txt\n",
      "Part summary appended in /home/wan/Workplace-why/Part-SAM/part_scene_results/0005/0005_part_summary.txt\n"
     ]
    },
    {
     "name": "stderr",
     "output_type": "stream",
     "text": [
      "  6%|▌         | 17/300 [02:19<38:36,  8.19s/it]"
     ]
    },
    {
     "name": "stdout",
     "output_type": "stream",
     "text": [
      "Part summary appended in /home/wan/Workplace-why/Part-SAM/part_scene_results/0005/0005_part_summary.txt\n",
      "Part summary appended in /home/wan/Workplace-why/Part-SAM/part_scene_results/0291/0291_part_summary.txt\n",
      "Part summary appended in /home/wan/Workplace-why/Part-SAM/part_scene_results/0291/0291_part_summary.txt\n"
     ]
    },
    {
     "name": "stderr",
     "output_type": "stream",
     "text": [
      "  6%|▌         | 18/300 [02:26<37:14,  7.92s/it]"
     ]
    },
    {
     "name": "stdout",
     "output_type": "stream",
     "text": [
      "Part summary appended in /home/wan/Workplace-why/Part-SAM/part_scene_results/0291/0291_part_summary.txt\n",
      "Part summary appended in /home/wan/Workplace-why/Part-SAM/part_scene_results/0066/0066_part_summary.txt\n",
      "Part summary appended in /home/wan/Workplace-why/Part-SAM/part_scene_results/0066/0066_part_summary.txt\n"
     ]
    },
    {
     "name": "stderr",
     "output_type": "stream",
     "text": [
      "  6%|▋         | 19/300 [02:33<35:25,  7.56s/it]"
     ]
    },
    {
     "name": "stdout",
     "output_type": "stream",
     "text": [
      "Part summary appended in /home/wan/Workplace-why/Part-SAM/part_scene_results/0066/0066_part_summary.txt\n",
      "Part summary appended in /home/wan/Workplace-why/Part-SAM/part_scene_results/0297/0297_part_summary.txt\n",
      "Part summary appended in /home/wan/Workplace-why/Part-SAM/part_scene_results/0297/0297_part_summary.txt\n"
     ]
    },
    {
     "name": "stderr",
     "output_type": "stream",
     "text": [
      "  7%|▋         | 20/300 [02:39<33:35,  7.20s/it]"
     ]
    },
    {
     "name": "stdout",
     "output_type": "stream",
     "text": [
      "Part summary appended in /home/wan/Workplace-why/Part-SAM/part_scene_results/0297/0297_part_summary.txt\n",
      "Part summary appended in /home/wan/Workplace-why/Part-SAM/part_scene_results/0076/0076_part_summary.txt\n",
      "Part summary appended in /home/wan/Workplace-why/Part-SAM/part_scene_results/0076/0076_part_summary.txt\n"
     ]
    },
    {
     "name": "stderr",
     "output_type": "stream",
     "text": [
      "  7%|▋         | 21/300 [02:45<31:45,  6.83s/it]"
     ]
    },
    {
     "name": "stdout",
     "output_type": "stream",
     "text": [
      "Part summary appended in /home/wan/Workplace-why/Part-SAM/part_scene_results/0076/0076_part_summary.txt\n",
      "Part summary appended in /home/wan/Workplace-why/Part-SAM/part_scene_results/0059/0059_part_summary.txt\n",
      "Part summary appended in /home/wan/Workplace-why/Part-SAM/part_scene_results/0059/0059_part_summary.txt\n"
     ]
    },
    {
     "name": "stderr",
     "output_type": "stream",
     "text": [
      "  7%|▋         | 22/300 [02:52<30:37,  6.61s/it]"
     ]
    },
    {
     "name": "stdout",
     "output_type": "stream",
     "text": [
      "Part summary appended in /home/wan/Workplace-why/Part-SAM/part_scene_results/0059/0059_part_summary.txt\n",
      "Part summary appended in /home/wan/Workplace-why/Part-SAM/part_scene_results/0192/0192_part_summary.txt\n",
      "Part summary appended in /home/wan/Workplace-why/Part-SAM/part_scene_results/0192/0192_part_summary.txt\n"
     ]
    },
    {
     "name": "stderr",
     "output_type": "stream",
     "text": [
      "  8%|▊         | 23/300 [02:58<29:36,  6.41s/it]"
     ]
    },
    {
     "name": "stdout",
     "output_type": "stream",
     "text": [
      "Part summary appended in /home/wan/Workplace-why/Part-SAM/part_scene_results/0192/0192_part_summary.txt\n",
      "Part summary appended in /home/wan/Workplace-why/Part-SAM/part_scene_results/0186/0186_part_summary.txt\n",
      "Part summary appended in /home/wan/Workplace-why/Part-SAM/part_scene_results/0186/0186_part_summary.txt\n"
     ]
    },
    {
     "name": "stderr",
     "output_type": "stream",
     "text": [
      "  8%|▊         | 24/300 [03:03<28:53,  6.28s/it]"
     ]
    },
    {
     "name": "stdout",
     "output_type": "stream",
     "text": [
      "Part summary appended in /home/wan/Workplace-why/Part-SAM/part_scene_results/0186/0186_part_summary.txt\n",
      "Part summary appended in /home/wan/Workplace-why/Part-SAM/part_scene_results/0168/0168_part_summary.txt\n",
      "Part summary appended in /home/wan/Workplace-why/Part-SAM/part_scene_results/0168/0168_part_summary.txt\n"
     ]
    },
    {
     "name": "stderr",
     "output_type": "stream",
     "text": [
      "  8%|▊         | 25/300 [03:10<29:32,  6.45s/it]"
     ]
    },
    {
     "name": "stdout",
     "output_type": "stream",
     "text": [
      "Part summary appended in /home/wan/Workplace-why/Part-SAM/part_scene_results/0168/0168_part_summary.txt\n",
      "Part summary appended in /home/wan/Workplace-why/Part-SAM/part_scene_results/0215/0215_part_summary.txt\n",
      "Part summary appended in /home/wan/Workplace-why/Part-SAM/part_scene_results/0215/0215_part_summary.txt\n"
     ]
    },
    {
     "name": "stderr",
     "output_type": "stream",
     "text": [
      "  9%|▊         | 26/300 [03:17<29:05,  6.37s/it]"
     ]
    },
    {
     "name": "stdout",
     "output_type": "stream",
     "text": [
      "Part summary appended in /home/wan/Workplace-why/Part-SAM/part_scene_results/0215/0215_part_summary.txt\n",
      "Part summary appended in /home/wan/Workplace-why/Part-SAM/part_scene_results/0255/0255_part_summary.txt\n",
      "Part summary appended in /home/wan/Workplace-why/Part-SAM/part_scene_results/0255/0255_part_summary.txt\n"
     ]
    },
    {
     "name": "stderr",
     "output_type": "stream",
     "text": [
      "  9%|▉         | 27/300 [03:23<28:28,  6.26s/it]"
     ]
    },
    {
     "name": "stdout",
     "output_type": "stream",
     "text": [
      "Part summary appended in /home/wan/Workplace-why/Part-SAM/part_scene_results/0255/0255_part_summary.txt\n",
      "Part summary appended in /home/wan/Workplace-why/Part-SAM/part_scene_results/0245/0245_part_summary.txt\n",
      "Part summary appended in /home/wan/Workplace-why/Part-SAM/part_scene_results/0245/0245_part_summary.txt\n"
     ]
    },
    {
     "name": "stderr",
     "output_type": "stream",
     "text": [
      "  9%|▉         | 28/300 [03:30<29:42,  6.55s/it]"
     ]
    },
    {
     "name": "stdout",
     "output_type": "stream",
     "text": [
      "Part summary appended in /home/wan/Workplace-why/Part-SAM/part_scene_results/0245/0245_part_summary.txt\n",
      "Part summary appended in /home/wan/Workplace-why/Part-SAM/part_scene_results/0206/0206_part_summary.txt\n",
      "Part summary appended in /home/wan/Workplace-why/Part-SAM/part_scene_results/0206/0206_part_summary.txt\n"
     ]
    },
    {
     "name": "stderr",
     "output_type": "stream",
     "text": [
      " 10%|▉         | 29/300 [03:37<30:03,  6.66s/it]"
     ]
    },
    {
     "name": "stdout",
     "output_type": "stream",
     "text": [
      "Part summary appended in /home/wan/Workplace-why/Part-SAM/part_scene_results/0206/0206_part_summary.txt\n",
      "Part summary appended in /home/wan/Workplace-why/Part-SAM/part_scene_results/0284/0284_part_summary.txt\n",
      "Part summary appended in /home/wan/Workplace-why/Part-SAM/part_scene_results/0284/0284_part_summary.txt\n"
     ]
    },
    {
     "name": "stderr",
     "output_type": "stream",
     "text": [
      " 10%|█         | 30/300 [03:44<30:20,  6.74s/it]"
     ]
    },
    {
     "name": "stdout",
     "output_type": "stream",
     "text": [
      "Part summary appended in /home/wan/Workplace-why/Part-SAM/part_scene_results/0284/0284_part_summary.txt\n",
      "Part summary appended in /home/wan/Workplace-why/Part-SAM/part_scene_results/0065/0065_part_summary.txt\n",
      "Part summary appended in /home/wan/Workplace-why/Part-SAM/part_scene_results/0065/0065_part_summary.txt\n"
     ]
    },
    {
     "name": "stderr",
     "output_type": "stream",
     "text": [
      " 10%|█         | 31/300 [03:50<30:23,  6.78s/it]"
     ]
    },
    {
     "name": "stdout",
     "output_type": "stream",
     "text": [
      "Part summary appended in /home/wan/Workplace-why/Part-SAM/part_scene_results/0065/0065_part_summary.txt\n",
      "Part summary appended in /home/wan/Workplace-why/Part-SAM/part_scene_results/0204/0204_part_summary.txt\n",
      "Part summary appended in /home/wan/Workplace-why/Part-SAM/part_scene_results/0204/0204_part_summary.txt\n"
     ]
    },
    {
     "name": "stderr",
     "output_type": "stream",
     "text": [
      " 11%|█         | 32/300 [03:57<30:18,  6.78s/it]"
     ]
    },
    {
     "name": "stdout",
     "output_type": "stream",
     "text": [
      "Part summary appended in /home/wan/Workplace-why/Part-SAM/part_scene_results/0204/0204_part_summary.txt\n",
      "Part summary appended in /home/wan/Workplace-why/Part-SAM/part_scene_results/0019/0019_part_summary.txt\n",
      "Part summary appended in /home/wan/Workplace-why/Part-SAM/part_scene_results/0019/0019_part_summary.txt\n"
     ]
    },
    {
     "name": "stderr",
     "output_type": "stream",
     "text": [
      " 11%|█         | 33/300 [04:04<29:45,  6.69s/it]"
     ]
    },
    {
     "name": "stdout",
     "output_type": "stream",
     "text": [
      "Part summary appended in /home/wan/Workplace-why/Part-SAM/part_scene_results/0019/0019_part_summary.txt\n",
      "Part summary appended in /home/wan/Workplace-why/Part-SAM/part_scene_results/0071/0071_part_summary.txt\n",
      "Part summary appended in /home/wan/Workplace-why/Part-SAM/part_scene_results/0071/0071_part_summary.txt\n"
     ]
    },
    {
     "name": "stderr",
     "output_type": "stream",
     "text": [
      " 11%|█▏        | 34/300 [04:10<28:29,  6.43s/it]"
     ]
    },
    {
     "name": "stdout",
     "output_type": "stream",
     "text": [
      "Part summary appended in /home/wan/Workplace-why/Part-SAM/part_scene_results/0071/0071_part_summary.txt\n",
      "Part summary appended in /home/wan/Workplace-why/Part-SAM/part_scene_results/0048/0048_part_summary.txt\n",
      "Part summary appended in /home/wan/Workplace-why/Part-SAM/part_scene_results/0048/0048_part_summary.txt\n"
     ]
    },
    {
     "name": "stderr",
     "output_type": "stream",
     "text": [
      " 12%|█▏        | 35/300 [04:16<28:02,  6.35s/it]"
     ]
    },
    {
     "name": "stdout",
     "output_type": "stream",
     "text": [
      "Part summary appended in /home/wan/Workplace-why/Part-SAM/part_scene_results/0048/0048_part_summary.txt\n",
      "Part summary appended in /home/wan/Workplace-why/Part-SAM/part_scene_results/0250/0250_part_summary.txt\n",
      "Part summary appended in /home/wan/Workplace-why/Part-SAM/part_scene_results/0250/0250_part_summary.txt\n"
     ]
    },
    {
     "name": "stderr",
     "output_type": "stream",
     "text": [
      " 12%|█▏        | 36/300 [04:22<27:27,  6.24s/it]"
     ]
    },
    {
     "name": "stdout",
     "output_type": "stream",
     "text": [
      "Part summary appended in /home/wan/Workplace-why/Part-SAM/part_scene_results/0250/0250_part_summary.txt\n",
      "Part summary appended in /home/wan/Workplace-why/Part-SAM/part_scene_results/0111/0111_part_summary.txt\n",
      "Part summary appended in /home/wan/Workplace-why/Part-SAM/part_scene_results/0111/0111_part_summary.txt\n"
     ]
    },
    {
     "name": "stderr",
     "output_type": "stream",
     "text": [
      " 12%|█▏        | 37/300 [04:28<27:10,  6.20s/it]"
     ]
    },
    {
     "name": "stdout",
     "output_type": "stream",
     "text": [
      "Part summary appended in /home/wan/Workplace-why/Part-SAM/part_scene_results/0111/0111_part_summary.txt\n",
      "Part summary appended in /home/wan/Workplace-why/Part-SAM/part_scene_results/0242/0242_part_summary.txt\n",
      "Part summary appended in /home/wan/Workplace-why/Part-SAM/part_scene_results/0242/0242_part_summary.txt\n"
     ]
    },
    {
     "name": "stderr",
     "output_type": "stream",
     "text": [
      " 13%|█▎        | 38/300 [04:34<26:41,  6.11s/it]"
     ]
    },
    {
     "name": "stdout",
     "output_type": "stream",
     "text": [
      "Part summary appended in /home/wan/Workplace-why/Part-SAM/part_scene_results/0242/0242_part_summary.txt\n",
      "Part summary appended in /home/wan/Workplace-why/Part-SAM/part_scene_results/0044/0044_part_summary.txt\n",
      "Part summary appended in /home/wan/Workplace-why/Part-SAM/part_scene_results/0044/0044_part_summary.txt\n"
     ]
    },
    {
     "name": "stderr",
     "output_type": "stream",
     "text": [
      " 13%|█▎        | 39/300 [04:40<26:48,  6.16s/it]"
     ]
    },
    {
     "name": "stdout",
     "output_type": "stream",
     "text": [
      "Part summary appended in /home/wan/Workplace-why/Part-SAM/part_scene_results/0044/0044_part_summary.txt\n",
      "Part summary appended in /home/wan/Workplace-why/Part-SAM/part_scene_results/0193/0193_part_summary.txt\n",
      "Part summary appended in /home/wan/Workplace-why/Part-SAM/part_scene_results/0193/0193_part_summary.txt\n"
     ]
    },
    {
     "name": "stderr",
     "output_type": "stream",
     "text": [
      " 13%|█▎        | 40/300 [04:46<27:03,  6.24s/it]"
     ]
    },
    {
     "name": "stdout",
     "output_type": "stream",
     "text": [
      "Part summary appended in /home/wan/Workplace-why/Part-SAM/part_scene_results/0193/0193_part_summary.txt\n",
      "Part summary appended in /home/wan/Workplace-why/Part-SAM/part_scene_results/0182/0182_part_summary.txt\n",
      "Part summary appended in /home/wan/Workplace-why/Part-SAM/part_scene_results/0182/0182_part_summary.txt\n"
     ]
    },
    {
     "name": "stderr",
     "output_type": "stream",
     "text": [
      " 14%|█▎        | 41/300 [04:53<27:15,  6.31s/it]"
     ]
    },
    {
     "name": "stdout",
     "output_type": "stream",
     "text": [
      "Part summary appended in /home/wan/Workplace-why/Part-SAM/part_scene_results/0182/0182_part_summary.txt\n",
      "Part summary appended in /home/wan/Workplace-why/Part-SAM/part_scene_results/0078/0078_part_summary.txt\n",
      "Part summary appended in /home/wan/Workplace-why/Part-SAM/part_scene_results/0078/0078_part_summary.txt\n"
     ]
    },
    {
     "name": "stderr",
     "output_type": "stream",
     "text": [
      " 14%|█▍        | 42/300 [04:59<26:43,  6.22s/it]"
     ]
    },
    {
     "name": "stdout",
     "output_type": "stream",
     "text": [
      "Part summary appended in /home/wan/Workplace-why/Part-SAM/part_scene_results/0078/0078_part_summary.txt\n",
      "Part summary appended in /home/wan/Workplace-why/Part-SAM/part_scene_results/0056/0056_part_summary.txt\n",
      "Part summary appended in /home/wan/Workplace-why/Part-SAM/part_scene_results/0056/0056_part_summary.txt\n"
     ]
    },
    {
     "name": "stderr",
     "output_type": "stream",
     "text": [
      " 14%|█▍        | 43/300 [05:05<26:34,  6.21s/it]"
     ]
    },
    {
     "name": "stdout",
     "output_type": "stream",
     "text": [
      "Part summary appended in /home/wan/Workplace-why/Part-SAM/part_scene_results/0056/0056_part_summary.txt\n",
      "Part summary appended in /home/wan/Workplace-why/Part-SAM/part_scene_results/0239/0239_part_summary.txt\n",
      "Part summary appended in /home/wan/Workplace-why/Part-SAM/part_scene_results/0239/0239_part_summary.txt\n"
     ]
    },
    {
     "name": "stderr",
     "output_type": "stream",
     "text": [
      " 15%|█▍        | 44/300 [05:11<26:19,  6.17s/it]"
     ]
    },
    {
     "name": "stdout",
     "output_type": "stream",
     "text": [
      "Part summary appended in /home/wan/Workplace-why/Part-SAM/part_scene_results/0239/0239_part_summary.txt\n",
      "Part summary appended in /home/wan/Workplace-why/Part-SAM/part_scene_results/0094/0094_part_summary.txt\n",
      "Part summary appended in /home/wan/Workplace-why/Part-SAM/part_scene_results/0094/0094_part_summary.txt\n"
     ]
    },
    {
     "name": "stderr",
     "output_type": "stream",
     "text": [
      " 15%|█▌        | 45/300 [05:18<26:51,  6.32s/it]"
     ]
    },
    {
     "name": "stdout",
     "output_type": "stream",
     "text": [
      "Part summary appended in /home/wan/Workplace-why/Part-SAM/part_scene_results/0094/0094_part_summary.txt\n",
      "Part summary appended in /home/wan/Workplace-why/Part-SAM/part_scene_results/0295/0295_part_summary.txt\n",
      "Part summary appended in /home/wan/Workplace-why/Part-SAM/part_scene_results/0295/0295_part_summary.txt\n"
     ]
    },
    {
     "name": "stderr",
     "output_type": "stream",
     "text": [
      " 15%|█▌        | 46/300 [05:24<26:23,  6.23s/it]"
     ]
    },
    {
     "name": "stdout",
     "output_type": "stream",
     "text": [
      "Part summary appended in /home/wan/Workplace-why/Part-SAM/part_scene_results/0295/0295_part_summary.txt\n",
      "Part summary appended in /home/wan/Workplace-why/Part-SAM/part_scene_results/0042/0042_part_summary.txt\n",
      "Part summary appended in /home/wan/Workplace-why/Part-SAM/part_scene_results/0042/0042_part_summary.txt\n"
     ]
    },
    {
     "name": "stderr",
     "output_type": "stream",
     "text": [
      " 16%|█▌        | 47/300 [05:30<26:45,  6.35s/it]"
     ]
    },
    {
     "name": "stdout",
     "output_type": "stream",
     "text": [
      "Part summary appended in /home/wan/Workplace-why/Part-SAM/part_scene_results/0042/0042_part_summary.txt\n",
      "Part summary appended in /home/wan/Workplace-why/Part-SAM/part_scene_results/0184/0184_part_summary.txt\n",
      "Part summary appended in /home/wan/Workplace-why/Part-SAM/part_scene_results/0184/0184_part_summary.txt\n"
     ]
    },
    {
     "name": "stderr",
     "output_type": "stream",
     "text": [
      " 16%|█▌        | 48/300 [05:37<26:32,  6.32s/it]"
     ]
    },
    {
     "name": "stdout",
     "output_type": "stream",
     "text": [
      "Part summary appended in /home/wan/Workplace-why/Part-SAM/part_scene_results/0184/0184_part_summary.txt\n",
      "Part summary appended in /home/wan/Workplace-why/Part-SAM/part_scene_results/0229/0229_part_summary.txt\n",
      "Part summary appended in /home/wan/Workplace-why/Part-SAM/part_scene_results/0229/0229_part_summary.txt\n"
     ]
    },
    {
     "name": "stderr",
     "output_type": "stream",
     "text": [
      " 16%|█▋        | 49/300 [05:43<26:14,  6.27s/it]"
     ]
    },
    {
     "name": "stdout",
     "output_type": "stream",
     "text": [
      "Part summary appended in /home/wan/Workplace-why/Part-SAM/part_scene_results/0229/0229_part_summary.txt\n",
      "Part summary appended in /home/wan/Workplace-why/Part-SAM/part_scene_results/0238/0238_part_summary.txt\n",
      "Part summary appended in /home/wan/Workplace-why/Part-SAM/part_scene_results/0238/0238_part_summary.txt\n"
     ]
    },
    {
     "name": "stderr",
     "output_type": "stream",
     "text": [
      " 17%|█▋        | 50/300 [05:49<26:16,  6.30s/it]"
     ]
    },
    {
     "name": "stdout",
     "output_type": "stream",
     "text": [
      "Part summary appended in /home/wan/Workplace-why/Part-SAM/part_scene_results/0238/0238_part_summary.txt\n",
      "Part summary appended in /home/wan/Workplace-why/Part-SAM/part_scene_results/0063/0063_part_summary.txt\n",
      "Part summary appended in /home/wan/Workplace-why/Part-SAM/part_scene_results/0063/0063_part_summary.txt\n"
     ]
    },
    {
     "name": "stderr",
     "output_type": "stream",
     "text": [
      " 17%|█▋        | 51/300 [05:55<25:59,  6.26s/it]"
     ]
    },
    {
     "name": "stdout",
     "output_type": "stream",
     "text": [
      "Part summary appended in /home/wan/Workplace-why/Part-SAM/part_scene_results/0063/0063_part_summary.txt\n",
      "Part summary appended in /home/wan/Workplace-why/Part-SAM/part_scene_results/0051/0051_part_summary.txt\n",
      "Part summary appended in /home/wan/Workplace-why/Part-SAM/part_scene_results/0051/0051_part_summary.txt\n"
     ]
    },
    {
     "name": "stderr",
     "output_type": "stream",
     "text": [
      " 17%|█▋        | 52/300 [06:01<25:21,  6.14s/it]"
     ]
    },
    {
     "name": "stdout",
     "output_type": "stream",
     "text": [
      "Part summary appended in /home/wan/Workplace-why/Part-SAM/part_scene_results/0051/0051_part_summary.txt\n",
      "Part summary appended in /home/wan/Workplace-why/Part-SAM/part_scene_results/0228/0228_part_summary.txt\n",
      "Part summary appended in /home/wan/Workplace-why/Part-SAM/part_scene_results/0228/0228_part_summary.txt\n"
     ]
    },
    {
     "name": "stderr",
     "output_type": "stream",
     "text": [
      " 18%|█▊        | 53/300 [06:08<25:25,  6.17s/it]"
     ]
    },
    {
     "name": "stdout",
     "output_type": "stream",
     "text": [
      "Part summary appended in /home/wan/Workplace-why/Part-SAM/part_scene_results/0228/0228_part_summary.txt\n",
      "Part summary appended in /home/wan/Workplace-why/Part-SAM/part_scene_results/0275/0275_part_summary.txt\n",
      "Part summary appended in /home/wan/Workplace-why/Part-SAM/part_scene_results/0275/0275_part_summary.txt\n"
     ]
    },
    {
     "name": "stderr",
     "output_type": "stream",
     "text": [
      " 18%|█▊        | 54/300 [06:14<25:49,  6.30s/it]"
     ]
    },
    {
     "name": "stdout",
     "output_type": "stream",
     "text": [
      "Part summary appended in /home/wan/Workplace-why/Part-SAM/part_scene_results/0275/0275_part_summary.txt\n",
      "Part summary appended in /home/wan/Workplace-why/Part-SAM/part_scene_results/0041/0041_part_summary.txt\n",
      "Part summary appended in /home/wan/Workplace-why/Part-SAM/part_scene_results/0041/0041_part_summary.txt\n"
     ]
    },
    {
     "name": "stderr",
     "output_type": "stream",
     "text": [
      " 18%|█▊        | 55/300 [06:20<25:30,  6.25s/it]"
     ]
    },
    {
     "name": "stdout",
     "output_type": "stream",
     "text": [
      "Part summary appended in /home/wan/Workplace-why/Part-SAM/part_scene_results/0041/0041_part_summary.txt\n",
      "Part summary appended in /home/wan/Workplace-why/Part-SAM/part_scene_results/0022/0022_part_summary.txt\n",
      "Part summary appended in /home/wan/Workplace-why/Part-SAM/part_scene_results/0022/0022_part_summary.txt\n"
     ]
    },
    {
     "name": "stderr",
     "output_type": "stream",
     "text": [
      " 19%|█▊        | 56/300 [06:27<25:43,  6.33s/it]"
     ]
    },
    {
     "name": "stdout",
     "output_type": "stream",
     "text": [
      "Part summary appended in /home/wan/Workplace-why/Part-SAM/part_scene_results/0022/0022_part_summary.txt\n",
      "Part summary appended in /home/wan/Workplace-why/Part-SAM/part_scene_results/0199/0199_part_summary.txt\n",
      "Part summary appended in /home/wan/Workplace-why/Part-SAM/part_scene_results/0199/0199_part_summary.txt\n"
     ]
    },
    {
     "name": "stderr",
     "output_type": "stream",
     "text": [
      " 19%|█▉        | 57/300 [06:33<25:49,  6.38s/it]"
     ]
    },
    {
     "name": "stdout",
     "output_type": "stream",
     "text": [
      "Part summary appended in /home/wan/Workplace-why/Part-SAM/part_scene_results/0199/0199_part_summary.txt\n",
      "Part summary appended in /home/wan/Workplace-why/Part-SAM/part_scene_results/0271/0271_part_summary.txt\n",
      "Part summary appended in /home/wan/Workplace-why/Part-SAM/part_scene_results/0271/0271_part_summary.txt\n"
     ]
    },
    {
     "name": "stderr",
     "output_type": "stream",
     "text": [
      " 19%|█▉        | 58/300 [06:40<26:21,  6.54s/it]"
     ]
    },
    {
     "name": "stdout",
     "output_type": "stream",
     "text": [
      "Part summary appended in /home/wan/Workplace-why/Part-SAM/part_scene_results/0271/0271_part_summary.txt\n",
      "Part summary appended in /home/wan/Workplace-why/Part-SAM/part_scene_results/0152/0152_part_summary.txt\n",
      "Part summary appended in /home/wan/Workplace-why/Part-SAM/part_scene_results/0152/0152_part_summary.txt\n"
     ]
    },
    {
     "name": "stderr",
     "output_type": "stream",
     "text": [
      " 20%|█▉        | 59/300 [06:46<25:42,  6.40s/it]"
     ]
    },
    {
     "name": "stdout",
     "output_type": "stream",
     "text": [
      "Part summary appended in /home/wan/Workplace-why/Part-SAM/part_scene_results/0152/0152_part_summary.txt\n",
      "Part summary appended in /home/wan/Workplace-why/Part-SAM/part_scene_results/0113/0113_part_summary.txt\n",
      "Part summary appended in /home/wan/Workplace-why/Part-SAM/part_scene_results/0113/0113_part_summary.txt\n"
     ]
    },
    {
     "name": "stderr",
     "output_type": "stream",
     "text": [
      " 20%|██        | 60/300 [06:53<25:41,  6.42s/it]"
     ]
    },
    {
     "name": "stdout",
     "output_type": "stream",
     "text": [
      "Part summary appended in /home/wan/Workplace-why/Part-SAM/part_scene_results/0113/0113_part_summary.txt\n",
      "Part summary appended in /home/wan/Workplace-why/Part-SAM/part_scene_results/0014/0014_part_summary.txt\n",
      "Part summary appended in /home/wan/Workplace-why/Part-SAM/part_scene_results/0014/0014_part_summary.txt\n"
     ]
    },
    {
     "name": "stderr",
     "output_type": "stream",
     "text": [
      " 20%|██        | 61/300 [06:59<25:07,  6.31s/it]"
     ]
    },
    {
     "name": "stdout",
     "output_type": "stream",
     "text": [
      "Part summary appended in /home/wan/Workplace-why/Part-SAM/part_scene_results/0014/0014_part_summary.txt\n",
      "Part summary appended in /home/wan/Workplace-why/Part-SAM/part_scene_results/0054/0054_part_summary.txt\n",
      "Part summary appended in /home/wan/Workplace-why/Part-SAM/part_scene_results/0054/0054_part_summary.txt\n"
     ]
    },
    {
     "name": "stderr",
     "output_type": "stream",
     "text": [
      " 21%|██        | 62/300 [07:05<24:58,  6.29s/it]"
     ]
    },
    {
     "name": "stdout",
     "output_type": "stream",
     "text": [
      "Part summary appended in /home/wan/Workplace-why/Part-SAM/part_scene_results/0054/0054_part_summary.txt\n",
      "Part summary appended in /home/wan/Workplace-why/Part-SAM/part_scene_results/0052/0052_part_summary.txt\n",
      "Part summary appended in /home/wan/Workplace-why/Part-SAM/part_scene_results/0052/0052_part_summary.txt\n"
     ]
    },
    {
     "name": "stderr",
     "output_type": "stream",
     "text": [
      " 21%|██        | 63/300 [07:12<25:07,  6.36s/it]"
     ]
    },
    {
     "name": "stdout",
     "output_type": "stream",
     "text": [
      "Part summary appended in /home/wan/Workplace-why/Part-SAM/part_scene_results/0052/0052_part_summary.txt\n",
      "Part summary appended in /home/wan/Workplace-why/Part-SAM/part_scene_results/0064/0064_part_summary.txt\n",
      "Part summary appended in /home/wan/Workplace-why/Part-SAM/part_scene_results/0064/0064_part_summary.txt\n"
     ]
    },
    {
     "name": "stderr",
     "output_type": "stream",
     "text": [
      " 21%|██▏       | 64/300 [07:17<24:29,  6.23s/it]"
     ]
    },
    {
     "name": "stdout",
     "output_type": "stream",
     "text": [
      "Part summary appended in /home/wan/Workplace-why/Part-SAM/part_scene_results/0064/0064_part_summary.txt\n",
      "Part summary appended in /home/wan/Workplace-why/Part-SAM/part_scene_results/0053/0053_part_summary.txt\n",
      "Part summary appended in /home/wan/Workplace-why/Part-SAM/part_scene_results/0053/0053_part_summary.txt\n"
     ]
    },
    {
     "name": "stderr",
     "output_type": "stream",
     "text": [
      " 22%|██▏       | 65/300 [07:23<23:58,  6.12s/it]"
     ]
    },
    {
     "name": "stdout",
     "output_type": "stream",
     "text": [
      "Part summary appended in /home/wan/Workplace-why/Part-SAM/part_scene_results/0053/0053_part_summary.txt\n",
      "Part summary appended in /home/wan/Workplace-why/Part-SAM/part_scene_results/0082/0082_part_summary.txt\n",
      "Part summary appended in /home/wan/Workplace-why/Part-SAM/part_scene_results/0082/0082_part_summary.txt\n"
     ]
    },
    {
     "name": "stderr",
     "output_type": "stream",
     "text": [
      " 22%|██▏       | 66/300 [07:30<24:26,  6.27s/it]"
     ]
    },
    {
     "name": "stdout",
     "output_type": "stream",
     "text": [
      "Part summary appended in /home/wan/Workplace-why/Part-SAM/part_scene_results/0082/0082_part_summary.txt\n",
      "Part summary appended in /home/wan/Workplace-why/Part-SAM/part_scene_results/0240/0240_part_summary.txt\n",
      "Part summary appended in /home/wan/Workplace-why/Part-SAM/part_scene_results/0240/0240_part_summary.txt\n"
     ]
    },
    {
     "name": "stderr",
     "output_type": "stream",
     "text": [
      " 22%|██▏       | 67/300 [07:36<24:40,  6.36s/it]"
     ]
    },
    {
     "name": "stdout",
     "output_type": "stream",
     "text": [
      "Part summary appended in /home/wan/Workplace-why/Part-SAM/part_scene_results/0240/0240_part_summary.txt\n",
      "Part summary appended in /home/wan/Workplace-why/Part-SAM/part_scene_results/0176/0176_part_summary.txt\n",
      "Part summary appended in /home/wan/Workplace-why/Part-SAM/part_scene_results/0176/0176_part_summary.txt\n"
     ]
    },
    {
     "name": "stderr",
     "output_type": "stream",
     "text": [
      " 23%|██▎       | 68/300 [07:44<25:25,  6.58s/it]"
     ]
    },
    {
     "name": "stdout",
     "output_type": "stream",
     "text": [
      "Part summary appended in /home/wan/Workplace-why/Part-SAM/part_scene_results/0176/0176_part_summary.txt\n",
      "Part summary appended in /home/wan/Workplace-why/Part-SAM/part_scene_results/0097/0097_part_summary.txt\n",
      "Part summary appended in /home/wan/Workplace-why/Part-SAM/part_scene_results/0097/0097_part_summary.txt\n"
     ]
    },
    {
     "name": "stderr",
     "output_type": "stream",
     "text": [
      " 23%|██▎       | 69/300 [07:50<25:27,  6.61s/it]"
     ]
    },
    {
     "name": "stdout",
     "output_type": "stream",
     "text": [
      "Part summary appended in /home/wan/Workplace-why/Part-SAM/part_scene_results/0097/0097_part_summary.txt\n",
      "Part summary appended in /home/wan/Workplace-why/Part-SAM/part_scene_results/0069/0069_part_summary.txt\n",
      "Part summary appended in /home/wan/Workplace-why/Part-SAM/part_scene_results/0069/0069_part_summary.txt\n"
     ]
    },
    {
     "name": "stderr",
     "output_type": "stream",
     "text": [
      " 23%|██▎       | 70/300 [07:57<25:25,  6.63s/it]"
     ]
    },
    {
     "name": "stdout",
     "output_type": "stream",
     "text": [
      "Part summary appended in /home/wan/Workplace-why/Part-SAM/part_scene_results/0069/0069_part_summary.txt\n",
      "Part summary appended in /home/wan/Workplace-why/Part-SAM/part_scene_results/0191/0191_part_summary.txt\n",
      "Part summary appended in /home/wan/Workplace-why/Part-SAM/part_scene_results/0191/0191_part_summary.txt\n"
     ]
    },
    {
     "name": "stderr",
     "output_type": "stream",
     "text": [
      " 24%|██▎       | 71/300 [08:04<25:54,  6.79s/it]"
     ]
    },
    {
     "name": "stdout",
     "output_type": "stream",
     "text": [
      "Part summary appended in /home/wan/Workplace-why/Part-SAM/part_scene_results/0191/0191_part_summary.txt\n",
      "Part summary appended in /home/wan/Workplace-why/Part-SAM/part_scene_results/0159/0159_part_summary.txt\n",
      "Part summary appended in /home/wan/Workplace-why/Part-SAM/part_scene_results/0159/0159_part_summary.txt\n"
     ]
    },
    {
     "name": "stderr",
     "output_type": "stream",
     "text": [
      " 24%|██▍       | 72/300 [08:11<25:34,  6.73s/it]"
     ]
    },
    {
     "name": "stdout",
     "output_type": "stream",
     "text": [
      "Part summary appended in /home/wan/Workplace-why/Part-SAM/part_scene_results/0159/0159_part_summary.txt\n",
      "Part summary appended in /home/wan/Workplace-why/Part-SAM/part_scene_results/0232/0232_part_summary.txt\n",
      "Part summary appended in /home/wan/Workplace-why/Part-SAM/part_scene_results/0232/0232_part_summary.txt\n"
     ]
    },
    {
     "name": "stderr",
     "output_type": "stream",
     "text": [
      " 24%|██▍       | 73/300 [08:17<25:25,  6.72s/it]"
     ]
    },
    {
     "name": "stdout",
     "output_type": "stream",
     "text": [
      "Part summary appended in /home/wan/Workplace-why/Part-SAM/part_scene_results/0232/0232_part_summary.txt\n",
      "Part summary appended in /home/wan/Workplace-why/Part-SAM/part_scene_results/0150/0150_part_summary.txt\n",
      "Part summary appended in /home/wan/Workplace-why/Part-SAM/part_scene_results/0150/0150_part_summary.txt\n"
     ]
    },
    {
     "name": "stderr",
     "output_type": "stream",
     "text": [
      " 25%|██▍       | 74/300 [08:24<25:05,  6.66s/it]"
     ]
    },
    {
     "name": "stdout",
     "output_type": "stream",
     "text": [
      "Part summary appended in /home/wan/Workplace-why/Part-SAM/part_scene_results/0150/0150_part_summary.txt\n",
      "Part summary appended in /home/wan/Workplace-why/Part-SAM/part_scene_results/0104/0104_part_summary.txt\n",
      "Part summary appended in /home/wan/Workplace-why/Part-SAM/part_scene_results/0104/0104_part_summary.txt\n"
     ]
    },
    {
     "name": "stderr",
     "output_type": "stream",
     "text": [
      " 25%|██▌       | 75/300 [08:31<24:59,  6.67s/it]"
     ]
    },
    {
     "name": "stdout",
     "output_type": "stream",
     "text": [
      "Part summary appended in /home/wan/Workplace-why/Part-SAM/part_scene_results/0104/0104_part_summary.txt\n",
      "Part summary appended in /home/wan/Workplace-why/Part-SAM/part_scene_results/0083/0083_part_summary.txt\n",
      "Part summary appended in /home/wan/Workplace-why/Part-SAM/part_scene_results/0083/0083_part_summary.txt\n"
     ]
    },
    {
     "name": "stderr",
     "output_type": "stream",
     "text": [
      " 25%|██▌       | 76/300 [08:38<25:24,  6.80s/it]"
     ]
    },
    {
     "name": "stdout",
     "output_type": "stream",
     "text": [
      "Part summary appended in /home/wan/Workplace-why/Part-SAM/part_scene_results/0083/0083_part_summary.txt\n",
      "Part summary appended in /home/wan/Workplace-why/Part-SAM/part_scene_results/0246/0246_part_summary.txt\n",
      "Part summary appended in /home/wan/Workplace-why/Part-SAM/part_scene_results/0246/0246_part_summary.txt\n"
     ]
    },
    {
     "name": "stderr",
     "output_type": "stream",
     "text": [
      " 26%|██▌       | 77/300 [08:45<25:29,  6.86s/it]"
     ]
    },
    {
     "name": "stdout",
     "output_type": "stream",
     "text": [
      "Part summary appended in /home/wan/Workplace-why/Part-SAM/part_scene_results/0246/0246_part_summary.txt\n",
      "Part summary appended in /home/wan/Workplace-why/Part-SAM/part_scene_results/0025/0025_part_summary.txt\n",
      "Part summary appended in /home/wan/Workplace-why/Part-SAM/part_scene_results/0025/0025_part_summary.txt\n"
     ]
    },
    {
     "name": "stderr",
     "output_type": "stream",
     "text": [
      " 26%|██▌       | 78/300 [08:52<25:44,  6.96s/it]"
     ]
    },
    {
     "name": "stdout",
     "output_type": "stream",
     "text": [
      "Part summary appended in /home/wan/Workplace-why/Part-SAM/part_scene_results/0025/0025_part_summary.txt\n",
      "Part summary appended in /home/wan/Workplace-why/Part-SAM/part_scene_results/0230/0230_part_summary.txt\n",
      "Part summary appended in /home/wan/Workplace-why/Part-SAM/part_scene_results/0230/0230_part_summary.txt\n"
     ]
    },
    {
     "name": "stderr",
     "output_type": "stream",
     "text": [
      " 26%|██▋       | 79/300 [08:59<25:25,  6.90s/it]"
     ]
    },
    {
     "name": "stdout",
     "output_type": "stream",
     "text": [
      "Part summary appended in /home/wan/Workplace-why/Part-SAM/part_scene_results/0230/0230_part_summary.txt\n",
      "Part summary appended in /home/wan/Workplace-why/Part-SAM/part_scene_results/0248/0248_part_summary.txt\n",
      "Part summary appended in /home/wan/Workplace-why/Part-SAM/part_scene_results/0248/0248_part_summary.txt\n"
     ]
    },
    {
     "name": "stderr",
     "output_type": "stream",
     "text": [
      " 27%|██▋       | 80/300 [09:05<24:51,  6.78s/it]"
     ]
    },
    {
     "name": "stdout",
     "output_type": "stream",
     "text": [
      "Part summary appended in /home/wan/Workplace-why/Part-SAM/part_scene_results/0248/0248_part_summary.txt\n",
      "Part summary appended in /home/wan/Workplace-why/Part-SAM/part_scene_results/0024/0024_part_summary.txt\n",
      "Part summary appended in /home/wan/Workplace-why/Part-SAM/part_scene_results/0024/0024_part_summary.txt\n"
     ]
    },
    {
     "name": "stderr",
     "output_type": "stream",
     "text": [
      " 27%|██▋       | 81/300 [09:12<24:57,  6.84s/it]"
     ]
    },
    {
     "name": "stdout",
     "output_type": "stream",
     "text": [
      "Part summary appended in /home/wan/Workplace-why/Part-SAM/part_scene_results/0024/0024_part_summary.txt\n",
      "Part summary appended in /home/wan/Workplace-why/Part-SAM/part_scene_results/0143/0143_part_summary.txt\n",
      "Part summary appended in /home/wan/Workplace-why/Part-SAM/part_scene_results/0143/0143_part_summary.txt\n"
     ]
    },
    {
     "name": "stderr",
     "output_type": "stream",
     "text": [
      " 27%|██▋       | 82/300 [09:19<24:31,  6.75s/it]"
     ]
    },
    {
     "name": "stdout",
     "output_type": "stream",
     "text": [
      "Part summary appended in /home/wan/Workplace-why/Part-SAM/part_scene_results/0143/0143_part_summary.txt\n",
      "Part summary appended in /home/wan/Workplace-why/Part-SAM/part_scene_results/0149/0149_part_summary.txt\n",
      "Part summary appended in /home/wan/Workplace-why/Part-SAM/part_scene_results/0149/0149_part_summary.txt\n"
     ]
    },
    {
     "name": "stderr",
     "output_type": "stream",
     "text": [
      " 28%|██▊       | 83/300 [09:26<24:40,  6.82s/it]"
     ]
    },
    {
     "name": "stdout",
     "output_type": "stream",
     "text": [
      "Part summary appended in /home/wan/Workplace-why/Part-SAM/part_scene_results/0149/0149_part_summary.txt\n",
      "Part summary appended in /home/wan/Workplace-why/Part-SAM/part_scene_results/0231/0231_part_summary.txt\n",
      "Part summary appended in /home/wan/Workplace-why/Part-SAM/part_scene_results/0231/0231_part_summary.txt\n"
     ]
    },
    {
     "name": "stderr",
     "output_type": "stream",
     "text": [
      " 28%|██▊       | 84/300 [09:32<24:28,  6.80s/it]"
     ]
    },
    {
     "name": "stdout",
     "output_type": "stream",
     "text": [
      "Part summary appended in /home/wan/Workplace-why/Part-SAM/part_scene_results/0231/0231_part_summary.txt\n",
      "Part summary appended in /home/wan/Workplace-why/Part-SAM/part_scene_results/0220/0220_part_summary.txt\n",
      "Part summary appended in /home/wan/Workplace-why/Part-SAM/part_scene_results/0220/0220_part_summary.txt\n"
     ]
    },
    {
     "name": "stderr",
     "output_type": "stream",
     "text": [
      " 28%|██▊       | 85/300 [09:39<24:23,  6.81s/it]"
     ]
    },
    {
     "name": "stdout",
     "output_type": "stream",
     "text": [
      "Part summary appended in /home/wan/Workplace-why/Part-SAM/part_scene_results/0220/0220_part_summary.txt\n",
      "Part summary appended in /home/wan/Workplace-why/Part-SAM/part_scene_results/0103/0103_part_summary.txt\n",
      "Part summary appended in /home/wan/Workplace-why/Part-SAM/part_scene_results/0103/0103_part_summary.txt\n"
     ]
    },
    {
     "name": "stderr",
     "output_type": "stream",
     "text": [
      " 29%|██▊       | 86/300 [09:47<24:52,  6.98s/it]"
     ]
    },
    {
     "name": "stdout",
     "output_type": "stream",
     "text": [
      "Part summary appended in /home/wan/Workplace-why/Part-SAM/part_scene_results/0103/0103_part_summary.txt\n",
      "Part summary appended in /home/wan/Workplace-why/Part-SAM/part_scene_results/0233/0233_part_summary.txt\n",
      "Part summary appended in /home/wan/Workplace-why/Part-SAM/part_scene_results/0233/0233_part_summary.txt\n"
     ]
    },
    {
     "name": "stderr",
     "output_type": "stream",
     "text": [
      " 29%|██▉       | 87/300 [09:54<24:43,  6.96s/it]"
     ]
    },
    {
     "name": "stdout",
     "output_type": "stream",
     "text": [
      "Part summary appended in /home/wan/Workplace-why/Part-SAM/part_scene_results/0233/0233_part_summary.txt\n",
      "Part summary appended in /home/wan/Workplace-why/Part-SAM/part_scene_results/0283/0283_part_summary.txt\n",
      "Part summary appended in /home/wan/Workplace-why/Part-SAM/part_scene_results/0283/0283_part_summary.txt\n"
     ]
    },
    {
     "name": "stderr",
     "output_type": "stream",
     "text": [
      " 29%|██▉       | 88/300 [10:00<24:27,  6.92s/it]"
     ]
    },
    {
     "name": "stdout",
     "output_type": "stream",
     "text": [
      "Part summary appended in /home/wan/Workplace-why/Part-SAM/part_scene_results/0283/0283_part_summary.txt\n",
      "Part summary appended in /home/wan/Workplace-why/Part-SAM/part_scene_results/0267/0267_part_summary.txt\n",
      "Part summary appended in /home/wan/Workplace-why/Part-SAM/part_scene_results/0267/0267_part_summary.txt\n"
     ]
    },
    {
     "name": "stderr",
     "output_type": "stream",
     "text": [
      " 30%|██▉       | 89/300 [10:07<23:54,  6.80s/it]"
     ]
    },
    {
     "name": "stdout",
     "output_type": "stream",
     "text": [
      "Part summary appended in /home/wan/Workplace-why/Part-SAM/part_scene_results/0267/0267_part_summary.txt\n",
      "Part summary appended in /home/wan/Workplace-why/Part-SAM/part_scene_results/0288/0288_part_summary.txt\n",
      "Part summary appended in /home/wan/Workplace-why/Part-SAM/part_scene_results/0288/0288_part_summary.txt\n"
     ]
    },
    {
     "name": "stderr",
     "output_type": "stream",
     "text": [
      " 30%|███       | 90/300 [10:14<23:37,  6.75s/it]"
     ]
    },
    {
     "name": "stdout",
     "output_type": "stream",
     "text": [
      "Part summary appended in /home/wan/Workplace-why/Part-SAM/part_scene_results/0288/0288_part_summary.txt\n",
      "Part summary appended in /home/wan/Workplace-why/Part-SAM/part_scene_results/0045/0045_part_summary.txt\n",
      "Part summary appended in /home/wan/Workplace-why/Part-SAM/part_scene_results/0045/0045_part_summary.txt\n"
     ]
    },
    {
     "name": "stderr",
     "output_type": "stream",
     "text": [
      " 30%|███       | 91/300 [10:20<22:50,  6.56s/it]"
     ]
    },
    {
     "name": "stdout",
     "output_type": "stream",
     "text": [
      "Part summary appended in /home/wan/Workplace-why/Part-SAM/part_scene_results/0045/0045_part_summary.txt\n",
      "Part summary appended in /home/wan/Workplace-why/Part-SAM/part_scene_results/0100/0100_part_summary.txt\n",
      "Part summary appended in /home/wan/Workplace-why/Part-SAM/part_scene_results/0100/0100_part_summary.txt\n"
     ]
    },
    {
     "name": "stderr",
     "output_type": "stream",
     "text": [
      " 31%|███       | 92/300 [10:26<22:06,  6.38s/it]"
     ]
    },
    {
     "name": "stdout",
     "output_type": "stream",
     "text": [
      "Part summary appended in /home/wan/Workplace-why/Part-SAM/part_scene_results/0100/0100_part_summary.txt\n",
      "Part summary appended in /home/wan/Workplace-why/Part-SAM/part_scene_results/0004/0004_part_summary.txt\n",
      "Part summary appended in /home/wan/Workplace-why/Part-SAM/part_scene_results/0004/0004_part_summary.txt\n"
     ]
    },
    {
     "name": "stderr",
     "output_type": "stream",
     "text": [
      " 31%|███       | 93/300 [10:32<22:14,  6.45s/it]"
     ]
    },
    {
     "name": "stdout",
     "output_type": "stream",
     "text": [
      "Part summary appended in /home/wan/Workplace-why/Part-SAM/part_scene_results/0004/0004_part_summary.txt\n",
      "Part summary appended in /home/wan/Workplace-why/Part-SAM/part_scene_results/0135/0135_part_summary.txt\n",
      "Part summary appended in /home/wan/Workplace-why/Part-SAM/part_scene_results/0135/0135_part_summary.txt\n"
     ]
    },
    {
     "name": "stderr",
     "output_type": "stream",
     "text": [
      " 31%|███▏      | 94/300 [10:38<21:45,  6.34s/it]"
     ]
    },
    {
     "name": "stdout",
     "output_type": "stream",
     "text": [
      "Part summary appended in /home/wan/Workplace-why/Part-SAM/part_scene_results/0135/0135_part_summary.txt\n",
      "Part summary appended in /home/wan/Workplace-why/Part-SAM/part_scene_results/0209/0209_part_summary.txt\n",
      "Part summary appended in /home/wan/Workplace-why/Part-SAM/part_scene_results/0209/0209_part_summary.txt\n"
     ]
    },
    {
     "name": "stderr",
     "output_type": "stream",
     "text": [
      " 32%|███▏      | 95/300 [10:44<21:17,  6.23s/it]"
     ]
    },
    {
     "name": "stdout",
     "output_type": "stream",
     "text": [
      "Part summary appended in /home/wan/Workplace-why/Part-SAM/part_scene_results/0209/0209_part_summary.txt\n",
      "Part summary appended in /home/wan/Workplace-why/Part-SAM/part_scene_results/0081/0081_part_summary.txt\n",
      "Part summary appended in /home/wan/Workplace-why/Part-SAM/part_scene_results/0081/0081_part_summary.txt\n"
     ]
    },
    {
     "name": "stderr",
     "output_type": "stream",
     "text": [
      " 32%|███▏      | 96/300 [10:50<21:12,  6.24s/it]"
     ]
    },
    {
     "name": "stdout",
     "output_type": "stream",
     "text": [
      "Part summary appended in /home/wan/Workplace-why/Part-SAM/part_scene_results/0081/0081_part_summary.txt\n",
      "Part summary appended in /home/wan/Workplace-why/Part-SAM/part_scene_results/0251/0251_part_summary.txt\n",
      "Part summary appended in /home/wan/Workplace-why/Part-SAM/part_scene_results/0251/0251_part_summary.txt\n"
     ]
    },
    {
     "name": "stderr",
     "output_type": "stream",
     "text": [
      " 32%|███▏      | 97/300 [10:57<20:55,  6.19s/it]"
     ]
    },
    {
     "name": "stdout",
     "output_type": "stream",
     "text": [
      "Part summary appended in /home/wan/Workplace-why/Part-SAM/part_scene_results/0251/0251_part_summary.txt\n",
      "Part summary appended in /home/wan/Workplace-why/Part-SAM/part_scene_results/0273/0273_part_summary.txt\n",
      "Part summary appended in /home/wan/Workplace-why/Part-SAM/part_scene_results/0273/0273_part_summary.txt\n"
     ]
    },
    {
     "name": "stderr",
     "output_type": "stream",
     "text": [
      " 33%|███▎      | 98/300 [11:03<21:04,  6.26s/it]"
     ]
    },
    {
     "name": "stdout",
     "output_type": "stream",
     "text": [
      "Part summary appended in /home/wan/Workplace-why/Part-SAM/part_scene_results/0273/0273_part_summary.txt\n",
      "Part summary appended in /home/wan/Workplace-why/Part-SAM/part_scene_results/0098/0098_part_summary.txt\n",
      "Part summary appended in /home/wan/Workplace-why/Part-SAM/part_scene_results/0098/0098_part_summary.txt\n"
     ]
    },
    {
     "name": "stderr",
     "output_type": "stream",
     "text": [
      " 33%|███▎      | 99/300 [11:09<20:53,  6.23s/it]"
     ]
    },
    {
     "name": "stdout",
     "output_type": "stream",
     "text": [
      "Part summary appended in /home/wan/Workplace-why/Part-SAM/part_scene_results/0098/0098_part_summary.txt\n",
      "Part summary appended in /home/wan/Workplace-why/Part-SAM/part_scene_results/0194/0194_part_summary.txt\n",
      "Part summary appended in /home/wan/Workplace-why/Part-SAM/part_scene_results/0194/0194_part_summary.txt\n"
     ]
    },
    {
     "name": "stderr",
     "output_type": "stream",
     "text": [
      " 33%|███▎      | 100/300 [11:15<20:25,  6.13s/it]"
     ]
    },
    {
     "name": "stdout",
     "output_type": "stream",
     "text": [
      "Part summary appended in /home/wan/Workplace-why/Part-SAM/part_scene_results/0194/0194_part_summary.txt\n",
      "Part summary appended in /home/wan/Workplace-why/Part-SAM/part_scene_results/0256/0256_part_summary.txt\n",
      "Part summary appended in /home/wan/Workplace-why/Part-SAM/part_scene_results/0256/0256_part_summary.txt\n"
     ]
    },
    {
     "name": "stderr",
     "output_type": "stream",
     "text": [
      " 34%|███▎      | 101/300 [11:21<20:27,  6.17s/it]"
     ]
    },
    {
     "name": "stdout",
     "output_type": "stream",
     "text": [
      "Part summary appended in /home/wan/Workplace-why/Part-SAM/part_scene_results/0256/0256_part_summary.txt\n",
      "Part summary appended in /home/wan/Workplace-why/Part-SAM/part_scene_results/0074/0074_part_summary.txt\n",
      "Part summary appended in /home/wan/Workplace-why/Part-SAM/part_scene_results/0074/0074_part_summary.txt\n"
     ]
    },
    {
     "name": "stderr",
     "output_type": "stream",
     "text": [
      " 34%|███▍      | 102/300 [11:28<20:51,  6.32s/it]"
     ]
    },
    {
     "name": "stdout",
     "output_type": "stream",
     "text": [
      "Part summary appended in /home/wan/Workplace-why/Part-SAM/part_scene_results/0074/0074_part_summary.txt\n",
      "Part summary appended in /home/wan/Workplace-why/Part-SAM/part_scene_results/0105/0105_part_summary.txt\n",
      "Part summary appended in /home/wan/Workplace-why/Part-SAM/part_scene_results/0105/0105_part_summary.txt\n"
     ]
    },
    {
     "name": "stderr",
     "output_type": "stream",
     "text": [
      " 34%|███▍      | 103/300 [11:34<20:24,  6.21s/it]"
     ]
    },
    {
     "name": "stdout",
     "output_type": "stream",
     "text": [
      "Part summary appended in /home/wan/Workplace-why/Part-SAM/part_scene_results/0105/0105_part_summary.txt\n",
      "Part summary appended in /home/wan/Workplace-why/Part-SAM/part_scene_results/0144/0144_part_summary.txt\n",
      "Part summary appended in /home/wan/Workplace-why/Part-SAM/part_scene_results/0144/0144_part_summary.txt\n"
     ]
    },
    {
     "name": "stderr",
     "output_type": "stream",
     "text": [
      " 35%|███▍      | 104/300 [11:40<20:26,  6.26s/it]"
     ]
    },
    {
     "name": "stdout",
     "output_type": "stream",
     "text": [
      "Part summary appended in /home/wan/Workplace-why/Part-SAM/part_scene_results/0144/0144_part_summary.txt\n",
      "Part summary appended in /home/wan/Workplace-why/Part-SAM/part_scene_results/0153/0153_part_summary.txt\n",
      "Part summary appended in /home/wan/Workplace-why/Part-SAM/part_scene_results/0153/0153_part_summary.txt\n"
     ]
    },
    {
     "name": "stderr",
     "output_type": "stream",
     "text": [
      " 35%|███▌      | 105/300 [11:47<20:17,  6.24s/it]"
     ]
    },
    {
     "name": "stdout",
     "output_type": "stream",
     "text": [
      "Part summary appended in /home/wan/Workplace-why/Part-SAM/part_scene_results/0153/0153_part_summary.txt\n",
      "Part summary appended in /home/wan/Workplace-why/Part-SAM/part_scene_results/0075/0075_part_summary.txt\n",
      "Part summary appended in /home/wan/Workplace-why/Part-SAM/part_scene_results/0075/0075_part_summary.txt\n"
     ]
    },
    {
     "name": "stderr",
     "output_type": "stream",
     "text": [
      " 35%|███▌      | 106/300 [11:53<20:38,  6.38s/it]"
     ]
    },
    {
     "name": "stdout",
     "output_type": "stream",
     "text": [
      "Part summary appended in /home/wan/Workplace-why/Part-SAM/part_scene_results/0075/0075_part_summary.txt\n",
      "Part summary appended in /home/wan/Workplace-why/Part-SAM/part_scene_results/0260/0260_part_summary.txt\n",
      "Part summary appended in /home/wan/Workplace-why/Part-SAM/part_scene_results/0260/0260_part_summary.txt\n"
     ]
    },
    {
     "name": "stderr",
     "output_type": "stream",
     "text": [
      " 36%|███▌      | 107/300 [12:00<20:48,  6.47s/it]"
     ]
    },
    {
     "name": "stdout",
     "output_type": "stream",
     "text": [
      "Part summary appended in /home/wan/Workplace-why/Part-SAM/part_scene_results/0260/0260_part_summary.txt\n",
      "Part summary appended in /home/wan/Workplace-why/Part-SAM/part_scene_results/0033/0033_part_summary.txt\n",
      "Part summary appended in /home/wan/Workplace-why/Part-SAM/part_scene_results/0033/0033_part_summary.txt\n"
     ]
    },
    {
     "name": "stderr",
     "output_type": "stream",
     "text": [
      " 36%|███▌      | 108/300 [12:06<20:09,  6.30s/it]"
     ]
    },
    {
     "name": "stdout",
     "output_type": "stream",
     "text": [
      "Part summary appended in /home/wan/Workplace-why/Part-SAM/part_scene_results/0033/0033_part_summary.txt\n",
      "Part summary appended in /home/wan/Workplace-why/Part-SAM/part_scene_results/0161/0161_part_summary.txt\n",
      "Part summary appended in /home/wan/Workplace-why/Part-SAM/part_scene_results/0161/0161_part_summary.txt\n"
     ]
    },
    {
     "name": "stderr",
     "output_type": "stream",
     "text": [
      " 36%|███▋      | 109/300 [12:12<20:13,  6.35s/it]"
     ]
    },
    {
     "name": "stdout",
     "output_type": "stream",
     "text": [
      "Part summary appended in /home/wan/Workplace-why/Part-SAM/part_scene_results/0161/0161_part_summary.txt\n",
      "Part summary appended in /home/wan/Workplace-why/Part-SAM/part_scene_results/0236/0236_part_summary.txt\n",
      "Part summary appended in /home/wan/Workplace-why/Part-SAM/part_scene_results/0236/0236_part_summary.txt\n"
     ]
    },
    {
     "name": "stderr",
     "output_type": "stream",
     "text": [
      " 37%|███▋      | 110/300 [12:19<20:05,  6.35s/it]"
     ]
    },
    {
     "name": "stdout",
     "output_type": "stream",
     "text": [
      "Part summary appended in /home/wan/Workplace-why/Part-SAM/part_scene_results/0236/0236_part_summary.txt\n",
      "Part summary appended in /home/wan/Workplace-why/Part-SAM/part_scene_results/0287/0287_part_summary.txt\n",
      "Part summary appended in /home/wan/Workplace-why/Part-SAM/part_scene_results/0287/0287_part_summary.txt\n"
     ]
    },
    {
     "name": "stderr",
     "output_type": "stream",
     "text": [
      " 37%|███▋      | 111/300 [12:25<19:42,  6.26s/it]"
     ]
    },
    {
     "name": "stdout",
     "output_type": "stream",
     "text": [
      "Part summary appended in /home/wan/Workplace-why/Part-SAM/part_scene_results/0287/0287_part_summary.txt\n",
      "Part summary appended in /home/wan/Workplace-why/Part-SAM/part_scene_results/0026/0026_part_summary.txt\n",
      "Part summary appended in /home/wan/Workplace-why/Part-SAM/part_scene_results/0026/0026_part_summary.txt\n"
     ]
    },
    {
     "name": "stderr",
     "output_type": "stream",
     "text": [
      " 37%|███▋      | 112/300 [12:31<19:13,  6.13s/it]"
     ]
    },
    {
     "name": "stdout",
     "output_type": "stream",
     "text": [
      "Part summary appended in /home/wan/Workplace-why/Part-SAM/part_scene_results/0026/0026_part_summary.txt\n",
      "Part summary appended in /home/wan/Workplace-why/Part-SAM/part_scene_results/0203/0203_part_summary.txt\n",
      "Part summary appended in /home/wan/Workplace-why/Part-SAM/part_scene_results/0203/0203_part_summary.txt\n"
     ]
    },
    {
     "name": "stderr",
     "output_type": "stream",
     "text": [
      " 38%|███▊      | 113/300 [12:37<19:23,  6.22s/it]"
     ]
    },
    {
     "name": "stdout",
     "output_type": "stream",
     "text": [
      "Part summary appended in /home/wan/Workplace-why/Part-SAM/part_scene_results/0203/0203_part_summary.txt\n",
      "Part summary appended in /home/wan/Workplace-why/Part-SAM/part_scene_results/0034/0034_part_summary.txt\n",
      "Part summary appended in /home/wan/Workplace-why/Part-SAM/part_scene_results/0034/0034_part_summary.txt\n"
     ]
    },
    {
     "name": "stderr",
     "output_type": "stream",
     "text": [
      " 38%|███▊      | 114/300 [12:43<19:19,  6.23s/it]"
     ]
    },
    {
     "name": "stdout",
     "output_type": "stream",
     "text": [
      "Part summary appended in /home/wan/Workplace-why/Part-SAM/part_scene_results/0034/0034_part_summary.txt\n",
      "Part summary appended in /home/wan/Workplace-why/Part-SAM/part_scene_results/0158/0158_part_summary.txt\n",
      "Part summary appended in /home/wan/Workplace-why/Part-SAM/part_scene_results/0158/0158_part_summary.txt\n"
     ]
    },
    {
     "name": "stderr",
     "output_type": "stream",
     "text": [
      " 38%|███▊      | 115/300 [12:50<19:16,  6.25s/it]"
     ]
    },
    {
     "name": "stdout",
     "output_type": "stream",
     "text": [
      "Part summary appended in /home/wan/Workplace-why/Part-SAM/part_scene_results/0158/0158_part_summary.txt\n",
      "Part summary appended in /home/wan/Workplace-why/Part-SAM/part_scene_results/0013/0013_part_summary.txt\n",
      "Part summary appended in /home/wan/Workplace-why/Part-SAM/part_scene_results/0013/0013_part_summary.txt\n"
     ]
    },
    {
     "name": "stderr",
     "output_type": "stream",
     "text": [
      " 39%|███▊      | 116/300 [12:56<19:01,  6.20s/it]"
     ]
    },
    {
     "name": "stdout",
     "output_type": "stream",
     "text": [
      "Part summary appended in /home/wan/Workplace-why/Part-SAM/part_scene_results/0013/0013_part_summary.txt\n",
      "Part summary appended in /home/wan/Workplace-why/Part-SAM/part_scene_results/0058/0058_part_summary.txt\n",
      "Part summary appended in /home/wan/Workplace-why/Part-SAM/part_scene_results/0058/0058_part_summary.txt\n"
     ]
    },
    {
     "name": "stderr",
     "output_type": "stream",
     "text": [
      " 39%|███▉      | 117/300 [13:02<18:47,  6.16s/it]"
     ]
    },
    {
     "name": "stdout",
     "output_type": "stream",
     "text": [
      "Part summary appended in /home/wan/Workplace-why/Part-SAM/part_scene_results/0058/0058_part_summary.txt\n",
      "Part summary appended in /home/wan/Workplace-why/Part-SAM/part_scene_results/0132/0132_part_summary.txt\n",
      "Part summary appended in /home/wan/Workplace-why/Part-SAM/part_scene_results/0132/0132_part_summary.txt\n"
     ]
    },
    {
     "name": "stderr",
     "output_type": "stream",
     "text": [
      " 39%|███▉      | 118/300 [13:08<18:38,  6.15s/it]"
     ]
    },
    {
     "name": "stdout",
     "output_type": "stream",
     "text": [
      "Part summary appended in /home/wan/Workplace-why/Part-SAM/part_scene_results/0132/0132_part_summary.txt\n",
      "Part summary appended in /home/wan/Workplace-why/Part-SAM/part_scene_results/0120/0120_part_summary.txt\n",
      "Part summary appended in /home/wan/Workplace-why/Part-SAM/part_scene_results/0120/0120_part_summary.txt\n"
     ]
    },
    {
     "name": "stderr",
     "output_type": "stream",
     "text": [
      " 40%|███▉      | 119/300 [13:14<18:33,  6.15s/it]"
     ]
    },
    {
     "name": "stdout",
     "output_type": "stream",
     "text": [
      "Part summary appended in /home/wan/Workplace-why/Part-SAM/part_scene_results/0120/0120_part_summary.txt\n",
      "Part summary appended in /home/wan/Workplace-why/Part-SAM/part_scene_results/0166/0166_part_summary.txt\n",
      "Part summary appended in /home/wan/Workplace-why/Part-SAM/part_scene_results/0166/0166_part_summary.txt\n"
     ]
    },
    {
     "name": "stderr",
     "output_type": "stream",
     "text": [
      " 40%|████      | 120/300 [13:22<19:46,  6.59s/it]"
     ]
    },
    {
     "name": "stdout",
     "output_type": "stream",
     "text": [
      "Part summary appended in /home/wan/Workplace-why/Part-SAM/part_scene_results/0166/0166_part_summary.txt\n",
      "Part summary appended in /home/wan/Workplace-why/Part-SAM/part_scene_results/0259/0259_part_summary.txt\n",
      "Part summary appended in /home/wan/Workplace-why/Part-SAM/part_scene_results/0259/0259_part_summary.txt\n"
     ]
    },
    {
     "name": "stderr",
     "output_type": "stream",
     "text": [
      " 40%|████      | 121/300 [13:28<19:24,  6.50s/it]"
     ]
    },
    {
     "name": "stdout",
     "output_type": "stream",
     "text": [
      "Part summary appended in /home/wan/Workplace-why/Part-SAM/part_scene_results/0259/0259_part_summary.txt\n",
      "Part summary appended in /home/wan/Workplace-why/Part-SAM/part_scene_results/0263/0263_part_summary.txt\n",
      "Part summary appended in /home/wan/Workplace-why/Part-SAM/part_scene_results/0263/0263_part_summary.txt\n"
     ]
    },
    {
     "name": "stderr",
     "output_type": "stream",
     "text": [
      " 41%|████      | 122/300 [13:34<18:48,  6.34s/it]"
     ]
    },
    {
     "name": "stdout",
     "output_type": "stream",
     "text": [
      "Part summary appended in /home/wan/Workplace-why/Part-SAM/part_scene_results/0263/0263_part_summary.txt\n",
      "Part summary appended in /home/wan/Workplace-why/Part-SAM/part_scene_results/0090/0090_part_summary.txt\n",
      "Part summary appended in /home/wan/Workplace-why/Part-SAM/part_scene_results/0090/0090_part_summary.txt\n"
     ]
    },
    {
     "name": "stderr",
     "output_type": "stream",
     "text": [
      " 41%|████      | 123/300 [13:40<18:40,  6.33s/it]"
     ]
    },
    {
     "name": "stdout",
     "output_type": "stream",
     "text": [
      "Part summary appended in /home/wan/Workplace-why/Part-SAM/part_scene_results/0090/0090_part_summary.txt\n",
      "Part summary appended in /home/wan/Workplace-why/Part-SAM/part_scene_results/0016/0016_part_summary.txt\n",
      "Part summary appended in /home/wan/Workplace-why/Part-SAM/part_scene_results/0016/0016_part_summary.txt\n"
     ]
    },
    {
     "name": "stderr",
     "output_type": "stream",
     "text": [
      " 41%|████▏     | 124/300 [13:46<18:34,  6.33s/it]"
     ]
    },
    {
     "name": "stdout",
     "output_type": "stream",
     "text": [
      "Part summary appended in /home/wan/Workplace-why/Part-SAM/part_scene_results/0016/0016_part_summary.txt\n",
      "Part summary appended in /home/wan/Workplace-why/Part-SAM/part_scene_results/0087/0087_part_summary.txt\n",
      "Part summary appended in /home/wan/Workplace-why/Part-SAM/part_scene_results/0087/0087_part_summary.txt\n"
     ]
    },
    {
     "name": "stderr",
     "output_type": "stream",
     "text": [
      " 42%|████▏     | 125/300 [13:53<18:26,  6.32s/it]"
     ]
    },
    {
     "name": "stdout",
     "output_type": "stream",
     "text": [
      "Part summary appended in /home/wan/Workplace-why/Part-SAM/part_scene_results/0087/0087_part_summary.txt\n",
      "Part summary appended in /home/wan/Workplace-why/Part-SAM/part_scene_results/0145/0145_part_summary.txt\n",
      "Part summary appended in /home/wan/Workplace-why/Part-SAM/part_scene_results/0145/0145_part_summary.txt\n"
     ]
    },
    {
     "name": "stderr",
     "output_type": "stream",
     "text": [
      " 42%|████▏     | 126/300 [13:59<18:23,  6.34s/it]"
     ]
    },
    {
     "name": "stdout",
     "output_type": "stream",
     "text": [
      "Part summary appended in /home/wan/Workplace-why/Part-SAM/part_scene_results/0145/0145_part_summary.txt\n",
      "Part summary appended in /home/wan/Workplace-why/Part-SAM/part_scene_results/0020/0020_part_summary.txt\n",
      "Part summary appended in /home/wan/Workplace-why/Part-SAM/part_scene_results/0020/0020_part_summary.txt\n"
     ]
    },
    {
     "name": "stderr",
     "output_type": "stream",
     "text": [
      " 42%|████▏     | 127/300 [14:06<18:41,  6.48s/it]"
     ]
    },
    {
     "name": "stdout",
     "output_type": "stream",
     "text": [
      "Part summary appended in /home/wan/Workplace-why/Part-SAM/part_scene_results/0020/0020_part_summary.txt\n",
      "Part summary appended in /home/wan/Workplace-why/Part-SAM/part_scene_results/0290/0290_part_summary.txt\n",
      "Part summary appended in /home/wan/Workplace-why/Part-SAM/part_scene_results/0290/0290_part_summary.txt\n"
     ]
    },
    {
     "name": "stderr",
     "output_type": "stream",
     "text": [
      " 43%|████▎     | 128/300 [14:13<19:16,  6.72s/it]"
     ]
    },
    {
     "name": "stdout",
     "output_type": "stream",
     "text": [
      "Part summary appended in /home/wan/Workplace-why/Part-SAM/part_scene_results/0290/0290_part_summary.txt\n",
      "Part summary appended in /home/wan/Workplace-why/Part-SAM/part_scene_results/0235/0235_part_summary.txt\n",
      "Part summary appended in /home/wan/Workplace-why/Part-SAM/part_scene_results/0235/0235_part_summary.txt\n"
     ]
    },
    {
     "name": "stderr",
     "output_type": "stream",
     "text": [
      " 43%|████▎     | 129/300 [14:20<19:15,  6.76s/it]"
     ]
    },
    {
     "name": "stdout",
     "output_type": "stream",
     "text": [
      "Part summary appended in /home/wan/Workplace-why/Part-SAM/part_scene_results/0235/0235_part_summary.txt\n",
      "Part summary appended in /home/wan/Workplace-why/Part-SAM/part_scene_results/0070/0070_part_summary.txt\n",
      "Part summary appended in /home/wan/Workplace-why/Part-SAM/part_scene_results/0070/0070_part_summary.txt\n"
     ]
    },
    {
     "name": "stderr",
     "output_type": "stream",
     "text": [
      " 43%|████▎     | 130/300 [14:27<19:15,  6.79s/it]"
     ]
    },
    {
     "name": "stdout",
     "output_type": "stream",
     "text": [
      "Part summary appended in /home/wan/Workplace-why/Part-SAM/part_scene_results/0070/0070_part_summary.txt\n",
      "Part summary appended in /home/wan/Workplace-why/Part-SAM/part_scene_results/0002/0002_part_summary.txt\n",
      "Part summary appended in /home/wan/Workplace-why/Part-SAM/part_scene_results/0002/0002_part_summary.txt\n"
     ]
    },
    {
     "name": "stderr",
     "output_type": "stream",
     "text": [
      " 44%|████▎     | 131/300 [14:34<19:11,  6.82s/it]"
     ]
    },
    {
     "name": "stdout",
     "output_type": "stream",
     "text": [
      "Part summary appended in /home/wan/Workplace-why/Part-SAM/part_scene_results/0002/0002_part_summary.txt\n",
      "Part summary appended in /home/wan/Workplace-why/Part-SAM/part_scene_results/0179/0179_part_summary.txt\n",
      "Part summary appended in /home/wan/Workplace-why/Part-SAM/part_scene_results/0179/0179_part_summary.txt\n"
     ]
    },
    {
     "name": "stderr",
     "output_type": "stream",
     "text": [
      " 44%|████▍     | 132/300 [14:41<19:05,  6.82s/it]"
     ]
    },
    {
     "name": "stdout",
     "output_type": "stream",
     "text": [
      "Part summary appended in /home/wan/Workplace-why/Part-SAM/part_scene_results/0179/0179_part_summary.txt\n",
      "Part summary appended in /home/wan/Workplace-why/Part-SAM/part_scene_results/0108/0108_part_summary.txt\n",
      "Part summary appended in /home/wan/Workplace-why/Part-SAM/part_scene_results/0108/0108_part_summary.txt\n"
     ]
    },
    {
     "name": "stderr",
     "output_type": "stream",
     "text": [
      " 44%|████▍     | 133/300 [14:48<19:04,  6.85s/it]"
     ]
    },
    {
     "name": "stdout",
     "output_type": "stream",
     "text": [
      "Part summary appended in /home/wan/Workplace-why/Part-SAM/part_scene_results/0108/0108_part_summary.txt\n",
      "Part summary appended in /home/wan/Workplace-why/Part-SAM/part_scene_results/0241/0241_part_summary.txt\n",
      "Part summary appended in /home/wan/Workplace-why/Part-SAM/part_scene_results/0241/0241_part_summary.txt\n"
     ]
    },
    {
     "name": "stderr",
     "output_type": "stream",
     "text": [
      " 45%|████▍     | 134/300 [14:54<18:41,  6.75s/it]"
     ]
    },
    {
     "name": "stdout",
     "output_type": "stream",
     "text": [
      "Part summary appended in /home/wan/Workplace-why/Part-SAM/part_scene_results/0241/0241_part_summary.txt\n",
      "Part summary appended in /home/wan/Workplace-why/Part-SAM/part_scene_results/0009/0009_part_summary.txt\n",
      "Part summary appended in /home/wan/Workplace-why/Part-SAM/part_scene_results/0009/0009_part_summary.txt\n"
     ]
    },
    {
     "name": "stderr",
     "output_type": "stream",
     "text": [
      " 45%|████▌     | 135/300 [15:01<18:41,  6.80s/it]"
     ]
    },
    {
     "name": "stdout",
     "output_type": "stream",
     "text": [
      "Part summary appended in /home/wan/Workplace-why/Part-SAM/part_scene_results/0009/0009_part_summary.txt\n",
      "Part summary appended in /home/wan/Workplace-why/Part-SAM/part_scene_results/0091/0091_part_summary.txt\n",
      "Part summary appended in /home/wan/Workplace-why/Part-SAM/part_scene_results/0091/0091_part_summary.txt\n"
     ]
    },
    {
     "name": "stderr",
     "output_type": "stream",
     "text": [
      " 45%|████▌     | 136/300 [15:08<18:58,  6.94s/it]"
     ]
    },
    {
     "name": "stdout",
     "output_type": "stream",
     "text": [
      "Part summary appended in /home/wan/Workplace-why/Part-SAM/part_scene_results/0091/0091_part_summary.txt\n",
      "Part summary appended in /home/wan/Workplace-why/Part-SAM/part_scene_results/0222/0222_part_summary.txt\n",
      "Part summary appended in /home/wan/Workplace-why/Part-SAM/part_scene_results/0222/0222_part_summary.txt\n"
     ]
    },
    {
     "name": "stderr",
     "output_type": "stream",
     "text": [
      " 46%|████▌     | 137/300 [15:16<19:09,  7.05s/it]"
     ]
    },
    {
     "name": "stdout",
     "output_type": "stream",
     "text": [
      "Part summary appended in /home/wan/Workplace-why/Part-SAM/part_scene_results/0222/0222_part_summary.txt\n",
      "Part summary appended in /home/wan/Workplace-why/Part-SAM/part_scene_results/0102/0102_part_summary.txt\n",
      "Part summary appended in /home/wan/Workplace-why/Part-SAM/part_scene_results/0102/0102_part_summary.txt\n"
     ]
    },
    {
     "name": "stderr",
     "output_type": "stream",
     "text": [
      " 46%|████▌     | 138/300 [15:22<18:25,  6.83s/it]"
     ]
    },
    {
     "name": "stdout",
     "output_type": "stream",
     "text": [
      "Part summary appended in /home/wan/Workplace-why/Part-SAM/part_scene_results/0102/0102_part_summary.txt\n",
      "Part summary appended in /home/wan/Workplace-why/Part-SAM/part_scene_results/0021/0021_part_summary.txt\n",
      "Part summary appended in /home/wan/Workplace-why/Part-SAM/part_scene_results/0021/0021_part_summary.txt\n"
     ]
    },
    {
     "name": "stderr",
     "output_type": "stream",
     "text": [
      " 46%|████▋     | 139/300 [15:28<17:41,  6.59s/it]"
     ]
    },
    {
     "name": "stdout",
     "output_type": "stream",
     "text": [
      "Part summary appended in /home/wan/Workplace-why/Part-SAM/part_scene_results/0021/0021_part_summary.txt\n",
      "Part summary appended in /home/wan/Workplace-why/Part-SAM/part_scene_results/0109/0109_part_summary.txt\n",
      "Part summary appended in /home/wan/Workplace-why/Part-SAM/part_scene_results/0109/0109_part_summary.txt\n"
     ]
    },
    {
     "name": "stderr",
     "output_type": "stream",
     "text": [
      " 47%|████▋     | 140/300 [15:34<17:27,  6.55s/it]"
     ]
    },
    {
     "name": "stdout",
     "output_type": "stream",
     "text": [
      "Part summary appended in /home/wan/Workplace-why/Part-SAM/part_scene_results/0109/0109_part_summary.txt\n",
      "Part summary appended in /home/wan/Workplace-why/Part-SAM/part_scene_results/0155/0155_part_summary.txt\n",
      "Part summary appended in /home/wan/Workplace-why/Part-SAM/part_scene_results/0155/0155_part_summary.txt\n"
     ]
    },
    {
     "name": "stderr",
     "output_type": "stream",
     "text": [
      " 47%|████▋     | 141/300 [15:41<17:11,  6.48s/it]"
     ]
    },
    {
     "name": "stdout",
     "output_type": "stream",
     "text": [
      "Part summary appended in /home/wan/Workplace-why/Part-SAM/part_scene_results/0155/0155_part_summary.txt\n",
      "Part summary appended in /home/wan/Workplace-why/Part-SAM/part_scene_results/0293/0293_part_summary.txt\n",
      "Part summary appended in /home/wan/Workplace-why/Part-SAM/part_scene_results/0293/0293_part_summary.txt\n"
     ]
    },
    {
     "name": "stderr",
     "output_type": "stream",
     "text": [
      " 47%|████▋     | 142/300 [15:47<16:59,  6.45s/it]"
     ]
    },
    {
     "name": "stdout",
     "output_type": "stream",
     "text": [
      "Part summary appended in /home/wan/Workplace-why/Part-SAM/part_scene_results/0293/0293_part_summary.txt\n",
      "Part summary appended in /home/wan/Workplace-why/Part-SAM/part_scene_results/0285/0285_part_summary.txt\n",
      "Part summary appended in /home/wan/Workplace-why/Part-SAM/part_scene_results/0285/0285_part_summary.txt\n"
     ]
    },
    {
     "name": "stderr",
     "output_type": "stream",
     "text": [
      " 48%|████▊     | 143/300 [15:55<18:00,  6.88s/it]"
     ]
    },
    {
     "name": "stdout",
     "output_type": "stream",
     "text": [
      "Part summary appended in /home/wan/Workplace-why/Part-SAM/part_scene_results/0285/0285_part_summary.txt\n",
      "Part summary appended in /home/wan/Workplace-why/Part-SAM/part_scene_results/0095/0095_part_summary.txt\n",
      "Part summary appended in /home/wan/Workplace-why/Part-SAM/part_scene_results/0095/0095_part_summary.txt\n"
     ]
    },
    {
     "name": "stderr",
     "output_type": "stream",
     "text": [
      " 48%|████▊     | 144/300 [16:02<17:57,  6.91s/it]"
     ]
    },
    {
     "name": "stdout",
     "output_type": "stream",
     "text": [
      "Part summary appended in /home/wan/Workplace-why/Part-SAM/part_scene_results/0095/0095_part_summary.txt\n",
      "Part summary appended in /home/wan/Workplace-why/Part-SAM/part_scene_results/0079/0079_part_summary.txt\n",
      "Part summary appended in /home/wan/Workplace-why/Part-SAM/part_scene_results/0079/0079_part_summary.txt\n"
     ]
    },
    {
     "name": "stderr",
     "output_type": "stream",
     "text": [
      " 48%|████▊     | 145/300 [16:09<18:07,  7.02s/it]"
     ]
    },
    {
     "name": "stdout",
     "output_type": "stream",
     "text": [
      "Part summary appended in /home/wan/Workplace-why/Part-SAM/part_scene_results/0079/0079_part_summary.txt\n",
      "Part summary appended in /home/wan/Workplace-why/Part-SAM/part_scene_results/0119/0119_part_summary.txt\n",
      "Part summary appended in /home/wan/Workplace-why/Part-SAM/part_scene_results/0119/0119_part_summary.txt\n"
     ]
    },
    {
     "name": "stderr",
     "output_type": "stream",
     "text": [
      " 49%|████▊     | 146/300 [16:16<17:49,  6.95s/it]"
     ]
    },
    {
     "name": "stdout",
     "output_type": "stream",
     "text": [
      "Part summary appended in /home/wan/Workplace-why/Part-SAM/part_scene_results/0119/0119_part_summary.txt\n",
      "Part summary appended in /home/wan/Workplace-why/Part-SAM/part_scene_results/0133/0133_part_summary.txt\n",
      "Part summary appended in /home/wan/Workplace-why/Part-SAM/part_scene_results/0133/0133_part_summary.txt\n"
     ]
    },
    {
     "name": "stderr",
     "output_type": "stream",
     "text": [
      " 49%|████▉     | 147/300 [16:23<18:01,  7.07s/it]"
     ]
    },
    {
     "name": "stdout",
     "output_type": "stream",
     "text": [
      "Part summary appended in /home/wan/Workplace-why/Part-SAM/part_scene_results/0133/0133_part_summary.txt\n",
      "Part summary appended in /home/wan/Workplace-why/Part-SAM/part_scene_results/0130/0130_part_summary.txt\n",
      "Part summary appended in /home/wan/Workplace-why/Part-SAM/part_scene_results/0130/0130_part_summary.txt\n"
     ]
    },
    {
     "name": "stderr",
     "output_type": "stream",
     "text": [
      " 49%|████▉     | 148/300 [16:30<17:32,  6.92s/it]"
     ]
    },
    {
     "name": "stdout",
     "output_type": "stream",
     "text": [
      "Part summary appended in /home/wan/Workplace-why/Part-SAM/part_scene_results/0130/0130_part_summary.txt\n",
      "Part summary appended in /home/wan/Workplace-why/Part-SAM/part_scene_results/0141/0141_part_summary.txt\n",
      "Part summary appended in /home/wan/Workplace-why/Part-SAM/part_scene_results/0141/0141_part_summary.txt\n"
     ]
    },
    {
     "name": "stderr",
     "output_type": "stream",
     "text": [
      " 50%|████▉     | 149/300 [16:37<17:31,  6.96s/it]"
     ]
    },
    {
     "name": "stdout",
     "output_type": "stream",
     "text": [
      "Part summary appended in /home/wan/Workplace-why/Part-SAM/part_scene_results/0141/0141_part_summary.txt\n",
      "Part summary appended in /home/wan/Workplace-why/Part-SAM/part_scene_results/0234/0234_part_summary.txt\n",
      "Part summary appended in /home/wan/Workplace-why/Part-SAM/part_scene_results/0234/0234_part_summary.txt\n"
     ]
    },
    {
     "name": "stderr",
     "output_type": "stream",
     "text": [
      " 50%|█████     | 150/300 [16:45<17:50,  7.14s/it]"
     ]
    },
    {
     "name": "stdout",
     "output_type": "stream",
     "text": [
      "Part summary appended in /home/wan/Workplace-why/Part-SAM/part_scene_results/0234/0234_part_summary.txt\n",
      "Part summary appended in /home/wan/Workplace-why/Part-SAM/part_scene_results/0188/0188_part_summary.txt\n",
      "Part summary appended in /home/wan/Workplace-why/Part-SAM/part_scene_results/0188/0188_part_summary.txt\n"
     ]
    },
    {
     "name": "stderr",
     "output_type": "stream",
     "text": [
      " 50%|█████     | 151/300 [16:51<17:01,  6.86s/it]"
     ]
    },
    {
     "name": "stdout",
     "output_type": "stream",
     "text": [
      "Part summary appended in /home/wan/Workplace-why/Part-SAM/part_scene_results/0188/0188_part_summary.txt\n",
      "Part summary appended in /home/wan/Workplace-why/Part-SAM/part_scene_results/0101/0101_part_summary.txt\n",
      "Part summary appended in /home/wan/Workplace-why/Part-SAM/part_scene_results/0101/0101_part_summary.txt\n"
     ]
    },
    {
     "name": "stderr",
     "output_type": "stream",
     "text": [
      " 51%|█████     | 152/300 [16:57<16:21,  6.63s/it]"
     ]
    },
    {
     "name": "stdout",
     "output_type": "stream",
     "text": [
      "Part summary appended in /home/wan/Workplace-why/Part-SAM/part_scene_results/0101/0101_part_summary.txt\n",
      "Part summary appended in /home/wan/Workplace-why/Part-SAM/part_scene_results/0123/0123_part_summary.txt\n",
      "Part summary appended in /home/wan/Workplace-why/Part-SAM/part_scene_results/0123/0123_part_summary.txt\n"
     ]
    },
    {
     "name": "stderr",
     "output_type": "stream",
     "text": [
      " 51%|█████     | 153/300 [17:03<15:41,  6.41s/it]"
     ]
    },
    {
     "name": "stdout",
     "output_type": "stream",
     "text": [
      "Part summary appended in /home/wan/Workplace-why/Part-SAM/part_scene_results/0123/0123_part_summary.txt\n",
      "Part summary appended in /home/wan/Workplace-why/Part-SAM/part_scene_results/0112/0112_part_summary.txt\n",
      "Part summary appended in /home/wan/Workplace-why/Part-SAM/part_scene_results/0112/0112_part_summary.txt\n"
     ]
    },
    {
     "name": "stderr",
     "output_type": "stream",
     "text": [
      " 51%|█████▏    | 154/300 [17:09<15:24,  6.33s/it]"
     ]
    },
    {
     "name": "stdout",
     "output_type": "stream",
     "text": [
      "Part summary appended in /home/wan/Workplace-why/Part-SAM/part_scene_results/0112/0112_part_summary.txt\n",
      "Part summary appended in /home/wan/Workplace-why/Part-SAM/part_scene_results/0272/0272_part_summary.txt\n",
      "Part summary appended in /home/wan/Workplace-why/Part-SAM/part_scene_results/0272/0272_part_summary.txt\n"
     ]
    },
    {
     "name": "stderr",
     "output_type": "stream",
     "text": [
      " 52%|█████▏    | 155/300 [17:15<14:56,  6.19s/it]"
     ]
    },
    {
     "name": "stdout",
     "output_type": "stream",
     "text": [
      "Part summary appended in /home/wan/Workplace-why/Part-SAM/part_scene_results/0272/0272_part_summary.txt\n",
      "Part summary appended in /home/wan/Workplace-why/Part-SAM/part_scene_results/0080/0080_part_summary.txt\n",
      "Part summary appended in /home/wan/Workplace-why/Part-SAM/part_scene_results/0080/0080_part_summary.txt\n"
     ]
    },
    {
     "name": "stderr",
     "output_type": "stream",
     "text": [
      " 52%|█████▏    | 156/300 [17:21<14:59,  6.25s/it]"
     ]
    },
    {
     "name": "stdout",
     "output_type": "stream",
     "text": [
      "Part summary appended in /home/wan/Workplace-why/Part-SAM/part_scene_results/0080/0080_part_summary.txt\n",
      "Part summary appended in /home/wan/Workplace-why/Part-SAM/part_scene_results/0001/0001_part_summary.txt\n",
      "Part summary appended in /home/wan/Workplace-why/Part-SAM/part_scene_results/0001/0001_part_summary.txt\n"
     ]
    },
    {
     "name": "stderr",
     "output_type": "stream",
     "text": [
      " 52%|█████▏    | 157/300 [17:27<14:47,  6.20s/it]"
     ]
    },
    {
     "name": "stdout",
     "output_type": "stream",
     "text": [
      "Part summary appended in /home/wan/Workplace-why/Part-SAM/part_scene_results/0001/0001_part_summary.txt\n",
      "Part summary appended in /home/wan/Workplace-why/Part-SAM/part_scene_results/0127/0127_part_summary.txt\n",
      "Part summary appended in /home/wan/Workplace-why/Part-SAM/part_scene_results/0127/0127_part_summary.txt\n"
     ]
    },
    {
     "name": "stderr",
     "output_type": "stream",
     "text": [
      " 53%|█████▎    | 158/300 [17:34<15:10,  6.41s/it]"
     ]
    },
    {
     "name": "stdout",
     "output_type": "stream",
     "text": [
      "Part summary appended in /home/wan/Workplace-why/Part-SAM/part_scene_results/0127/0127_part_summary.txt\n",
      "Part summary appended in /home/wan/Workplace-why/Part-SAM/part_scene_results/0279/0279_part_summary.txt\n",
      "Part summary appended in /home/wan/Workplace-why/Part-SAM/part_scene_results/0279/0279_part_summary.txt\n"
     ]
    },
    {
     "name": "stderr",
     "output_type": "stream",
     "text": [
      " 53%|█████▎    | 159/300 [17:40<14:54,  6.35s/it]"
     ]
    },
    {
     "name": "stdout",
     "output_type": "stream",
     "text": [
      "Part summary appended in /home/wan/Workplace-why/Part-SAM/part_scene_results/0279/0279_part_summary.txt\n",
      "Part summary appended in /home/wan/Workplace-why/Part-SAM/part_scene_results/0015/0015_part_summary.txt\n",
      "Part summary appended in /home/wan/Workplace-why/Part-SAM/part_scene_results/0015/0015_part_summary.txt\n"
     ]
    },
    {
     "name": "stderr",
     "output_type": "stream",
     "text": [
      " 53%|█████▎    | 160/300 [17:47<14:49,  6.35s/it]"
     ]
    },
    {
     "name": "stdout",
     "output_type": "stream",
     "text": [
      "Part summary appended in /home/wan/Workplace-why/Part-SAM/part_scene_results/0015/0015_part_summary.txt\n",
      "Part summary appended in /home/wan/Workplace-why/Part-SAM/part_scene_results/0226/0226_part_summary.txt\n",
      "Part summary appended in /home/wan/Workplace-why/Part-SAM/part_scene_results/0226/0226_part_summary.txt\n"
     ]
    },
    {
     "name": "stderr",
     "output_type": "stream",
     "text": [
      " 54%|█████▎    | 161/300 [17:53<14:41,  6.34s/it]"
     ]
    },
    {
     "name": "stdout",
     "output_type": "stream",
     "text": [
      "Part summary appended in /home/wan/Workplace-why/Part-SAM/part_scene_results/0226/0226_part_summary.txt\n",
      "Part summary appended in /home/wan/Workplace-why/Part-SAM/part_scene_results/0061/0061_part_summary.txt\n",
      "Part summary appended in /home/wan/Workplace-why/Part-SAM/part_scene_results/0061/0061_part_summary.txt\n"
     ]
    },
    {
     "name": "stderr",
     "output_type": "stream",
     "text": [
      " 54%|█████▍    | 162/300 [17:59<14:34,  6.33s/it]"
     ]
    },
    {
     "name": "stdout",
     "output_type": "stream",
     "text": [
      "Part summary appended in /home/wan/Workplace-why/Part-SAM/part_scene_results/0061/0061_part_summary.txt\n",
      "Part summary appended in /home/wan/Workplace-why/Part-SAM/part_scene_results/0136/0136_part_summary.txt\n",
      "Part summary appended in /home/wan/Workplace-why/Part-SAM/part_scene_results/0136/0136_part_summary.txt\n"
     ]
    },
    {
     "name": "stderr",
     "output_type": "stream",
     "text": [
      " 54%|█████▍    | 163/300 [18:06<14:41,  6.43s/it]"
     ]
    },
    {
     "name": "stdout",
     "output_type": "stream",
     "text": [
      "Part summary appended in /home/wan/Workplace-why/Part-SAM/part_scene_results/0136/0136_part_summary.txt\n",
      "Part summary appended in /home/wan/Workplace-why/Part-SAM/part_scene_results/0254/0254_part_summary.txt\n",
      "Part summary appended in /home/wan/Workplace-why/Part-SAM/part_scene_results/0254/0254_part_summary.txt\n"
     ]
    },
    {
     "name": "stderr",
     "output_type": "stream",
     "text": [
      " 55%|█████▍    | 164/300 [18:13<14:46,  6.52s/it]"
     ]
    },
    {
     "name": "stdout",
     "output_type": "stream",
     "text": [
      "Part summary appended in /home/wan/Workplace-why/Part-SAM/part_scene_results/0254/0254_part_summary.txt\n",
      "Part summary appended in /home/wan/Workplace-why/Part-SAM/part_scene_results/0202/0202_part_summary.txt\n",
      "Part summary appended in /home/wan/Workplace-why/Part-SAM/part_scene_results/0202/0202_part_summary.txt\n"
     ]
    },
    {
     "name": "stderr",
     "output_type": "stream",
     "text": [
      " 55%|█████▌    | 165/300 [18:19<14:23,  6.40s/it]"
     ]
    },
    {
     "name": "stdout",
     "output_type": "stream",
     "text": [
      "Part summary appended in /home/wan/Workplace-why/Part-SAM/part_scene_results/0202/0202_part_summary.txt\n",
      "Part summary appended in /home/wan/Workplace-why/Part-SAM/part_scene_results/0110/0110_part_summary.txt\n",
      "Part summary appended in /home/wan/Workplace-why/Part-SAM/part_scene_results/0110/0110_part_summary.txt\n"
     ]
    },
    {
     "name": "stderr",
     "output_type": "stream",
     "text": [
      " 55%|█████▌    | 166/300 [18:25<14:06,  6.32s/it]"
     ]
    },
    {
     "name": "stdout",
     "output_type": "stream",
     "text": [
      "Part summary appended in /home/wan/Workplace-why/Part-SAM/part_scene_results/0110/0110_part_summary.txt\n",
      "Part summary appended in /home/wan/Workplace-why/Part-SAM/part_scene_results/0189/0189_part_summary.txt\n",
      "Part summary appended in /home/wan/Workplace-why/Part-SAM/part_scene_results/0189/0189_part_summary.txt\n"
     ]
    },
    {
     "name": "stderr",
     "output_type": "stream",
     "text": [
      " 56%|█████▌    | 167/300 [18:32<14:45,  6.66s/it]"
     ]
    },
    {
     "name": "stdout",
     "output_type": "stream",
     "text": [
      "Part summary appended in /home/wan/Workplace-why/Part-SAM/part_scene_results/0189/0189_part_summary.txt\n",
      "Part summary appended in /home/wan/Workplace-why/Part-SAM/part_scene_results/0086/0086_part_summary.txt\n",
      "Part summary appended in /home/wan/Workplace-why/Part-SAM/part_scene_results/0086/0086_part_summary.txt\n"
     ]
    },
    {
     "name": "stderr",
     "output_type": "stream",
     "text": [
      " 56%|█████▌    | 168/300 [18:39<14:38,  6.65s/it]"
     ]
    },
    {
     "name": "stdout",
     "output_type": "stream",
     "text": [
      "Part summary appended in /home/wan/Workplace-why/Part-SAM/part_scene_results/0086/0086_part_summary.txt\n",
      "Part summary appended in /home/wan/Workplace-why/Part-SAM/part_scene_results/0167/0167_part_summary.txt\n",
      "Part summary appended in /home/wan/Workplace-why/Part-SAM/part_scene_results/0167/0167_part_summary.txt\n"
     ]
    },
    {
     "name": "stderr",
     "output_type": "stream",
     "text": [
      " 56%|█████▋    | 169/300 [18:46<14:42,  6.74s/it]"
     ]
    },
    {
     "name": "stdout",
     "output_type": "stream",
     "text": [
      "Part summary appended in /home/wan/Workplace-why/Part-SAM/part_scene_results/0167/0167_part_summary.txt\n",
      "Part summary appended in /home/wan/Workplace-why/Part-SAM/part_scene_results/0046/0046_part_summary.txt\n",
      "Part summary appended in /home/wan/Workplace-why/Part-SAM/part_scene_results/0046/0046_part_summary.txt\n"
     ]
    },
    {
     "name": "stderr",
     "output_type": "stream",
     "text": [
      " 57%|█████▋    | 170/300 [18:53<14:28,  6.68s/it]"
     ]
    },
    {
     "name": "stdout",
     "output_type": "stream",
     "text": [
      "Part summary appended in /home/wan/Workplace-why/Part-SAM/part_scene_results/0046/0046_part_summary.txt\n",
      "Part summary appended in /home/wan/Workplace-why/Part-SAM/part_scene_results/0174/0174_part_summary.txt\n",
      "Part summary appended in /home/wan/Workplace-why/Part-SAM/part_scene_results/0174/0174_part_summary.txt\n"
     ]
    },
    {
     "name": "stderr",
     "output_type": "stream",
     "text": [
      " 57%|█████▋    | 171/300 [18:59<14:29,  6.74s/it]"
     ]
    },
    {
     "name": "stdout",
     "output_type": "stream",
     "text": [
      "Part summary appended in /home/wan/Workplace-why/Part-SAM/part_scene_results/0174/0174_part_summary.txt\n",
      "Part summary appended in /home/wan/Workplace-why/Part-SAM/part_scene_results/0011/0011_part_summary.txt\n",
      "Part summary appended in /home/wan/Workplace-why/Part-SAM/part_scene_results/0011/0011_part_summary.txt\n"
     ]
    },
    {
     "name": "stderr",
     "output_type": "stream",
     "text": [
      " 57%|█████▋    | 172/300 [19:06<14:36,  6.84s/it]"
     ]
    },
    {
     "name": "stdout",
     "output_type": "stream",
     "text": [
      "Part summary appended in /home/wan/Workplace-why/Part-SAM/part_scene_results/0011/0011_part_summary.txt\n",
      "Part summary appended in /home/wan/Workplace-why/Part-SAM/part_scene_results/0237/0237_part_summary.txt\n",
      "Part summary appended in /home/wan/Workplace-why/Part-SAM/part_scene_results/0237/0237_part_summary.txt\n"
     ]
    },
    {
     "name": "stderr",
     "output_type": "stream",
     "text": [
      " 58%|█████▊    | 173/300 [19:13<14:19,  6.77s/it]"
     ]
    },
    {
     "name": "stdout",
     "output_type": "stream",
     "text": [
      "Part summary appended in /home/wan/Workplace-why/Part-SAM/part_scene_results/0237/0237_part_summary.txt\n",
      "Part summary appended in /home/wan/Workplace-why/Part-SAM/part_scene_results/0289/0289_part_summary.txt\n",
      "Part summary appended in /home/wan/Workplace-why/Part-SAM/part_scene_results/0289/0289_part_summary.txt\n"
     ]
    },
    {
     "name": "stderr",
     "output_type": "stream",
     "text": [
      " 58%|█████▊    | 174/300 [19:19<13:53,  6.62s/it]"
     ]
    },
    {
     "name": "stdout",
     "output_type": "stream",
     "text": [
      "Part summary appended in /home/wan/Workplace-why/Part-SAM/part_scene_results/0289/0289_part_summary.txt\n",
      "Part summary appended in /home/wan/Workplace-why/Part-SAM/part_scene_results/0128/0128_part_summary.txt\n",
      "Part summary appended in /home/wan/Workplace-why/Part-SAM/part_scene_results/0128/0128_part_summary.txt\n"
     ]
    },
    {
     "name": "stderr",
     "output_type": "stream",
     "text": [
      " 58%|█████▊    | 175/300 [19:27<14:07,  6.78s/it]"
     ]
    },
    {
     "name": "stdout",
     "output_type": "stream",
     "text": [
      "Part summary appended in /home/wan/Workplace-why/Part-SAM/part_scene_results/0128/0128_part_summary.txt\n",
      "Part summary appended in /home/wan/Workplace-why/Part-SAM/part_scene_results/0040/0040_part_summary.txt\n",
      "Part summary appended in /home/wan/Workplace-why/Part-SAM/part_scene_results/0040/0040_part_summary.txt\n"
     ]
    },
    {
     "name": "stderr",
     "output_type": "stream",
     "text": [
      " 59%|█████▊    | 176/300 [19:33<14:02,  6.80s/it]"
     ]
    },
    {
     "name": "stdout",
     "output_type": "stream",
     "text": [
      "Part summary appended in /home/wan/Workplace-why/Part-SAM/part_scene_results/0040/0040_part_summary.txt\n",
      "Part summary appended in /home/wan/Workplace-why/Part-SAM/part_scene_results/0115/0115_part_summary.txt\n",
      "Part summary appended in /home/wan/Workplace-why/Part-SAM/part_scene_results/0115/0115_part_summary.txt\n"
     ]
    },
    {
     "name": "stderr",
     "output_type": "stream",
     "text": [
      " 59%|█████▉    | 177/300 [19:40<13:46,  6.72s/it]"
     ]
    },
    {
     "name": "stdout",
     "output_type": "stream",
     "text": [
      "Part summary appended in /home/wan/Workplace-why/Part-SAM/part_scene_results/0115/0115_part_summary.txt\n",
      "Part summary appended in /home/wan/Workplace-why/Part-SAM/part_scene_results/0172/0172_part_summary.txt\n",
      "Part summary appended in /home/wan/Workplace-why/Part-SAM/part_scene_results/0172/0172_part_summary.txt\n"
     ]
    },
    {
     "name": "stderr",
     "output_type": "stream",
     "text": [
      " 59%|█████▉    | 178/300 [19:46<13:05,  6.44s/it]"
     ]
    },
    {
     "name": "stdout",
     "output_type": "stream",
     "text": [
      "Part summary appended in /home/wan/Workplace-why/Part-SAM/part_scene_results/0172/0172_part_summary.txt\n",
      "Part summary appended in /home/wan/Workplace-why/Part-SAM/part_scene_results/0225/0225_part_summary.txt\n",
      "Part summary appended in /home/wan/Workplace-why/Part-SAM/part_scene_results/0225/0225_part_summary.txt\n"
     ]
    },
    {
     "name": "stderr",
     "output_type": "stream",
     "text": [
      " 60%|█████▉    | 179/300 [19:52<12:41,  6.29s/it]"
     ]
    },
    {
     "name": "stdout",
     "output_type": "stream",
     "text": [
      "Part summary appended in /home/wan/Workplace-why/Part-SAM/part_scene_results/0225/0225_part_summary.txt\n",
      "Part summary appended in /home/wan/Workplace-why/Part-SAM/part_scene_results/0276/0276_part_summary.txt\n",
      "Part summary appended in /home/wan/Workplace-why/Part-SAM/part_scene_results/0276/0276_part_summary.txt\n"
     ]
    },
    {
     "name": "stderr",
     "output_type": "stream",
     "text": [
      " 60%|██████    | 180/300 [19:58<12:39,  6.33s/it]"
     ]
    },
    {
     "name": "stdout",
     "output_type": "stream",
     "text": [
      "Part summary appended in /home/wan/Workplace-why/Part-SAM/part_scene_results/0276/0276_part_summary.txt\n",
      "Part summary appended in /home/wan/Workplace-why/Part-SAM/part_scene_results/0085/0085_part_summary.txt\n",
      "Part summary appended in /home/wan/Workplace-why/Part-SAM/part_scene_results/0085/0085_part_summary.txt\n"
     ]
    },
    {
     "name": "stderr",
     "output_type": "stream",
     "text": [
      " 60%|██████    | 181/300 [20:04<12:27,  6.28s/it]"
     ]
    },
    {
     "name": "stdout",
     "output_type": "stream",
     "text": [
      "Part summary appended in /home/wan/Workplace-why/Part-SAM/part_scene_results/0085/0085_part_summary.txt\n",
      "Part summary appended in /home/wan/Workplace-why/Part-SAM/part_scene_results/0266/0266_part_summary.txt\n",
      "Part summary appended in /home/wan/Workplace-why/Part-SAM/part_scene_results/0266/0266_part_summary.txt\n"
     ]
    },
    {
     "name": "stderr",
     "output_type": "stream",
     "text": [
      " 61%|██████    | 182/300 [20:11<12:53,  6.56s/it]"
     ]
    },
    {
     "name": "stdout",
     "output_type": "stream",
     "text": [
      "Part summary appended in /home/wan/Workplace-why/Part-SAM/part_scene_results/0266/0266_part_summary.txt\n",
      "Part summary appended in /home/wan/Workplace-why/Part-SAM/part_scene_results/0208/0208_part_summary.txt\n",
      "Part summary appended in /home/wan/Workplace-why/Part-SAM/part_scene_results/0208/0208_part_summary.txt\n"
     ]
    },
    {
     "name": "stderr",
     "output_type": "stream",
     "text": [
      " 61%|██████    | 183/300 [20:18<12:58,  6.65s/it]"
     ]
    },
    {
     "name": "stdout",
     "output_type": "stream",
     "text": [
      "Part summary appended in /home/wan/Workplace-why/Part-SAM/part_scene_results/0208/0208_part_summary.txt\n",
      "Part summary appended in /home/wan/Workplace-why/Part-SAM/part_scene_results/0089/0089_part_summary.txt\n",
      "Part summary appended in /home/wan/Workplace-why/Part-SAM/part_scene_results/0089/0089_part_summary.txt\n"
     ]
    },
    {
     "name": "stderr",
     "output_type": "stream",
     "text": [
      " 61%|██████▏   | 184/300 [20:25<12:46,  6.61s/it]"
     ]
    },
    {
     "name": "stdout",
     "output_type": "stream",
     "text": [
      "Part summary appended in /home/wan/Workplace-why/Part-SAM/part_scene_results/0089/0089_part_summary.txt\n",
      "Part summary appended in /home/wan/Workplace-why/Part-SAM/part_scene_results/0280/0280_part_summary.txt\n",
      "Part summary appended in /home/wan/Workplace-why/Part-SAM/part_scene_results/0280/0280_part_summary.txt\n"
     ]
    },
    {
     "name": "stderr",
     "output_type": "stream",
     "text": [
      " 62%|██████▏   | 185/300 [20:31<12:30,  6.53s/it]"
     ]
    },
    {
     "name": "stdout",
     "output_type": "stream",
     "text": [
      "Part summary appended in /home/wan/Workplace-why/Part-SAM/part_scene_results/0280/0280_part_summary.txt\n",
      "Part summary appended in /home/wan/Workplace-why/Part-SAM/part_scene_results/0116/0116_part_summary.txt\n",
      "Part summary appended in /home/wan/Workplace-why/Part-SAM/part_scene_results/0116/0116_part_summary.txt\n"
     ]
    },
    {
     "name": "stderr",
     "output_type": "stream",
     "text": [
      " 62%|██████▏   | 186/300 [20:37<12:16,  6.46s/it]"
     ]
    },
    {
     "name": "stdout",
     "output_type": "stream",
     "text": [
      "Part summary appended in /home/wan/Workplace-why/Part-SAM/part_scene_results/0116/0116_part_summary.txt\n",
      "Part summary appended in /home/wan/Workplace-why/Part-SAM/part_scene_results/0006/0006_part_summary.txt\n",
      "Part summary appended in /home/wan/Workplace-why/Part-SAM/part_scene_results/0006/0006_part_summary.txt\n"
     ]
    },
    {
     "name": "stderr",
     "output_type": "stream",
     "text": [
      " 62%|██████▏   | 187/300 [20:43<11:55,  6.33s/it]"
     ]
    },
    {
     "name": "stdout",
     "output_type": "stream",
     "text": [
      "Part summary appended in /home/wan/Workplace-why/Part-SAM/part_scene_results/0006/0006_part_summary.txt\n",
      "Part summary appended in /home/wan/Workplace-why/Part-SAM/part_scene_results/0060/0060_part_summary.txt\n",
      "Part summary appended in /home/wan/Workplace-why/Part-SAM/part_scene_results/0060/0060_part_summary.txt\n"
     ]
    },
    {
     "name": "stderr",
     "output_type": "stream",
     "text": [
      " 63%|██████▎   | 188/300 [20:50<11:40,  6.25s/it]"
     ]
    },
    {
     "name": "stdout",
     "output_type": "stream",
     "text": [
      "Part summary appended in /home/wan/Workplace-why/Part-SAM/part_scene_results/0060/0060_part_summary.txt\n",
      "Part summary appended in /home/wan/Workplace-why/Part-SAM/part_scene_results/0270/0270_part_summary.txt\n",
      "Part summary appended in /home/wan/Workplace-why/Part-SAM/part_scene_results/0270/0270_part_summary.txt\n"
     ]
    },
    {
     "name": "stderr",
     "output_type": "stream",
     "text": [
      " 63%|██████▎   | 189/300 [20:56<11:39,  6.30s/it]"
     ]
    },
    {
     "name": "stdout",
     "output_type": "stream",
     "text": [
      "Part summary appended in /home/wan/Workplace-why/Part-SAM/part_scene_results/0270/0270_part_summary.txt\n",
      "Part summary appended in /home/wan/Workplace-why/Part-SAM/part_scene_results/0219/0219_part_summary.txt\n",
      "Part summary appended in /home/wan/Workplace-why/Part-SAM/part_scene_results/0219/0219_part_summary.txt\n"
     ]
    },
    {
     "name": "stderr",
     "output_type": "stream",
     "text": [
      " 63%|██████▎   | 190/300 [21:02<11:24,  6.22s/it]"
     ]
    },
    {
     "name": "stdout",
     "output_type": "stream",
     "text": [
      "Part summary appended in /home/wan/Workplace-why/Part-SAM/part_scene_results/0219/0219_part_summary.txt\n",
      "Part summary appended in /home/wan/Workplace-why/Part-SAM/part_scene_results/0243/0243_part_summary.txt\n",
      "Part summary appended in /home/wan/Workplace-why/Part-SAM/part_scene_results/0243/0243_part_summary.txt\n"
     ]
    },
    {
     "name": "stderr",
     "output_type": "stream",
     "text": [
      " 64%|██████▎   | 191/300 [21:09<11:32,  6.35s/it]"
     ]
    },
    {
     "name": "stdout",
     "output_type": "stream",
     "text": [
      "Part summary appended in /home/wan/Workplace-why/Part-SAM/part_scene_results/0243/0243_part_summary.txt\n",
      "Part summary appended in /home/wan/Workplace-why/Part-SAM/part_scene_results/0137/0137_part_summary.txt\n",
      "Part summary appended in /home/wan/Workplace-why/Part-SAM/part_scene_results/0137/0137_part_summary.txt\n"
     ]
    },
    {
     "name": "stderr",
     "output_type": "stream",
     "text": [
      " 64%|██████▍   | 192/300 [21:14<11:10,  6.21s/it]"
     ]
    },
    {
     "name": "stdout",
     "output_type": "stream",
     "text": [
      "Part summary appended in /home/wan/Workplace-why/Part-SAM/part_scene_results/0137/0137_part_summary.txt\n",
      "Part summary appended in /home/wan/Workplace-why/Part-SAM/part_scene_results/0023/0023_part_summary.txt\n",
      "Part summary appended in /home/wan/Workplace-why/Part-SAM/part_scene_results/0023/0023_part_summary.txt\n"
     ]
    },
    {
     "name": "stderr",
     "output_type": "stream",
     "text": [
      " 64%|██████▍   | 193/300 [21:21<11:19,  6.35s/it]"
     ]
    },
    {
     "name": "stdout",
     "output_type": "stream",
     "text": [
      "Part summary appended in /home/wan/Workplace-why/Part-SAM/part_scene_results/0023/0023_part_summary.txt\n",
      "Part summary appended in /home/wan/Workplace-why/Part-SAM/part_scene_results/0031/0031_part_summary.txt\n",
      "Part summary appended in /home/wan/Workplace-why/Part-SAM/part_scene_results/0031/0031_part_summary.txt\n"
     ]
    },
    {
     "name": "stderr",
     "output_type": "stream",
     "text": [
      " 65%|██████▍   | 194/300 [21:27<11:06,  6.29s/it]"
     ]
    },
    {
     "name": "stdout",
     "output_type": "stream",
     "text": [
      "Part summary appended in /home/wan/Workplace-why/Part-SAM/part_scene_results/0031/0031_part_summary.txt\n",
      "Part summary appended in /home/wan/Workplace-why/Part-SAM/part_scene_results/0099/0099_part_summary.txt\n",
      "Part summary appended in /home/wan/Workplace-why/Part-SAM/part_scene_results/0099/0099_part_summary.txt\n"
     ]
    },
    {
     "name": "stderr",
     "output_type": "stream",
     "text": [
      " 65%|██████▌   | 195/300 [21:34<11:16,  6.44s/it]"
     ]
    },
    {
     "name": "stdout",
     "output_type": "stream",
     "text": [
      "Part summary appended in /home/wan/Workplace-why/Part-SAM/part_scene_results/0099/0099_part_summary.txt\n",
      "Part summary appended in /home/wan/Workplace-why/Part-SAM/part_scene_results/0140/0140_part_summary.txt\n",
      "Part summary appended in /home/wan/Workplace-why/Part-SAM/part_scene_results/0140/0140_part_summary.txt\n"
     ]
    },
    {
     "name": "stderr",
     "output_type": "stream",
     "text": [
      " 65%|██████▌   | 196/300 [21:40<10:58,  6.33s/it]"
     ]
    },
    {
     "name": "stdout",
     "output_type": "stream",
     "text": [
      "Part summary appended in /home/wan/Workplace-why/Part-SAM/part_scene_results/0140/0140_part_summary.txt\n",
      "Part summary appended in /home/wan/Workplace-why/Part-SAM/part_scene_results/0129/0129_part_summary.txt\n",
      "Part summary appended in /home/wan/Workplace-why/Part-SAM/part_scene_results/0129/0129_part_summary.txt\n"
     ]
    },
    {
     "name": "stderr",
     "output_type": "stream",
     "text": [
      " 66%|██████▌   | 197/300 [21:46<10:48,  6.30s/it]"
     ]
    },
    {
     "name": "stdout",
     "output_type": "stream",
     "text": [
      "Part summary appended in /home/wan/Workplace-why/Part-SAM/part_scene_results/0129/0129_part_summary.txt\n",
      "Part summary appended in /home/wan/Workplace-why/Part-SAM/part_scene_results/0012/0012_part_summary.txt\n",
      "Part summary appended in /home/wan/Workplace-why/Part-SAM/part_scene_results/0012/0012_part_summary.txt\n"
     ]
    },
    {
     "name": "stderr",
     "output_type": "stream",
     "text": [
      " 66%|██████▌   | 198/300 [21:54<11:09,  6.56s/it]"
     ]
    },
    {
     "name": "stdout",
     "output_type": "stream",
     "text": [
      "Part summary appended in /home/wan/Workplace-why/Part-SAM/part_scene_results/0012/0012_part_summary.txt\n",
      "Part summary appended in /home/wan/Workplace-why/Part-SAM/part_scene_results/0093/0093_part_summary.txt\n",
      "Part summary appended in /home/wan/Workplace-why/Part-SAM/part_scene_results/0093/0093_part_summary.txt\n"
     ]
    },
    {
     "name": "stderr",
     "output_type": "stream",
     "text": [
      " 66%|██████▋   | 199/300 [22:00<11:08,  6.62s/it]"
     ]
    },
    {
     "name": "stdout",
     "output_type": "stream",
     "text": [
      "Part summary appended in /home/wan/Workplace-why/Part-SAM/part_scene_results/0093/0093_part_summary.txt\n",
      "Part summary appended in /home/wan/Workplace-why/Part-SAM/part_scene_results/0000/0000_part_summary.txt\n",
      "Part summary appended in /home/wan/Workplace-why/Part-SAM/part_scene_results/0000/0000_part_summary.txt\n"
     ]
    },
    {
     "name": "stderr",
     "output_type": "stream",
     "text": [
      " 67%|██████▋   | 200/300 [22:07<11:09,  6.69s/it]"
     ]
    },
    {
     "name": "stdout",
     "output_type": "stream",
     "text": [
      "Part summary appended in /home/wan/Workplace-why/Part-SAM/part_scene_results/0000/0000_part_summary.txt\n",
      "Part summary appended in /home/wan/Workplace-why/Part-SAM/part_scene_results/0261/0261_part_summary.txt\n",
      "Part summary appended in /home/wan/Workplace-why/Part-SAM/part_scene_results/0261/0261_part_summary.txt\n"
     ]
    },
    {
     "name": "stderr",
     "output_type": "stream",
     "text": [
      " 67%|██████▋   | 201/300 [22:14<10:53,  6.60s/it]"
     ]
    },
    {
     "name": "stdout",
     "output_type": "stream",
     "text": [
      "Part summary appended in /home/wan/Workplace-why/Part-SAM/part_scene_results/0261/0261_part_summary.txt\n",
      "Part summary appended in /home/wan/Workplace-why/Part-SAM/part_scene_results/0156/0156_part_summary.txt\n",
      "Part summary appended in /home/wan/Workplace-why/Part-SAM/part_scene_results/0156/0156_part_summary.txt\n"
     ]
    },
    {
     "name": "stderr",
     "output_type": "stream",
     "text": [
      " 67%|██████▋   | 202/300 [22:21<10:59,  6.73s/it]"
     ]
    },
    {
     "name": "stdout",
     "output_type": "stream",
     "text": [
      "Part summary appended in /home/wan/Workplace-why/Part-SAM/part_scene_results/0156/0156_part_summary.txt\n",
      "Part summary appended in /home/wan/Workplace-why/Part-SAM/part_scene_results/0092/0092_part_summary.txt\n",
      "Part summary appended in /home/wan/Workplace-why/Part-SAM/part_scene_results/0092/0092_part_summary.txt\n"
     ]
    },
    {
     "name": "stderr",
     "output_type": "stream",
     "text": [
      " 68%|██████▊   | 203/300 [22:27<10:43,  6.64s/it]"
     ]
    },
    {
     "name": "stdout",
     "output_type": "stream",
     "text": [
      "Part summary appended in /home/wan/Workplace-why/Part-SAM/part_scene_results/0092/0092_part_summary.txt\n",
      "Part summary appended in /home/wan/Workplace-why/Part-SAM/part_scene_results/0216/0216_part_summary.txt\n",
      "Part summary appended in /home/wan/Workplace-why/Part-SAM/part_scene_results/0216/0216_part_summary.txt\n"
     ]
    },
    {
     "name": "stderr",
     "output_type": "stream",
     "text": [
      " 68%|██████▊   | 204/300 [22:34<10:35,  6.62s/it]"
     ]
    },
    {
     "name": "stdout",
     "output_type": "stream",
     "text": [
      "Part summary appended in /home/wan/Workplace-why/Part-SAM/part_scene_results/0216/0216_part_summary.txt\n",
      "Part summary appended in /home/wan/Workplace-why/Part-SAM/part_scene_results/0269/0269_part_summary.txt\n",
      "Part summary appended in /home/wan/Workplace-why/Part-SAM/part_scene_results/0269/0269_part_summary.txt\n"
     ]
    },
    {
     "name": "stderr",
     "output_type": "stream",
     "text": [
      " 68%|██████▊   | 205/300 [22:40<10:27,  6.61s/it]"
     ]
    },
    {
     "name": "stdout",
     "output_type": "stream",
     "text": [
      "Part summary appended in /home/wan/Workplace-why/Part-SAM/part_scene_results/0269/0269_part_summary.txt\n",
      "Part summary appended in /home/wan/Workplace-why/Part-SAM/part_scene_results/0286/0286_part_summary.txt\n",
      "Part summary appended in /home/wan/Workplace-why/Part-SAM/part_scene_results/0286/0286_part_summary.txt\n"
     ]
    },
    {
     "name": "stderr",
     "output_type": "stream",
     "text": [
      " 69%|██████▊   | 206/300 [22:47<10:12,  6.52s/it]"
     ]
    },
    {
     "name": "stdout",
     "output_type": "stream",
     "text": [
      "Part summary appended in /home/wan/Workplace-why/Part-SAM/part_scene_results/0286/0286_part_summary.txt\n",
      "Part summary appended in /home/wan/Workplace-why/Part-SAM/part_scene_results/0050/0050_part_summary.txt\n",
      "Part summary appended in /home/wan/Workplace-why/Part-SAM/part_scene_results/0050/0050_part_summary.txt\n"
     ]
    },
    {
     "name": "stderr",
     "output_type": "stream",
     "text": [
      " 69%|██████▉   | 207/300 [22:53<09:54,  6.40s/it]"
     ]
    },
    {
     "name": "stdout",
     "output_type": "stream",
     "text": [
      "Part summary appended in /home/wan/Workplace-why/Part-SAM/part_scene_results/0050/0050_part_summary.txt\n",
      "Part summary appended in /home/wan/Workplace-why/Part-SAM/part_scene_results/0217/0217_part_summary.txt\n",
      "Part summary appended in /home/wan/Workplace-why/Part-SAM/part_scene_results/0217/0217_part_summary.txt\n"
     ]
    },
    {
     "name": "stderr",
     "output_type": "stream",
     "text": [
      " 69%|██████▉   | 208/300 [22:59<09:53,  6.45s/it]"
     ]
    },
    {
     "name": "stdout",
     "output_type": "stream",
     "text": [
      "Part summary appended in /home/wan/Workplace-why/Part-SAM/part_scene_results/0217/0217_part_summary.txt\n",
      "Part summary appended in /home/wan/Workplace-why/Part-SAM/part_scene_results/0170/0170_part_summary.txt\n",
      "Part summary appended in /home/wan/Workplace-why/Part-SAM/part_scene_results/0170/0170_part_summary.txt\n"
     ]
    },
    {
     "name": "stderr",
     "output_type": "stream",
     "text": [
      " 70%|██████▉   | 209/300 [23:05<09:39,  6.37s/it]"
     ]
    },
    {
     "name": "stdout",
     "output_type": "stream",
     "text": [
      "Part summary appended in /home/wan/Workplace-why/Part-SAM/part_scene_results/0170/0170_part_summary.txt\n",
      "Part summary appended in /home/wan/Workplace-why/Part-SAM/part_scene_results/0072/0072_part_summary.txt\n",
      "Part summary appended in /home/wan/Workplace-why/Part-SAM/part_scene_results/0072/0072_part_summary.txt\n"
     ]
    },
    {
     "name": "stderr",
     "output_type": "stream",
     "text": [
      " 70%|███████   | 210/300 [23:12<09:27,  6.31s/it]"
     ]
    },
    {
     "name": "stdout",
     "output_type": "stream",
     "text": [
      "Part summary appended in /home/wan/Workplace-why/Part-SAM/part_scene_results/0072/0072_part_summary.txt\n",
      "Part summary appended in /home/wan/Workplace-why/Part-SAM/part_scene_results/0138/0138_part_summary.txt\n",
      "Part summary appended in /home/wan/Workplace-why/Part-SAM/part_scene_results/0138/0138_part_summary.txt\n"
     ]
    },
    {
     "name": "stderr",
     "output_type": "stream",
     "text": [
      " 70%|███████   | 211/300 [23:18<09:20,  6.30s/it]"
     ]
    },
    {
     "name": "stdout",
     "output_type": "stream",
     "text": [
      "Part summary appended in /home/wan/Workplace-why/Part-SAM/part_scene_results/0138/0138_part_summary.txt\n",
      "Part summary appended in /home/wan/Workplace-why/Part-SAM/part_scene_results/0177/0177_part_summary.txt\n",
      "Part summary appended in /home/wan/Workplace-why/Part-SAM/part_scene_results/0177/0177_part_summary.txt\n"
     ]
    },
    {
     "name": "stderr",
     "output_type": "stream",
     "text": [
      " 71%|███████   | 212/300 [23:24<09:14,  6.30s/it]"
     ]
    },
    {
     "name": "stdout",
     "output_type": "stream",
     "text": [
      "Part summary appended in /home/wan/Workplace-why/Part-SAM/part_scene_results/0177/0177_part_summary.txt\n",
      "Part summary appended in /home/wan/Workplace-why/Part-SAM/part_scene_results/0073/0073_part_summary.txt\n",
      "Part summary appended in /home/wan/Workplace-why/Part-SAM/part_scene_results/0073/0073_part_summary.txt\n"
     ]
    },
    {
     "name": "stderr",
     "output_type": "stream",
     "text": [
      " 71%|███████   | 213/300 [23:31<09:16,  6.40s/it]"
     ]
    },
    {
     "name": "stdout",
     "output_type": "stream",
     "text": [
      "Part summary appended in /home/wan/Workplace-why/Part-SAM/part_scene_results/0073/0073_part_summary.txt\n",
      "Part summary appended in /home/wan/Workplace-why/Part-SAM/part_scene_results/0169/0169_part_summary.txt\n",
      "Part summary appended in /home/wan/Workplace-why/Part-SAM/part_scene_results/0169/0169_part_summary.txt\n"
     ]
    },
    {
     "name": "stderr",
     "output_type": "stream",
     "text": [
      " 71%|███████▏  | 214/300 [23:37<09:11,  6.41s/it]"
     ]
    },
    {
     "name": "stdout",
     "output_type": "stream",
     "text": [
      "Part summary appended in /home/wan/Workplace-why/Part-SAM/part_scene_results/0169/0169_part_summary.txt\n",
      "Part summary appended in /home/wan/Workplace-why/Part-SAM/part_scene_results/0148/0148_part_summary.txt\n",
      "Part summary appended in /home/wan/Workplace-why/Part-SAM/part_scene_results/0148/0148_part_summary.txt\n"
     ]
    },
    {
     "name": "stderr",
     "output_type": "stream",
     "text": [
      " 72%|███████▏  | 215/300 [23:43<08:57,  6.32s/it]"
     ]
    },
    {
     "name": "stdout",
     "output_type": "stream",
     "text": [
      "Part summary appended in /home/wan/Workplace-why/Part-SAM/part_scene_results/0148/0148_part_summary.txt\n",
      "Part summary appended in /home/wan/Workplace-why/Part-SAM/part_scene_results/0096/0096_part_summary.txt\n",
      "Part summary appended in /home/wan/Workplace-why/Part-SAM/part_scene_results/0096/0096_part_summary.txt\n"
     ]
    },
    {
     "name": "stderr",
     "output_type": "stream",
     "text": [
      " 72%|███████▏  | 216/300 [23:49<08:42,  6.22s/it]"
     ]
    },
    {
     "name": "stdout",
     "output_type": "stream",
     "text": [
      "Part summary appended in /home/wan/Workplace-why/Part-SAM/part_scene_results/0096/0096_part_summary.txt\n",
      "Part summary appended in /home/wan/Workplace-why/Part-SAM/part_scene_results/0106/0106_part_summary.txt\n",
      "Part summary appended in /home/wan/Workplace-why/Part-SAM/part_scene_results/0106/0106_part_summary.txt\n"
     ]
    },
    {
     "name": "stderr",
     "output_type": "stream",
     "text": [
      " 72%|███████▏  | 217/300 [23:56<08:47,  6.35s/it]"
     ]
    },
    {
     "name": "stdout",
     "output_type": "stream",
     "text": [
      "Part summary appended in /home/wan/Workplace-why/Part-SAM/part_scene_results/0106/0106_part_summary.txt\n",
      "Part summary appended in /home/wan/Workplace-why/Part-SAM/part_scene_results/0201/0201_part_summary.txt\n",
      "Part summary appended in /home/wan/Workplace-why/Part-SAM/part_scene_results/0201/0201_part_summary.txt\n"
     ]
    },
    {
     "name": "stderr",
     "output_type": "stream",
     "text": [
      " 73%|███████▎  | 218/300 [24:02<08:44,  6.39s/it]"
     ]
    },
    {
     "name": "stdout",
     "output_type": "stream",
     "text": [
      "Part summary appended in /home/wan/Workplace-why/Part-SAM/part_scene_results/0201/0201_part_summary.txt\n",
      "Part summary appended in /home/wan/Workplace-why/Part-SAM/part_scene_results/0162/0162_part_summary.txt\n",
      "Part summary appended in /home/wan/Workplace-why/Part-SAM/part_scene_results/0162/0162_part_summary.txt\n"
     ]
    },
    {
     "name": "stderr",
     "output_type": "stream",
     "text": [
      " 73%|███████▎  | 219/300 [24:09<08:34,  6.36s/it]"
     ]
    },
    {
     "name": "stdout",
     "output_type": "stream",
     "text": [
      "Part summary appended in /home/wan/Workplace-why/Part-SAM/part_scene_results/0162/0162_part_summary.txt\n",
      "Part summary appended in /home/wan/Workplace-why/Part-SAM/part_scene_results/0147/0147_part_summary.txt\n",
      "Part summary appended in /home/wan/Workplace-why/Part-SAM/part_scene_results/0147/0147_part_summary.txt\n"
     ]
    },
    {
     "name": "stderr",
     "output_type": "stream",
     "text": [
      " 73%|███████▎  | 220/300 [24:15<08:20,  6.26s/it]"
     ]
    },
    {
     "name": "stdout",
     "output_type": "stream",
     "text": [
      "Part summary appended in /home/wan/Workplace-why/Part-SAM/part_scene_results/0147/0147_part_summary.txt\n",
      "Part summary appended in /home/wan/Workplace-why/Part-SAM/part_scene_results/0017/0017_part_summary.txt\n",
      "Part summary appended in /home/wan/Workplace-why/Part-SAM/part_scene_results/0017/0017_part_summary.txt\n"
     ]
    },
    {
     "name": "stderr",
     "output_type": "stream",
     "text": [
      " 74%|███████▎  | 221/300 [24:21<08:09,  6.19s/it]"
     ]
    },
    {
     "name": "stdout",
     "output_type": "stream",
     "text": [
      "Part summary appended in /home/wan/Workplace-why/Part-SAM/part_scene_results/0017/0017_part_summary.txt\n",
      "Part summary appended in /home/wan/Workplace-why/Part-SAM/part_scene_results/0175/0175_part_summary.txt\n",
      "Part summary appended in /home/wan/Workplace-why/Part-SAM/part_scene_results/0175/0175_part_summary.txt\n"
     ]
    },
    {
     "name": "stderr",
     "output_type": "stream",
     "text": [
      " 74%|███████▍  | 222/300 [24:27<07:58,  6.14s/it]"
     ]
    },
    {
     "name": "stdout",
     "output_type": "stream",
     "text": [
      "Part summary appended in /home/wan/Workplace-why/Part-SAM/part_scene_results/0175/0175_part_summary.txt\n",
      "Part summary appended in /home/wan/Workplace-why/Part-SAM/part_scene_results/0253/0253_part_summary.txt\n",
      "Part summary appended in /home/wan/Workplace-why/Part-SAM/part_scene_results/0253/0253_part_summary.txt\n"
     ]
    },
    {
     "name": "stderr",
     "output_type": "stream",
     "text": [
      " 74%|███████▍  | 223/300 [24:34<08:06,  6.32s/it]"
     ]
    },
    {
     "name": "stdout",
     "output_type": "stream",
     "text": [
      "Part summary appended in /home/wan/Workplace-why/Part-SAM/part_scene_results/0253/0253_part_summary.txt\n",
      "Part summary appended in /home/wan/Workplace-why/Part-SAM/part_scene_results/0265/0265_part_summary.txt\n",
      "Part summary appended in /home/wan/Workplace-why/Part-SAM/part_scene_results/0265/0265_part_summary.txt\n"
     ]
    },
    {
     "name": "stderr",
     "output_type": "stream",
     "text": [
      " 75%|███████▍  | 224/300 [24:40<08:07,  6.41s/it]"
     ]
    },
    {
     "name": "stdout",
     "output_type": "stream",
     "text": [
      "Part summary appended in /home/wan/Workplace-why/Part-SAM/part_scene_results/0265/0265_part_summary.txt\n",
      "Part summary appended in /home/wan/Workplace-why/Part-SAM/part_scene_results/0173/0173_part_summary.txt\n",
      "Part summary appended in /home/wan/Workplace-why/Part-SAM/part_scene_results/0173/0173_part_summary.txt\n"
     ]
    },
    {
     "name": "stderr",
     "output_type": "stream",
     "text": [
      " 75%|███████▌  | 225/300 [24:47<08:06,  6.48s/it]"
     ]
    },
    {
     "name": "stdout",
     "output_type": "stream",
     "text": [
      "Part summary appended in /home/wan/Workplace-why/Part-SAM/part_scene_results/0173/0173_part_summary.txt\n",
      "Part summary appended in /home/wan/Workplace-why/Part-SAM/part_scene_results/0190/0190_part_summary.txt\n",
      "Part summary appended in /home/wan/Workplace-why/Part-SAM/part_scene_results/0190/0190_part_summary.txt\n"
     ]
    },
    {
     "name": "stderr",
     "output_type": "stream",
     "text": [
      " 75%|███████▌  | 226/300 [24:53<07:48,  6.33s/it]"
     ]
    },
    {
     "name": "stdout",
     "output_type": "stream",
     "text": [
      "Part summary appended in /home/wan/Workplace-why/Part-SAM/part_scene_results/0190/0190_part_summary.txt\n",
      "Part summary appended in /home/wan/Workplace-why/Part-SAM/part_scene_results/0142/0142_part_summary.txt\n",
      "Part summary appended in /home/wan/Workplace-why/Part-SAM/part_scene_results/0142/0142_part_summary.txt\n"
     ]
    },
    {
     "name": "stderr",
     "output_type": "stream",
     "text": [
      " 76%|███████▌  | 227/300 [24:59<07:48,  6.42s/it]"
     ]
    },
    {
     "name": "stdout",
     "output_type": "stream",
     "text": [
      "Part summary appended in /home/wan/Workplace-why/Part-SAM/part_scene_results/0142/0142_part_summary.txt\n",
      "Part summary appended in /home/wan/Workplace-why/Part-SAM/part_scene_results/0139/0139_part_summary.txt\n",
      "Part summary appended in /home/wan/Workplace-why/Part-SAM/part_scene_results/0139/0139_part_summary.txt\n"
     ]
    },
    {
     "name": "stderr",
     "output_type": "stream",
     "text": [
      " 76%|███████▌  | 228/300 [25:05<07:32,  6.29s/it]"
     ]
    },
    {
     "name": "stdout",
     "output_type": "stream",
     "text": [
      "Part summary appended in /home/wan/Workplace-why/Part-SAM/part_scene_results/0139/0139_part_summary.txt\n",
      "Part summary appended in /home/wan/Workplace-why/Part-SAM/part_scene_results/0032/0032_part_summary.txt\n",
      "Part summary appended in /home/wan/Workplace-why/Part-SAM/part_scene_results/0032/0032_part_summary.txt\n"
     ]
    },
    {
     "name": "stderr",
     "output_type": "stream",
     "text": [
      " 76%|███████▋  | 229/300 [25:12<07:24,  6.25s/it]"
     ]
    },
    {
     "name": "stdout",
     "output_type": "stream",
     "text": [
      "Part summary appended in /home/wan/Workplace-why/Part-SAM/part_scene_results/0032/0032_part_summary.txt\n",
      "Part summary appended in /home/wan/Workplace-why/Part-SAM/part_scene_results/0039/0039_part_summary.txt\n",
      "Part summary appended in /home/wan/Workplace-why/Part-SAM/part_scene_results/0039/0039_part_summary.txt\n"
     ]
    },
    {
     "name": "stderr",
     "output_type": "stream",
     "text": [
      " 77%|███████▋  | 230/300 [25:18<07:24,  6.35s/it]"
     ]
    },
    {
     "name": "stdout",
     "output_type": "stream",
     "text": [
      "Part summary appended in /home/wan/Workplace-why/Part-SAM/part_scene_results/0039/0039_part_summary.txt\n",
      "Part summary appended in /home/wan/Workplace-why/Part-SAM/part_scene_results/0207/0207_part_summary.txt\n",
      "Part summary appended in /home/wan/Workplace-why/Part-SAM/part_scene_results/0207/0207_part_summary.txt\n"
     ]
    },
    {
     "name": "stderr",
     "output_type": "stream",
     "text": [
      " 77%|███████▋  | 231/300 [25:24<07:10,  6.23s/it]"
     ]
    },
    {
     "name": "stdout",
     "output_type": "stream",
     "text": [
      "Part summary appended in /home/wan/Workplace-why/Part-SAM/part_scene_results/0207/0207_part_summary.txt\n",
      "Part summary appended in /home/wan/Workplace-why/Part-SAM/part_scene_results/0154/0154_part_summary.txt\n",
      "Part summary appended in /home/wan/Workplace-why/Part-SAM/part_scene_results/0154/0154_part_summary.txt\n"
     ]
    },
    {
     "name": "stderr",
     "output_type": "stream",
     "text": [
      " 77%|███████▋  | 232/300 [25:30<07:06,  6.28s/it]"
     ]
    },
    {
     "name": "stdout",
     "output_type": "stream",
     "text": [
      "Part summary appended in /home/wan/Workplace-why/Part-SAM/part_scene_results/0154/0154_part_summary.txt\n",
      "Part summary appended in /home/wan/Workplace-why/Part-SAM/part_scene_results/0077/0077_part_summary.txt\n",
      "Part summary appended in /home/wan/Workplace-why/Part-SAM/part_scene_results/0077/0077_part_summary.txt\n"
     ]
    },
    {
     "name": "stderr",
     "output_type": "stream",
     "text": [
      " 78%|███████▊  | 233/300 [25:36<06:53,  6.17s/it]"
     ]
    },
    {
     "name": "stdout",
     "output_type": "stream",
     "text": [
      "Part summary appended in /home/wan/Workplace-why/Part-SAM/part_scene_results/0077/0077_part_summary.txt\n",
      "Part summary appended in /home/wan/Workplace-why/Part-SAM/part_scene_results/0067/0067_part_summary.txt\n",
      "Part summary appended in /home/wan/Workplace-why/Part-SAM/part_scene_results/0067/0067_part_summary.txt\n"
     ]
    },
    {
     "name": "stderr",
     "output_type": "stream",
     "text": [
      " 78%|███████▊  | 234/300 [25:43<06:53,  6.27s/it]"
     ]
    },
    {
     "name": "stdout",
     "output_type": "stream",
     "text": [
      "Part summary appended in /home/wan/Workplace-why/Part-SAM/part_scene_results/0067/0067_part_summary.txt\n",
      "Part summary appended in /home/wan/Workplace-why/Part-SAM/part_scene_results/0218/0218_part_summary.txt\n",
      "Part summary appended in /home/wan/Workplace-why/Part-SAM/part_scene_results/0218/0218_part_summary.txt\n"
     ]
    },
    {
     "name": "stderr",
     "output_type": "stream",
     "text": [
      " 78%|███████▊  | 235/300 [25:49<06:44,  6.23s/it]"
     ]
    },
    {
     "name": "stdout",
     "output_type": "stream",
     "text": [
      "Part summary appended in /home/wan/Workplace-why/Part-SAM/part_scene_results/0218/0218_part_summary.txt\n",
      "Part summary appended in /home/wan/Workplace-why/Part-SAM/part_scene_results/0282/0282_part_summary.txt\n",
      "Part summary appended in /home/wan/Workplace-why/Part-SAM/part_scene_results/0282/0282_part_summary.txt\n"
     ]
    },
    {
     "name": "stderr",
     "output_type": "stream",
     "text": [
      " 79%|███████▊  | 236/300 [25:55<06:39,  6.24s/it]"
     ]
    },
    {
     "name": "stdout",
     "output_type": "stream",
     "text": [
      "Part summary appended in /home/wan/Workplace-why/Part-SAM/part_scene_results/0282/0282_part_summary.txt\n",
      "Part summary appended in /home/wan/Workplace-why/Part-SAM/part_scene_results/0038/0038_part_summary.txt\n",
      "Part summary appended in /home/wan/Workplace-why/Part-SAM/part_scene_results/0038/0038_part_summary.txt\n"
     ]
    },
    {
     "name": "stderr",
     "output_type": "stream",
     "text": [
      " 79%|███████▉  | 237/300 [26:01<06:30,  6.20s/it]"
     ]
    },
    {
     "name": "stdout",
     "output_type": "stream",
     "text": [
      "Part summary appended in /home/wan/Workplace-why/Part-SAM/part_scene_results/0038/0038_part_summary.txt\n",
      "Part summary appended in /home/wan/Workplace-why/Part-SAM/part_scene_results/0062/0062_part_summary.txt\n",
      "Part summary appended in /home/wan/Workplace-why/Part-SAM/part_scene_results/0062/0062_part_summary.txt\n"
     ]
    },
    {
     "name": "stderr",
     "output_type": "stream",
     "text": [
      " 79%|███████▉  | 238/300 [26:08<06:22,  6.18s/it]"
     ]
    },
    {
     "name": "stdout",
     "output_type": "stream",
     "text": [
      "Part summary appended in /home/wan/Workplace-why/Part-SAM/part_scene_results/0062/0062_part_summary.txt\n",
      "Part summary appended in /home/wan/Workplace-why/Part-SAM/part_scene_results/0126/0126_part_summary.txt\n",
      "Part summary appended in /home/wan/Workplace-why/Part-SAM/part_scene_results/0126/0126_part_summary.txt\n"
     ]
    },
    {
     "name": "stderr",
     "output_type": "stream",
     "text": [
      " 80%|███████▉  | 239/300 [26:14<06:16,  6.17s/it]"
     ]
    },
    {
     "name": "stdout",
     "output_type": "stream",
     "text": [
      "Part summary appended in /home/wan/Workplace-why/Part-SAM/part_scene_results/0126/0126_part_summary.txt\n",
      "Part summary appended in /home/wan/Workplace-why/Part-SAM/part_scene_results/0047/0047_part_summary.txt\n",
      "Part summary appended in /home/wan/Workplace-why/Part-SAM/part_scene_results/0047/0047_part_summary.txt\n"
     ]
    },
    {
     "name": "stderr",
     "output_type": "stream",
     "text": [
      " 80%|████████  | 240/300 [26:20<06:13,  6.22s/it]"
     ]
    },
    {
     "name": "stdout",
     "output_type": "stream",
     "text": [
      "Part summary appended in /home/wan/Workplace-why/Part-SAM/part_scene_results/0047/0047_part_summary.txt\n",
      "Part summary appended in /home/wan/Workplace-why/Part-SAM/part_scene_results/0198/0198_part_summary.txt\n",
      "Part summary appended in /home/wan/Workplace-why/Part-SAM/part_scene_results/0198/0198_part_summary.txt\n"
     ]
    },
    {
     "name": "stderr",
     "output_type": "stream",
     "text": [
      " 80%|████████  | 241/300 [26:26<06:08,  6.25s/it]"
     ]
    },
    {
     "name": "stdout",
     "output_type": "stream",
     "text": [
      "Part summary appended in /home/wan/Workplace-why/Part-SAM/part_scene_results/0198/0198_part_summary.txt\n",
      "Part summary appended in /home/wan/Workplace-why/Part-SAM/part_scene_results/0088/0088_part_summary.txt\n",
      "Part summary appended in /home/wan/Workplace-why/Part-SAM/part_scene_results/0088/0088_part_summary.txt\n"
     ]
    },
    {
     "name": "stderr",
     "output_type": "stream",
     "text": [
      " 81%|████████  | 242/300 [26:33<06:01,  6.24s/it]"
     ]
    },
    {
     "name": "stdout",
     "output_type": "stream",
     "text": [
      "Part summary appended in /home/wan/Workplace-why/Part-SAM/part_scene_results/0088/0088_part_summary.txt\n",
      "Part summary appended in /home/wan/Workplace-why/Part-SAM/part_scene_results/0214/0214_part_summary.txt\n",
      "Part summary appended in /home/wan/Workplace-why/Part-SAM/part_scene_results/0214/0214_part_summary.txt\n"
     ]
    },
    {
     "name": "stderr",
     "output_type": "stream",
     "text": [
      " 81%|████████  | 243/300 [26:39<05:57,  6.27s/it]"
     ]
    },
    {
     "name": "stdout",
     "output_type": "stream",
     "text": [
      "Part summary appended in /home/wan/Workplace-why/Part-SAM/part_scene_results/0214/0214_part_summary.txt\n",
      "Part summary appended in /home/wan/Workplace-why/Part-SAM/part_scene_results/0212/0212_part_summary.txt\n",
      "Part summary appended in /home/wan/Workplace-why/Part-SAM/part_scene_results/0212/0212_part_summary.txt\n"
     ]
    },
    {
     "name": "stderr",
     "output_type": "stream",
     "text": [
      " 81%|████████▏ | 244/300 [26:46<06:03,  6.49s/it]"
     ]
    },
    {
     "name": "stdout",
     "output_type": "stream",
     "text": [
      "Part summary appended in /home/wan/Workplace-why/Part-SAM/part_scene_results/0212/0212_part_summary.txt\n",
      "Part summary appended in /home/wan/Workplace-why/Part-SAM/part_scene_results/0178/0178_part_summary.txt\n",
      "Part summary appended in /home/wan/Workplace-why/Part-SAM/part_scene_results/0178/0178_part_summary.txt\n"
     ]
    },
    {
     "name": "stderr",
     "output_type": "stream",
     "text": [
      " 82%|████████▏ | 245/300 [26:52<05:58,  6.52s/it]"
     ]
    },
    {
     "name": "stdout",
     "output_type": "stream",
     "text": [
      "Part summary appended in /home/wan/Workplace-why/Part-SAM/part_scene_results/0178/0178_part_summary.txt\n",
      "Part summary appended in /home/wan/Workplace-why/Part-SAM/part_scene_results/0200/0200_part_summary.txt\n",
      "Part summary appended in /home/wan/Workplace-why/Part-SAM/part_scene_results/0200/0200_part_summary.txt\n"
     ]
    },
    {
     "name": "stderr",
     "output_type": "stream",
     "text": [
      " 82%|████████▏ | 246/300 [26:59<05:45,  6.39s/it]"
     ]
    },
    {
     "name": "stdout",
     "output_type": "stream",
     "text": [
      "Part summary appended in /home/wan/Workplace-why/Part-SAM/part_scene_results/0200/0200_part_summary.txt\n",
      "Part summary appended in /home/wan/Workplace-why/Part-SAM/part_scene_results/0003/0003_part_summary.txt\n",
      "Part summary appended in /home/wan/Workplace-why/Part-SAM/part_scene_results/0003/0003_part_summary.txt\n"
     ]
    },
    {
     "name": "stderr",
     "output_type": "stream",
     "text": [
      " 82%|████████▏ | 247/300 [27:04<05:29,  6.21s/it]"
     ]
    },
    {
     "name": "stdout",
     "output_type": "stream",
     "text": [
      "Part summary appended in /home/wan/Workplace-why/Part-SAM/part_scene_results/0003/0003_part_summary.txt\n",
      "Part summary appended in /home/wan/Workplace-why/Part-SAM/part_scene_results/0107/0107_part_summary.txt\n",
      "Part summary appended in /home/wan/Workplace-why/Part-SAM/part_scene_results/0107/0107_part_summary.txt\n"
     ]
    },
    {
     "name": "stderr",
     "output_type": "stream",
     "text": [
      " 83%|████████▎ | 248/300 [27:11<05:23,  6.22s/it]"
     ]
    },
    {
     "name": "stdout",
     "output_type": "stream",
     "text": [
      "Part summary appended in /home/wan/Workplace-why/Part-SAM/part_scene_results/0107/0107_part_summary.txt\n",
      "Part summary appended in /home/wan/Workplace-why/Part-SAM/part_scene_results/0244/0244_part_summary.txt\n",
      "Part summary appended in /home/wan/Workplace-why/Part-SAM/part_scene_results/0244/0244_part_summary.txt\n"
     ]
    },
    {
     "name": "stderr",
     "output_type": "stream",
     "text": [
      " 83%|████████▎ | 249/300 [27:17<05:14,  6.17s/it]"
     ]
    },
    {
     "name": "stdout",
     "output_type": "stream",
     "text": [
      "Part summary appended in /home/wan/Workplace-why/Part-SAM/part_scene_results/0244/0244_part_summary.txt\n",
      "Part summary appended in /home/wan/Workplace-why/Part-SAM/part_scene_results/0035/0035_part_summary.txt\n",
      "Part summary appended in /home/wan/Workplace-why/Part-SAM/part_scene_results/0035/0035_part_summary.txt\n"
     ]
    },
    {
     "name": "stderr",
     "output_type": "stream",
     "text": [
      " 83%|████████▎ | 250/300 [27:23<05:05,  6.10s/it]"
     ]
    },
    {
     "name": "stdout",
     "output_type": "stream",
     "text": [
      "Part summary appended in /home/wan/Workplace-why/Part-SAM/part_scene_results/0035/0035_part_summary.txt\n",
      "Part summary appended in /home/wan/Workplace-why/Part-SAM/part_scene_results/0049/0049_part_summary.txt\n",
      "Part summary appended in /home/wan/Workplace-why/Part-SAM/part_scene_results/0049/0049_part_summary.txt\n"
     ]
    },
    {
     "name": "stderr",
     "output_type": "stream",
     "text": [
      " 84%|████████▎ | 251/300 [27:29<05:04,  6.21s/it]"
     ]
    },
    {
     "name": "stdout",
     "output_type": "stream",
     "text": [
      "Part summary appended in /home/wan/Workplace-why/Part-SAM/part_scene_results/0049/0049_part_summary.txt\n",
      "Part summary appended in /home/wan/Workplace-why/Part-SAM/part_scene_results/0018/0018_part_summary.txt\n",
      "Part summary appended in /home/wan/Workplace-why/Part-SAM/part_scene_results/0018/0018_part_summary.txt\n"
     ]
    },
    {
     "name": "stderr",
     "output_type": "stream",
     "text": [
      " 84%|████████▍ | 252/300 [27:35<04:55,  6.15s/it]"
     ]
    },
    {
     "name": "stdout",
     "output_type": "stream",
     "text": [
      "Part summary appended in /home/wan/Workplace-why/Part-SAM/part_scene_results/0018/0018_part_summary.txt\n",
      "Part summary appended in /home/wan/Workplace-why/Part-SAM/part_scene_results/0195/0195_part_summary.txt\n",
      "Part summary appended in /home/wan/Workplace-why/Part-SAM/part_scene_results/0195/0195_part_summary.txt\n"
     ]
    },
    {
     "name": "stderr",
     "output_type": "stream",
     "text": [
      " 84%|████████▍ | 253/300 [27:42<04:58,  6.34s/it]"
     ]
    },
    {
     "name": "stdout",
     "output_type": "stream",
     "text": [
      "Part summary appended in /home/wan/Workplace-why/Part-SAM/part_scene_results/0195/0195_part_summary.txt\n",
      "Part summary appended in /home/wan/Workplace-why/Part-SAM/part_scene_results/0151/0151_part_summary.txt\n",
      "Part summary appended in /home/wan/Workplace-why/Part-SAM/part_scene_results/0151/0151_part_summary.txt\n"
     ]
    },
    {
     "name": "stderr",
     "output_type": "stream",
     "text": [
      " 85%|████████▍ | 254/300 [27:48<04:44,  6.17s/it]"
     ]
    },
    {
     "name": "stdout",
     "output_type": "stream",
     "text": [
      "Part summary appended in /home/wan/Workplace-why/Part-SAM/part_scene_results/0151/0151_part_summary.txt\n",
      "Part summary appended in /home/wan/Workplace-why/Part-SAM/part_scene_results/0277/0277_part_summary.txt\n",
      "Part summary appended in /home/wan/Workplace-why/Part-SAM/part_scene_results/0277/0277_part_summary.txt\n"
     ]
    },
    {
     "name": "stderr",
     "output_type": "stream",
     "text": [
      " 85%|████████▌ | 255/300 [27:54<04:38,  6.19s/it]"
     ]
    },
    {
     "name": "stdout",
     "output_type": "stream",
     "text": [
      "Part summary appended in /home/wan/Workplace-why/Part-SAM/part_scene_results/0277/0277_part_summary.txt\n",
      "Part summary appended in /home/wan/Workplace-why/Part-SAM/part_scene_results/0257/0257_part_summary.txt\n",
      "Part summary appended in /home/wan/Workplace-why/Part-SAM/part_scene_results/0257/0257_part_summary.txt\n"
     ]
    },
    {
     "name": "stderr",
     "output_type": "stream",
     "text": [
      " 85%|████████▌ | 256/300 [28:00<04:30,  6.15s/it]"
     ]
    },
    {
     "name": "stdout",
     "output_type": "stream",
     "text": [
      "Part summary appended in /home/wan/Workplace-why/Part-SAM/part_scene_results/0257/0257_part_summary.txt\n",
      "Part summary appended in /home/wan/Workplace-why/Part-SAM/part_scene_results/0029/0029_part_summary.txt\n",
      "Part summary appended in /home/wan/Workplace-why/Part-SAM/part_scene_results/0029/0029_part_summary.txt\n"
     ]
    },
    {
     "name": "stderr",
     "output_type": "stream",
     "text": [
      " 86%|████████▌ | 257/300 [28:07<04:36,  6.44s/it]"
     ]
    },
    {
     "name": "stdout",
     "output_type": "stream",
     "text": [
      "Part summary appended in /home/wan/Workplace-why/Part-SAM/part_scene_results/0029/0029_part_summary.txt\n",
      "Part summary appended in /home/wan/Workplace-why/Part-SAM/part_scene_results/0163/0163_part_summary.txt\n",
      "Part summary appended in /home/wan/Workplace-why/Part-SAM/part_scene_results/0163/0163_part_summary.txt\n"
     ]
    },
    {
     "name": "stderr",
     "output_type": "stream",
     "text": [
      " 86%|████████▌ | 258/300 [28:13<04:27,  6.37s/it]"
     ]
    },
    {
     "name": "stdout",
     "output_type": "stream",
     "text": [
      "Part summary appended in /home/wan/Workplace-why/Part-SAM/part_scene_results/0163/0163_part_summary.txt\n",
      "Part summary appended in /home/wan/Workplace-why/Part-SAM/part_scene_results/0030/0030_part_summary.txt\n",
      "Part summary appended in /home/wan/Workplace-why/Part-SAM/part_scene_results/0030/0030_part_summary.txt\n"
     ]
    },
    {
     "name": "stderr",
     "output_type": "stream",
     "text": [
      " 86%|████████▋ | 259/300 [28:20<04:20,  6.34s/it]"
     ]
    },
    {
     "name": "stdout",
     "output_type": "stream",
     "text": [
      "Part summary appended in /home/wan/Workplace-why/Part-SAM/part_scene_results/0030/0030_part_summary.txt\n",
      "Part summary appended in /home/wan/Workplace-why/Part-SAM/part_scene_results/0146/0146_part_summary.txt\n",
      "Part summary appended in /home/wan/Workplace-why/Part-SAM/part_scene_results/0146/0146_part_summary.txt\n"
     ]
    },
    {
     "name": "stderr",
     "output_type": "stream",
     "text": [
      " 87%|████████▋ | 260/300 [28:26<04:13,  6.34s/it]"
     ]
    },
    {
     "name": "stdout",
     "output_type": "stream",
     "text": [
      "Part summary appended in /home/wan/Workplace-why/Part-SAM/part_scene_results/0146/0146_part_summary.txt\n",
      "Part summary appended in /home/wan/Workplace-why/Part-SAM/part_scene_results/0262/0262_part_summary.txt\n",
      "Part summary appended in /home/wan/Workplace-why/Part-SAM/part_scene_results/0262/0262_part_summary.txt\n"
     ]
    },
    {
     "name": "stderr",
     "output_type": "stream",
     "text": [
      " 87%|████████▋ | 261/300 [28:32<04:06,  6.32s/it]"
     ]
    },
    {
     "name": "stdout",
     "output_type": "stream",
     "text": [
      "Part summary appended in /home/wan/Workplace-why/Part-SAM/part_scene_results/0262/0262_part_summary.txt\n",
      "Part summary appended in /home/wan/Workplace-why/Part-SAM/part_scene_results/0160/0160_part_summary.txt\n",
      "Part summary appended in /home/wan/Workplace-why/Part-SAM/part_scene_results/0160/0160_part_summary.txt\n"
     ]
    },
    {
     "name": "stderr",
     "output_type": "stream",
     "text": [
      " 87%|████████▋ | 262/300 [28:38<03:55,  6.21s/it]"
     ]
    },
    {
     "name": "stdout",
     "output_type": "stream",
     "text": [
      "Part summary appended in /home/wan/Workplace-why/Part-SAM/part_scene_results/0160/0160_part_summary.txt\n",
      "Part summary appended in /home/wan/Workplace-why/Part-SAM/part_scene_results/0281/0281_part_summary.txt\n",
      "Part summary appended in /home/wan/Workplace-why/Part-SAM/part_scene_results/0281/0281_part_summary.txt\n"
     ]
    },
    {
     "name": "stderr",
     "output_type": "stream",
     "text": [
      " 88%|████████▊ | 263/300 [28:44<03:48,  6.18s/it]"
     ]
    },
    {
     "name": "stdout",
     "output_type": "stream",
     "text": [
      "Part summary appended in /home/wan/Workplace-why/Part-SAM/part_scene_results/0281/0281_part_summary.txt\n",
      "Part summary appended in /home/wan/Workplace-why/Part-SAM/part_scene_results/0027/0027_part_summary.txt\n",
      "Part summary appended in /home/wan/Workplace-why/Part-SAM/part_scene_results/0027/0027_part_summary.txt\n"
     ]
    },
    {
     "name": "stderr",
     "output_type": "stream",
     "text": [
      " 88%|████████▊ | 264/300 [28:51<03:46,  6.30s/it]"
     ]
    },
    {
     "name": "stdout",
     "output_type": "stream",
     "text": [
      "Part summary appended in /home/wan/Workplace-why/Part-SAM/part_scene_results/0027/0027_part_summary.txt\n",
      "Part summary appended in /home/wan/Workplace-why/Part-SAM/part_scene_results/0084/0084_part_summary.txt\n",
      "Part summary appended in /home/wan/Workplace-why/Part-SAM/part_scene_results/0084/0084_part_summary.txt\n"
     ]
    },
    {
     "name": "stderr",
     "output_type": "stream",
     "text": [
      " 88%|████████▊ | 265/300 [28:57<03:38,  6.25s/it]"
     ]
    },
    {
     "name": "stdout",
     "output_type": "stream",
     "text": [
      "Part summary appended in /home/wan/Workplace-why/Part-SAM/part_scene_results/0084/0084_part_summary.txt\n",
      "Part summary appended in /home/wan/Workplace-why/Part-SAM/part_scene_results/0118/0118_part_summary.txt\n",
      "Part summary appended in /home/wan/Workplace-why/Part-SAM/part_scene_results/0118/0118_part_summary.txt\n"
     ]
    },
    {
     "name": "stderr",
     "output_type": "stream",
     "text": [
      " 89%|████████▊ | 266/300 [29:03<03:32,  6.25s/it]"
     ]
    },
    {
     "name": "stdout",
     "output_type": "stream",
     "text": [
      "Part summary appended in /home/wan/Workplace-why/Part-SAM/part_scene_results/0118/0118_part_summary.txt\n",
      "Part summary appended in /home/wan/Workplace-why/Part-SAM/part_scene_results/0249/0249_part_summary.txt\n",
      "Part summary appended in /home/wan/Workplace-why/Part-SAM/part_scene_results/0249/0249_part_summary.txt\n"
     ]
    },
    {
     "name": "stderr",
     "output_type": "stream",
     "text": [
      " 89%|████████▉ | 267/300 [29:09<03:23,  6.18s/it]"
     ]
    },
    {
     "name": "stdout",
     "output_type": "stream",
     "text": [
      "Part summary appended in /home/wan/Workplace-why/Part-SAM/part_scene_results/0249/0249_part_summary.txt\n",
      "Part summary appended in /home/wan/Workplace-why/Part-SAM/part_scene_results/0057/0057_part_summary.txt\n",
      "Part summary appended in /home/wan/Workplace-why/Part-SAM/part_scene_results/0057/0057_part_summary.txt\n"
     ]
    },
    {
     "name": "stderr",
     "output_type": "stream",
     "text": [
      " 89%|████████▉ | 268/300 [29:15<03:17,  6.18s/it]"
     ]
    },
    {
     "name": "stdout",
     "output_type": "stream",
     "text": [
      "Part summary appended in /home/wan/Workplace-why/Part-SAM/part_scene_results/0057/0057_part_summary.txt\n",
      "Part summary appended in /home/wan/Workplace-why/Part-SAM/part_scene_results/0264/0264_part_summary.txt\n",
      "Part summary appended in /home/wan/Workplace-why/Part-SAM/part_scene_results/0264/0264_part_summary.txt\n"
     ]
    },
    {
     "name": "stderr",
     "output_type": "stream",
     "text": [
      " 90%|████████▉ | 269/300 [29:21<03:10,  6.16s/it]"
     ]
    },
    {
     "name": "stdout",
     "output_type": "stream",
     "text": [
      "Part summary appended in /home/wan/Workplace-why/Part-SAM/part_scene_results/0264/0264_part_summary.txt\n",
      "Part summary appended in /home/wan/Workplace-why/Part-SAM/part_scene_results/0068/0068_part_summary.txt\n",
      "Part summary appended in /home/wan/Workplace-why/Part-SAM/part_scene_results/0068/0068_part_summary.txt\n"
     ]
    },
    {
     "name": "stderr",
     "output_type": "stream",
     "text": [
      " 90%|█████████ | 270/300 [29:28<03:05,  6.19s/it]"
     ]
    },
    {
     "name": "stdout",
     "output_type": "stream",
     "text": [
      "Part summary appended in /home/wan/Workplace-why/Part-SAM/part_scene_results/0068/0068_part_summary.txt\n",
      "Part summary appended in /home/wan/Workplace-why/Part-SAM/part_scene_results/0007/0007_part_summary.txt\n",
      "Part summary appended in /home/wan/Workplace-why/Part-SAM/part_scene_results/0007/0007_part_summary.txt\n"
     ]
    },
    {
     "name": "stderr",
     "output_type": "stream",
     "text": [
      " 90%|█████████ | 271/300 [29:34<03:00,  6.23s/it]"
     ]
    },
    {
     "name": "stdout",
     "output_type": "stream",
     "text": [
      "Part summary appended in /home/wan/Workplace-why/Part-SAM/part_scene_results/0007/0007_part_summary.txt\n",
      "Part summary appended in /home/wan/Workplace-why/Part-SAM/part_scene_results/0227/0227_part_summary.txt\n",
      "Part summary appended in /home/wan/Workplace-why/Part-SAM/part_scene_results/0227/0227_part_summary.txt\n"
     ]
    },
    {
     "name": "stderr",
     "output_type": "stream",
     "text": [
      " 91%|█████████ | 272/300 [29:40<02:53,  6.20s/it]"
     ]
    },
    {
     "name": "stdout",
     "output_type": "stream",
     "text": [
      "Part summary appended in /home/wan/Workplace-why/Part-SAM/part_scene_results/0227/0227_part_summary.txt\n",
      "Part summary appended in /home/wan/Workplace-why/Part-SAM/part_scene_results/0037/0037_part_summary.txt\n",
      "Part summary appended in /home/wan/Workplace-why/Part-SAM/part_scene_results/0037/0037_part_summary.txt\n"
     ]
    },
    {
     "name": "stderr",
     "output_type": "stream",
     "text": [
      " 91%|█████████ | 273/300 [29:47<02:50,  6.30s/it]"
     ]
    },
    {
     "name": "stdout",
     "output_type": "stream",
     "text": [
      "Part summary appended in /home/wan/Workplace-why/Part-SAM/part_scene_results/0037/0037_part_summary.txt\n",
      "Part summary appended in /home/wan/Workplace-why/Part-SAM/part_scene_results/0180/0180_part_summary.txt\n",
      "Part summary appended in /home/wan/Workplace-why/Part-SAM/part_scene_results/0180/0180_part_summary.txt\n"
     ]
    },
    {
     "name": "stderr",
     "output_type": "stream",
     "text": [
      " 91%|█████████▏| 274/300 [29:53<02:42,  6.25s/it]"
     ]
    },
    {
     "name": "stdout",
     "output_type": "stream",
     "text": [
      "Part summary appended in /home/wan/Workplace-why/Part-SAM/part_scene_results/0180/0180_part_summary.txt\n",
      "Part summary appended in /home/wan/Workplace-why/Part-SAM/part_scene_results/0205/0205_part_summary.txt\n",
      "Part summary appended in /home/wan/Workplace-why/Part-SAM/part_scene_results/0205/0205_part_summary.txt\n"
     ]
    },
    {
     "name": "stderr",
     "output_type": "stream",
     "text": [
      " 92%|█████████▏| 275/300 [29:59<02:38,  6.34s/it]"
     ]
    },
    {
     "name": "stdout",
     "output_type": "stream",
     "text": [
      "Part summary appended in /home/wan/Workplace-why/Part-SAM/part_scene_results/0205/0205_part_summary.txt\n",
      "Part summary appended in /home/wan/Workplace-why/Part-SAM/part_scene_results/0008/0008_part_summary.txt\n",
      "Part summary appended in /home/wan/Workplace-why/Part-SAM/part_scene_results/0008/0008_part_summary.txt\n"
     ]
    },
    {
     "name": "stderr",
     "output_type": "stream",
     "text": [
      " 92%|█████████▏| 276/300 [30:06<02:33,  6.41s/it]"
     ]
    },
    {
     "name": "stdout",
     "output_type": "stream",
     "text": [
      "Part summary appended in /home/wan/Workplace-why/Part-SAM/part_scene_results/0008/0008_part_summary.txt\n",
      "Part summary appended in /home/wan/Workplace-why/Part-SAM/part_scene_results/0043/0043_part_summary.txt\n",
      "Part summary appended in /home/wan/Workplace-why/Part-SAM/part_scene_results/0043/0043_part_summary.txt\n"
     ]
    },
    {
     "name": "stderr",
     "output_type": "stream",
     "text": [
      " 92%|█████████▏| 277/300 [30:13<02:29,  6.51s/it]"
     ]
    },
    {
     "name": "stdout",
     "output_type": "stream",
     "text": [
      "Part summary appended in /home/wan/Workplace-why/Part-SAM/part_scene_results/0043/0043_part_summary.txt\n",
      "Part summary appended in /home/wan/Workplace-why/Part-SAM/part_scene_results/0121/0121_part_summary.txt\n",
      "Part summary appended in /home/wan/Workplace-why/Part-SAM/part_scene_results/0121/0121_part_summary.txt\n"
     ]
    },
    {
     "name": "stderr",
     "output_type": "stream",
     "text": [
      " 93%|█████████▎| 278/300 [30:19<02:19,  6.35s/it]"
     ]
    },
    {
     "name": "stdout",
     "output_type": "stream",
     "text": [
      "Part summary appended in /home/wan/Workplace-why/Part-SAM/part_scene_results/0121/0121_part_summary.txt\n",
      "Part summary appended in /home/wan/Workplace-why/Part-SAM/part_scene_results/0124/0124_part_summary.txt\n",
      "Part summary appended in /home/wan/Workplace-why/Part-SAM/part_scene_results/0124/0124_part_summary.txt\n"
     ]
    },
    {
     "name": "stderr",
     "output_type": "stream",
     "text": [
      " 93%|█████████▎| 279/300 [30:25<02:12,  6.31s/it]"
     ]
    },
    {
     "name": "stdout",
     "output_type": "stream",
     "text": [
      "Part summary appended in /home/wan/Workplace-why/Part-SAM/part_scene_results/0124/0124_part_summary.txt\n",
      "Part summary appended in /home/wan/Workplace-why/Part-SAM/part_scene_results/0114/0114_part_summary.txt\n",
      "Part summary appended in /home/wan/Workplace-why/Part-SAM/part_scene_results/0114/0114_part_summary.txt\n"
     ]
    },
    {
     "name": "stderr",
     "output_type": "stream",
     "text": [
      " 93%|█████████▎| 280/300 [30:31<02:07,  6.37s/it]"
     ]
    },
    {
     "name": "stdout",
     "output_type": "stream",
     "text": [
      "Part summary appended in /home/wan/Workplace-why/Part-SAM/part_scene_results/0114/0114_part_summary.txt\n",
      "Part summary appended in /home/wan/Workplace-why/Part-SAM/part_scene_results/0164/0164_part_summary.txt\n",
      "Part summary appended in /home/wan/Workplace-why/Part-SAM/part_scene_results/0164/0164_part_summary.txt\n"
     ]
    },
    {
     "name": "stderr",
     "output_type": "stream",
     "text": [
      " 94%|█████████▎| 281/300 [30:38<02:02,  6.44s/it]"
     ]
    },
    {
     "name": "stdout",
     "output_type": "stream",
     "text": [
      "Part summary appended in /home/wan/Workplace-why/Part-SAM/part_scene_results/0164/0164_part_summary.txt\n",
      "Part summary appended in /home/wan/Workplace-why/Part-SAM/part_scene_results/0278/0278_part_summary.txt\n",
      "Part summary appended in /home/wan/Workplace-why/Part-SAM/part_scene_results/0278/0278_part_summary.txt\n"
     ]
    },
    {
     "name": "stderr",
     "output_type": "stream",
     "text": [
      " 94%|█████████▍| 282/300 [30:45<01:58,  6.56s/it]"
     ]
    },
    {
     "name": "stdout",
     "output_type": "stream",
     "text": [
      "Part summary appended in /home/wan/Workplace-why/Part-SAM/part_scene_results/0278/0278_part_summary.txt\n",
      "Part summary appended in /home/wan/Workplace-why/Part-SAM/part_scene_results/0196/0196_part_summary.txt\n",
      "Part summary appended in /home/wan/Workplace-why/Part-SAM/part_scene_results/0196/0196_part_summary.txt\n"
     ]
    },
    {
     "name": "stderr",
     "output_type": "stream",
     "text": [
      " 94%|█████████▍| 283/300 [30:51<01:49,  6.43s/it]"
     ]
    },
    {
     "name": "stdout",
     "output_type": "stream",
     "text": [
      "Part summary appended in /home/wan/Workplace-why/Part-SAM/part_scene_results/0196/0196_part_summary.txt\n",
      "Part summary appended in /home/wan/Workplace-why/Part-SAM/part_scene_results/0213/0213_part_summary.txt\n",
      "Part summary appended in /home/wan/Workplace-why/Part-SAM/part_scene_results/0213/0213_part_summary.txt\n"
     ]
    },
    {
     "name": "stderr",
     "output_type": "stream",
     "text": [
      " 95%|█████████▍| 284/300 [30:57<01:40,  6.30s/it]"
     ]
    },
    {
     "name": "stdout",
     "output_type": "stream",
     "text": [
      "Part summary appended in /home/wan/Workplace-why/Part-SAM/part_scene_results/0213/0213_part_summary.txt\n",
      "Part summary appended in /home/wan/Workplace-why/Part-SAM/part_scene_results/0299/0299_part_summary.txt\n",
      "Part summary appended in /home/wan/Workplace-why/Part-SAM/part_scene_results/0299/0299_part_summary.txt\n"
     ]
    },
    {
     "name": "stderr",
     "output_type": "stream",
     "text": [
      " 95%|█████████▌| 285/300 [31:03<01:35,  6.35s/it]"
     ]
    },
    {
     "name": "stdout",
     "output_type": "stream",
     "text": [
      "Part summary appended in /home/wan/Workplace-why/Part-SAM/part_scene_results/0299/0299_part_summary.txt\n",
      "Part summary appended in /home/wan/Workplace-why/Part-SAM/part_scene_results/0185/0185_part_summary.txt\n",
      "Part summary appended in /home/wan/Workplace-why/Part-SAM/part_scene_results/0185/0185_part_summary.txt\n"
     ]
    },
    {
     "name": "stderr",
     "output_type": "stream",
     "text": [
      " 95%|█████████▌| 286/300 [31:10<01:28,  6.30s/it]"
     ]
    },
    {
     "name": "stdout",
     "output_type": "stream",
     "text": [
      "Part summary appended in /home/wan/Workplace-why/Part-SAM/part_scene_results/0185/0185_part_summary.txt\n",
      "Part summary appended in /home/wan/Workplace-why/Part-SAM/part_scene_results/0252/0252_part_summary.txt\n",
      "Part summary appended in /home/wan/Workplace-why/Part-SAM/part_scene_results/0252/0252_part_summary.txt\n"
     ]
    },
    {
     "name": "stderr",
     "output_type": "stream",
     "text": [
      " 96%|█████████▌| 287/300 [31:16<01:20,  6.20s/it]"
     ]
    },
    {
     "name": "stdout",
     "output_type": "stream",
     "text": [
      "Part summary appended in /home/wan/Workplace-why/Part-SAM/part_scene_results/0252/0252_part_summary.txt\n",
      "Part summary appended in /home/wan/Workplace-why/Part-SAM/part_scene_results/0131/0131_part_summary.txt\n",
      "Part summary appended in /home/wan/Workplace-why/Part-SAM/part_scene_results/0131/0131_part_summary.txt\n"
     ]
    },
    {
     "name": "stderr",
     "output_type": "stream",
     "text": [
      " 96%|█████████▌| 288/300 [31:22<01:14,  6.24s/it]"
     ]
    },
    {
     "name": "stdout",
     "output_type": "stream",
     "text": [
      "Part summary appended in /home/wan/Workplace-why/Part-SAM/part_scene_results/0131/0131_part_summary.txt\n",
      "Part summary appended in /home/wan/Workplace-why/Part-SAM/part_scene_results/0298/0298_part_summary.txt\n",
      "Part summary appended in /home/wan/Workplace-why/Part-SAM/part_scene_results/0298/0298_part_summary.txt\n"
     ]
    },
    {
     "name": "stderr",
     "output_type": "stream",
     "text": [
      " 96%|█████████▋| 289/300 [31:28<01:08,  6.25s/it]"
     ]
    },
    {
     "name": "stdout",
     "output_type": "stream",
     "text": [
      "Part summary appended in /home/wan/Workplace-why/Part-SAM/part_scene_results/0298/0298_part_summary.txt\n",
      "Part summary appended in /home/wan/Workplace-why/Part-SAM/part_scene_results/0183/0183_part_summary.txt\n",
      "Part summary appended in /home/wan/Workplace-why/Part-SAM/part_scene_results/0183/0183_part_summary.txt\n"
     ]
    },
    {
     "name": "stderr",
     "output_type": "stream",
     "text": [
      " 97%|█████████▋| 290/300 [31:34<01:01,  6.16s/it]"
     ]
    },
    {
     "name": "stdout",
     "output_type": "stream",
     "text": [
      "Part summary appended in /home/wan/Workplace-why/Part-SAM/part_scene_results/0183/0183_part_summary.txt\n",
      "Part summary appended in /home/wan/Workplace-why/Part-SAM/part_scene_results/0125/0125_part_summary.txt\n",
      "Part summary appended in /home/wan/Workplace-why/Part-SAM/part_scene_results/0125/0125_part_summary.txt\n"
     ]
    },
    {
     "name": "stderr",
     "output_type": "stream",
     "text": [
      " 97%|█████████▋| 291/300 [31:40<00:54,  6.10s/it]"
     ]
    },
    {
     "name": "stdout",
     "output_type": "stream",
     "text": [
      "Part summary appended in /home/wan/Workplace-why/Part-SAM/part_scene_results/0125/0125_part_summary.txt\n",
      "Part summary appended in /home/wan/Workplace-why/Part-SAM/part_scene_results/0122/0122_part_summary.txt\n",
      "Part summary appended in /home/wan/Workplace-why/Part-SAM/part_scene_results/0122/0122_part_summary.txt\n"
     ]
    },
    {
     "name": "stderr",
     "output_type": "stream",
     "text": [
      " 97%|█████████▋| 292/300 [31:47<00:50,  6.31s/it]"
     ]
    },
    {
     "name": "stdout",
     "output_type": "stream",
     "text": [
      "Part summary appended in /home/wan/Workplace-why/Part-SAM/part_scene_results/0122/0122_part_summary.txt\n",
      "Part summary appended in /home/wan/Workplace-why/Part-SAM/part_scene_results/0134/0134_part_summary.txt\n",
      "Part summary appended in /home/wan/Workplace-why/Part-SAM/part_scene_results/0134/0134_part_summary.txt\n"
     ]
    },
    {
     "name": "stderr",
     "output_type": "stream",
     "text": [
      " 98%|█████████▊| 293/300 [31:53<00:43,  6.28s/it]"
     ]
    },
    {
     "name": "stdout",
     "output_type": "stream",
     "text": [
      "Part summary appended in /home/wan/Workplace-why/Part-SAM/part_scene_results/0134/0134_part_summary.txt\n",
      "Part summary appended in /home/wan/Workplace-why/Part-SAM/part_scene_results/0028/0028_part_summary.txt\n",
      "Part summary appended in /home/wan/Workplace-why/Part-SAM/part_scene_results/0028/0028_part_summary.txt\n"
     ]
    },
    {
     "name": "stderr",
     "output_type": "stream",
     "text": [
      " 98%|█████████▊| 294/300 [31:59<00:36,  6.15s/it]"
     ]
    },
    {
     "name": "stdout",
     "output_type": "stream",
     "text": [
      "Part summary appended in /home/wan/Workplace-why/Part-SAM/part_scene_results/0028/0028_part_summary.txt\n",
      "Part summary appended in /home/wan/Workplace-why/Part-SAM/part_scene_results/0117/0117_part_summary.txt\n",
      "Part summary appended in /home/wan/Workplace-why/Part-SAM/part_scene_results/0117/0117_part_summary.txt\n"
     ]
    },
    {
     "name": "stderr",
     "output_type": "stream",
     "text": [
      " 98%|█████████▊| 295/300 [32:05<00:30,  6.10s/it]"
     ]
    },
    {
     "name": "stdout",
     "output_type": "stream",
     "text": [
      "Part summary appended in /home/wan/Workplace-why/Part-SAM/part_scene_results/0117/0117_part_summary.txt\n",
      "Part summary appended in /home/wan/Workplace-why/Part-SAM/part_scene_results/0274/0274_part_summary.txt\n",
      "Part summary appended in /home/wan/Workplace-why/Part-SAM/part_scene_results/0274/0274_part_summary.txt\n"
     ]
    },
    {
     "name": "stderr",
     "output_type": "stream",
     "text": [
      " 99%|█████████▊| 296/300 [32:12<00:25,  6.31s/it]"
     ]
    },
    {
     "name": "stdout",
     "output_type": "stream",
     "text": [
      "Part summary appended in /home/wan/Workplace-why/Part-SAM/part_scene_results/0274/0274_part_summary.txt\n",
      "Part summary appended in /home/wan/Workplace-why/Part-SAM/part_scene_results/0165/0165_part_summary.txt\n",
      "Part summary appended in /home/wan/Workplace-why/Part-SAM/part_scene_results/0165/0165_part_summary.txt\n"
     ]
    },
    {
     "name": "stderr",
     "output_type": "stream",
     "text": [
      " 99%|█████████▉| 297/300 [32:18<00:19,  6.42s/it]"
     ]
    },
    {
     "name": "stdout",
     "output_type": "stream",
     "text": [
      "Part summary appended in /home/wan/Workplace-why/Part-SAM/part_scene_results/0165/0165_part_summary.txt\n",
      "Part summary appended in /home/wan/Workplace-why/Part-SAM/part_scene_results/0211/0211_part_summary.txt\n",
      "Part summary appended in /home/wan/Workplace-why/Part-SAM/part_scene_results/0211/0211_part_summary.txt\n"
     ]
    },
    {
     "name": "stderr",
     "output_type": "stream",
     "text": [
      " 99%|█████████▉| 298/300 [32:25<00:12,  6.43s/it]"
     ]
    },
    {
     "name": "stdout",
     "output_type": "stream",
     "text": [
      "Part summary appended in /home/wan/Workplace-why/Part-SAM/part_scene_results/0211/0211_part_summary.txt\n",
      "Part summary appended in /home/wan/Workplace-why/Part-SAM/part_scene_results/0258/0258_part_summary.txt\n",
      "Part summary appended in /home/wan/Workplace-why/Part-SAM/part_scene_results/0258/0258_part_summary.txt\n"
     ]
    },
    {
     "name": "stderr",
     "output_type": "stream",
     "text": [
      "100%|█████████▉| 299/300 [32:32<00:06,  6.54s/it]"
     ]
    },
    {
     "name": "stdout",
     "output_type": "stream",
     "text": [
      "Part summary appended in /home/wan/Workplace-why/Part-SAM/part_scene_results/0258/0258_part_summary.txt\n",
      "Part summary appended in /home/wan/Workplace-why/Part-SAM/part_scene_results/0221/0221_part_summary.txt\n",
      "Part summary appended in /home/wan/Workplace-why/Part-SAM/part_scene_results/0221/0221_part_summary.txt\n"
     ]
    },
    {
     "name": "stderr",
     "output_type": "stream",
     "text": [
      "100%|██████████| 300/300 [32:38<00:00,  6.53s/it]"
     ]
    },
    {
     "name": "stdout",
     "output_type": "stream",
     "text": [
      "Part summary appended in /home/wan/Workplace-why/Part-SAM/part_scene_results/0221/0221_part_summary.txt\n"
     ]
    },
    {
     "name": "stderr",
     "output_type": "stream",
     "text": [
      "\n"
     ]
    }
   ],
   "source": [
    "dataset_dir = '/home/wan/Datasets/Test_scene/part_valid'\n",
    "project_path = '/home/wan/Workplace-why/Part-SAM'\n",
    "output_dir = '/home/wan/Workplace-why/Part-SAM/part_scene_results'\n",
    "final_masks_save_dir = os.path.join(project_path, 'part_scene_results')\n",
    "by_product_save_dir = 'part_scene_saved'\n",
    "ckpt_path = os.path.join(project_path, \"checkpoints/model.safetensors\")\n",
    "reversed_dict = {value: key for key, value in cls_dict.items()}\n",
    "\n",
    "\n",
    "\n",
    "\n",
    "for scene_id in tqdm(os.listdir('part_scene_saved')[:]):\n",
    "\n",
    "\n",
    "\n",
    "        scene_path = os.path.join(dataset_dir, scene_id, f'points_{scene_id}.ply')\n",
    "        mask_result_path = os.path.join(final_masks_save_dir, scene_id)\n",
    "        output_scene_dir = os.path.join(project_path, by_product_save_dir, scene_id)\n",
    "        mask_infos = load_prediction_data( f'{mask_result_path}/{scene_id}_summary.txt')\n",
    "        pred_part_mask_dir = os.path.join(mask_result_path, 'pred_part_mask')\n",
    "        # if os.path.exists(f'part_scene_results/{scene_id}/{scene_id}_part_summary.txt'):\n",
    "        #         continue\n",
    "                # Check if the directory exists and remove it if necessary\n",
    "        if os.path.exists(pred_part_mask_dir):\n",
    "                        shutil.rmtree(pred_part_mask_dir)\n",
    "                # Create the directory\n",
    "        os.makedirs(pred_part_mask_dir)\n",
    "\n",
    "                # Check if the summary file exists\n",
    "        summary_file = os.path.join(mask_result_path, f'{scene_id}_part_summary.txt')\n",
    "        if os.path.exists(summary_file):\n",
    "                # Handle the case when the summary file exists (if needed)\n",
    "                os.remove(summary_file)\n",
    "\n",
    "        for idx,mask in enumerate(mask_infos):\n",
    "                ins_num = mask['prediction']\n",
    "                mask_file = mask['file']\n",
    "                instance_dir = os.path.join(output_scene_dir,str(idx))\n",
    "                top_k_masks,pc_depth,screen_coords,obj_xyz = load_instance_info(f'{instance_dir}/ins_info')\n",
    "                ins =reversed_dict[ins_num]\n",
    "                prompt = cls_part_dict[ins]\n",
    "                file_paths = glob.glob(os.path.join(f'{instance_dir}/rendered_img', '*'))\n",
    "                points_3d =[]\n",
    "                visible_pts_list = []\n",
    "                # Print all the files found\n",
    "                num_views = pc_depth.shape[0]\n",
    "                text_input = prompt\n",
    "                # load the segment result:\n",
    "                result_dict = torch.load(os.path.join(f'{instance_dir}/ins_info', 'sem_seg.pt'))\n",
    "                ins_mask =np.loadtxt(f'{mask_result_path}/{mask_file}').astype('bool')\n",
    "                mask2d_view_list, mask_2d_bbox_correspondences, binary_masks_list = project_3d_to_2d(obj_xyz, top_k_masks, screen_coords, pc_depth)\n",
    "                target_3d_masks = process_masks_and_calculate_iou(result_dict, num_views, binary_masks_list, 0,0.1)\n",
    "                final_predictions = assign_labels_to_masks(result_dict, target_3d_masks, num_views, N=2)\n",
    "                scene_pcd = o3d.io.read_point_cloud(f'/home/wan/Datasets/Test_scene/part_valid/{scene_id}/points_{scene_id}.ply')\n",
    "\n",
    "                \n",
    "\n",
    "\n",
    "                part_mask_after_process = process_mask_results(final_predictions,top_k_masks)\n",
    "                save_mask_results(scene_id, part_mask_after_process, scene_pcd, ins_mask, ins, output_dir, part_label_v2)      \n",
    "        # break  "
   ]
  },
  {
   "cell_type": "markdown",
   "metadata": {},
   "source": [
    "# Evaluation"
   ]
  },
  {
   "cell_type": "code",
   "execution_count": 1,
   "metadata": {},
   "outputs": [
    {
     "name": "stdout",
     "output_type": "stream",
     "text": [
      "[0.1   0.15  0.2   0.25  0.3   0.35  0.4   0.45  0.5   0.55  0.6   0.65\n",
      " 0.7   0.75  0.8   0.85  0.9   0.24  0.324]\n",
      "0055\n",
      "0197\n",
      "0187\n",
      "0247\n",
      "0036\n",
      "0296\n",
      "0292\n",
      "0181\n",
      "0224\n",
      "0157\n",
      "0294\n",
      "0223\n",
      "0268\n",
      "0210\n",
      "0171\n",
      "0010\n",
      "0005\n",
      "0291\n",
      "0066\n",
      "0297\n",
      "0076\n",
      "0059\n",
      "0192\n",
      "0186\n",
      "0168\n",
      "0215\n",
      "0255\n",
      "0245\n",
      "0206\n",
      "0284\n",
      "0065\n",
      "0204\n",
      "0019\n",
      "0071\n",
      "0048\n",
      "0250\n",
      "0111\n",
      "0242\n",
      "0044\n",
      "0193\n",
      "0182\n",
      "0078\n",
      "0056\n",
      "0239\n",
      "0094\n",
      "0295\n",
      "0042\n",
      "0184\n",
      "0229\n",
      "0238\n",
      "0063\n",
      "0051\n",
      "0228\n",
      "0275\n",
      "0041\n",
      "0022\n",
      "0199\n",
      "0271\n",
      "0152\n",
      "0113\n",
      "0014\n",
      "0054\n",
      "0052\n",
      "0064\n",
      "0053\n",
      "0082\n",
      "0240\n",
      "0176\n",
      "0097\n",
      "0069\n",
      "0191\n",
      "0159\n",
      "0232\n",
      "0150\n",
      "0104\n",
      "0083\n",
      "0246\n",
      "0025\n",
      "0230\n",
      "0248\n",
      "0024\n",
      "0143\n",
      "0149\n",
      "0231\n",
      "0220\n",
      "0103\n",
      "0233\n",
      "0283\n",
      "0267\n",
      "0288\n",
      "0045\n",
      "0100\n",
      "0004\n",
      "0135\n",
      "0209\n",
      "0081\n",
      "0251\n",
      "0273\n",
      "0098\n",
      "0194\n",
      "0256\n",
      "0074\n",
      "0105\n",
      "0144\n",
      "0153\n",
      "0075\n",
      "0260\n",
      "0033\n",
      "0161\n",
      "0236\n",
      "0287\n",
      "0026\n",
      "0203\n",
      "0034\n",
      "0158\n",
      "0013\n",
      "0058\n",
      "0132\n",
      "0120\n",
      "0166\n",
      "0259\n",
      "0263\n",
      "0090\n",
      "0016\n",
      "0087\n",
      "0145\n",
      "0020\n",
      "0290\n",
      "0235\n",
      "0070\n",
      "0002\n",
      "0179\n",
      "0108\n",
      "0241\n",
      "0009\n",
      "0091\n",
      "0222\n",
      "0102\n",
      "0021\n",
      "0109\n",
      "0155\n",
      "0293\n",
      "0285\n",
      "0095\n",
      "0079\n",
      "0119\n",
      "0133\n",
      "0130\n",
      "0141\n",
      "0234\n",
      "0188\n",
      "0101\n",
      "0123\n",
      "0112\n",
      "0272\n",
      "0080\n",
      "0001\n",
      "0127\n",
      "0279\n",
      "0015\n",
      "0226\n",
      "0061\n",
      "0136\n",
      "0254\n",
      "0202\n",
      "0110\n",
      "0189\n",
      "0086\n",
      "0167\n",
      "0046\n",
      "0174\n",
      "0011\n",
      "0237\n",
      "0289\n",
      "0128\n",
      "0040\n",
      "0115\n",
      "0172\n",
      "0225\n",
      "0276\n",
      "0085\n",
      "0266\n",
      "0208\n",
      "0089\n",
      "0280\n",
      "0116\n",
      "0006\n",
      "0060\n",
      "0270\n",
      "0219\n",
      "0243\n",
      "0137\n",
      "0023\n",
      "0031\n",
      "0099\n",
      "0140\n",
      "0129\n",
      "0012\n",
      "0093\n",
      "0000\n",
      "0261\n",
      "0156\n",
      "0092\n",
      "0216\n",
      "0269\n",
      "0286\n",
      "0050\n",
      "0217\n",
      "0170\n",
      "0072\n",
      "0138\n",
      "0177\n",
      "0073\n",
      "0169\n",
      "0148\n",
      "0096\n",
      "0106\n",
      "0201\n",
      "0162\n",
      "0147\n",
      "0017\n",
      "0175\n",
      "0253\n",
      "0265\n",
      "0173\n",
      "0190\n",
      "0142\n",
      "0139\n",
      "0032\n",
      "0039\n",
      "0207\n",
      "0154\n",
      "0077\n",
      "0067\n",
      "0218\n",
      "0282\n",
      "0038\n",
      "0062\n",
      "0126\n",
      "0047\n",
      "0198\n",
      "0088\n",
      "0214\n",
      "0212\n",
      "0178\n",
      "0200\n",
      "0003\n",
      "0107\n",
      "0244\n",
      "0035\n",
      "0049\n",
      "0018\n",
      "0195\n",
      "0151\n",
      "0277\n",
      "0257\n",
      "0029\n",
      "0163\n",
      "0030\n",
      "0146\n",
      "0262\n",
      "0160\n",
      "0281\n",
      "0027\n",
      "0084\n",
      "0118\n",
      "0249\n",
      "0057\n",
      "0264\n",
      "0068\n",
      "0007\n",
      "0227\n",
      "0037\n",
      "0180\n",
      "0205\n",
      "0008\n",
      "0043\n",
      "0121\n",
      "0124\n",
      "0114\n",
      "0164\n",
      "0278\n",
      "0196\n",
      "0213\n",
      "0299\n",
      "0185\n",
      "0252\n",
      "0131\n",
      "0298\n",
      "0183\n",
      "0125\n",
      "0122\n",
      "0134\n",
      "0028\n",
      "0117\n",
      "0274\n",
      "0165\n",
      "0211\n",
      "0258\n",
      "0221\n",
      "evaluating 300 scans...\n",
      "/home/wan/Datasets/Test_scene/part_valid_gt/gt_mask_0055.txt\n",
      "scans processed: 1/home/wan/Datasets/Test_scene/part_valid_gt/gt_mask_0197.txt\n",
      "scans processed: 2/home/wan/Datasets/Test_scene/part_valid_gt/gt_mask_0187.txt\n",
      "scans processed: 3/home/wan/Datasets/Test_scene/part_valid_gt/gt_mask_0247.txt\n",
      "scans processed: 4/home/wan/Datasets/Test_scene/part_valid_gt/gt_mask_0036.txt\n",
      "scans processed: 5/home/wan/Datasets/Test_scene/part_valid_gt/gt_mask_0296.txt\n",
      "scans processed: 6/home/wan/Datasets/Test_scene/part_valid_gt/gt_mask_0292.txt\n",
      "scans processed: 7/home/wan/Datasets/Test_scene/part_valid_gt/gt_mask_0181.txt\n",
      "scans processed: 8/home/wan/Datasets/Test_scene/part_valid_gt/gt_mask_0224.txt\n",
      "scans processed: 9/home/wan/Datasets/Test_scene/part_valid_gt/gt_mask_0157.txt\n",
      "scans processed: 10/home/wan/Datasets/Test_scene/part_valid_gt/gt_mask_0294.txt\n",
      "scans processed: 11/home/wan/Datasets/Test_scene/part_valid_gt/gt_mask_0223.txt\n",
      "scans processed: 12/home/wan/Datasets/Test_scene/part_valid_gt/gt_mask_0268.txt\n",
      "scans processed: 13/home/wan/Datasets/Test_scene/part_valid_gt/gt_mask_0210.txt\n",
      "scans processed: 14/home/wan/Datasets/Test_scene/part_valid_gt/gt_mask_0171.txt\n",
      "scans processed: 15/home/wan/Datasets/Test_scene/part_valid_gt/gt_mask_0010.txt\n",
      "scans processed: 16/home/wan/Datasets/Test_scene/part_valid_gt/gt_mask_0005.txt\n",
      "scans processed: 17"
     ]
    },
    {
     "name": "stderr",
     "output_type": "stream",
     "text": [
      "/tmp/ipykernel_117490/3434235168.py:369: DeprecationWarning: __array_wrap__ must accept context and return_scalar arguments (positionally) in the future. (Deprecated NumPy 2.0)\n",
      "  pred_mask = np.not_equal(pred_mask, 0)\n",
      "/tmp/ipykernel_117490/3434235168.py:381: DeprecationWarning: __array_wrap__ must accept context and return_scalar arguments (positionally) in the future. (Deprecated NumPy 2.0)\n",
      "  np.logical_and(bool_void, pred_mask)\n",
      "/tmp/ipykernel_117490/3434235168.py:390: DeprecationWarning: __array_wrap__ must accept context and return_scalar arguments (positionally) in the future. (Deprecated NumPy 2.0)\n",
      "  np.logical_and(gt_ids == gt_inst[\"instance_id\"], pred_mask)\n"
     ]
    },
    {
     "name": "stdout",
     "output_type": "stream",
     "text": [
      "/home/wan/Datasets/Test_scene/part_valid_gt/gt_mask_0291.txt\n",
      "scans processed: 18/home/wan/Datasets/Test_scene/part_valid_gt/gt_mask_0066.txt\n",
      "scans processed: 19/home/wan/Datasets/Test_scene/part_valid_gt/gt_mask_0297.txt\n",
      "scans processed: 20/home/wan/Datasets/Test_scene/part_valid_gt/gt_mask_0076.txt\n",
      "scans processed: 21/home/wan/Datasets/Test_scene/part_valid_gt/gt_mask_0059.txt\n",
      "scans processed: 22/home/wan/Datasets/Test_scene/part_valid_gt/gt_mask_0192.txt\n",
      "scans processed: 23/home/wan/Datasets/Test_scene/part_valid_gt/gt_mask_0186.txt\n",
      "scans processed: 24/home/wan/Datasets/Test_scene/part_valid_gt/gt_mask_0168.txt\n",
      "scans processed: 25/home/wan/Datasets/Test_scene/part_valid_gt/gt_mask_0215.txt\n",
      "scans processed: 26/home/wan/Datasets/Test_scene/part_valid_gt/gt_mask_0255.txt\n",
      "scans processed: 27/home/wan/Datasets/Test_scene/part_valid_gt/gt_mask_0245.txt\n",
      "scans processed: 28/home/wan/Datasets/Test_scene/part_valid_gt/gt_mask_0206.txt\n",
      "scans processed: 29/home/wan/Datasets/Test_scene/part_valid_gt/gt_mask_0284.txt\n",
      "scans processed: 30/home/wan/Datasets/Test_scene/part_valid_gt/gt_mask_0065.txt\n",
      "scans processed: 31/home/wan/Datasets/Test_scene/part_valid_gt/gt_mask_0204.txt\n",
      "scans processed: 32/home/wan/Datasets/Test_scene/part_valid_gt/gt_mask_0019.txt\n",
      "scans processed: 33/home/wan/Datasets/Test_scene/part_valid_gt/gt_mask_0071.txt\n",
      "scans processed: 34/home/wan/Datasets/Test_scene/part_valid_gt/gt_mask_0048.txt\n",
      "scans processed: 35/home/wan/Datasets/Test_scene/part_valid_gt/gt_mask_0250.txt\n",
      "scans processed: 36/home/wan/Datasets/Test_scene/part_valid_gt/gt_mask_0111.txt\n",
      "scans processed: 37/home/wan/Datasets/Test_scene/part_valid_gt/gt_mask_0242.txt\n",
      "scans processed: 38/home/wan/Datasets/Test_scene/part_valid_gt/gt_mask_0044.txt\n",
      "scans processed: 39/home/wan/Datasets/Test_scene/part_valid_gt/gt_mask_0193.txt\n",
      "scans processed: 40/home/wan/Datasets/Test_scene/part_valid_gt/gt_mask_0182.txt\n",
      "scans processed: 41/home/wan/Datasets/Test_scene/part_valid_gt/gt_mask_0078.txt\n",
      "scans processed: 42/home/wan/Datasets/Test_scene/part_valid_gt/gt_mask_0056.txt\n",
      "scans processed: 43/home/wan/Datasets/Test_scene/part_valid_gt/gt_mask_0239.txt\n",
      "scans processed: 44/home/wan/Datasets/Test_scene/part_valid_gt/gt_mask_0094.txt\n",
      "scans processed: 45/home/wan/Datasets/Test_scene/part_valid_gt/gt_mask_0295.txt\n",
      "scans processed: 46/home/wan/Datasets/Test_scene/part_valid_gt/gt_mask_0042.txt\n",
      "scans processed: 47/home/wan/Datasets/Test_scene/part_valid_gt/gt_mask_0184.txt\n",
      "scans processed: 48/home/wan/Datasets/Test_scene/part_valid_gt/gt_mask_0229.txt\n",
      "scans processed: 49/home/wan/Datasets/Test_scene/part_valid_gt/gt_mask_0238.txt\n",
      "scans processed: 50/home/wan/Datasets/Test_scene/part_valid_gt/gt_mask_0063.txt\n",
      "scans processed: 51/home/wan/Datasets/Test_scene/part_valid_gt/gt_mask_0051.txt\n",
      "scans processed: 52/home/wan/Datasets/Test_scene/part_valid_gt/gt_mask_0228.txt\n",
      "scans processed: 53/home/wan/Datasets/Test_scene/part_valid_gt/gt_mask_0275.txt\n",
      "scans processed: 54/home/wan/Datasets/Test_scene/part_valid_gt/gt_mask_0041.txt\n",
      "scans processed: 55/home/wan/Datasets/Test_scene/part_valid_gt/gt_mask_0022.txt\n",
      "scans processed: 56/home/wan/Datasets/Test_scene/part_valid_gt/gt_mask_0199.txt\n",
      "scans processed: 57/home/wan/Datasets/Test_scene/part_valid_gt/gt_mask_0271.txt\n",
      "scans processed: 58/home/wan/Datasets/Test_scene/part_valid_gt/gt_mask_0152.txt\n",
      "scans processed: 59/home/wan/Datasets/Test_scene/part_valid_gt/gt_mask_0113.txt\n",
      "scans processed: 60/home/wan/Datasets/Test_scene/part_valid_gt/gt_mask_0014.txt\n",
      "scans processed: 61/home/wan/Datasets/Test_scene/part_valid_gt/gt_mask_0054.txt\n",
      "scans processed: 62/home/wan/Datasets/Test_scene/part_valid_gt/gt_mask_0052.txt\n",
      "scans processed: 63/home/wan/Datasets/Test_scene/part_valid_gt/gt_mask_0064.txt\n",
      "scans processed: 64/home/wan/Datasets/Test_scene/part_valid_gt/gt_mask_0053.txt\n",
      "scans processed: 65/home/wan/Datasets/Test_scene/part_valid_gt/gt_mask_0082.txt\n",
      "scans processed: 66/home/wan/Datasets/Test_scene/part_valid_gt/gt_mask_0240.txt\n",
      "scans processed: 67/home/wan/Datasets/Test_scene/part_valid_gt/gt_mask_0176.txt\n",
      "scans processed: 68/home/wan/Datasets/Test_scene/part_valid_gt/gt_mask_0097.txt\n",
      "scans processed: 69/home/wan/Datasets/Test_scene/part_valid_gt/gt_mask_0069.txt\n",
      "scans processed: 70/home/wan/Datasets/Test_scene/part_valid_gt/gt_mask_0191.txt\n",
      "scans processed: 71/home/wan/Datasets/Test_scene/part_valid_gt/gt_mask_0159.txt\n",
      "scans processed: 72/home/wan/Datasets/Test_scene/part_valid_gt/gt_mask_0232.txt\n",
      "scans processed: 73/home/wan/Datasets/Test_scene/part_valid_gt/gt_mask_0150.txt\n",
      "scans processed: 74/home/wan/Datasets/Test_scene/part_valid_gt/gt_mask_0104.txt\n",
      "scans processed: 75/home/wan/Datasets/Test_scene/part_valid_gt/gt_mask_0083.txt\n",
      "scans processed: 76/home/wan/Datasets/Test_scene/part_valid_gt/gt_mask_0246.txt\n",
      "scans processed: 77/home/wan/Datasets/Test_scene/part_valid_gt/gt_mask_0025.txt\n",
      "scans processed: 78/home/wan/Datasets/Test_scene/part_valid_gt/gt_mask_0230.txt\n",
      "scans processed: 79/home/wan/Datasets/Test_scene/part_valid_gt/gt_mask_0248.txt\n",
      "scans processed: 80/home/wan/Datasets/Test_scene/part_valid_gt/gt_mask_0024.txt\n",
      "scans processed: 81/home/wan/Datasets/Test_scene/part_valid_gt/gt_mask_0143.txt\n",
      "scans processed: 82/home/wan/Datasets/Test_scene/part_valid_gt/gt_mask_0149.txt\n",
      "scans processed: 83/home/wan/Datasets/Test_scene/part_valid_gt/gt_mask_0231.txt\n",
      "scans processed: 84/home/wan/Datasets/Test_scene/part_valid_gt/gt_mask_0220.txt\n",
      "scans processed: 85/home/wan/Datasets/Test_scene/part_valid_gt/gt_mask_0103.txt\n",
      "scans processed: 86/home/wan/Datasets/Test_scene/part_valid_gt/gt_mask_0233.txt\n",
      "scans processed: 87/home/wan/Datasets/Test_scene/part_valid_gt/gt_mask_0283.txt\n",
      "scans processed: 88/home/wan/Datasets/Test_scene/part_valid_gt/gt_mask_0267.txt\n",
      "scans processed: 89/home/wan/Datasets/Test_scene/part_valid_gt/gt_mask_0288.txt\n",
      "scans processed: 90/home/wan/Datasets/Test_scene/part_valid_gt/gt_mask_0045.txt\n",
      "scans processed: 91/home/wan/Datasets/Test_scene/part_valid_gt/gt_mask_0100.txt\n",
      "scans processed: 92/home/wan/Datasets/Test_scene/part_valid_gt/gt_mask_0004.txt\n",
      "scans processed: 93/home/wan/Datasets/Test_scene/part_valid_gt/gt_mask_0135.txt\n",
      "scans processed: 94/home/wan/Datasets/Test_scene/part_valid_gt/gt_mask_0209.txt\n",
      "scans processed: 95/home/wan/Datasets/Test_scene/part_valid_gt/gt_mask_0081.txt\n",
      "scans processed: 96/home/wan/Datasets/Test_scene/part_valid_gt/gt_mask_0251.txt\n",
      "scans processed: 97/home/wan/Datasets/Test_scene/part_valid_gt/gt_mask_0273.txt\n",
      "scans processed: 98/home/wan/Datasets/Test_scene/part_valid_gt/gt_mask_0098.txt\n",
      "scans processed: 99/home/wan/Datasets/Test_scene/part_valid_gt/gt_mask_0194.txt\n",
      "scans processed: 100/home/wan/Datasets/Test_scene/part_valid_gt/gt_mask_0256.txt\n",
      "scans processed: 101/home/wan/Datasets/Test_scene/part_valid_gt/gt_mask_0074.txt\n",
      "scans processed: 102/home/wan/Datasets/Test_scene/part_valid_gt/gt_mask_0105.txt\n",
      "scans processed: 103/home/wan/Datasets/Test_scene/part_valid_gt/gt_mask_0144.txt\n",
      "scans processed: 104/home/wan/Datasets/Test_scene/part_valid_gt/gt_mask_0153.txt\n",
      "scans processed: 105/home/wan/Datasets/Test_scene/part_valid_gt/gt_mask_0075.txt\n",
      "scans processed: 106/home/wan/Datasets/Test_scene/part_valid_gt/gt_mask_0260.txt\n",
      "scans processed: 107/home/wan/Datasets/Test_scene/part_valid_gt/gt_mask_0033.txt\n",
      "scans processed: 108/home/wan/Datasets/Test_scene/part_valid_gt/gt_mask_0161.txt\n",
      "scans processed: 109/home/wan/Datasets/Test_scene/part_valid_gt/gt_mask_0236.txt\n",
      "scans processed: 110/home/wan/Datasets/Test_scene/part_valid_gt/gt_mask_0287.txt\n",
      "scans processed: 111/home/wan/Datasets/Test_scene/part_valid_gt/gt_mask_0026.txt\n",
      "scans processed: 112/home/wan/Datasets/Test_scene/part_valid_gt/gt_mask_0203.txt\n",
      "scans processed: 113/home/wan/Datasets/Test_scene/part_valid_gt/gt_mask_0034.txt\n",
      "scans processed: 114/home/wan/Datasets/Test_scene/part_valid_gt/gt_mask_0158.txt\n",
      "scans processed: 115/home/wan/Datasets/Test_scene/part_valid_gt/gt_mask_0013.txt\n",
      "scans processed: 116/home/wan/Datasets/Test_scene/part_valid_gt/gt_mask_0058.txt\n",
      "scans processed: 117/home/wan/Datasets/Test_scene/part_valid_gt/gt_mask_0132.txt\n",
      "scans processed: 118/home/wan/Datasets/Test_scene/part_valid_gt/gt_mask_0120.txt\n",
      "scans processed: 119/home/wan/Datasets/Test_scene/part_valid_gt/gt_mask_0166.txt\n",
      "scans processed: 120/home/wan/Datasets/Test_scene/part_valid_gt/gt_mask_0259.txt\n",
      "scans processed: 121/home/wan/Datasets/Test_scene/part_valid_gt/gt_mask_0263.txt\n",
      "scans processed: 122/home/wan/Datasets/Test_scene/part_valid_gt/gt_mask_0090.txt\n",
      "scans processed: 123/home/wan/Datasets/Test_scene/part_valid_gt/gt_mask_0016.txt\n",
      "scans processed: 124/home/wan/Datasets/Test_scene/part_valid_gt/gt_mask_0087.txt\n",
      "scans processed: 125/home/wan/Datasets/Test_scene/part_valid_gt/gt_mask_0145.txt\n",
      "scans processed: 126/home/wan/Datasets/Test_scene/part_valid_gt/gt_mask_0020.txt\n",
      "scans processed: 127/home/wan/Datasets/Test_scene/part_valid_gt/gt_mask_0290.txt\n",
      "scans processed: 128/home/wan/Datasets/Test_scene/part_valid_gt/gt_mask_0235.txt\n",
      "scans processed: 129/home/wan/Datasets/Test_scene/part_valid_gt/gt_mask_0070.txt\n",
      "scans processed: 130/home/wan/Datasets/Test_scene/part_valid_gt/gt_mask_0002.txt\n",
      "scans processed: 131/home/wan/Datasets/Test_scene/part_valid_gt/gt_mask_0179.txt\n",
      "scans processed: 132/home/wan/Datasets/Test_scene/part_valid_gt/gt_mask_0108.txt\n",
      "scans processed: 133/home/wan/Datasets/Test_scene/part_valid_gt/gt_mask_0241.txt\n",
      "scans processed: 134/home/wan/Datasets/Test_scene/part_valid_gt/gt_mask_0009.txt\n",
      "scans processed: 135/home/wan/Datasets/Test_scene/part_valid_gt/gt_mask_0091.txt\n",
      "scans processed: 136/home/wan/Datasets/Test_scene/part_valid_gt/gt_mask_0222.txt\n",
      "scans processed: 137/home/wan/Datasets/Test_scene/part_valid_gt/gt_mask_0102.txt\n",
      "scans processed: 138/home/wan/Datasets/Test_scene/part_valid_gt/gt_mask_0021.txt\n",
      "scans processed: 139/home/wan/Datasets/Test_scene/part_valid_gt/gt_mask_0109.txt\n",
      "scans processed: 140/home/wan/Datasets/Test_scene/part_valid_gt/gt_mask_0155.txt\n",
      "scans processed: 141/home/wan/Datasets/Test_scene/part_valid_gt/gt_mask_0293.txt\n",
      "scans processed: 142/home/wan/Datasets/Test_scene/part_valid_gt/gt_mask_0285.txt\n",
      "scans processed: 143/home/wan/Datasets/Test_scene/part_valid_gt/gt_mask_0095.txt\n",
      "scans processed: 144/home/wan/Datasets/Test_scene/part_valid_gt/gt_mask_0079.txt\n",
      "scans processed: 145/home/wan/Datasets/Test_scene/part_valid_gt/gt_mask_0119.txt\n",
      "scans processed: 146/home/wan/Datasets/Test_scene/part_valid_gt/gt_mask_0133.txt\n",
      "scans processed: 147/home/wan/Datasets/Test_scene/part_valid_gt/gt_mask_0130.txt\n",
      "scans processed: 148/home/wan/Datasets/Test_scene/part_valid_gt/gt_mask_0141.txt\n",
      "scans processed: 149/home/wan/Datasets/Test_scene/part_valid_gt/gt_mask_0234.txt\n",
      "scans processed: 150/home/wan/Datasets/Test_scene/part_valid_gt/gt_mask_0188.txt\n",
      "scans processed: 151/home/wan/Datasets/Test_scene/part_valid_gt/gt_mask_0101.txt\n",
      "scans processed: 152/home/wan/Datasets/Test_scene/part_valid_gt/gt_mask_0123.txt\n",
      "scans processed: 153/home/wan/Datasets/Test_scene/part_valid_gt/gt_mask_0112.txt\n",
      "scans processed: 154/home/wan/Datasets/Test_scene/part_valid_gt/gt_mask_0272.txt\n",
      "scans processed: 155/home/wan/Datasets/Test_scene/part_valid_gt/gt_mask_0080.txt\n",
      "scans processed: 156/home/wan/Datasets/Test_scene/part_valid_gt/gt_mask_0001.txt\n",
      "scans processed: 157/home/wan/Datasets/Test_scene/part_valid_gt/gt_mask_0127.txt\n",
      "scans processed: 158/home/wan/Datasets/Test_scene/part_valid_gt/gt_mask_0279.txt\n",
      "scans processed: 159/home/wan/Datasets/Test_scene/part_valid_gt/gt_mask_0015.txt\n",
      "scans processed: 160/home/wan/Datasets/Test_scene/part_valid_gt/gt_mask_0226.txt\n",
      "scans processed: 161/home/wan/Datasets/Test_scene/part_valid_gt/gt_mask_0061.txt\n",
      "scans processed: 162/home/wan/Datasets/Test_scene/part_valid_gt/gt_mask_0136.txt\n",
      "scans processed: 163/home/wan/Datasets/Test_scene/part_valid_gt/gt_mask_0254.txt\n",
      "scans processed: 164/home/wan/Datasets/Test_scene/part_valid_gt/gt_mask_0202.txt\n",
      "scans processed: 165/home/wan/Datasets/Test_scene/part_valid_gt/gt_mask_0110.txt\n",
      "scans processed: 166/home/wan/Datasets/Test_scene/part_valid_gt/gt_mask_0189.txt\n",
      "scans processed: 167/home/wan/Datasets/Test_scene/part_valid_gt/gt_mask_0086.txt\n",
      "scans processed: 168/home/wan/Datasets/Test_scene/part_valid_gt/gt_mask_0167.txt\n",
      "scans processed: 169/home/wan/Datasets/Test_scene/part_valid_gt/gt_mask_0046.txt\n",
      "scans processed: 170/home/wan/Datasets/Test_scene/part_valid_gt/gt_mask_0174.txt\n",
      "scans processed: 171/home/wan/Datasets/Test_scene/part_valid_gt/gt_mask_0011.txt\n",
      "scans processed: 172/home/wan/Datasets/Test_scene/part_valid_gt/gt_mask_0237.txt\n",
      "scans processed: 173/home/wan/Datasets/Test_scene/part_valid_gt/gt_mask_0289.txt\n",
      "scans processed: 174/home/wan/Datasets/Test_scene/part_valid_gt/gt_mask_0128.txt\n",
      "scans processed: 175/home/wan/Datasets/Test_scene/part_valid_gt/gt_mask_0040.txt\n",
      "scans processed: 176/home/wan/Datasets/Test_scene/part_valid_gt/gt_mask_0115.txt\n",
      "scans processed: 177/home/wan/Datasets/Test_scene/part_valid_gt/gt_mask_0172.txt\n",
      "scans processed: 178/home/wan/Datasets/Test_scene/part_valid_gt/gt_mask_0225.txt\n",
      "scans processed: 179/home/wan/Datasets/Test_scene/part_valid_gt/gt_mask_0276.txt\n",
      "scans processed: 180/home/wan/Datasets/Test_scene/part_valid_gt/gt_mask_0085.txt\n",
      "scans processed: 181/home/wan/Datasets/Test_scene/part_valid_gt/gt_mask_0266.txt\n",
      "scans processed: 182/home/wan/Datasets/Test_scene/part_valid_gt/gt_mask_0208.txt\n",
      "scans processed: 183/home/wan/Datasets/Test_scene/part_valid_gt/gt_mask_0089.txt\n",
      "scans processed: 184/home/wan/Datasets/Test_scene/part_valid_gt/gt_mask_0280.txt\n",
      "scans processed: 185/home/wan/Datasets/Test_scene/part_valid_gt/gt_mask_0116.txt\n",
      "scans processed: 186/home/wan/Datasets/Test_scene/part_valid_gt/gt_mask_0006.txt\n",
      "scans processed: 187/home/wan/Datasets/Test_scene/part_valid_gt/gt_mask_0060.txt\n",
      "scans processed: 188/home/wan/Datasets/Test_scene/part_valid_gt/gt_mask_0270.txt\n",
      "scans processed: 189/home/wan/Datasets/Test_scene/part_valid_gt/gt_mask_0219.txt\n",
      "scans processed: 190/home/wan/Datasets/Test_scene/part_valid_gt/gt_mask_0243.txt\n",
      "scans processed: 191/home/wan/Datasets/Test_scene/part_valid_gt/gt_mask_0137.txt\n",
      "scans processed: 192/home/wan/Datasets/Test_scene/part_valid_gt/gt_mask_0023.txt\n",
      "scans processed: 193/home/wan/Datasets/Test_scene/part_valid_gt/gt_mask_0031.txt\n",
      "scans processed: 194/home/wan/Datasets/Test_scene/part_valid_gt/gt_mask_0099.txt\n",
      "scans processed: 195/home/wan/Datasets/Test_scene/part_valid_gt/gt_mask_0140.txt\n",
      "scans processed: 196/home/wan/Datasets/Test_scene/part_valid_gt/gt_mask_0129.txt\n",
      "scans processed: 197/home/wan/Datasets/Test_scene/part_valid_gt/gt_mask_0012.txt\n",
      "scans processed: 198/home/wan/Datasets/Test_scene/part_valid_gt/gt_mask_0093.txt\n",
      "scans processed: 199/home/wan/Datasets/Test_scene/part_valid_gt/gt_mask_0000.txt\n",
      "scans processed: 200/home/wan/Datasets/Test_scene/part_valid_gt/gt_mask_0261.txt\n",
      "scans processed: 201/home/wan/Datasets/Test_scene/part_valid_gt/gt_mask_0156.txt\n",
      "scans processed: 202/home/wan/Datasets/Test_scene/part_valid_gt/gt_mask_0092.txt\n",
      "scans processed: 203/home/wan/Datasets/Test_scene/part_valid_gt/gt_mask_0216.txt\n",
      "scans processed: 204/home/wan/Datasets/Test_scene/part_valid_gt/gt_mask_0269.txt\n",
      "scans processed: 205/home/wan/Datasets/Test_scene/part_valid_gt/gt_mask_0286.txt\n",
      "scans processed: 206/home/wan/Datasets/Test_scene/part_valid_gt/gt_mask_0050.txt\n",
      "scans processed: 207/home/wan/Datasets/Test_scene/part_valid_gt/gt_mask_0217.txt\n",
      "scans processed: 208/home/wan/Datasets/Test_scene/part_valid_gt/gt_mask_0170.txt\n",
      "scans processed: 209/home/wan/Datasets/Test_scene/part_valid_gt/gt_mask_0072.txt\n",
      "scans processed: 210/home/wan/Datasets/Test_scene/part_valid_gt/gt_mask_0138.txt\n",
      "scans processed: 211/home/wan/Datasets/Test_scene/part_valid_gt/gt_mask_0177.txt\n",
      "scans processed: 212/home/wan/Datasets/Test_scene/part_valid_gt/gt_mask_0073.txt\n",
      "scans processed: 213/home/wan/Datasets/Test_scene/part_valid_gt/gt_mask_0169.txt\n",
      "scans processed: 214/home/wan/Datasets/Test_scene/part_valid_gt/gt_mask_0148.txt\n",
      "scans processed: 215/home/wan/Datasets/Test_scene/part_valid_gt/gt_mask_0096.txt\n",
      "scans processed: 216/home/wan/Datasets/Test_scene/part_valid_gt/gt_mask_0106.txt\n",
      "scans processed: 217/home/wan/Datasets/Test_scene/part_valid_gt/gt_mask_0201.txt\n",
      "scans processed: 218/home/wan/Datasets/Test_scene/part_valid_gt/gt_mask_0162.txt\n",
      "scans processed: 219/home/wan/Datasets/Test_scene/part_valid_gt/gt_mask_0147.txt\n",
      "scans processed: 220/home/wan/Datasets/Test_scene/part_valid_gt/gt_mask_0017.txt\n",
      "scans processed: 221/home/wan/Datasets/Test_scene/part_valid_gt/gt_mask_0175.txt\n",
      "scans processed: 222/home/wan/Datasets/Test_scene/part_valid_gt/gt_mask_0253.txt\n",
      "scans processed: 223/home/wan/Datasets/Test_scene/part_valid_gt/gt_mask_0265.txt\n",
      "scans processed: 224/home/wan/Datasets/Test_scene/part_valid_gt/gt_mask_0173.txt\n",
      "scans processed: 225/home/wan/Datasets/Test_scene/part_valid_gt/gt_mask_0190.txt\n",
      "scans processed: 226/home/wan/Datasets/Test_scene/part_valid_gt/gt_mask_0142.txt\n",
      "scans processed: 227/home/wan/Datasets/Test_scene/part_valid_gt/gt_mask_0139.txt\n",
      "scans processed: 228/home/wan/Datasets/Test_scene/part_valid_gt/gt_mask_0032.txt\n",
      "scans processed: 229/home/wan/Datasets/Test_scene/part_valid_gt/gt_mask_0039.txt\n",
      "scans processed: 230/home/wan/Datasets/Test_scene/part_valid_gt/gt_mask_0207.txt\n",
      "scans processed: 231/home/wan/Datasets/Test_scene/part_valid_gt/gt_mask_0154.txt\n",
      "scans processed: 232/home/wan/Datasets/Test_scene/part_valid_gt/gt_mask_0077.txt\n",
      "scans processed: 233/home/wan/Datasets/Test_scene/part_valid_gt/gt_mask_0067.txt\n",
      "scans processed: 234/home/wan/Datasets/Test_scene/part_valid_gt/gt_mask_0218.txt\n",
      "scans processed: 235/home/wan/Datasets/Test_scene/part_valid_gt/gt_mask_0282.txt\n",
      "scans processed: 236/home/wan/Datasets/Test_scene/part_valid_gt/gt_mask_0038.txt\n",
      "scans processed: 237/home/wan/Datasets/Test_scene/part_valid_gt/gt_mask_0062.txt\n",
      "scans processed: 238/home/wan/Datasets/Test_scene/part_valid_gt/gt_mask_0126.txt\n",
      "scans processed: 239/home/wan/Datasets/Test_scene/part_valid_gt/gt_mask_0047.txt\n",
      "scans processed: 240/home/wan/Datasets/Test_scene/part_valid_gt/gt_mask_0198.txt\n",
      "scans processed: 241/home/wan/Datasets/Test_scene/part_valid_gt/gt_mask_0088.txt\n",
      "scans processed: 242/home/wan/Datasets/Test_scene/part_valid_gt/gt_mask_0214.txt\n",
      "scans processed: 243/home/wan/Datasets/Test_scene/part_valid_gt/gt_mask_0212.txt\n",
      "scans processed: 244/home/wan/Datasets/Test_scene/part_valid_gt/gt_mask_0178.txt\n",
      "scans processed: 245/home/wan/Datasets/Test_scene/part_valid_gt/gt_mask_0200.txt\n",
      "scans processed: 246/home/wan/Datasets/Test_scene/part_valid_gt/gt_mask_0003.txt\n",
      "scans processed: 247/home/wan/Datasets/Test_scene/part_valid_gt/gt_mask_0107.txt\n",
      "scans processed: 248/home/wan/Datasets/Test_scene/part_valid_gt/gt_mask_0244.txt\n",
      "scans processed: 249/home/wan/Datasets/Test_scene/part_valid_gt/gt_mask_0035.txt\n",
      "scans processed: 250/home/wan/Datasets/Test_scene/part_valid_gt/gt_mask_0049.txt\n",
      "scans processed: 251/home/wan/Datasets/Test_scene/part_valid_gt/gt_mask_0018.txt\n",
      "scans processed: 252/home/wan/Datasets/Test_scene/part_valid_gt/gt_mask_0195.txt\n",
      "scans processed: 253/home/wan/Datasets/Test_scene/part_valid_gt/gt_mask_0151.txt\n",
      "scans processed: 254/home/wan/Datasets/Test_scene/part_valid_gt/gt_mask_0277.txt\n",
      "scans processed: 255/home/wan/Datasets/Test_scene/part_valid_gt/gt_mask_0257.txt\n",
      "scans processed: 256/home/wan/Datasets/Test_scene/part_valid_gt/gt_mask_0029.txt\n",
      "scans processed: 257/home/wan/Datasets/Test_scene/part_valid_gt/gt_mask_0163.txt\n",
      "scans processed: 258/home/wan/Datasets/Test_scene/part_valid_gt/gt_mask_0030.txt\n",
      "scans processed: 259/home/wan/Datasets/Test_scene/part_valid_gt/gt_mask_0146.txt\n",
      "scans processed: 260/home/wan/Datasets/Test_scene/part_valid_gt/gt_mask_0262.txt\n",
      "scans processed: 261/home/wan/Datasets/Test_scene/part_valid_gt/gt_mask_0160.txt\n",
      "scans processed: 262/home/wan/Datasets/Test_scene/part_valid_gt/gt_mask_0281.txt\n",
      "scans processed: 263/home/wan/Datasets/Test_scene/part_valid_gt/gt_mask_0027.txt\n",
      "scans processed: 264/home/wan/Datasets/Test_scene/part_valid_gt/gt_mask_0084.txt\n",
      "scans processed: 265/home/wan/Datasets/Test_scene/part_valid_gt/gt_mask_0118.txt\n",
      "scans processed: 266/home/wan/Datasets/Test_scene/part_valid_gt/gt_mask_0249.txt\n",
      "scans processed: 267/home/wan/Datasets/Test_scene/part_valid_gt/gt_mask_0057.txt\n",
      "scans processed: 268/home/wan/Datasets/Test_scene/part_valid_gt/gt_mask_0264.txt\n",
      "scans processed: 269/home/wan/Datasets/Test_scene/part_valid_gt/gt_mask_0068.txt\n",
      "scans processed: 270/home/wan/Datasets/Test_scene/part_valid_gt/gt_mask_0007.txt\n",
      "scans processed: 271/home/wan/Datasets/Test_scene/part_valid_gt/gt_mask_0227.txt\n",
      "scans processed: 272/home/wan/Datasets/Test_scene/part_valid_gt/gt_mask_0037.txt\n",
      "scans processed: 273/home/wan/Datasets/Test_scene/part_valid_gt/gt_mask_0180.txt\n",
      "scans processed: 274/home/wan/Datasets/Test_scene/part_valid_gt/gt_mask_0205.txt\n",
      "scans processed: 275/home/wan/Datasets/Test_scene/part_valid_gt/gt_mask_0008.txt\n",
      "scans processed: 276/home/wan/Datasets/Test_scene/part_valid_gt/gt_mask_0043.txt\n",
      "scans processed: 277/home/wan/Datasets/Test_scene/part_valid_gt/gt_mask_0121.txt\n",
      "scans processed: 278/home/wan/Datasets/Test_scene/part_valid_gt/gt_mask_0124.txt\n",
      "scans processed: 279/home/wan/Datasets/Test_scene/part_valid_gt/gt_mask_0114.txt\n",
      "scans processed: 280/home/wan/Datasets/Test_scene/part_valid_gt/gt_mask_0164.txt\n",
      "scans processed: 281/home/wan/Datasets/Test_scene/part_valid_gt/gt_mask_0278.txt\n",
      "scans processed: 282/home/wan/Datasets/Test_scene/part_valid_gt/gt_mask_0196.txt\n",
      "scans processed: 283/home/wan/Datasets/Test_scene/part_valid_gt/gt_mask_0213.txt\n",
      "scans processed: 284/home/wan/Datasets/Test_scene/part_valid_gt/gt_mask_0299.txt\n",
      "scans processed: 285/home/wan/Datasets/Test_scene/part_valid_gt/gt_mask_0185.txt\n",
      "scans processed: 286/home/wan/Datasets/Test_scene/part_valid_gt/gt_mask_0252.txt\n",
      "scans processed: 287/home/wan/Datasets/Test_scene/part_valid_gt/gt_mask_0131.txt\n",
      "scans processed: 288/home/wan/Datasets/Test_scene/part_valid_gt/gt_mask_0298.txt\n",
      "scans processed: 289/home/wan/Datasets/Test_scene/part_valid_gt/gt_mask_0183.txt\n",
      "scans processed: 290/home/wan/Datasets/Test_scene/part_valid_gt/gt_mask_0125.txt\n",
      "scans processed: 291/home/wan/Datasets/Test_scene/part_valid_gt/gt_mask_0122.txt\n",
      "scans processed: 292/home/wan/Datasets/Test_scene/part_valid_gt/gt_mask_0134.txt\n",
      "scans processed: 293/home/wan/Datasets/Test_scene/part_valid_gt/gt_mask_0028.txt\n",
      "scans processed: 294/home/wan/Datasets/Test_scene/part_valid_gt/gt_mask_0117.txt\n",
      "scans processed: 295/home/wan/Datasets/Test_scene/part_valid_gt/gt_mask_0274.txt\n",
      "scans processed: 296/home/wan/Datasets/Test_scene/part_valid_gt/gt_mask_0165.txt\n",
      "scans processed: 297/home/wan/Datasets/Test_scene/part_valid_gt/gt_mask_0211.txt\n",
      "scans processed: 298/home/wan/Datasets/Test_scene/part_valid_gt/gt_mask_0258.txt\n",
      "scans processed: 299/home/wan/Datasets/Test_scene/part_valid_gt/gt_mask_0221.txt\n",
      "scans processed: 300\n",
      "\n",
      "################################################################\n",
      "what           :             AP         AP_50%         AP_25%\n",
      "################################################################\n",
      "----------------------------------------------------------------\n",
      "average        :          0.125          0.168          0.273\n",
      "\n"
     ]
    }
   ],
   "source": [
    "import math\n",
    "import os, sys, argparse\n",
    "import inspect\n",
    "from copy import deepcopy\n",
    "from uuid import uuid4\n",
    "import numpy as np\n",
    "import torch\n",
    "import glob\n",
    "\n",
    "from scipy import stats\n",
    "from utils.eval_util import *\n",
    "import \\\n",
    "    utils.eval_util as util_3d\n",
    "# import wandb\n",
    "import numpy as np\n",
    "from collections import defaultdict\n",
    "\n",
    "def convert_new_dataset_to_gt_instances(gt_ids, gt_dict, CLASS_LABELS, VALID_CLASS_IDS, ID_TO_LABEL):\n",
    "    # Create a mapping from gt_dict labels to standardized labels\n",
    "\n",
    "\n",
    "    # Initialize the gt_instances dictionary\n",
    "    gt_instances = {label: [] for label in CLASS_LABELS}\n",
    "\n",
    "    # Count the number of points for each instance\n",
    "    instance_point_counts = defaultdict(int)\n",
    "    for id in gt_ids:\n",
    "        instance_point_counts[id] += 1\n",
    "\n",
    "    # Process each unique instance\n",
    "    for instance_id, count in instance_point_counts.items():\n",
    "        # Get the label from gt_dict and map it to the standardized label\n",
    "        original_label = gt_dict[str(instance_id)]\n",
    "        standardized_label = util_3d.label_mapping.get(original_label, original_label)\n",
    "\n",
    "        # Find the corresponding label_id in VALID_CLASS_IDS\n",
    "        try:\n",
    "            label_id = VALID_CLASS_IDS[CLASS_LABELS.index(standardized_label)]\n",
    "        except ValueError:\n",
    "            continue\n",
    "\n",
    "        # Create the instance dictionary\n",
    "        instance_dict = {\n",
    "            'instance_id': int(instance_id),\n",
    "            'label_id': int(label_id),\n",
    "            'vert_count': int(count),\n",
    "            'med_dist': -1,\n",
    "            'dist_conf': 0.0\n",
    "        }\n",
    "\n",
    "        # Add the instance to the corresponding label in gt_instances\n",
    "        gt_instances[standardized_label].append(instance_dict)\n",
    "\n",
    "    return gt_instances\n",
    "\n",
    "\n",
    "def identify_void_areas(gt_ids, gt_dict, CLASS_LABELS, VALID_CLASS_IDS):\n",
    "    # Create a mapping from gt_dict labels to standardized labels\n",
    "\n",
    "\n",
    "    # Create a mapping from gt_ids to standardized class labels\n",
    "    id_to_standard_label = {\n",
    "        int(id): util_3d.label_mapping.get(label, label) \n",
    "        for id, label in gt_dict.items()\n",
    "    }\n",
    "\n",
    "    # Create a set of valid standardized labels\n",
    "    valid_labels = set(CLASS_LABELS)\n",
    "\n",
    "    # Function to check if a gt_id is valid\n",
    "    def is_valid(id):\n",
    "        return id_to_standard_label.get(id, '') in valid_labels\n",
    "\n",
    "    # Create boolean array indicating void areas\n",
    "    bool_void = np.vectorize(lambda x: not is_valid(x))(gt_ids)\n",
    "\n",
    "    return bool_void\n",
    "\n",
    "# Example usage:\n",
    "\n",
    "def get_args():\n",
    "    \n",
    "    '''Command line arguments.'''\n",
    "\n",
    "    parser = argparse.ArgumentParser(description='OpenIns3D evaluation')\n",
    "    parser.add_argument('--result_save', default=\"scannet_results\", type=str, help='Path of detection results')\n",
    "    parser.add_argument('--gt_path', default=\"data/processed/s3dis/instance_gt/Area_5\", help='Path of gt instance')\n",
    "    parser.add_argument('--dataset', default=\"part_scene\", help='dataset for evaluation, could be s3dis, scannet, stpls3d')\n",
    "    args = parser.parse_args()\n",
    "    return args\n",
    "\n",
    "# args = get_args()\n",
    "# dataset = args.dataset\n",
    "\n",
    "\n",
    "\n",
    "\n",
    "\n",
    "\n",
    "ID_TO_LABEL = {}\n",
    "LABEL_TO_ID = {}\n",
    "for i in range(len(VALID_CLASS_IDS)):\n",
    "    LABEL_TO_ID[CLASS_LABELS[i]] = VALID_CLASS_IDS[i]\n",
    "    ID_TO_LABEL[VALID_CLASS_IDS[i]] = CLASS_LABELS[i]\n",
    "# ---------- Evaluation params ---------- #\n",
    "opt = {}\n",
    "opt[\"overlaps\"] = np.append(np.append(np.arange(0.1, 0.95, 0.05),0.24),0.324)\n",
    "\n",
    "print(opt[\"overlaps\"])\n",
    "# minimum region size for evaluation [verts]\n",
    "opt[\"min_region_sizes\"] = np.array([0])  # 100 for s3dis, scannet\n",
    "# distance thresholds [m]\n",
    "opt[\"distance_threshes\"] = np.array([float(\"inf\")])\n",
    "# distance confidences\n",
    "opt[\"distance_confs\"] = np.array([-float(\"inf\")])\n",
    "\n",
    "\n",
    "def evaluate_matches(matches):\n",
    "    overlaps = opt[\"overlaps\"]\n",
    "    min_region_sizes = [opt[\"min_region_sizes\"][0]]\n",
    "    dist_threshes = [opt[\"distance_threshes\"][0]]\n",
    "    dist_confs = [opt[\"distance_confs\"][0]]\n",
    "\n",
    "    # results: class x overlap\n",
    "    ap = np.zeros(\n",
    "        (len(dist_threshes), len(CLASS_LABELS), len(overlaps)), float\n",
    "    )\n",
    "    for di, (min_region_size, distance_thresh, distance_conf) in enumerate(\n",
    "        zip(min_region_sizes, dist_threshes, dist_confs)\n",
    "    ):\n",
    "        for oi, overlap_th in enumerate(overlaps):\n",
    "            pred_visited = {}\n",
    "            for m in matches:\n",
    "                for p in matches[m][\"pred\"]:\n",
    "                    for label_name in CLASS_LABELS:\n",
    "                        for p in matches[m][\"pred\"][label_name]:\n",
    "                            if \"uuid\" in p:\n",
    "                                pred_visited[p[\"uuid\"]] = False\n",
    "            for li, label_name in enumerate(CLASS_LABELS):\n",
    "                y_true = np.empty(0)\n",
    "                y_score = np.empty(0)\n",
    "                hard_false_negatives = 0\n",
    "                has_gt = False\n",
    "                has_pred = False\n",
    "                for m in matches:\n",
    "                    pred_instances = matches[m][\"pred\"][label_name]\n",
    "                    gt_instances = matches[m][\"gt\"][label_name]\n",
    "                    # filter groups in ground truth\n",
    "                    gt_instances = [\n",
    "                        gt\n",
    "                        for gt in gt_instances\n",
    "                        # if gt[\"instance_id\"] >= 1000\n",
    "                        if gt[\"vert_count\"] >= min_region_size\n",
    "                        and gt[\"med_dist\"] <= distance_thresh\n",
    "                        and gt[\"dist_conf\"] >= distance_conf\n",
    "                    ]\n",
    "                    if gt_instances:\n",
    "                        has_gt = True\n",
    "                    if pred_instances:\n",
    "                        has_pred = True\n",
    "\n",
    "                    cur_true = np.ones(len(gt_instances))\n",
    "                    cur_score = np.ones(len(gt_instances)) * (-float(\"inf\"))\n",
    "                    cur_match = np.zeros(len(gt_instances), dtype=bool)\n",
    "                    # collect matches\n",
    "                    for (gti, gt) in enumerate(gt_instances):\n",
    "                        found_match = False\n",
    "                        num_pred = len(gt[\"matched_pred\"])\n",
    "                        for pred in gt[\"matched_pred\"]:\n",
    "                            # greedy assignments\n",
    "                            if pred_visited[pred[\"uuid\"]]:\n",
    "                                continue\n",
    "                            overlap = float(pred[\"intersection\"]) / (\n",
    "                                gt[\"vert_count\"]\n",
    "                                + pred[\"vert_count\"]\n",
    "                                - pred[\"intersection\"]\n",
    "                            )\n",
    "                            if overlap > overlap_th:\n",
    "                                confidence = pred[\"confidence\"]\n",
    "                                # if already have a prediction for this gt,\n",
    "                                # the prediction with the lower score is automatically a false positive\n",
    "                                if cur_match[gti]:\n",
    "                                    max_score = max(cur_score[gti], confidence)\n",
    "                                    min_score = min(cur_score[gti], confidence)\n",
    "                                    cur_score[gti] = max_score\n",
    "                                    # append false positive\n",
    "                                    cur_true = np.append(cur_true, 0)\n",
    "                                    cur_score = np.append(cur_score, min_score)\n",
    "                                    cur_match = np.append(cur_match, True)\n",
    "                                # otherwise set score\n",
    "                                else:\n",
    "                                    found_match = True\n",
    "                                    cur_match[gti] = True\n",
    "                                    cur_score[gti] = confidence\n",
    "                                    pred_visited[pred[\"uuid\"]] = True\n",
    "                        if not found_match:\n",
    "                            hard_false_negatives += 1\n",
    "                    # remove non-matched ground truth instances\n",
    "                    cur_true = cur_true[cur_match == True]\n",
    "                    cur_score = cur_score[cur_match == True]\n",
    "\n",
    "                    # collect non-matched predictions as false positive\n",
    "                    for pred in pred_instances:\n",
    "                        found_gt = False\n",
    "                        for gt in pred[\"matched_gt\"]:\n",
    "                            overlap = float(gt[\"intersection\"]) / (\n",
    "                                gt[\"vert_count\"]\n",
    "                                + pred[\"vert_count\"]\n",
    "                                - gt[\"intersection\"]\n",
    "                            )\n",
    "                            if overlap > overlap_th:\n",
    "                                found_gt = True\n",
    "                                break\n",
    "                        if not found_gt:\n",
    "                            num_ignore = pred[\"void_intersection\"]\n",
    "                            for gt in pred[\"matched_gt\"]:\n",
    "                                # group?\n",
    "                                if gt[\"instance_id\"] < 1000:\n",
    "                                    num_ignore += gt[\"intersection\"]\n",
    "                                # small ground truth instances\n",
    "                                if (\n",
    "                                    gt[\"vert_count\"] < min_region_size\n",
    "                                    or gt[\"med_dist\"] > distance_thresh\n",
    "                                    or gt[\"dist_conf\"] < distance_conf\n",
    "                                ):\n",
    "                                    num_ignore += gt[\"intersection\"]\n",
    "                            proportion_ignore = (\n",
    "                                float(num_ignore) / pred[\"vert_count\"]\n",
    "                            )\n",
    "                            # if not ignored append false positive\n",
    "                            if proportion_ignore <= overlap_th:\n",
    "                                cur_true = np.append(cur_true, 0)\n",
    "                                confidence = pred[\"confidence\"]\n",
    "                                cur_score = np.append(cur_score, confidence)\n",
    "\n",
    "                    # append to overall results\n",
    "                    y_true = np.append(y_true, cur_true)\n",
    "                    y_score = np.append(y_score, cur_score)\n",
    "\n",
    "                # compute average precision\n",
    "                if has_gt and has_pred:\n",
    "                    # compute precision recall curve first\n",
    "\n",
    "                    # sorting and cumsum\n",
    "                    score_arg_sort = np.argsort(y_score)\n",
    "                    y_score_sorted = y_score[score_arg_sort]\n",
    "                    y_true_sorted = y_true[score_arg_sort]\n",
    "                    y_true_sorted_cumsum = np.cumsum(y_true_sorted)\n",
    "\n",
    "                    # unique thresholds\n",
    "                    (thresholds, unique_indices) = np.unique(\n",
    "                        y_score_sorted, return_index=True\n",
    "                    )\n",
    "                    num_prec_recall = len(unique_indices) + 1\n",
    "\n",
    "                    # prepare precision recall\n",
    "                    num_examples = len(y_score_sorted)\n",
    "                    # https://github.com/ScanNet/ScanNet/pull/26\n",
    "                    # all predictions are non-matched but also all of them are ignored and not counted as FP\n",
    "                    # y_true_sorted_cumsum is empty\n",
    "                    # num_true_examples = y_true_sorted_cumsum[-1]\n",
    "                    num_true_examples = (\n",
    "                        y_true_sorted_cumsum[-1]\n",
    "                        if len(y_true_sorted_cumsum) > 0\n",
    "                        else 0\n",
    "                    )\n",
    "                    precision = np.zeros(num_prec_recall)\n",
    "                    recall = np.zeros(num_prec_recall)\n",
    "\n",
    "                    # deal with the first point\n",
    "                    y_true_sorted_cumsum = np.append(y_true_sorted_cumsum, 0)\n",
    "                    # deal with remaining\n",
    "                    for idx_res, idx_scores in enumerate(unique_indices):\n",
    "                        cumsum = y_true_sorted_cumsum[idx_scores - 1]\n",
    "                        tp = num_true_examples - cumsum\n",
    "                        fp = num_examples - idx_scores - tp\n",
    "                        fn = cumsum + hard_false_negatives\n",
    "                        p = float(tp) / (tp + fp)\n",
    "                        r = float(tp) / (tp + fn)\n",
    "                        precision[idx_res] = p\n",
    "                        recall[idx_res] = r\n",
    "\n",
    "                    # first point in curve is artificial\n",
    "                    precision[-1] = 1.0\n",
    "                    recall[-1] = 0.0\n",
    "\n",
    "                    # compute average of precision-recall curve\n",
    "                    recall_for_conv = np.copy(recall)\n",
    "                    recall_for_conv = np.append(\n",
    "                        recall_for_conv[0], recall_for_conv\n",
    "                    )\n",
    "                    recall_for_conv = np.append(recall_for_conv, 0.0)\n",
    "\n",
    "                    stepWidths = np.convolve(\n",
    "                        recall_for_conv, [-0.5, 0, 0.5], \"valid\"\n",
    "                    )\n",
    "                    # integrate is now simply a dot product\n",
    "                    ap_current = np.dot(precision, stepWidths)\n",
    "\n",
    "                elif has_gt:\n",
    "                    ap_current = 0.0\n",
    "                else:\n",
    "                    ap_current = float(\"nan\")\n",
    "                ap[di, li, oi] = ap_current\n",
    "    return ap\n",
    "\n",
    "\n",
    "\n",
    "\n",
    "def make_pred_info(pred: dict):\n",
    "    # pred = {'pred_scores' = 100, 'pred_classes' = 100 'pred_masks' = Nx100}\n",
    "    pred_info = {}\n",
    "    assert (\n",
    "        pred[\"pred_classes\"].shape[0]\n",
    "        == pred[\"pred_scores\"].shape[0]\n",
    "        == pred[\"pred_masks\"].shape[1]\n",
    "    )\n",
    "    for i in range(len(pred[\"pred_classes\"])):\n",
    "        info = {}\n",
    "        info[\"label_id\"] = pred[\"pred_classes\"][i]\n",
    "        info[\"conf\"] = pred[\"pred_scores\"][i]\n",
    "        info[\"mask\"] = pred[\"pred_masks\"][:, i]\n",
    "        pred_info[uuid4()] = info  # we later need to identify these objects\n",
    "    return pred_info\n",
    "\n",
    "\n",
    "def assign_instances_for_scan(pred: dict, gt_file: str, gt_dict: dict):\n",
    "    pred_info = make_pred_info(pred)\n",
    "    try:\n",
    "        gt_ids = util_3d.load_ids(gt_file)\n",
    "    except Exception as e:\n",
    "        util_3d.print_error(\"unable to load \" + gt_file + \": \" + str(e))\n",
    "\n",
    "    #load the gt dict\n",
    "\n",
    "    # get gt instances\n",
    "\n",
    "    # # breakpoint()\n",
    "    # gt_instances = util_3d.get_instances(\n",
    "    #     gt_ids, VALID_CLASS_IDS, CLASS_LABELS, ID_TO_LABEL\n",
    "    # )\n",
    "\n",
    "    gt_instances = convert_new_dataset_to_gt_instances(gt_ids, gt_dict, CLASS_LABELS, VALID_CLASS_IDS, ID_TO_LABEL)\n",
    "\n",
    "    # breakpoint()\n",
    "    # associate\n",
    "    gt2pred = deepcopy(gt_instances)\n",
    "    for label in gt2pred:\n",
    "        for gt in gt2pred[label]:\n",
    "            gt[\"matched_pred\"] = []\n",
    "    pred2gt = {}\n",
    "    for label in CLASS_LABELS:\n",
    "        pred2gt[label] = []\n",
    "    num_pred_instances = 0\n",
    "    # mask of void labels in the groundtruth\n",
    "    # breakpoint()\n",
    "    bool_void = identify_void_areas(gt_ids, gt_dict, CLASS_LABELS, VALID_CLASS_IDS)\n",
    "    # go thru all prediction masks\n",
    "    for uuid in pred_info:\n",
    "        label_id = int(pred_info[uuid][\"label_id\"])\n",
    "        conf = pred_info[uuid][\"conf\"]\n",
    "        if not label_id in ID_TO_LABEL:\n",
    "            continue\n",
    "        label_name = ID_TO_LABEL[label_id]\n",
    "        # read the mask\n",
    "        pred_mask = pred_info[uuid][\"mask\"]\n",
    "        assert len(pred_mask) == len(gt_ids)\n",
    "        # convert to binary\n",
    "        pred_mask = np.not_equal(pred_mask, 0)\n",
    "        num = np.count_nonzero(pred_mask)\n",
    "        if num < opt[\"min_region_sizes\"][0]:\n",
    "            continue  # skip if empty\n",
    "\n",
    "        pred_instance = {}\n",
    "        pred_instance[\"uuid\"] = uuid\n",
    "        pred_instance[\"pred_id\"] = num_pred_instances\n",
    "        pred_instance[\"label_id\"] = label_id\n",
    "        pred_instance[\"vert_count\"] = num\n",
    "        pred_instance[\"confidence\"] = conf\n",
    "        pred_instance[\"void_intersection\"] = np.count_nonzero(\n",
    "            np.logical_and(bool_void, pred_mask)\n",
    "        )\n",
    "\n",
    "        # matched gt instances\n",
    "        matched_gt = []\n",
    "        # go thru all gt instances with matching label\n",
    "\n",
    "        for (gt_num, gt_inst) in enumerate(gt2pred[label_name]):\n",
    "            intersection = np.count_nonzero(\n",
    "                np.logical_and(gt_ids == gt_inst[\"instance_id\"], pred_mask)\n",
    "            )\n",
    "            if intersection > 0:\n",
    "                gt_copy = gt_inst.copy()\n",
    "                pred_copy = pred_instance.copy()\n",
    "                gt_copy[\"intersection\"] = intersection\n",
    "                pred_copy[\"intersection\"] = intersection\n",
    "                matched_gt.append(gt_copy)\n",
    "                gt2pred[label_name][gt_num][\"matched_pred\"].append(pred_copy)\n",
    "        pred_instance[\"matched_gt\"] = matched_gt\n",
    "        num_pred_instances += 1\n",
    "        pred2gt[label_name].append(pred_instance)\n",
    "\n",
    "    return gt2pred, pred2gt\n",
    "\n",
    "\n",
    "def print_results(avgs):\n",
    "    # wandb.login(key='d27f3b3e72d749fb99315e0e86c6b36b6e23617e')\n",
    "    # wandb.init(project=\"3D Open World Understanding}\",\n",
    "    #                    name='OpenIns3D')\n",
    "    sep = \"\"\n",
    "    col1 = \":\"\n",
    "    lineLen = 64\n",
    "\n",
    "    print(\"\")\n",
    "    print(\"#\" * lineLen)\n",
    "    line = \"\"\n",
    "    line += \"{:<15}\".format(\"what\") + sep + col1\n",
    "    line += \"{:>15}\".format(\"AP\") + sep\n",
    "    line += \"{:>15}\".format(\"AP_50%\") + sep\n",
    "    line += \"{:>15}\".format(\"AP_25%\") + sep\n",
    "    print(line)\n",
    "    print(\"#\" * lineLen)\n",
    "    columns = ['Class','AP','AP_50%','AP_25%']\n",
    "    # result_table = wandb.Table(columns=columns)\n",
    "    for (li, label_name) in enumerate(CLASS_LABELS):\n",
    "        ap_avg = avgs[\"classes\"][label_name][\"ap\"]\n",
    "        ap_50o = avgs[\"classes\"][label_name][\"ap50%\"]\n",
    "        ap_25o = avgs[\"classes\"][label_name][\"ap25%\"]\n",
    "        # line = \"{:<15}\".format(label_name) + sep + col1\n",
    "        # line += sep + \"{:>15.3f}\".format(ap_avg) + sep\n",
    "        # line += sep + \"{:>15.3f}\".format(ap_50o) + sep\n",
    "        # line += sep + \"{:>15.3f}\".format(ap_25o) + sep\n",
    "        # print(line)\n",
    "        # result_table.add_data(label_name, ap_avg, ap_50o, ap_25o)\n",
    "\n",
    "    all_ap_avg = avgs[\"all_ap\"]\n",
    "    all_ap_50o = avgs[\"all_ap_50%\"]\n",
    "    all_ap_25o = avgs[\"all_ap_25%\"]\n",
    "    # wandb.log({\"AP\":all_ap_avg,\"AP_50\":all_ap_50o,\"AP_25\":all_ap_25o})\n",
    "    # wandb.log({\"Class_AP\":result_table})\n",
    "    print(\"-\" * lineLen)\n",
    "    line = \"{:<15}\".format(\"average\") + sep + col1\n",
    "    line += \"{:>15.3f}\".format(all_ap_avg) + sep\n",
    "    line += \"{:>15.3f}\".format(all_ap_50o) + sep\n",
    "    line += \"{:>15.3f}\".format(all_ap_25o) + sep\n",
    "    print(line)\n",
    "    print(\"\")\n",
    "\n",
    "\n",
    "\n",
    "\n",
    "def evaluate(\n",
    "    preds: dict, gt_path: str, gt_label_path: str, output_file: str, dataset: str = \"scannet\"\n",
    "):\n",
    "    global CLASS_LABELS\n",
    "    global VALID_CLASS_IDS\n",
    "    global ID_TO_LABEL\n",
    "    global LABEL_TO_ID\n",
    "    # global opt\n",
    "\n",
    "    total_true = 0\n",
    "    total_seen = 0\n",
    "    NUM_CLASSES = len(VALID_CLASS_IDS)\n",
    "\n",
    "    true_positive_classes = np.zeros(NUM_CLASSES)\n",
    "    positive_classes = np.zeros(NUM_CLASSES)\n",
    "    gt_classes = np.zeros(NUM_CLASSES)\n",
    "\n",
    "    # precision & recall\n",
    "    total_gt_ins = np.zeros(NUM_CLASSES)\n",
    "    at = 0.5\n",
    "    tpsins = [[] for _ in range(NUM_CLASSES)]\n",
    "    fpsins = [[] for _ in range(NUM_CLASSES)]\n",
    "    # mucov and mwcov\n",
    "    all_mean_cov = [[] for _ in range(NUM_CLASSES)]\n",
    "    all_mean_weighted_cov = [[] for _ in range(NUM_CLASSES)]\n",
    "\n",
    "    print(\"evaluating\", len(preds), \"scans...\")\n",
    "    matches = {}\n",
    "    for i, (k, v) in enumerate(preds.items()):\n",
    "        gt_file = os.path.join(gt_path, f\"gt_mask_{k}.txt\")\n",
    "        label_dict_path = os.path.join(gt_label_path,f'id2part_r{k}.json')\n",
    "        gt_label = util_3d.load_json(label_dict_path)\n",
    "        print(gt_file)\n",
    "        if not os.path.isfile(gt_file):\n",
    "            util_3d.print_error(\n",
    "                \"Scan {} does not match any gt file\".format(k), user_fault=True\n",
    "            )\n",
    "\n",
    "        if dataset == \"s3dis\":\n",
    "            gt_ids = util_3d.load_ids(gt_file)\n",
    "            gt_sem = (gt_ids // 1000) - 1\n",
    "            gt_ins = gt_ids - (gt_ids // 1000) * 1000\n",
    "\n",
    "            # pred_sem = v['pred_classes'] - 1\n",
    "            pred_sem = np.zeros(v[\"pred_masks\"].shape[0], dtype=np.int)\n",
    "            # TODO CONTINUE HERE!!!!!!!!!!!!!\n",
    "            pred_ins = np.zeros(v[\"pred_masks\"].shape[0], dtype=np.int)\n",
    "\n",
    "            for inst_id in reversed(range(v[\"pred_masks\"].shape[1])):\n",
    "                point_ids = np.argwhere(v[\"pred_masks\"][:, inst_id] == 1.0)[\n",
    "                    :, 0\n",
    "                ]\n",
    "                pred_ins[point_ids] = inst_id + 1\n",
    "                pred_sem[point_ids] = v[\"pred_classes\"][inst_id] - 1\n",
    "\n",
    "            # semantic acc\n",
    "            total_true += np.sum(pred_sem == gt_sem)\n",
    "            total_seen += pred_sem.shape[0]\n",
    "\n",
    "            # TODO PARALLELIZ THIS!!!!!!!\n",
    "            # pn semantic mIoU\n",
    "            \"\"\"\n",
    "            for j in range(gt_sem.shape[0]):\n",
    "                gt_l = int(gt_sem[j])\n",
    "                pred_l = int(pred_sem[j])\n",
    "                gt_classes[gt_l] += 1\n",
    "                positive_classes[pred_l] += 1\n",
    "                true_positive_classes[gt_l] += int(gt_l == pred_l)\n",
    "            \"\"\"\n",
    "\n",
    "            uniq, counts = np.unique(pred_sem, return_counts=True)\n",
    "            positive_classes[uniq] += counts\n",
    "\n",
    "            uniq, counts = np.unique(gt_sem, return_counts=True)\n",
    "            gt_classes[uniq] += counts\n",
    "\n",
    "            uniq, counts = np.unique(\n",
    "                gt_sem[pred_sem == gt_sem], return_counts=True\n",
    "            )\n",
    "            true_positive_classes[uniq] += counts\n",
    "\n",
    "            # instance\n",
    "            un = np.unique(pred_ins)\n",
    "            pts_in_pred = [[] for _ in range(NUM_CLASSES)]\n",
    "            for ig, g in enumerate(un):  # each object in prediction\n",
    "                if g == -1:\n",
    "                    continue\n",
    "                tmp = pred_ins == g\n",
    "                sem_seg_i = int(stats.mode(pred_sem[tmp])[0])\n",
    "                pts_in_pred[sem_seg_i] += [tmp]\n",
    "\n",
    "            un = np.unique(gt_ins)\n",
    "            pts_in_gt = [[] for _ in range(NUM_CLASSES)]\n",
    "            for ig, g in enumerate(un):\n",
    "                tmp = gt_ins == g\n",
    "                sem_seg_i = int(stats.mode(gt_sem[tmp])[0])\n",
    "                pts_in_gt[sem_seg_i] += [tmp]\n",
    "\n",
    "            # instance mucov & mwcov\n",
    "            for i_sem in range(NUM_CLASSES):\n",
    "                sum_cov = 0\n",
    "                mean_cov = 0\n",
    "                mean_weighted_cov = 0\n",
    "                num_gt_point = 0\n",
    "                for ig, ins_gt in enumerate(pts_in_gt[i_sem]):\n",
    "                    ovmax = 0.0\n",
    "                    num_ins_gt_point = np.sum(ins_gt)\n",
    "                    num_gt_point += num_ins_gt_point\n",
    "                    for ip, ins_pred in enumerate(pts_in_pred[i_sem]):\n",
    "                        union = ins_pred | ins_gt\n",
    "                        intersect = ins_pred & ins_gt\n",
    "                        iou = float(np.sum(intersect)) / np.sum(union)\n",
    "\n",
    "                        if iou > ovmax:\n",
    "                            ovmax = iou\n",
    "                            ipmax = ip\n",
    "\n",
    "                    sum_cov += ovmax\n",
    "                    mean_weighted_cov += ovmax * num_ins_gt_point\n",
    "\n",
    "                if len(pts_in_gt[i_sem]) != 0:\n",
    "                    mean_cov = sum_cov / len(pts_in_gt[i_sem])\n",
    "                    all_mean_cov[i_sem].append(mean_cov)\n",
    "\n",
    "                    mean_weighted_cov /= num_gt_point\n",
    "                    all_mean_weighted_cov[i_sem].append(mean_weighted_cov)\n",
    "\n",
    "\n",
    "        matches_key = os.path.abspath(gt_file)\n",
    "        # assign gt to predictions\n",
    "        gt2pred, pred2gt = assign_instances_for_scan(v, gt_file,gt_label)\n",
    "        matches[matches_key] = {}\n",
    "        matches[matches_key][\"gt\"] = gt2pred\n",
    "        matches[matches_key][\"pred\"] = pred2gt\n",
    "        sys.stdout.write(\"\\rscans processed: {}\".format(i + 1))\n",
    "        sys.stdout.flush()\n",
    "    print(\"\")\n",
    "    ap_scores = evaluate_matches(matches)\n",
    "    avgs = compute_averages(ap_scores,opt)\n",
    "\n",
    "    # print\n",
    "    print_results(avgs)\n",
    "\n",
    "\n",
    "dataset = 'partscene'\n",
    "def main():\n",
    "    pred_dir = 'part_scene_results'\n",
    "\n",
    "    gt_path = '/home/wan/Datasets/Test_scene/part_valid_gt'\n",
    "    gt_label_path = '/home/wan/Datasets/Test_scene/id2part_valid_gt'\n",
    "    finished_scene_path = glob.glob(pred_dir+\"/*\")\n",
    "    finished_scene = [scene.split(\"/\")[-1] for scene in finished_scene_path]\n",
    "    \n",
    "    preds = {}\n",
    "    #part_scene_results/0001/0001_part_summary.txt\n",
    "    for scene_name in finished_scene[:]:\n",
    "        print(scene_name)\n",
    "        file_path = os.path.join(pred_dir, scene_name, scene_name + '_part_summary.txt')  # {SCENE_ID}.txt file\n",
    "        scene_pred_mask_list = np.loadtxt(file_path, dtype=str)  # (num_masks, 2)\n",
    "        scene_pred_mask_list = scene_pred_mask_list.reshape(-1,3)\n",
    "        assert scene_pred_mask_list.shape[1] == 3, f'{scene_name} Each line should have 2 values: instance mask path and confidence score.'\n",
    "\n",
    "        pred_masks = []\n",
    "        pred_scores = []\n",
    "        pred_class = []\n",
    "\n",
    "        for mask_path, prediction, conf_score in scene_pred_mask_list: \n",
    "            # Read mask and confidence score for each instance mask\n",
    "            pred_mask = np.loadtxt(os.path.join(pred_dir, scene_name, mask_path), dtype=int) # Values: 0 for the background, 1 for the instance\n",
    "            pred_masks.append(pred_mask)\n",
    "            pred_scores.append(float(conf_score))\n",
    "            pred_class.append(int(prediction))\n",
    "\n",
    "        assert len(pred_masks) == len(pred_scores) == len(pred_class), f'{scene_name}Number of masks and confidence scores should be the same.'\n",
    "\n",
    "        # Aggregate masks and scores for each scene - pred_class is always 1 (we only have one semantic class, 'object', referring to the query object)\n",
    "        preds[scene_name] = {\n",
    "            'pred_masks': torch.from_numpy(np.vstack(pred_masks).T) if len(pred_masks) > 0 else np.zeros((1, 1)),\n",
    "            'pred_scores': torch.from_numpy(np.vstack(pred_scores)).squeeze(0) if len(pred_masks) > 0 else np.zeros(1),\n",
    "            'pred_classes': torch.from_numpy(np.vstack(pred_class)).squeeze(0) if len(pred_masks) > 0 else np.ones(1, dtype=np.int64)*255\n",
    "        }\n",
    "\n",
    "    evaluate(preds, gt_path,gt_label_path, f\"./{dataset}_final_result.csv\")\n",
    "\n",
    "if __name__ == \"__main__\":\n",
    "\n",
    "\n",
    "\n",
    "    main()\n"
   ]
  },
  {
   "cell_type": "code",
   "execution_count": null,
   "metadata": {},
   "outputs": [],
   "source": []
  },
  {
   "cell_type": "code",
   "execution_count": null,
   "metadata": {},
   "outputs": [],
   "source": []
  }
 ],
 "metadata": {
  "kernelspec": {
   "display_name": "sam2",
   "language": "python",
   "name": "python3"
  },
  "language_info": {
   "codemirror_mode": {
    "name": "ipython",
    "version": 3
   },
   "file_extension": ".py",
   "mimetype": "text/x-python",
   "name": "python",
   "nbconvert_exporter": "python",
   "pygments_lexer": "ipython3",
   "version": "3.10.14"
  }
 },
 "nbformat": 4,
 "nbformat_minor": 2
}
